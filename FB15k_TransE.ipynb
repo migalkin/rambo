{
 "cells": [
  {
   "cell_type": "markdown",
   "metadata": {},
   "source": [
    "## Clone OpenKE for benchmark datasets FB15K-237 and WN18"
   ]
  },
  {
   "cell_type": "raw",
   "metadata": {},
   "source": [
    "!git clone https://github.com/thunlp/OpenKE.git"
   ]
  },
  {
   "cell_type": "code",
   "execution_count": 1,
   "metadata": {},
   "outputs": [],
   "source": [
    "from pathlib import Path\n",
    "import pickle\n",
    "\n",
    "from tqdm import tqdm\n",
    "import numpy as np\n",
    "import random\n",
    "from typing import List\n",
    "\n",
    "import logging\n",
    "# from dataclasses import dataclass\n",
    "from typing import Dict\n",
    "\n",
    "from tqdm import tqdm_notebook as tqdm\n",
    "import pandas as  pd\n",
    "import numpy as np\n",
    "import traceback\n",
    "import warnings\n",
    "import random\n",
    "import pickle\n",
    "\n",
    "import torch\n",
    "import torch.autograd\n",
    "from torch import nn\n",
    "\n",
    "from functools import partial\n",
    "from typing import Optional, Union, List, Callable\n",
    "\n",
    "# MyTorch imports\n",
    "from mytorch.utils.goodies import *\n",
    "from mytorch import dataiters\n",
    "\n",
    "import wandb"
   ]
  },
  {
   "cell_type": "markdown",
   "metadata": {},
   "source": [
    "## Prepare data"
   ]
  },
  {
   "cell_type": "code",
   "execution_count": 2,
   "metadata": {},
   "outputs": [],
   "source": [
    "RAW_DATA_DIR = Path('./OpenKE/benchmarks/FB15K237')\n",
    "PRETRAINING_DATA_DIR = Path('./data/pre_training_data')\n",
    "np.random.seed(42)\n",
    "random.seed(42)"
   ]
  },
  {
   "cell_type": "code",
   "execution_count": 3,
   "metadata": {},
   "outputs": [],
   "source": [
    "# Make data iterator -> Modify Simple Iterator from mytorch\n",
    "class QuintRankingSampler:\n",
    "    \"\"\"\n",
    "        Given X and Y matrices (or lists of lists),\n",
    "            it returns a batch worth of stuff upon __next__\n",
    "    :return:\n",
    "    \"\"\"\n",
    "\n",
    "    def __init__(self, data, bs: int = 64):\n",
    "\n",
    "        self.bs = bs  # Batch Size (of neg items)\n",
    "        self.pos = data[\"pos\"]\n",
    "        self.neg = data[\"neg\"]\n",
    "\n",
    "        self.initialize()\n",
    "\n",
    "        self.n = len(self.pos)\n",
    "\n",
    "        assert len(self.pos) == len(self.neg), \"Mismatched lengths of pos and negs.\"\n",
    "\n",
    "        # Shuffle everything\n",
    "        self.shuffle()\n",
    "\n",
    "    def initialize(self):\n",
    "        \"\"\"\n",
    "            Right now, pos is a list of quints, neg is a list of list of quints.\n",
    "            We want to flatten the negs; and repeat the pos\n",
    "        \"\"\"\n",
    "        # Flatten negs\n",
    "        flat_negs = []\n",
    "        for negs in self.neg:\n",
    "            flat_negs += negs\n",
    "\n",
    "        self.neg_times = self.neg[0].__len__()\n",
    "\n",
    "        # Repate pos\n",
    "        repeat_pos = []\n",
    "        for pos in self.pos:\n",
    "            repeat_pos += [pos for _ in range(self.neg_times)]\n",
    "\n",
    "        self.pos = np.array(repeat_pos)\n",
    "        self.neg = np.array(flat_negs)\n",
    "\n",
    "    def shuffle(self):\n",
    "        \"\"\" Shuffle pos and neg together \"\"\"\n",
    "\n",
    "        shuffle_ids = np.arange(self.n)\n",
    "        np.random.shuffle(shuffle_ids)\n",
    "        #         print(shuffle_ids)\n",
    "        self.pos = self.pos[shuffle_ids]\n",
    "        self.neg = self.neg[shuffle_ids]\n",
    "\n",
    "    def __len__(self):\n",
    "        return self.n // self.bs - (1 if self.n * self.neg_times % self.bs else 0)\n",
    "\n",
    "    def __iter__(self):\n",
    "        self.i = 0\n",
    "        return self\n",
    "\n",
    "    def __next__(self):\n",
    "        \"\"\"\n",
    "            Each time, take `bs` pos (and take one neg from each `bs` pos)\n",
    "        \"\"\"\n",
    "        if self.i >= self.n:\n",
    "            print(\"Should stop\")\n",
    "            raise StopIteration\n",
    "\n",
    "        _pos = self.pos[self.i: min(self.i + self.bs, len(self.pos) - 1)]\n",
    "        _neg = self.neg[self.i: min(self.i + self.bs, len(self.pos) - 1)]\n",
    "\n",
    "        self.i = min(self.i + self.bs, self.n)\n",
    "\n",
    "        return _pos, _neg\n",
    "\n",
    "\n",
    "class SingleSampler:\n",
    "    \"\"\" Another sampler which gives correct + all corrupted things for one triple \"\"\"\n",
    "\n",
    "    def __init__(self, data: dict, bs: int):\n",
    "        self.data = {'pos': np.array(data['pos'], dtype=np.int), 'neg': np.array(data['neg'], dtype=np.int)}\n",
    "        self.bs = bs\n",
    "\n",
    "        assert len(self.data['pos']) == len(self.data['neg']), \"Mismatched lengths between pos and neg data!\"\n",
    "        self.shuffle()\n",
    "\n",
    "    def shuffle(self):\n",
    "        shuffle_ids = np.arange(len(self.data['pos']))\n",
    "        np.random.shuffle(shuffle_ids)\n",
    "\n",
    "        self.data = {'pos': self.data['pos'][shuffle_ids], 'neg': self.data['neg'][shuffle_ids]}\n",
    "\n",
    "    def __len__(self):\n",
    "        return len(self.data['pos']) // self.bs\n",
    "\n",
    "    def __iter__(self):\n",
    "        self.i = 0\n",
    "        return self\n",
    "\n",
    "    def __next__(self):\n",
    "        \"\"\" Concat pos quint with n neg quints (corresponding)\"\"\"\n",
    "        if self.i >= self.data['pos'].__len__():\n",
    "            print(\"Should stop\")\n",
    "            raise StopIteration\n",
    "\n",
    "        res = np.zeros((self.bs, self.data['neg'][self.i].__len__() + 1, 3), dtype=np.int)\n",
    "        pos = self.data['pos'][self.i: min(self.i + self.bs, len(self.data['pos']))]\n",
    "        neg = self.data['neg'][self.i: min(self.i + self.bs, len(self.data['neg']))]\n",
    "        for i, (_p, _n) in enumerate(zip(pos, neg)):\n",
    "            res[i, 0] = _p\n",
    "            res[i, 1:] = _n\n",
    "\n",
    "        self.i += self.bs\n",
    "        return res\n",
    "\n"
   ]
  },
  {
   "cell_type": "code",
   "execution_count": 4,
   "metadata": {},
   "outputs": [],
   "source": [
    "\n",
    "training_triples = []\n",
    "valid_triples = []\n",
    "test_triples = []\n",
    "\n",
    "with open(RAW_DATA_DIR / \"entity2id.txt\", \"r\") as ent_file, \\\n",
    "    open(RAW_DATA_DIR / \"relation2id.txt\", \"r\") as rel_file, \\\n",
    "    open(RAW_DATA_DIR / \"train2id.txt\", \"r\") as train_file, \\\n",
    "    open(RAW_DATA_DIR / \"valid2id.txt\", \"r\") as valid_file, \\\n",
    "    open(RAW_DATA_DIR / \"test2id.txt\", \"r\") as test_file:\n",
    "    num_entities = int(next(ent_file).strip(\"\\n\"))\n",
    "    num_relations = int(next(rel_file).strip(\"\\n\"))\n",
    "    num_trains = int(next(train_file).strip(\"\\n\"))\n",
    "    for line in train_file:\n",
    "        triple = line.strip(\"\\n\").split(\" \")\n",
    "        training_triples.append([int(triple[0]), int(triple[2]), int(triple[1])])\n",
    "        \n",
    "    num_valid = int(next(valid_file).strip(\"\\n\"))\n",
    "    for line in valid_file:\n",
    "        triple = line.strip(\"\\n\").split(\" \")\n",
    "        valid_triples.append([int(triple[0]), int(triple[2]), int(triple[1])])\n",
    "    \n",
    "    num_test = int(next(test_file).strip(\"\\n\"))\n",
    "    for line in test_file:\n",
    "        triple = line.strip(\"\\n\").split(\" \")\n",
    "        test_triples.append([int(triple[0]), int(triple[2]), int(triple[1])])"
   ]
  },
  {
   "cell_type": "code",
   "execution_count": 5,
   "metadata": {},
   "outputs": [],
   "source": [
    "EXPERIMENT_CONFIG = {\n",
    "    'NUM_ENTITIES': num_entities,\n",
    "    'NUM_RELATIONS': num_relations,\n",
    "    'EMBEDDING_DIM': 200,\n",
    "    'NORM_FOR_NORMALIZATION_OF_ENTITIES': 2,\n",
    "    'NORM_FOR_NORMALIZATION_OF_RELATIONS': 2,\n",
    "    'SCORING_FUNCTION_NORM': 1,\n",
    "    'MARGIN_LOSS': 4,\n",
    "    'LEARNING_RATE': 10,\n",
    "    'NEGATIVE_SAMPLING_PROBS': [0.3, 0.0, 0.2, 0.5],\n",
    "    'NEGATIVE_SAMPLING_TIMES': 10,\n",
    "    'BATCH_SIZE': 8192,\n",
    "    'EPOCHS': 100\n",
    "}"
   ]
  },
  {
   "cell_type": "code",
   "execution_count": 6,
   "metadata": {},
   "outputs": [],
   "source": [
    "def sample_negatives(triple: List) -> List:\n",
    "    if np.random.random() < 0.5:\n",
    "        # sample subject\n",
    "        return [random.choice(range(num_entities)), triple[1], triple[2]]\n",
    "    else:\n",
    "        # sample object\n",
    "        return [triple[0], triple[1], random.choice(range(num_entities))]   "
   ]
  },
  {
   "cell_type": "code",
   "execution_count": 7,
   "metadata": {},
   "outputs": [],
   "source": [
    "def generate_negatives(positive: List[List], times: int):\n",
    "    \"\"\"\n",
    "        :param postive: List of the raw data\n",
    "        :param times: how many negative samples per positive sample.\n",
    "    \"\"\"\n",
    "    negatives = []\n",
    "    for pos in tqdm(positive):\n",
    "        negatives_per_pos = [sample_negatives(pos) for _ in range(times)]\n",
    "        negatives.append(negatives_per_pos)\n",
    "        \n",
    "    return negatives"
   ]
  },
  {
   "cell_type": "code",
   "execution_count": 8,
   "metadata": {},
   "outputs": [],
   "source": [
    "try:\n",
    "    negatives = pickle.load(open(PRETRAINING_DATA_DIR / 'fb15k_negatives.pkl', 'rb'))\n",
    "except (FileNotFoundError, IOError) as e:\n",
    "    # Generate it again\n",
    "    warnings.warn(\"Negative data not pre-generating. Takes three minutes.\")\n",
    "    negatives = generate_negatives(training_triples + valid_triples, \n",
    "                                   times = EXPERIMENT_CONFIG['NEGATIVE_SAMPLING_TIMES'])\n",
    "\n",
    "    # Dump this somewhere\n",
    "    with open(PRETRAINING_DATA_DIR / 'fb15k_negatives.pkl', 'wb+') as f:\n",
    "        pickle.dump(negatives, f)"
   ]
  },
  {
   "cell_type": "code",
   "execution_count": 9,
   "metadata": {},
   "outputs": [],
   "source": [
    "train_neg = negatives[:len(training_triples)]\n",
    "val_neg = negatives[len(training_triples):]"
   ]
  },
  {
   "cell_type": "code",
   "execution_count": 10,
   "metadata": {},
   "outputs": [],
   "source": [
    "data = {'train': {'pos': training_triples, 'neg': train_neg}, 'valid': {'pos': valid_triples, 'neg': val_neg}}"
   ]
  },
  {
   "cell_type": "code",
   "execution_count": 11,
   "metadata": {},
   "outputs": [
    {
     "data": {
      "text/plain": [
       "([[0, 0, 1], [2, 1, 3], [4, 2, 5], [6, 3, 7], [8, 4, 9]],\n",
       " [[[10476, 0, 1],\n",
       "   [0, 0, 1824],\n",
       "   [0, 0, 409],\n",
       "   [0, 0, 12149],\n",
       "   [4506, 0, 1],\n",
       "   [4012, 0, 1],\n",
       "   [3657, 0, 1],\n",
       "   [0, 0, 2286],\n",
       "   [0, 0, 12066],\n",
       "   [0, 0, 1679]],\n",
       "  [[11087, 1, 3],\n",
       "   [2, 1, 12135],\n",
       "   [2, 1, 8935],\n",
       "   [1424, 1, 3],\n",
       "   [9674, 1, 3],\n",
       "   [6912, 1, 3],\n",
       "   [520, 1, 3],\n",
       "   [2, 1, 488],\n",
       "   [1535, 1, 3],\n",
       "   [3582, 1, 3]],\n",
       "  [[4, 2, 3811],\n",
       "   [8279, 2, 5],\n",
       "   [9863, 2, 5],\n",
       "   [434, 2, 5],\n",
       "   [9195, 2, 5],\n",
       "   [4, 2, 3257],\n",
       "   [11731, 2, 5],\n",
       "   [4, 2, 10647],\n",
       "   [4, 2, 11490],\n",
       "   [8928, 2, 5]],\n",
       "  [[6, 3, 6873],\n",
       "   [3611, 3, 7],\n",
       "   [7359, 3, 7],\n",
       "   [6, 3, 9654],\n",
       "   [6, 3, 4557],\n",
       "   [6, 3, 13261],\n",
       "   [14242, 3, 7],\n",
       "   [106, 3, 7],\n",
       "   [6, 3, 12432],\n",
       "   [13202, 3, 7]],\n",
       "  [[2615, 4, 9],\n",
       "   [11438, 4, 9],\n",
       "   [6924, 4, 9],\n",
       "   [8, 4, 5574],\n",
       "   [4552, 4, 9],\n",
       "   [8, 4, 2547],\n",
       "   [3527, 4, 9],\n",
       "   [8, 4, 12509],\n",
       "   [8, 4, 5514],\n",
       "   [1674, 4, 9]]],\n",
       " [[6404, 31, 1211],\n",
       "  [4089, 154, 1437],\n",
       "  [8549, 85, 434],\n",
       "  [8379, 47, 3498],\n",
       "  [2364, 13, 235]],\n",
       " [[[730, 31, 1211],\n",
       "   [818, 31, 1211],\n",
       "   [624, 31, 1211],\n",
       "   [4561, 31, 1211],\n",
       "   [3626, 31, 1211],\n",
       "   [6404, 31, 9438],\n",
       "   [10202, 31, 1211],\n",
       "   [6404, 31, 8708],\n",
       "   [6404, 31, 7836],\n",
       "   [8492, 31, 1211]],\n",
       "  [[10038, 154, 1437],\n",
       "   [4089, 154, 12848],\n",
       "   [4089, 154, 10604],\n",
       "   [13888, 154, 1437],\n",
       "   [199, 154, 1437],\n",
       "   [8532, 154, 1437],\n",
       "   [485, 154, 1437],\n",
       "   [5858, 154, 1437],\n",
       "   [4089, 154, 4100],\n",
       "   [13585, 154, 1437]],\n",
       "  [[3329, 85, 434],\n",
       "   [9900, 85, 434],\n",
       "   [8549, 85, 9387],\n",
       "   [8549, 85, 2048],\n",
       "   [8549, 85, 11095],\n",
       "   [8549, 85, 4387],\n",
       "   [10509, 85, 434],\n",
       "   [8549, 85, 9630],\n",
       "   [13677, 85, 434],\n",
       "   [12799, 85, 434]],\n",
       "  [[121, 47, 3498],\n",
       "   [7115, 47, 3498],\n",
       "   [8379, 47, 5032],\n",
       "   [8623, 47, 3498],\n",
       "   [9581, 47, 3498],\n",
       "   [8379, 47, 12095],\n",
       "   [6866, 47, 3498],\n",
       "   [7995, 47, 3498],\n",
       "   [8379, 47, 8453],\n",
       "   [8379, 47, 7696]],\n",
       "  [[4771, 13, 235],\n",
       "   [2364, 13, 1081],\n",
       "   [2364, 13, 11794],\n",
       "   [2364, 13, 7719],\n",
       "   [12327, 13, 235],\n",
       "   [2364, 13, 2778],\n",
       "   [8482, 13, 235],\n",
       "   [2364, 13, 11135],\n",
       "   [8339, 13, 235],\n",
       "   [2364, 13, 4909]]])"
      ]
     },
     "execution_count": 11,
     "metadata": {},
     "output_type": "execute_result"
    }
   ],
   "source": [
    "training_triples[0:5], train_neg[0:5], valid_triples[0:5], val_neg[0:5]"
   ]
  },
  {
   "cell_type": "markdown",
   "metadata": {},
   "source": [
    "## Model"
   ]
  },
  {
   "cell_type": "code",
   "execution_count": 12,
   "metadata": {},
   "outputs": [],
   "source": [
    "class BaseModule(nn.Module):\n",
    "    \"\"\"A base class for all of the models.\"\"\"\n",
    "\n",
    "    margin_ranking_loss_size_average: bool = None\n",
    "    entity_embedding_max_norm: Optional[int] = None\n",
    "    entity_embedding_norm_type: int = 2\n",
    "    hyper_params = [EXPERIMENT_CONFIG['EMBEDDING_DIM'], \n",
    "                    EXPERIMENT_CONFIG['MARGIN_LOSS'], \n",
    "                    EXPERIMENT_CONFIG['LEARNING_RATE']]\n",
    "\n",
    "    def __init__(self, config: Dict) -> None:\n",
    "        super().__init__()\n",
    "\n",
    "        # Device selection\n",
    "        self.device = config['DEVICE']\n",
    "\n",
    "        # Loss\n",
    "        self.margin_loss = config['MARGIN_LOSS']\n",
    "        self.criterion = nn.MarginRankingLoss(\n",
    "            margin=self.margin_loss,\n",
    "            reduction='mean' if self.margin_ranking_loss_size_average else 'sum'\n",
    "        )\n",
    "\n",
    "        # Entity dimensions\n",
    "        #: The number of entities in the knowledge graph\n",
    "        self.num_entities = config['NUM_ENTITIES']\n",
    "        #: The number of unique relation types in the knowledge graph\n",
    "        self.num_relations = config['NUM_RELATIONS']\n",
    "        #: The dimension of the embeddings to generate\n",
    "        self.embedding_dim = config['EMBEDDING_DIM']\n",
    "\n",
    "        self.entity_embeddings = nn.Embedding(\n",
    "            self.num_entities,\n",
    "            self.embedding_dim,\n",
    "            norm_type=self.entity_embedding_norm_type,\n",
    "            max_norm=self.entity_embedding_max_norm,\n",
    "        )\n",
    "\n",
    "    def __init_subclass__(cls, **kwargs):  # noqa: D105\n",
    "        if not getattr(cls, 'model_name', None):\n",
    "            raise TypeError('missing model_name class attribute')\n",
    "\n",
    "    def _get_entity_embeddings(self, entities):\n",
    "        return self.entity_embeddings(entities).view(-1, self.embedding_dim)\n",
    "\n",
    "    def _compute_loss(self, positive_scores: torch.Tensor, negative_scores: torch.Tensor) -> torch.Tensor:\n",
    "        y = np.repeat([1], repeats=positive_scores.shape[0])\n",
    "        y = torch.tensor(y, dtype=torch.float, device=self.device)\n",
    "\n",
    "        loss = self.criterion(positive_scores, negative_scores, y)\n",
    "        return loss"
   ]
  },
  {
   "cell_type": "code",
   "execution_count": 13,
   "metadata": {},
   "outputs": [],
   "source": [
    "def slice_triples(triples: torch.Tensor) -> List[torch.Tensor]:\n",
    "    \"\"\" Slice in 3 or 5 as needed \"\"\"\n",
    "    return triples[:,0], triples[:,1], triples[:,2]\n",
    "\n",
    "class TransE(BaseModule):\n",
    "    \"\"\"An implementation of TransE [borders2013]_.\n",
    "     This model considers a relation as a translation from the head to the tail entity.\n",
    "    .. [borders2013] Bordes, A., *et al.* (2013). `Translating embeddings for modeling multi-relational data\n",
    "                     <http://papers.nips.cc/paper/5071-translating-embeddings-for-modeling-multi-relational-data.pdf>`_\n",
    "                     . NIPS.\n",
    "    .. seealso::\n",
    "       - Alternative implementation in OpenKE: https://github.com/thunlp/OpenKE/blob/OpenKE-PyTorch/models/TransE.py\n",
    "    \"\"\"\n",
    "\n",
    "    model_name = 'TransE MM'\n",
    "    margin_ranking_loss_size_average: bool = True\n",
    "    entity_embedding_max_norm: Optional[int] = None\n",
    "    entity_embedding_norm_type: int = 2\n",
    "    \n",
    "    def __init__(self, config) -> None:\n",
    "        super().__init__(config)\n",
    "\n",
    "        # Embeddings\n",
    "        self.l_p_norm_entities = config['NORM_FOR_NORMALIZATION_OF_ENTITIES']\n",
    "        self.scoring_fct_norm = config['SCORING_FUNCTION_NORM']\n",
    "        self.relation_embeddings = nn.Embedding(config['NUM_RELATIONS'], config['EMBEDDING_DIM'])\n",
    "        \n",
    "        self.config = config\n",
    "\n",
    "        self._initialize()\n",
    "\n",
    "    def _initialize(self):\n",
    "        embeddings_init_bound = 6 / np.sqrt(self.config['EMBEDDING_DIM'])\n",
    "        nn.init.uniform_(\n",
    "            self.entity_embeddings.weight.data,\n",
    "            a=-embeddings_init_bound,\n",
    "            b=+embeddings_init_bound,\n",
    "        )\n",
    "        nn.init.uniform_(\n",
    "            self.relation_embeddings.weight.data,\n",
    "            a=-embeddings_init_bound,\n",
    "            b=+embeddings_init_bound,\n",
    "        )\n",
    "\n",
    "        norms = torch.norm(self.relation_embeddings.weight, \n",
    "                           p=self.config['NORM_FOR_NORMALIZATION_OF_RELATIONS'], dim=1).data\n",
    "        self.relation_embeddings.weight.data = self.relation_embeddings.weight.data.div(\n",
    "            norms.view(self.num_relations, 1).expand_as(self.relation_embeddings.weight))\n",
    "\n",
    "    def predict(self, triples):\n",
    "        scores = self._score_triples(triples)\n",
    "        return scores\n",
    "\n",
    "    def forward(self, batch_positives, batch_negatives):\n",
    "        # Normalize embeddings of entities\n",
    "        norms = torch.norm(self.entity_embeddings.weight, p=self.l_p_norm_entities, dim=1).data\n",
    "        self.entity_embeddings.weight.data = self.entity_embeddings.weight.data.div(\n",
    "            norms.view(self.num_entities, 1).expand_as(self.entity_embeddings.weight))\n",
    "\n",
    "        positive_scores = self._score_triples(batch_positives)\n",
    "        negative_scores = self._score_triples(batch_negatives)\n",
    "        loss = self._compute_loss(positive_scores=positive_scores, negative_scores=negative_scores)\n",
    "        return (positive_scores, negative_scores), loss\n",
    "\n",
    "    def _score_triples(self, triples):\n",
    "        \n",
    "        head_embeddings, relation_embeddings, tail_embeddings = self._get_triple_embeddings(triples)\n",
    "        scores = self._compute_scores(head_embeddings, relation_embeddings, tail_embeddings)\n",
    "        return scores\n",
    "\n",
    "    def _compute_scores(self, head_embeddings, relation_embeddings, tail_embeddings):\n",
    "        \"\"\"\n",
    "            Compute the scores based on the head, relation, and tail embeddings.\n",
    "        \n",
    "        :param head_embeddings: embeddings of head entities of dimension batchsize x embedding_dim\n",
    "        :param relation_embeddings: emebddings of relation embeddings of dimension batchsize x embedding_dim\n",
    "        :param tail_embeddings: embeddings of tail entities of dimension batchsize x embedding_dim\n",
    "        :return: Tensor of dimension batch_size containing the scores for each batch element\n",
    "        \"\"\"\n",
    "        # Add the vector element wise\n",
    "        sum_res = head_embeddings + relation_embeddings - tail_embeddings \n",
    "        distances = torch.norm(sum_res, dim=1, p=self.scoring_fct_norm).view(size=(-1,))\n",
    "        return distances\n",
    "\n",
    "    def _get_triple_embeddings(self, triples):\n",
    "        heads, relations, tails = slice_triples(triples)\n",
    "        return (\n",
    "            self._get_entity_embeddings(heads),\n",
    "            self._get_relation_embeddings(relations),\n",
    "            self._get_entity_embeddings(tails)\n",
    "        )\n",
    "\n",
    "    def _get_relation_embeddings(self, relations):\n",
    "        return self.relation_embeddings(relations).view(-1, self.embedding_dim)"
   ]
  },
  {
   "cell_type": "markdown",
   "metadata": {},
   "source": [
    "## Training"
   ]
  },
  {
   "cell_type": "code",
   "execution_count": 14,
   "metadata": {},
   "outputs": [
    {
     "data": {
      "text/html": [
       "\n",
       "        Notebook configured with <a href=\"https://wandb.com\" target=\"_blank\">W&B</a>. You can <a href=\"https://app.wandb.ai/geraltofrivia783/wikidata-embeddings/runs/b89d1wvi?apiKey=3a8d7c8feb5ed0b57d1dead1314e5624ee2b388e\" target=\"_blank\">open</a> the run page, or call <code>%%wandb</code>\n",
       "        in a cell containing your training loop to display live results.  Learn more in our <a href=\"https://docs.wandb.com/docs/integrations/jupyter.html\" target=\"_blank\">docs</a>.\n",
       "    "
      ],
      "text/plain": [
       "<IPython.core.display.HTML object>"
      ]
     },
     "metadata": {},
     "output_type": "display_data"
    }
   ],
   "source": [
    "config = EXPERIMENT_CONFIG.copy()\n",
    "config['DEVICE'] = torch.device('cuda')\n",
    "model = TransE(config)\n",
    "model.to(config['DEVICE'])\n",
    "optimizer = torch.optim.SGD(model.parameters(), lr=config['LEARNING_RATE'])\n",
    "\n",
    "\n",
    "wandb.init(project=\"wikidata-embeddings\")\n",
    "for k, v in config.items():\n",
    "    wandb.config[k] = v"
   ]
  },
  {
   "cell_type": "code",
   "execution_count": 15,
   "metadata": {},
   "outputs": [],
   "source": [
    "def evaluate_pointwise(pos_scores: torch.Tensor, neg_scores:torch.Tensor)->torch.Tensor:\n",
    "    \"\"\"\n",
    "        Given a pos and neg quint, how many times did the score for positive be more than score for negative\n",
    "    \n",
    "        :param pos_scores: scores corresponding to pos quints (bs, )\n",
    "        :param neg_scores: scores corresponding to neg quints (bs, )\n",
    "        :return accuracy (0d tensor)\n",
    "    \"\"\"\n",
    "    return torch.mean((pos_scores>=neg_scores).float()).item()\n",
    "    \n",
    "def evaluate_dataset(scores:torch.Tensor):\n",
    "    \"\"\"\n",
    "        Compute score for `bs` set of [pos, neg, neg .....] quints.\n",
    "        Assume pos is at the first position.\n",
    "        \n",
    "        \n",
    "        :param scores: torch tensor of scores (bs,neg_samples+1)\n",
    "        :returns (acc, mrr) both 1d tensors.\n",
    "    \"\"\"\n",
    "    accuracy = (torch.argmax(scores, dim=1)==0).float()\n",
    "    ranks = (torch.argsort(-scores, dim=1) == 0).nonzero()[:,1]\n",
    "    print(ranks)\n",
    "    recirank = 1.0/(ranks+1).float()\n",
    "    \n",
    "    return accuracy.detach().cpu().numpy(), recirank.detach().cpu().numpy()"
   ]
  },
  {
   "cell_type": "code",
   "execution_count": 16,
   "metadata": {},
   "outputs": [],
   "source": [
    "# Make a loop fn\n",
    "def simplest_loop(epochs: int,\n",
    "                  data: dict,\n",
    "                  opt: torch.optim,\n",
    "                  train_fn: Callable,\n",
    "                  predict_fn: Callable,\n",
    "                  device: torch.device = torch.device('cpu'),\n",
    "                  data_fn: Callable = dataiters.SimplestSampler,\n",
    "                  data_fn_val: Callable = dataiters.SimplestSampler,\n",
    "                  eval_fn_trn: Callable = default_eval,\n",
    "                  eval_fn_val: Callable = default_eval) -> (list, list, list):\n",
    "    \"\"\"\n",
    "        A fn which can be used to train a language model.\n",
    "\n",
    "        The model doesn't need to be an nn.Module,\n",
    "            but have an eval (optional), a train and a predict function.\n",
    "\n",
    "        Data should be a dict like so:\n",
    "            {\"train\":{\"x\":np.arr, \"y\":np.arr}, \"val\":{\"x\":np.arr, \"y\":np.arr} }\n",
    "\n",
    "        Train_fn must return both loss and y_pred\n",
    "\n",
    "        :param epochs: number of epochs to train for\n",
    "        :param data: a dict having keys train_x, test_x, train_y, test_y\n",
    "        :param device: torch device to create new tensor from data\n",
    "        :param opt: optimizer\n",
    "        :param loss_fn: loss function\n",
    "        :param train_fn: function to call with x and y\n",
    "        :param predict_fn: function to call with x (test)\n",
    "        :param data_fn: a class to which we can pass training data and get an iterator.\n",
    "        :param data_fn_val: can be same as above; or diff. Specifically for validation runs.\n",
    "        :param eval_fn: (optional) function which when given pred and true, returns acc\n",
    "        :return: traces\n",
    "    \"\"\"\n",
    "\n",
    "    train_loss = []\n",
    "    train_acc = []\n",
    "    valid_acc = []\n",
    "    valid_acc_like_trn = []\n",
    "    valid_mrr = []\n",
    "    lrs = []\n",
    "\n",
    "    # Epoch level\n",
    "    for e in range(epochs):\n",
    "\n",
    "        per_epoch_loss = []\n",
    "        per_epoch_tr_acc = []\n",
    "\n",
    "        # Train\n",
    "        with Timer() as timer:\n",
    "\n",
    "            # Make data\n",
    "            trn_dl, val_dl_like_trn, val_dl = data_fn(data['train']), data_fn(data['valid']), data_fn_val(data['valid'])\n",
    "\n",
    "            for pos, neg in tqdm(trn_dl):\n",
    "                opt.zero_grad()\n",
    "\n",
    "                _pos = torch.tensor(pos, dtype=torch.long, device=device)\n",
    "                _neg = torch.tensor(neg, dtype=torch.long, device=device)\n",
    "\n",
    "                (pos_scores, neg_scores), loss = train_fn(_pos, _neg)\n",
    "\n",
    "                per_epoch_tr_acc.append(eval_fn_trn(pos_scores=pos_scores, neg_scores=neg_scores))\n",
    "                per_epoch_loss.append(loss.item())\n",
    "\n",
    "                loss.backward()\n",
    "                opt.step()\n",
    "\n",
    "        \"\"\"\n",
    "            # Val\n",
    "            Run through the dataset twice.\n",
    "                1. same as training data (pointwise eval)\n",
    "                2. One quint (pos+negs) at a time. \n",
    "        \"\"\" \n",
    "        \n",
    "        with torch.no_grad():\n",
    "\n",
    "            per_epoch_vl_acc, per_epoch_vl_mrr, per_epoch_vl_acc_like_trn = [], [], []\n",
    "            for quints in tqdm(val_dl):\n",
    "                _quints = torch.tensor(quints, dtype=torch.long, device=device)\n",
    "                \n",
    "                # Flatten it\n",
    "                _quints_shape = _quints.shape\n",
    "                scores = predict_fn(_quints.view(-1, _quints_shape[-1]))\n",
    "                scores = scores.view(_quints_shape[0], _quints_shape[1])\n",
    "                \n",
    "                accuracy, recirank = eval_fn_val(scores)\n",
    "\n",
    "                per_epoch_vl_acc.append(accuracy)\n",
    "                per_epoch_vl_mrr.append(recirank)\n",
    "            \n",
    "            for pos, neg in tqdm(val_dl_like_trn):\n",
    "                \n",
    "                _pos = torch.tensor(pos, dtype=torch.long, device=device)\n",
    "                _neg = torch.tensor(neg, dtype=torch.long, device=device)\n",
    "\n",
    "                (pos_scores, neg_scores), loss = train_fn(_pos, _neg)\n",
    "                acc = eval_fn_trn(pos_scores=pos_scores, neg_scores=neg_scores)\n",
    "                \n",
    "                per_epoch_vl_acc_like_trn.append(acc)\n",
    "\n",
    "        # Bookkeep\n",
    "        train_acc.append(np.mean(per_epoch_tr_acc))\n",
    "        train_loss.append(np.mean(per_epoch_loss))\n",
    "        valid_acc.append(np.mean(per_epoch_vl_acc))\n",
    "        valid_acc_like_trn.append(np.mean(per_epoch_vl_acc_like_trn))\n",
    "        valid_mrr.append(np.mean(per_epoch_vl_mrr))\n",
    "        \n",
    "        print(\"Epoch: %(epo)03d | Loss: %(loss).5f | Tr_c: %(tracc)0.5f | Vl_c: %(vlacc)0.5f | Vl_c_liketrn: %(vlacc_liketrn)0.5f | Vl_mrr: %(vlmrr)0.5f |Time: %(time).3f min\"\n",
    "              % {'epo': e,\n",
    "                 'loss': float(np.mean(per_epoch_loss)),\n",
    "                 'tracc': float(np.mean(per_epoch_tr_acc)),\n",
    "                 'vlacc': float(np.mean(per_epoch_vl_acc)),\n",
    "                 'vlacc_liketrn': float(np.mean(per_epoch_vl_acc_like_trn)),\n",
    "                 'vlmrr': float(np.mean(per_epoch_vl_mrr)),\n",
    "                 'time': timer.interval / 60.0})\n",
    "\n",
    "        # Wandb stuff\n",
    "        wandb.log({\n",
    "            'epoch': e, \n",
    "            'loss': float(np.mean(per_epoch_loss)),\n",
    "            'trn_acc': float(np.mean(per_epoch_tr_acc)),\n",
    "            'val_acc': float(np.mean(per_epoch_vl_acc)),\n",
    "            'val_acc_liketrn': float(np.mean(per_epoch_vl_acc_like_trn)),\n",
    "            'val_mrr': float(np.mean(per_epoch_vl_mrr))\n",
    "        })\n",
    "\n",
    "    return train_acc, valid_acc, valid_acc_like_trn, valid_mrr, train_loss"
   ]
  },
  {
   "cell_type": "code",
   "execution_count": 17,
   "metadata": {},
   "outputs": [],
   "source": [
    "args = {\n",
    "    \"epochs\":config['EPOCHS'],\n",
    "    \"data\":data,\n",
    "    \"opt\": optimizer,\n",
    "    \"train_fn\": model,\n",
    "    \"predict_fn\": model.predict,\n",
    "    \"device\": config['DEVICE'],\n",
    "    \"data_fn\": partial(QuintRankingSampler, bs=config[\"BATCH_SIZE\"]),\n",
    "    \"data_fn_val\": partial(SingleSampler, bs=config[\"BATCH_SIZE\"]),\n",
    "    \"eval_fn_trn\": evaluate_pointwise,\n",
    "    \"eval_fn_val\": evaluate_dataset\n",
    "}"
   ]
  },
  {
   "cell_type": "code",
   "execution_count": 18,
   "metadata": {},
   "outputs": [
    {
     "data": {
      "application/vnd.jupyter.widget-view+json": {
       "model_id": "83deefa59d784d1b9ec95dbe8b6f3929",
       "version_major": 2,
       "version_minor": 0
      },
      "text/plain": [
       "HBox(children=(IntProgress(value=0, max=331), HTML(value='')))"
      ]
     },
     "metadata": {},
     "output_type": "display_data"
    },
    {
     "name": "stdout",
     "output_type": "stream",
     "text": [
      "Should stop\n",
      "\n"
     ]
    },
    {
     "data": {
      "application/vnd.jupyter.widget-view+json": {
       "model_id": "8d886e2a76ca42e78b04620bae221419",
       "version_major": 2,
       "version_minor": 0
      },
      "text/plain": [
       "HBox(children=(IntProgress(value=0, max=2), HTML(value='')))"
      ]
     },
     "metadata": {},
     "output_type": "display_data"
    },
    {
     "name": "stdout",
     "output_type": "stream",
     "text": [
      "tensor([0, 0, 1,  ..., 3, 0, 0], device='cuda:0')\n",
      "tensor([0, 1, 8,  ..., 1, 0, 1], device='cuda:0')\n",
      "tensor([0, 0, 1,  ..., 5, 5, 5], device='cuda:0')\n",
      "Should stop\n",
      "\n"
     ]
    },
    {
     "data": {
      "application/vnd.jupyter.widget-view+json": {
       "model_id": "954274d48ac44a35aa7bbe9ebbb046f8",
       "version_major": 2,
       "version_minor": 0
      },
      "text/plain": [
       "HBox(children=(IntProgress(value=0, max=20), HTML(value='')))"
      ]
     },
     "metadata": {},
     "output_type": "display_data"
    },
    {
     "name": "stdout",
     "output_type": "stream",
     "text": [
      "Should stop\n",
      "\n",
      "Epoch: 000 | Loss: 1.45354 | Tr_c: 0.88471 | Vl_c: 0.73674 | Vl_c_liketrn: 0.91650 | Vl_mrr: 0.59709 |Time: 0.094 min\n"
     ]
    },
    {
     "data": {
      "application/vnd.jupyter.widget-view+json": {
       "model_id": "e5196a6178c945f39665903bb9790686",
       "version_major": 2,
       "version_minor": 0
      },
      "text/plain": [
       "HBox(children=(IntProgress(value=0, max=331), HTML(value='')))"
      ]
     },
     "metadata": {},
     "output_type": "display_data"
    },
    {
     "name": "stdout",
     "output_type": "stream",
     "text": [
      "Should stop\n",
      "\n"
     ]
    },
    {
     "data": {
      "application/vnd.jupyter.widget-view+json": {
       "model_id": "8f48af6f5a69484c99cde5c08c8428fd",
       "version_major": 2,
       "version_minor": 0
      },
      "text/plain": [
       "HBox(children=(IntProgress(value=0, max=2), HTML(value='')))"
      ]
     },
     "metadata": {},
     "output_type": "display_data"
    },
    {
     "name": "stdout",
     "output_type": "stream",
     "text": [
      "tensor([1, 0, 0,  ..., 1, 3, 7], device='cuda:0')\n",
      "tensor([2, 0, 0,  ..., 0, 3, 3], device='cuda:0')\n",
      "tensor([2, 1, 0,  ..., 5, 5, 5], device='cuda:0')\n",
      "Should stop\n",
      "\n"
     ]
    },
    {
     "data": {
      "application/vnd.jupyter.widget-view+json": {
       "model_id": "a74004518e2b4f4e9f72ea6ed2488a12",
       "version_major": 2,
       "version_minor": 0
      },
      "text/plain": [
       "HBox(children=(IntProgress(value=0, max=20), HTML(value='')))"
      ]
     },
     "metadata": {},
     "output_type": "display_data"
    },
    {
     "name": "stdout",
     "output_type": "stream",
     "text": [
      "Should stop\n",
      "\n",
      "Epoch: 001 | Loss: 0.65060 | Tr_c: 0.96375 | Vl_c: 0.74870 | Vl_c_liketrn: 0.92258 | Vl_mrr: 0.60676 |Time: 0.097 min\n"
     ]
    },
    {
     "data": {
      "application/vnd.jupyter.widget-view+json": {
       "model_id": "882e3d401d9d4d0a81a6b3cb3bcceb84",
       "version_major": 2,
       "version_minor": 0
      },
      "text/plain": [
       "HBox(children=(IntProgress(value=0, max=331), HTML(value='')))"
      ]
     },
     "metadata": {},
     "output_type": "display_data"
    },
    {
     "name": "stdout",
     "output_type": "stream",
     "text": [
      "Should stop\n",
      "\n"
     ]
    },
    {
     "data": {
      "application/vnd.jupyter.widget-view+json": {
       "model_id": "76096d0456e444efb3ccd5d5a48bb0b0",
       "version_major": 2,
       "version_minor": 0
      },
      "text/plain": [
       "HBox(children=(IntProgress(value=0, max=2), HTML(value='')))"
      ]
     },
     "metadata": {},
     "output_type": "display_data"
    },
    {
     "name": "stdout",
     "output_type": "stream",
     "text": [
      "tensor([0, 0, 1,  ..., 0, 1, 1], device='cuda:0')\n",
      "tensor([0, 0, 1,  ..., 2, 0, 0], device='cuda:0')\n",
      "tensor([0, 0, 4,  ..., 5, 5, 5], device='cuda:0')\n",
      "Should stop\n",
      "\n"
     ]
    },
    {
     "data": {
      "application/vnd.jupyter.widget-view+json": {
       "model_id": "7cfb6be1fab74d048c8a3f871539c4e6",
       "version_major": 2,
       "version_minor": 0
      },
      "text/plain": [
       "HBox(children=(IntProgress(value=0, max=20), HTML(value='')))"
      ]
     },
     "metadata": {},
     "output_type": "display_data"
    },
    {
     "name": "stdout",
     "output_type": "stream",
     "text": [
      "Should stop\n",
      "\n",
      "Epoch: 002 | Loss: 0.50673 | Tr_c: 0.97309 | Vl_c: 0.75399 | Vl_c_liketrn: 0.92488 | Vl_mrr: 0.61036 |Time: 0.092 min\n"
     ]
    },
    {
     "data": {
      "application/vnd.jupyter.widget-view+json": {
       "model_id": "d9056f4bf52946c1b41311d76270ef98",
       "version_major": 2,
       "version_minor": 0
      },
      "text/plain": [
       "HBox(children=(IntProgress(value=0, max=331), HTML(value='')))"
      ]
     },
     "metadata": {},
     "output_type": "display_data"
    },
    {
     "name": "stdout",
     "output_type": "stream",
     "text": [
      "Should stop\n",
      "\n"
     ]
    },
    {
     "data": {
      "application/vnd.jupyter.widget-view+json": {
       "model_id": "7f57b98cda3d48329f550e33bfa39c03",
       "version_major": 2,
       "version_minor": 0
      },
      "text/plain": [
       "HBox(children=(IntProgress(value=0, max=2), HTML(value='')))"
      ]
     },
     "metadata": {},
     "output_type": "display_data"
    },
    {
     "name": "stdout",
     "output_type": "stream",
     "text": [
      "tensor([0, 0, 2,  ..., 0, 0, 3], device='cuda:0')\n",
      "tensor([0, 0, 1,  ..., 0, 1, 0], device='cuda:0')\n",
      "tensor([0, 0, 0,  ..., 5, 5, 5], device='cuda:0')\n",
      "Should stop\n",
      "\n"
     ]
    },
    {
     "data": {
      "application/vnd.jupyter.widget-view+json": {
       "model_id": "19472b65cff64ae7b9f6f2bb6a5ec55a",
       "version_major": 2,
       "version_minor": 0
      },
      "text/plain": [
       "HBox(children=(IntProgress(value=0, max=20), HTML(value='')))"
      ]
     },
     "metadata": {},
     "output_type": "display_data"
    },
    {
     "name": "stdout",
     "output_type": "stream",
     "text": [
      "Should stop\n",
      "\n",
      "Epoch: 003 | Loss: 0.43707 | Tr_c: 0.97727 | Vl_c: 0.75623 | Vl_c_liketrn: 0.92634 | Vl_mrr: 0.61224 |Time: 0.087 min\n"
     ]
    },
    {
     "data": {
      "application/vnd.jupyter.widget-view+json": {
       "model_id": "cc0197d326854d5d85767c977c1bf7cd",
       "version_major": 2,
       "version_minor": 0
      },
      "text/plain": [
       "HBox(children=(IntProgress(value=0, max=331), HTML(value='')))"
      ]
     },
     "metadata": {},
     "output_type": "display_data"
    },
    {
     "name": "stdout",
     "output_type": "stream",
     "text": [
      "Should stop\n",
      "\n"
     ]
    },
    {
     "data": {
      "application/vnd.jupyter.widget-view+json": {
       "model_id": "a15948a653614c81884a67eb8b3e8aef",
       "version_major": 2,
       "version_minor": 0
      },
      "text/plain": [
       "HBox(children=(IntProgress(value=0, max=2), HTML(value='')))"
      ]
     },
     "metadata": {},
     "output_type": "display_data"
    },
    {
     "name": "stdout",
     "output_type": "stream",
     "text": [
      "tensor([0, 2, 0,  ..., 0, 0, 0], device='cuda:0')\n",
      "tensor([0, 0, 0,  ..., 1, 2, 0], device='cuda:0')\n",
      "tensor([1, 2, 2,  ..., 5, 5, 5], device='cuda:0')\n",
      "Should stop\n",
      "\n"
     ]
    },
    {
     "data": {
      "application/vnd.jupyter.widget-view+json": {
       "model_id": "7d38cbfcdbfd426a95078f9ba275073a",
       "version_major": 2,
       "version_minor": 0
      },
      "text/plain": [
       "HBox(children=(IntProgress(value=0, max=20), HTML(value='')))"
      ]
     },
     "metadata": {},
     "output_type": "display_data"
    },
    {
     "name": "stdout",
     "output_type": "stream",
     "text": [
      "Should stop\n",
      "\n",
      "Epoch: 004 | Loss: 0.39396 | Tr_c: 0.97989 | Vl_c: 0.75814 | Vl_c_liketrn: 0.92698 | Vl_mrr: 0.61352 |Time: 0.093 min\n"
     ]
    },
    {
     "data": {
      "application/vnd.jupyter.widget-view+json": {
       "model_id": "40c7ffc6fab145ad97adf3a3bbc80a54",
       "version_major": 2,
       "version_minor": 0
      },
      "text/plain": [
       "HBox(children=(IntProgress(value=0, max=331), HTML(value='')))"
      ]
     },
     "metadata": {},
     "output_type": "display_data"
    },
    {
     "name": "stdout",
     "output_type": "stream",
     "text": [
      "Should stop\n",
      "\n"
     ]
    },
    {
     "data": {
      "application/vnd.jupyter.widget-view+json": {
       "model_id": "ff3027a5249f4fd9a1c297d0368f7f4b",
       "version_major": 2,
       "version_minor": 0
      },
      "text/plain": [
       "HBox(children=(IntProgress(value=0, max=2), HTML(value='')))"
      ]
     },
     "metadata": {},
     "output_type": "display_data"
    },
    {
     "name": "stdout",
     "output_type": "stream",
     "text": [
      "tensor([0, 0, 0,  ..., 0, 0, 0], device='cuda:0')\n",
      "tensor([0, 0, 3,  ..., 0, 0, 0], device='cuda:0')\n",
      "tensor([0, 0, 2,  ..., 5, 5, 5], device='cuda:0')\n",
      "Should stop\n",
      "\n"
     ]
    },
    {
     "data": {
      "application/vnd.jupyter.widget-view+json": {
       "model_id": "eab7d8324cb1445a9019282b86939010",
       "version_major": 2,
       "version_minor": 0
      },
      "text/plain": [
       "HBox(children=(IntProgress(value=0, max=20), HTML(value='')))"
      ]
     },
     "metadata": {},
     "output_type": "display_data"
    },
    {
     "name": "stdout",
     "output_type": "stream",
     "text": [
      "Should stop\n",
      "\n",
      "Epoch: 005 | Loss: 0.36437 | Tr_c: 0.98163 | Vl_c: 0.75875 | Vl_c_liketrn: 0.92792 | Vl_mrr: 0.61431 |Time: 0.087 min\n"
     ]
    },
    {
     "data": {
      "application/vnd.jupyter.widget-view+json": {
       "model_id": "3e6fb60195364bc684451be692194034",
       "version_major": 2,
       "version_minor": 0
      },
      "text/plain": [
       "HBox(children=(IntProgress(value=0, max=331), HTML(value='')))"
      ]
     },
     "metadata": {},
     "output_type": "display_data"
    },
    {
     "name": "stdout",
     "output_type": "stream",
     "text": [
      "Should stop\n",
      "\n"
     ]
    },
    {
     "data": {
      "application/vnd.jupyter.widget-view+json": {
       "model_id": "5548e26ad0b04e3abfbde6a3046cb897",
       "version_major": 2,
       "version_minor": 0
      },
      "text/plain": [
       "HBox(children=(IntProgress(value=0, max=2), HTML(value='')))"
      ]
     },
     "metadata": {},
     "output_type": "display_data"
    },
    {
     "name": "stdout",
     "output_type": "stream",
     "text": [
      "tensor([0, 1, 1,  ..., 1, 0, 1], device='cuda:0')\n",
      "tensor([0, 0, 0,  ..., 0, 0, 1], device='cuda:0')\n",
      "tensor([ 1, 10,  0,  ...,  5,  5,  5], device='cuda:0')\n",
      "Should stop\n",
      "\n"
     ]
    },
    {
     "data": {
      "application/vnd.jupyter.widget-view+json": {
       "model_id": "316cab04b03249a7b6eb78763bdf8ba3",
       "version_major": 2,
       "version_minor": 0
      },
      "text/plain": [
       "HBox(children=(IntProgress(value=0, max=20), HTML(value='')))"
      ]
     },
     "metadata": {},
     "output_type": "display_data"
    },
    {
     "name": "stdout",
     "output_type": "stream",
     "text": [
      "Should stop\n",
      "\n",
      "Epoch: 006 | Loss: 0.34296 | Tr_c: 0.98289 | Vl_c: 0.75846 | Vl_c_liketrn: 0.92679 | Vl_mrr: 0.61377 |Time: 0.084 min\n"
     ]
    },
    {
     "data": {
      "application/vnd.jupyter.widget-view+json": {
       "model_id": "248d0b0e7c3a43e0bf3b5e85adba5cf1",
       "version_major": 2,
       "version_minor": 0
      },
      "text/plain": [
       "HBox(children=(IntProgress(value=0, max=331), HTML(value='')))"
      ]
     },
     "metadata": {},
     "output_type": "display_data"
    },
    {
     "name": "stdout",
     "output_type": "stream",
     "text": [
      "Should stop\n",
      "\n"
     ]
    },
    {
     "data": {
      "application/vnd.jupyter.widget-view+json": {
       "model_id": "2e04d898492a4287a1da8930261fea57",
       "version_major": 2,
       "version_minor": 0
      },
      "text/plain": [
       "HBox(children=(IntProgress(value=0, max=2), HTML(value='')))"
      ]
     },
     "metadata": {},
     "output_type": "display_data"
    },
    {
     "name": "stdout",
     "output_type": "stream",
     "text": [
      "tensor([1, 0, 0,  ..., 0, 0, 1], device='cuda:0')\n",
      "tensor([0, 0, 1,  ..., 1, 0, 0], device='cuda:0')\n",
      "tensor([0, 2, 0,  ..., 5, 5, 5], device='cuda:0')\n",
      "Should stop\n",
      "\n"
     ]
    },
    {
     "data": {
      "application/vnd.jupyter.widget-view+json": {
       "model_id": "7f3613a6780f430688e764c126624c64",
       "version_major": 2,
       "version_minor": 0
      },
      "text/plain": [
       "HBox(children=(IntProgress(value=0, max=20), HTML(value='')))"
      ]
     },
     "metadata": {},
     "output_type": "display_data"
    },
    {
     "name": "stdout",
     "output_type": "stream",
     "text": [
      "Should stop\n",
      "\n",
      "Epoch: 007 | Loss: 0.32636 | Tr_c: 0.98377 | Vl_c: 0.75936 | Vl_c_liketrn: 0.92706 | Vl_mrr: 0.61423 |Time: 0.081 min\n"
     ]
    },
    {
     "data": {
      "application/vnd.jupyter.widget-view+json": {
       "model_id": "4af0ad2344ab43208c95a51e8ef76286",
       "version_major": 2,
       "version_minor": 0
      },
      "text/plain": [
       "HBox(children=(IntProgress(value=0, max=331), HTML(value='')))"
      ]
     },
     "metadata": {},
     "output_type": "display_data"
    },
    {
     "name": "stdout",
     "output_type": "stream",
     "text": [
      "Should stop\n",
      "\n"
     ]
    },
    {
     "data": {
      "application/vnd.jupyter.widget-view+json": {
       "model_id": "9fb78dd9fe5e4aba82cca4c748125796",
       "version_major": 2,
       "version_minor": 0
      },
      "text/plain": [
       "HBox(children=(IntProgress(value=0, max=2), HTML(value='')))"
      ]
     },
     "metadata": {},
     "output_type": "display_data"
    },
    {
     "name": "stdout",
     "output_type": "stream",
     "text": [
      "tensor([2, 0, 1,  ..., 0, 0, 0], device='cuda:0')\n",
      "tensor([0, 0, 1,  ..., 0, 1, 0], device='cuda:0')\n",
      "tensor([0, 0, 0,  ..., 5, 5, 5], device='cuda:0')\n",
      "Should stop\n",
      "\n"
     ]
    },
    {
     "data": {
      "application/vnd.jupyter.widget-view+json": {
       "model_id": "66c0e557ce744ae7a591a5040294fb21",
       "version_major": 2,
       "version_minor": 0
      },
      "text/plain": [
       "HBox(children=(IntProgress(value=0, max=20), HTML(value='')))"
      ]
     },
     "metadata": {},
     "output_type": "display_data"
    },
    {
     "name": "stdout",
     "output_type": "stream",
     "text": [
      "Should stop\n",
      "\n",
      "Epoch: 008 | Loss: 0.31342 | Tr_c: 0.98457 | Vl_c: 0.76054 | Vl_c_liketrn: 0.92759 | Vl_mrr: 0.61500 |Time: 0.082 min\n"
     ]
    },
    {
     "data": {
      "application/vnd.jupyter.widget-view+json": {
       "model_id": "6e97df36d1774943a616590dbc65aba9",
       "version_major": 2,
       "version_minor": 0
      },
      "text/plain": [
       "HBox(children=(IntProgress(value=0, max=331), HTML(value='')))"
      ]
     },
     "metadata": {},
     "output_type": "display_data"
    },
    {
     "name": "stdout",
     "output_type": "stream",
     "text": [
      "Should stop\n",
      "\n"
     ]
    },
    {
     "data": {
      "application/vnd.jupyter.widget-view+json": {
       "model_id": "9cdb4c9c84764f409b02e0dad6aa1490",
       "version_major": 2,
       "version_minor": 0
      },
      "text/plain": [
       "HBox(children=(IntProgress(value=0, max=2), HTML(value='')))"
      ]
     },
     "metadata": {},
     "output_type": "display_data"
    },
    {
     "name": "stdout",
     "output_type": "stream",
     "text": [
      "tensor([1, 0, 0,  ..., 0, 1, 0], device='cuda:0')\n",
      "tensor([0, 4, 1,  ..., 0, 0, 3], device='cuda:0')\n",
      "tensor([ 1,  0, 10,  ...,  5,  5,  5], device='cuda:0')\n",
      "Should stop\n",
      "\n"
     ]
    },
    {
     "data": {
      "application/vnd.jupyter.widget-view+json": {
       "model_id": "33f06b6e07c44df4ae837afa7443b6fb",
       "version_major": 2,
       "version_minor": 0
      },
      "text/plain": [
       "HBox(children=(IntProgress(value=0, max=20), HTML(value='')))"
      ]
     },
     "metadata": {},
     "output_type": "display_data"
    },
    {
     "name": "stdout",
     "output_type": "stream",
     "text": [
      "Should stop\n",
      "\n",
      "Epoch: 009 | Loss: 0.30293 | Tr_c: 0.98516 | Vl_c: 0.76188 | Vl_c_liketrn: 0.92776 | Vl_mrr: 0.61583 |Time: 0.082 min\n"
     ]
    },
    {
     "data": {
      "application/vnd.jupyter.widget-view+json": {
       "model_id": "642d8756e6ae47e29f6c6263271f0f89",
       "version_major": 2,
       "version_minor": 0
      },
      "text/plain": [
       "HBox(children=(IntProgress(value=0, max=331), HTML(value='')))"
      ]
     },
     "metadata": {},
     "output_type": "display_data"
    },
    {
     "name": "stdout",
     "output_type": "stream",
     "text": [
      "Should stop\n",
      "\n"
     ]
    },
    {
     "data": {
      "application/vnd.jupyter.widget-view+json": {
       "model_id": "e1477de8388b40bbb9fdedc484e8826d",
       "version_major": 2,
       "version_minor": 0
      },
      "text/plain": [
       "HBox(children=(IntProgress(value=0, max=2), HTML(value='')))"
      ]
     },
     "metadata": {},
     "output_type": "display_data"
    },
    {
     "name": "stdout",
     "output_type": "stream",
     "text": [
      "tensor([0, 0, 2,  ..., 0, 0, 1], device='cuda:0')\n",
      "tensor([ 1,  0,  1,  ...,  0,  0, 10], device='cuda:0')\n",
      "tensor([ 0,  0, 10,  ...,  5,  5,  5], device='cuda:0')\n",
      "Should stop\n",
      "\n"
     ]
    },
    {
     "data": {
      "application/vnd.jupyter.widget-view+json": {
       "model_id": "98c6604571dc4b47b7c7c1656693153f",
       "version_major": 2,
       "version_minor": 0
      },
      "text/plain": [
       "HBox(children=(IntProgress(value=0, max=20), HTML(value='')))"
      ]
     },
     "metadata": {},
     "output_type": "display_data"
    },
    {
     "name": "stdout",
     "output_type": "stream",
     "text": [
      "Should stop\n",
      "\n",
      "Epoch: 010 | Loss: 0.29420 | Tr_c: 0.98567 | Vl_c: 0.76090 | Vl_c_liketrn: 0.92762 | Vl_mrr: 0.61526 |Time: 0.083 min\n"
     ]
    },
    {
     "data": {
      "application/vnd.jupyter.widget-view+json": {
       "model_id": "432db8f37e1340c890a80415f7f66da7",
       "version_major": 2,
       "version_minor": 0
      },
      "text/plain": [
       "HBox(children=(IntProgress(value=0, max=331), HTML(value='')))"
      ]
     },
     "metadata": {},
     "output_type": "display_data"
    },
    {
     "name": "stdout",
     "output_type": "stream",
     "text": [
      "Should stop\n",
      "\n"
     ]
    },
    {
     "data": {
      "application/vnd.jupyter.widget-view+json": {
       "model_id": "b636902c35a24e22956f0d09f089a4d2",
       "version_major": 2,
       "version_minor": 0
      },
      "text/plain": [
       "HBox(children=(IntProgress(value=0, max=2), HTML(value='')))"
      ]
     },
     "metadata": {},
     "output_type": "display_data"
    },
    {
     "name": "stdout",
     "output_type": "stream",
     "text": [
      "tensor([0, 0, 0,  ..., 2, 1, 0], device='cuda:0')\n",
      "tensor([1, 0, 2,  ..., 0, 0, 2], device='cuda:0')\n",
      "tensor([2, 0, 0,  ..., 5, 5, 5], device='cuda:0')\n",
      "Should stop\n",
      "\n"
     ]
    },
    {
     "data": {
      "application/vnd.jupyter.widget-view+json": {
       "model_id": "e26d12c6a3db43a7bd6fcee6d009f295",
       "version_major": 2,
       "version_minor": 0
      },
      "text/plain": [
       "HBox(children=(IntProgress(value=0, max=20), HTML(value='')))"
      ]
     },
     "metadata": {},
     "output_type": "display_data"
    },
    {
     "name": "stdout",
     "output_type": "stream",
     "text": [
      "Should stop\n",
      "\n",
      "Epoch: 011 | Loss: 0.28699 | Tr_c: 0.98613 | Vl_c: 0.76156 | Vl_c_liketrn: 0.92768 | Vl_mrr: 0.61572 |Time: 0.082 min\n"
     ]
    },
    {
     "data": {
      "application/vnd.jupyter.widget-view+json": {
       "model_id": "5028d2e5052f4a0896576473f4f040fb",
       "version_major": 2,
       "version_minor": 0
      },
      "text/plain": [
       "HBox(children=(IntProgress(value=0, max=331), HTML(value='')))"
      ]
     },
     "metadata": {},
     "output_type": "display_data"
    },
    {
     "name": "stdout",
     "output_type": "stream",
     "text": [
      "Should stop\n",
      "\n"
     ]
    },
    {
     "data": {
      "application/vnd.jupyter.widget-view+json": {
       "model_id": "1170e829c4a24a68b6eabae815e6a88e",
       "version_major": 2,
       "version_minor": 0
      },
      "text/plain": [
       "HBox(children=(IntProgress(value=0, max=2), HTML(value='')))"
      ]
     },
     "metadata": {},
     "output_type": "display_data"
    },
    {
     "name": "stdout",
     "output_type": "stream",
     "text": [
      "tensor([1, 5, 0,  ..., 1, 0, 0], device='cuda:0')\n",
      "tensor([0, 0, 0,  ..., 0, 0, 0], device='cuda:0')\n",
      "tensor([1, 0, 7,  ..., 5, 5, 5], device='cuda:0')\n",
      "Should stop\n",
      "\n"
     ]
    },
    {
     "data": {
      "application/vnd.jupyter.widget-view+json": {
       "model_id": "c0e3fa3c8ce94c16a51847220cbc0566",
       "version_major": 2,
       "version_minor": 0
      },
      "text/plain": [
       "HBox(children=(IntProgress(value=0, max=20), HTML(value='')))"
      ]
     },
     "metadata": {},
     "output_type": "display_data"
    },
    {
     "name": "stdout",
     "output_type": "stream",
     "text": [
      "Should stop\n",
      "\n",
      "Epoch: 012 | Loss: 0.28077 | Tr_c: 0.98644 | Vl_c: 0.76278 | Vl_c_liketrn: 0.92804 | Vl_mrr: 0.61636 |Time: 0.078 min\n"
     ]
    },
    {
     "data": {
      "application/vnd.jupyter.widget-view+json": {
       "model_id": "80657665b9e14203b2bde4cf15fe5c89",
       "version_major": 2,
       "version_minor": 0
      },
      "text/plain": [
       "HBox(children=(IntProgress(value=0, max=331), HTML(value='')))"
      ]
     },
     "metadata": {},
     "output_type": "display_data"
    },
    {
     "name": "stdout",
     "output_type": "stream",
     "text": [
      "Should stop\n",
      "\n"
     ]
    },
    {
     "data": {
      "application/vnd.jupyter.widget-view+json": {
       "model_id": "fa20836f71fb41d2a3c2539f39632c0e",
       "version_major": 2,
       "version_minor": 0
      },
      "text/plain": [
       "HBox(children=(IntProgress(value=0, max=2), HTML(value='')))"
      ]
     },
     "metadata": {},
     "output_type": "display_data"
    },
    {
     "name": "stdout",
     "output_type": "stream",
     "text": [
      "tensor([0, 6, 1,  ..., 0, 1, 1], device='cuda:0')\n",
      "tensor([0, 4, 2,  ..., 2, 0, 0], device='cuda:0')\n",
      "tensor([0, 7, 0,  ..., 5, 5, 5], device='cuda:0')\n",
      "Should stop\n",
      "\n"
     ]
    },
    {
     "data": {
      "application/vnd.jupyter.widget-view+json": {
       "model_id": "fcd204f4650f4767afedb6fdd6b9622c",
       "version_major": 2,
       "version_minor": 0
      },
      "text/plain": [
       "HBox(children=(IntProgress(value=0, max=20), HTML(value='')))"
      ]
     },
     "metadata": {},
     "output_type": "display_data"
    },
    {
     "name": "stdout",
     "output_type": "stream",
     "text": [
      "Should stop\n",
      "\n",
      "Epoch: 013 | Loss: 0.27569 | Tr_c: 0.98680 | Vl_c: 0.76355 | Vl_c_liketrn: 0.92773 | Vl_mrr: 0.61655 |Time: 0.080 min\n"
     ]
    },
    {
     "data": {
      "application/vnd.jupyter.widget-view+json": {
       "model_id": "439978acce244aa79c136168e7c5d71e",
       "version_major": 2,
       "version_minor": 0
      },
      "text/plain": [
       "HBox(children=(IntProgress(value=0, max=331), HTML(value='')))"
      ]
     },
     "metadata": {},
     "output_type": "display_data"
    },
    {
     "name": "stdout",
     "output_type": "stream",
     "text": [
      "Should stop\n",
      "\n"
     ]
    },
    {
     "data": {
      "application/vnd.jupyter.widget-view+json": {
       "model_id": "528d5aa71c1b44368f6f40f3f0caf1a9",
       "version_major": 2,
       "version_minor": 0
      },
      "text/plain": [
       "HBox(children=(IntProgress(value=0, max=2), HTML(value='')))"
      ]
     },
     "metadata": {},
     "output_type": "display_data"
    },
    {
     "name": "stdout",
     "output_type": "stream",
     "text": [
      "tensor([1, 2, 1,  ..., 1, 0, 0], device='cuda:0')\n",
      "tensor([0, 1, 0,  ..., 0, 1, 0], device='cuda:0')\n",
      "tensor([3, 0, 0,  ..., 5, 5, 5], device='cuda:0')\n",
      "Should stop\n",
      "\n"
     ]
    },
    {
     "data": {
      "application/vnd.jupyter.widget-view+json": {
       "model_id": "298e4ac1280d4744a38cbf7eef3ce65c",
       "version_major": 2,
       "version_minor": 0
      },
      "text/plain": [
       "HBox(children=(IntProgress(value=0, max=20), HTML(value='')))"
      ]
     },
     "metadata": {},
     "output_type": "display_data"
    },
    {
     "name": "stdout",
     "output_type": "stream",
     "text": [
      "Should stop\n",
      "\n",
      "Epoch: 014 | Loss: 0.27075 | Tr_c: 0.98711 | Vl_c: 0.76282 | Vl_c_liketrn: 0.92830 | Vl_mrr: 0.61649 |Time: 0.084 min\n"
     ]
    },
    {
     "data": {
      "application/vnd.jupyter.widget-view+json": {
       "model_id": "9f3edbac5db84af6b82b2d57d7c30f49",
       "version_major": 2,
       "version_minor": 0
      },
      "text/plain": [
       "HBox(children=(IntProgress(value=0, max=331), HTML(value='')))"
      ]
     },
     "metadata": {},
     "output_type": "display_data"
    },
    {
     "name": "stdout",
     "output_type": "stream",
     "text": [
      "Should stop\n",
      "\n"
     ]
    },
    {
     "data": {
      "application/vnd.jupyter.widget-view+json": {
       "model_id": "696afc331c2d4749b6e750f4d2d3b835",
       "version_major": 2,
       "version_minor": 0
      },
      "text/plain": [
       "HBox(children=(IntProgress(value=0, max=2), HTML(value='')))"
      ]
     },
     "metadata": {},
     "output_type": "display_data"
    },
    {
     "name": "stdout",
     "output_type": "stream",
     "text": [
      "tensor([0, 5, 2,  ..., 2, 1, 0], device='cuda:0')\n",
      "tensor([0, 0, 0,  ..., 0, 0, 0], device='cuda:0')\n",
      "tensor([0, 0, 0,  ..., 5, 5, 5], device='cuda:0')\n",
      "Should stop\n",
      "\n"
     ]
    },
    {
     "data": {
      "application/vnd.jupyter.widget-view+json": {
       "model_id": "464e9dafeb2040f7908b5fda97106389",
       "version_major": 2,
       "version_minor": 0
      },
      "text/plain": [
       "HBox(children=(IntProgress(value=0, max=20), HTML(value='')))"
      ]
     },
     "metadata": {},
     "output_type": "display_data"
    },
    {
     "name": "stdout",
     "output_type": "stream",
     "text": [
      "Should stop\n",
      "\n",
      "Epoch: 015 | Loss: 0.26688 | Tr_c: 0.98727 | Vl_c: 0.76298 | Vl_c_liketrn: 0.92827 | Vl_mrr: 0.61645 |Time: 0.079 min\n"
     ]
    },
    {
     "data": {
      "application/vnd.jupyter.widget-view+json": {
       "model_id": "413d0c36d5b3484ca62cfdabd351064b",
       "version_major": 2,
       "version_minor": 0
      },
      "text/plain": [
       "HBox(children=(IntProgress(value=0, max=331), HTML(value='')))"
      ]
     },
     "metadata": {},
     "output_type": "display_data"
    },
    {
     "name": "stdout",
     "output_type": "stream",
     "text": [
      "Should stop\n",
      "\n"
     ]
    },
    {
     "data": {
      "application/vnd.jupyter.widget-view+json": {
       "model_id": "e0dca3655b124c50aec316f3aadc1949",
       "version_major": 2,
       "version_minor": 0
      },
      "text/plain": [
       "HBox(children=(IntProgress(value=0, max=2), HTML(value='')))"
      ]
     },
     "metadata": {},
     "output_type": "display_data"
    },
    {
     "name": "stdout",
     "output_type": "stream",
     "text": [
      "tensor([2, 0, 0,  ..., 0, 0, 0], device='cuda:0')\n",
      "tensor([0, 0, 2,  ..., 0, 0, 0], device='cuda:0')\n",
      "tensor([0, 0, 0,  ..., 5, 5, 5], device='cuda:0')\n",
      "Should stop\n",
      "\n"
     ]
    },
    {
     "data": {
      "application/vnd.jupyter.widget-view+json": {
       "model_id": "af7ebd2caa2e4c13b700844a4ffac308",
       "version_major": 2,
       "version_minor": 0
      },
      "text/plain": [
       "HBox(children=(IntProgress(value=0, max=20), HTML(value='')))"
      ]
     },
     "metadata": {},
     "output_type": "display_data"
    },
    {
     "name": "stdout",
     "output_type": "stream",
     "text": [
      "Should stop\n",
      "\n",
      "Epoch: 016 | Loss: 0.26329 | Tr_c: 0.98754 | Vl_c: 0.76310 | Vl_c_liketrn: 0.92797 | Vl_mrr: 0.61673 |Time: 0.082 min\n"
     ]
    },
    {
     "data": {
      "application/vnd.jupyter.widget-view+json": {
       "model_id": "d75887502c164a0d97496f5dc70c693b",
       "version_major": 2,
       "version_minor": 0
      },
      "text/plain": [
       "HBox(children=(IntProgress(value=0, max=331), HTML(value='')))"
      ]
     },
     "metadata": {},
     "output_type": "display_data"
    },
    {
     "name": "stdout",
     "output_type": "stream",
     "text": [
      "Should stop\n",
      "\n"
     ]
    },
    {
     "data": {
      "application/vnd.jupyter.widget-view+json": {
       "model_id": "ef2a2f67fbc94e4e8c9e850b4b8b2a02",
       "version_major": 2,
       "version_minor": 0
      },
      "text/plain": [
       "HBox(children=(IntProgress(value=0, max=2), HTML(value='')))"
      ]
     },
     "metadata": {},
     "output_type": "display_data"
    },
    {
     "name": "stdout",
     "output_type": "stream",
     "text": [
      "tensor([1, 0, 0,  ..., 0, 0, 0], device='cuda:0')\n",
      "tensor([0, 0, 0,  ..., 0, 0, 7], device='cuda:0')\n",
      "tensor([1, 0, 0,  ..., 5, 5, 5], device='cuda:0')\n",
      "Should stop\n",
      "\n"
     ]
    },
    {
     "data": {
      "application/vnd.jupyter.widget-view+json": {
       "model_id": "1e9c55f13b844e3699f12a9977e2d452",
       "version_major": 2,
       "version_minor": 0
      },
      "text/plain": [
       "HBox(children=(IntProgress(value=0, max=20), HTML(value='')))"
      ]
     },
     "metadata": {},
     "output_type": "display_data"
    },
    {
     "name": "stdout",
     "output_type": "stream",
     "text": [
      "Should stop\n",
      "\n",
      "Epoch: 017 | Loss: 0.25984 | Tr_c: 0.98773 | Vl_c: 0.76274 | Vl_c_liketrn: 0.92804 | Vl_mrr: 0.61657 |Time: 0.082 min\n"
     ]
    },
    {
     "data": {
      "application/vnd.jupyter.widget-view+json": {
       "model_id": "e0fdaa3e58334536abbfdfadaed4d8c7",
       "version_major": 2,
       "version_minor": 0
      },
      "text/plain": [
       "HBox(children=(IntProgress(value=0, max=331), HTML(value='')))"
      ]
     },
     "metadata": {},
     "output_type": "display_data"
    },
    {
     "name": "stdout",
     "output_type": "stream",
     "text": [
      "Should stop\n",
      "\n"
     ]
    },
    {
     "data": {
      "application/vnd.jupyter.widget-view+json": {
       "model_id": "59fa666526d3410cb2b56c2a4a5c0697",
       "version_major": 2,
       "version_minor": 0
      },
      "text/plain": [
       "HBox(children=(IntProgress(value=0, max=2), HTML(value='')))"
      ]
     },
     "metadata": {},
     "output_type": "display_data"
    },
    {
     "name": "stdout",
     "output_type": "stream",
     "text": [
      "tensor([0, 0, 0,  ..., 0, 1, 0], device='cuda:0')\n",
      "tensor([1, 0, 0,  ..., 0, 0, 0], device='cuda:0')\n",
      "tensor([2, 1, 0,  ..., 5, 5, 5], device='cuda:0')\n",
      "Should stop\n",
      "\n"
     ]
    },
    {
     "data": {
      "application/vnd.jupyter.widget-view+json": {
       "model_id": "7bc005f3f39646aeba2e64bf1771fe9f",
       "version_major": 2,
       "version_minor": 0
      },
      "text/plain": [
       "HBox(children=(IntProgress(value=0, max=20), HTML(value='')))"
      ]
     },
     "metadata": {},
     "output_type": "display_data"
    },
    {
     "name": "stdout",
     "output_type": "stream",
     "text": [
      "Should stop\n",
      "\n",
      "Epoch: 018 | Loss: 0.25700 | Tr_c: 0.98791 | Vl_c: 0.76343 | Vl_c_liketrn: 0.92807 | Vl_mrr: 0.61680 |Time: 0.080 min\n"
     ]
    },
    {
     "data": {
      "application/vnd.jupyter.widget-view+json": {
       "model_id": "904e58bf8cb246c48bb82ec3fd59e3c9",
       "version_major": 2,
       "version_minor": 0
      },
      "text/plain": [
       "HBox(children=(IntProgress(value=0, max=331), HTML(value='')))"
      ]
     },
     "metadata": {},
     "output_type": "display_data"
    },
    {
     "name": "stdout",
     "output_type": "stream",
     "text": [
      "Should stop\n",
      "\n"
     ]
    },
    {
     "data": {
      "application/vnd.jupyter.widget-view+json": {
       "model_id": "5726ae95d43048cd825b8b9567d3477b",
       "version_major": 2,
       "version_minor": 0
      },
      "text/plain": [
       "HBox(children=(IntProgress(value=0, max=2), HTML(value='')))"
      ]
     },
     "metadata": {},
     "output_type": "display_data"
    },
    {
     "name": "stdout",
     "output_type": "stream",
     "text": [
      "tensor([0, 1, 1,  ..., 0, 1, 0], device='cuda:0')\n",
      "tensor([0, 0, 0,  ..., 0, 0, 1], device='cuda:0')\n",
      "tensor([0, 4, 0,  ..., 5, 5, 5], device='cuda:0')\n",
      "Should stop\n",
      "\n"
     ]
    },
    {
     "data": {
      "application/vnd.jupyter.widget-view+json": {
       "model_id": "b0955de528244b2eb357efb1f4c4aa54",
       "version_major": 2,
       "version_minor": 0
      },
      "text/plain": [
       "HBox(children=(IntProgress(value=0, max=20), HTML(value='')))"
      ]
     },
     "metadata": {},
     "output_type": "display_data"
    },
    {
     "name": "stdout",
     "output_type": "stream",
     "text": [
      "Should stop\n",
      "\n",
      "Epoch: 019 | Loss: 0.25451 | Tr_c: 0.98811 | Vl_c: 0.76314 | Vl_c_liketrn: 0.92831 | Vl_mrr: 0.61671 |Time: 0.085 min\n"
     ]
    },
    {
     "data": {
      "application/vnd.jupyter.widget-view+json": {
       "model_id": "d783bf4bd2ce474bad70a1d71439c12e",
       "version_major": 2,
       "version_minor": 0
      },
      "text/plain": [
       "HBox(children=(IntProgress(value=0, max=331), HTML(value='')))"
      ]
     },
     "metadata": {},
     "output_type": "display_data"
    },
    {
     "name": "stdout",
     "output_type": "stream",
     "text": [
      "Should stop\n",
      "\n"
     ]
    },
    {
     "data": {
      "application/vnd.jupyter.widget-view+json": {
       "model_id": "237d1a50c7c94731b7991e8eaf418fe0",
       "version_major": 2,
       "version_minor": 0
      },
      "text/plain": [
       "HBox(children=(IntProgress(value=0, max=2), HTML(value='')))"
      ]
     },
     "metadata": {},
     "output_type": "display_data"
    },
    {
     "name": "stdout",
     "output_type": "stream",
     "text": [
      "tensor([0, 0, 3,  ..., 0, 2, 2], device='cuda:0')\n",
      "tensor([2, 0, 0,  ..., 1, 0, 0], device='cuda:0')\n",
      "tensor([10,  2,  0,  ...,  5,  5,  5], device='cuda:0')\n",
      "Should stop\n",
      "\n"
     ]
    },
    {
     "data": {
      "application/vnd.jupyter.widget-view+json": {
       "model_id": "b9d89558a5a8455386c2c5dbf5684506",
       "version_major": 2,
       "version_minor": 0
      },
      "text/plain": [
       "HBox(children=(IntProgress(value=0, max=20), HTML(value='')))"
      ]
     },
     "metadata": {},
     "output_type": "display_data"
    },
    {
     "name": "stdout",
     "output_type": "stream",
     "text": [
      "Should stop\n",
      "\n",
      "Epoch: 020 | Loss: 0.25198 | Tr_c: 0.98823 | Vl_c: 0.76225 | Vl_c_liketrn: 0.92828 | Vl_mrr: 0.61634 |Time: 0.080 min\n"
     ]
    },
    {
     "data": {
      "application/vnd.jupyter.widget-view+json": {
       "model_id": "88a08055517d404db73bc06bc7ef475f",
       "version_major": 2,
       "version_minor": 0
      },
      "text/plain": [
       "HBox(children=(IntProgress(value=0, max=331), HTML(value='')))"
      ]
     },
     "metadata": {},
     "output_type": "display_data"
    },
    {
     "name": "stdout",
     "output_type": "stream",
     "text": [
      "Should stop\n",
      "\n"
     ]
    },
    {
     "data": {
      "application/vnd.jupyter.widget-view+json": {
       "model_id": "1038eb9489d64f658e8a70dbb1bb548f",
       "version_major": 2,
       "version_minor": 0
      },
      "text/plain": [
       "HBox(children=(IntProgress(value=0, max=2), HTML(value='')))"
      ]
     },
     "metadata": {},
     "output_type": "display_data"
    },
    {
     "name": "stdout",
     "output_type": "stream",
     "text": [
      "tensor([1, 0, 0,  ..., 2, 0, 0], device='cuda:0')\n",
      "tensor([0, 0, 0,  ..., 1, 2, 0], device='cuda:0')\n",
      "tensor([0, 1, 1,  ..., 5, 5, 5], device='cuda:0')\n",
      "Should stop\n",
      "\n"
     ]
    },
    {
     "data": {
      "application/vnd.jupyter.widget-view+json": {
       "model_id": "b5fc1ad989984e8aa5bf5ed96af7c81c",
       "version_major": 2,
       "version_minor": 0
      },
      "text/plain": [
       "HBox(children=(IntProgress(value=0, max=20), HTML(value='')))"
      ]
     },
     "metadata": {},
     "output_type": "display_data"
    },
    {
     "name": "stdout",
     "output_type": "stream",
     "text": [
      "Should stop\n",
      "\n",
      "Epoch: 021 | Loss: 0.24979 | Tr_c: 0.98837 | Vl_c: 0.76404 | Vl_c_liketrn: 0.92828 | Vl_mrr: 0.61705 |Time: 0.078 min\n"
     ]
    },
    {
     "data": {
      "application/vnd.jupyter.widget-view+json": {
       "model_id": "d1b602b5c8cb429b8daae944c8d06d53",
       "version_major": 2,
       "version_minor": 0
      },
      "text/plain": [
       "HBox(children=(IntProgress(value=0, max=331), HTML(value='')))"
      ]
     },
     "metadata": {},
     "output_type": "display_data"
    },
    {
     "name": "stdout",
     "output_type": "stream",
     "text": [
      "Should stop\n",
      "\n"
     ]
    },
    {
     "data": {
      "application/vnd.jupyter.widget-view+json": {
       "model_id": "b9a4e13c19074dada65fcdca1024af70",
       "version_major": 2,
       "version_minor": 0
      },
      "text/plain": [
       "HBox(children=(IntProgress(value=0, max=2), HTML(value='')))"
      ]
     },
     "metadata": {},
     "output_type": "display_data"
    },
    {
     "name": "stdout",
     "output_type": "stream",
     "text": [
      "tensor([0, 0, 3,  ..., 1, 0, 1], device='cuda:0')\n",
      "tensor([0, 0, 0,  ..., 1, 0, 0], device='cuda:0')\n",
      "tensor([0, 1, 5,  ..., 5, 5, 5], device='cuda:0')\n",
      "Should stop\n",
      "\n"
     ]
    },
    {
     "data": {
      "application/vnd.jupyter.widget-view+json": {
       "model_id": "1d48d01746db49a9adb5e77f8cba0ae4",
       "version_major": 2,
       "version_minor": 0
      },
      "text/plain": [
       "HBox(children=(IntProgress(value=0, max=20), HTML(value='')))"
      ]
     },
     "metadata": {},
     "output_type": "display_data"
    },
    {
     "name": "stdout",
     "output_type": "stream",
     "text": [
      "Should stop\n",
      "\n",
      "Epoch: 022 | Loss: 0.24786 | Tr_c: 0.98843 | Vl_c: 0.76465 | Vl_c_liketrn: 0.92785 | Vl_mrr: 0.61744 |Time: 0.079 min\n"
     ]
    },
    {
     "data": {
      "application/vnd.jupyter.widget-view+json": {
       "model_id": "0edc5325b45c46b589254e266f466889",
       "version_major": 2,
       "version_minor": 0
      },
      "text/plain": [
       "HBox(children=(IntProgress(value=0, max=331), HTML(value='')))"
      ]
     },
     "metadata": {},
     "output_type": "display_data"
    },
    {
     "name": "stdout",
     "output_type": "stream",
     "text": [
      "Should stop\n",
      "\n"
     ]
    },
    {
     "data": {
      "application/vnd.jupyter.widget-view+json": {
       "model_id": "ef64eafd283c4b5a9db4dce14bf2b209",
       "version_major": 2,
       "version_minor": 0
      },
      "text/plain": [
       "HBox(children=(IntProgress(value=0, max=2), HTML(value='')))"
      ]
     },
     "metadata": {},
     "output_type": "display_data"
    },
    {
     "name": "stdout",
     "output_type": "stream",
     "text": [
      "tensor([0, 0, 0,  ..., 0, 1, 0], device='cuda:0')\n",
      "tensor([0, 0, 0,  ..., 0, 0, 0], device='cuda:0')\n",
      "tensor([0, 1, 0,  ..., 5, 5, 5], device='cuda:0')\n",
      "Should stop\n",
      "\n"
     ]
    },
    {
     "data": {
      "application/vnd.jupyter.widget-view+json": {
       "model_id": "3c91844ce7c54284967e345f86ed4b3e",
       "version_major": 2,
       "version_minor": 0
      },
      "text/plain": [
       "HBox(children=(IntProgress(value=0, max=20), HTML(value='')))"
      ]
     },
     "metadata": {},
     "output_type": "display_data"
    },
    {
     "name": "stdout",
     "output_type": "stream",
     "text": [
      "Should stop\n",
      "\n",
      "Epoch: 023 | Loss: 0.24611 | Tr_c: 0.98860 | Vl_c: 0.76416 | Vl_c_liketrn: 0.92823 | Vl_mrr: 0.61740 |Time: 0.085 min\n"
     ]
    },
    {
     "data": {
      "application/vnd.jupyter.widget-view+json": {
       "model_id": "f80c12a9636d4ca589e2efb71e60e63c",
       "version_major": 2,
       "version_minor": 0
      },
      "text/plain": [
       "HBox(children=(IntProgress(value=0, max=331), HTML(value='')))"
      ]
     },
     "metadata": {},
     "output_type": "display_data"
    },
    {
     "name": "stdout",
     "output_type": "stream",
     "text": [
      "Should stop\n",
      "\n"
     ]
    },
    {
     "data": {
      "application/vnd.jupyter.widget-view+json": {
       "model_id": "a18693f483c24f748987e10860d5045f",
       "version_major": 2,
       "version_minor": 0
      },
      "text/plain": [
       "HBox(children=(IntProgress(value=0, max=2), HTML(value='')))"
      ]
     },
     "metadata": {},
     "output_type": "display_data"
    },
    {
     "name": "stdout",
     "output_type": "stream",
     "text": [
      "tensor([0, 3, 2,  ..., 0, 0, 0], device='cuda:0')\n",
      "tensor([0, 0, 0,  ..., 1, 0, 0], device='cuda:0')\n",
      "tensor([0, 0, 0,  ..., 5, 5, 5], device='cuda:0')\n",
      "Should stop\n",
      "\n"
     ]
    },
    {
     "data": {
      "application/vnd.jupyter.widget-view+json": {
       "model_id": "fd0cd6595c1147458a1ec30954fd7b58",
       "version_major": 2,
       "version_minor": 0
      },
      "text/plain": [
       "HBox(children=(IntProgress(value=0, max=20), HTML(value='')))"
      ]
     },
     "metadata": {},
     "output_type": "display_data"
    },
    {
     "name": "stdout",
     "output_type": "stream",
     "text": [
      "Should stop\n",
      "\n",
      "Epoch: 024 | Loss: 0.24437 | Tr_c: 0.98869 | Vl_c: 0.76286 | Vl_c_liketrn: 0.92800 | Vl_mrr: 0.61660 |Time: 0.081 min\n"
     ]
    },
    {
     "data": {
      "application/vnd.jupyter.widget-view+json": {
       "model_id": "7b9e33936c8a46dda0f3eecb579534f6",
       "version_major": 2,
       "version_minor": 0
      },
      "text/plain": [
       "HBox(children=(IntProgress(value=0, max=331), HTML(value='')))"
      ]
     },
     "metadata": {},
     "output_type": "display_data"
    },
    {
     "name": "stdout",
     "output_type": "stream",
     "text": [
      "Should stop\n",
      "\n"
     ]
    },
    {
     "data": {
      "application/vnd.jupyter.widget-view+json": {
       "model_id": "bfd910f0c3c14f8eaf77b6a980405561",
       "version_major": 2,
       "version_minor": 0
      },
      "text/plain": [
       "HBox(children=(IntProgress(value=0, max=2), HTML(value='')))"
      ]
     },
     "metadata": {},
     "output_type": "display_data"
    },
    {
     "name": "stdout",
     "output_type": "stream",
     "text": [
      "tensor([0, 2, 0,  ..., 0, 0, 0], device='cuda:0')\n",
      "tensor([0, 0, 2,  ..., 0, 0, 0], device='cuda:0')\n",
      "tensor([2, 2, 1,  ..., 5, 5, 5], device='cuda:0')\n",
      "Should stop\n",
      "\n"
     ]
    },
    {
     "data": {
      "application/vnd.jupyter.widget-view+json": {
       "model_id": "6e32b2e031874d3d8bcd59b5424985df",
       "version_major": 2,
       "version_minor": 0
      },
      "text/plain": [
       "HBox(children=(IntProgress(value=0, max=20), HTML(value='')))"
      ]
     },
     "metadata": {},
     "output_type": "display_data"
    },
    {
     "name": "stdout",
     "output_type": "stream",
     "text": [
      "Should stop\n",
      "\n",
      "Epoch: 025 | Loss: 0.24287 | Tr_c: 0.98878 | Vl_c: 0.76379 | Vl_c_liketrn: 0.92779 | Vl_mrr: 0.61689 |Time: 0.084 min\n"
     ]
    },
    {
     "data": {
      "application/vnd.jupyter.widget-view+json": {
       "model_id": "9020daed345241b0a5a106eec80d6f51",
       "version_major": 2,
       "version_minor": 0
      },
      "text/plain": [
       "HBox(children=(IntProgress(value=0, max=331), HTML(value='')))"
      ]
     },
     "metadata": {},
     "output_type": "display_data"
    },
    {
     "name": "stdout",
     "output_type": "stream",
     "text": [
      "Should stop\n",
      "\n"
     ]
    },
    {
     "data": {
      "application/vnd.jupyter.widget-view+json": {
       "model_id": "bb65defec3d441269159ddee3a4d24df",
       "version_major": 2,
       "version_minor": 0
      },
      "text/plain": [
       "HBox(children=(IntProgress(value=0, max=2), HTML(value='')))"
      ]
     },
     "metadata": {},
     "output_type": "display_data"
    },
    {
     "name": "stdout",
     "output_type": "stream",
     "text": [
      "tensor([1, 4, 4,  ..., 0, 0, 0], device='cuda:0')\n",
      "tensor([0, 3, 2,  ..., 1, 0, 0], device='cuda:0')\n",
      "tensor([1, 0, 1,  ..., 5, 5, 5], device='cuda:0')\n",
      "Should stop\n",
      "\n"
     ]
    },
    {
     "data": {
      "application/vnd.jupyter.widget-view+json": {
       "model_id": "95c8013c7849491eb67d58a891038794",
       "version_major": 2,
       "version_minor": 0
      },
      "text/plain": [
       "HBox(children=(IntProgress(value=0, max=20), HTML(value='')))"
      ]
     },
     "metadata": {},
     "output_type": "display_data"
    },
    {
     "name": "stdout",
     "output_type": "stream",
     "text": [
      "Should stop\n",
      "\n",
      "Epoch: 026 | Loss: 0.24120 | Tr_c: 0.98891 | Vl_c: 0.76383 | Vl_c_liketrn: 0.92782 | Vl_mrr: 0.61691 |Time: 0.087 min\n"
     ]
    },
    {
     "data": {
      "application/vnd.jupyter.widget-view+json": {
       "model_id": "47e12b3f0f9c458b857eed3a76f46659",
       "version_major": 2,
       "version_minor": 0
      },
      "text/plain": [
       "HBox(children=(IntProgress(value=0, max=331), HTML(value='')))"
      ]
     },
     "metadata": {},
     "output_type": "display_data"
    },
    {
     "name": "stdout",
     "output_type": "stream",
     "text": [
      "Should stop\n",
      "\n"
     ]
    },
    {
     "data": {
      "application/vnd.jupyter.widget-view+json": {
       "model_id": "727388eb92a64c4ebada4e6b46a6c386",
       "version_major": 2,
       "version_minor": 0
      },
      "text/plain": [
       "HBox(children=(IntProgress(value=0, max=2), HTML(value='')))"
      ]
     },
     "metadata": {},
     "output_type": "display_data"
    },
    {
     "name": "stdout",
     "output_type": "stream",
     "text": [
      "tensor([0, 3, 0,  ..., 2, 1, 0], device='cuda:0')\n",
      "tensor([0, 2, 0,  ..., 0, 1, 0], device='cuda:0')\n",
      "tensor([0, 3, 0,  ..., 5, 5, 5], device='cuda:0')\n",
      "Should stop\n",
      "\n"
     ]
    },
    {
     "data": {
      "application/vnd.jupyter.widget-view+json": {
       "model_id": "3984a229ed4a41de84add75c1966795d",
       "version_major": 2,
       "version_minor": 0
      },
      "text/plain": [
       "HBox(children=(IntProgress(value=0, max=20), HTML(value='')))"
      ]
     },
     "metadata": {},
     "output_type": "display_data"
    },
    {
     "name": "stdout",
     "output_type": "stream",
     "text": [
      "Should stop\n",
      "\n",
      "Epoch: 027 | Loss: 0.23981 | Tr_c: 0.98900 | Vl_c: 0.76477 | Vl_c_liketrn: 0.92844 | Vl_mrr: 0.61751 |Time: 0.081 min\n"
     ]
    },
    {
     "data": {
      "application/vnd.jupyter.widget-view+json": {
       "model_id": "68d6dd7d6b4442269c99fcd359eb3ae1",
       "version_major": 2,
       "version_minor": 0
      },
      "text/plain": [
       "HBox(children=(IntProgress(value=0, max=331), HTML(value='')))"
      ]
     },
     "metadata": {},
     "output_type": "display_data"
    },
    {
     "name": "stdout",
     "output_type": "stream",
     "text": [
      "Should stop\n",
      "\n"
     ]
    },
    {
     "data": {
      "application/vnd.jupyter.widget-view+json": {
       "model_id": "ae3609450ec7417b83d0fe9afbe91bf2",
       "version_major": 2,
       "version_minor": 0
      },
      "text/plain": [
       "HBox(children=(IntProgress(value=0, max=2), HTML(value='')))"
      ]
     },
     "metadata": {},
     "output_type": "display_data"
    },
    {
     "name": "stdout",
     "output_type": "stream",
     "text": [
      "tensor([0, 0, 0,  ..., 0, 0, 0], device='cuda:0')\n",
      "tensor([2, 1, 0,  ..., 0, 0, 0], device='cuda:0')\n",
      "tensor([0, 1, 0,  ..., 5, 5, 5], device='cuda:0')\n",
      "Should stop\n",
      "\n"
     ]
    },
    {
     "data": {
      "application/vnd.jupyter.widget-view+json": {
       "model_id": "9e014ae1836f4725b59885bed33cfce7",
       "version_major": 2,
       "version_minor": 0
      },
      "text/plain": [
       "HBox(children=(IntProgress(value=0, max=20), HTML(value='')))"
      ]
     },
     "metadata": {},
     "output_type": "display_data"
    },
    {
     "name": "stdout",
     "output_type": "stream",
     "text": [
      "Should stop\n",
      "\n",
      "Epoch: 028 | Loss: 0.23851 | Tr_c: 0.98908 | Vl_c: 0.76404 | Vl_c_liketrn: 0.92771 | Vl_mrr: 0.61701 |Time: 0.081 min\n"
     ]
    },
    {
     "data": {
      "application/vnd.jupyter.widget-view+json": {
       "model_id": "b37f0d5e020442ccb153f0dc954ce6b6",
       "version_major": 2,
       "version_minor": 0
      },
      "text/plain": [
       "HBox(children=(IntProgress(value=0, max=331), HTML(value='')))"
      ]
     },
     "metadata": {},
     "output_type": "display_data"
    },
    {
     "name": "stdout",
     "output_type": "stream",
     "text": [
      "Should stop\n",
      "\n"
     ]
    },
    {
     "data": {
      "application/vnd.jupyter.widget-view+json": {
       "model_id": "91853270591b474cb0e09f6a8d480361",
       "version_major": 2,
       "version_minor": 0
      },
      "text/plain": [
       "HBox(children=(IntProgress(value=0, max=2), HTML(value='')))"
      ]
     },
     "metadata": {},
     "output_type": "display_data"
    },
    {
     "name": "stdout",
     "output_type": "stream",
     "text": [
      "tensor([0, 1, 1,  ..., 0, 0, 0], device='cuda:0')\n",
      "tensor([0, 0, 1,  ..., 0, 0, 0], device='cuda:0')\n",
      "tensor([3, 1, 0,  ..., 5, 5, 5], device='cuda:0')\n",
      "Should stop\n",
      "\n"
     ]
    },
    {
     "data": {
      "application/vnd.jupyter.widget-view+json": {
       "model_id": "4bf40a9e51044dff9dffae167fb206eb",
       "version_major": 2,
       "version_minor": 0
      },
      "text/plain": [
       "HBox(children=(IntProgress(value=0, max=20), HTML(value='')))"
      ]
     },
     "metadata": {},
     "output_type": "display_data"
    },
    {
     "name": "stdout",
     "output_type": "stream",
     "text": [
      "Should stop\n",
      "\n",
      "Epoch: 029 | Loss: 0.23750 | Tr_c: 0.98916 | Vl_c: 0.76493 | Vl_c_liketrn: 0.92797 | Vl_mrr: 0.61759 |Time: 0.081 min\n"
     ]
    },
    {
     "data": {
      "application/vnd.jupyter.widget-view+json": {
       "model_id": "068e4ce2dda34236a24accb792f744fc",
       "version_major": 2,
       "version_minor": 0
      },
      "text/plain": [
       "HBox(children=(IntProgress(value=0, max=331), HTML(value='')))"
      ]
     },
     "metadata": {},
     "output_type": "display_data"
    },
    {
     "name": "stdout",
     "output_type": "stream",
     "text": [
      "Should stop\n",
      "\n"
     ]
    },
    {
     "data": {
      "application/vnd.jupyter.widget-view+json": {
       "model_id": "065887e9b18b43ed936b40d6ffa8d9c0",
       "version_major": 2,
       "version_minor": 0
      },
      "text/plain": [
       "HBox(children=(IntProgress(value=0, max=2), HTML(value='')))"
      ]
     },
     "metadata": {},
     "output_type": "display_data"
    },
    {
     "name": "stdout",
     "output_type": "stream",
     "text": [
      "tensor([2, 0, 1,  ..., 1, 3, 0], device='cuda:0')\n",
      "tensor([1, 0, 1,  ..., 1, 0, 0], device='cuda:0')\n",
      "tensor([4, 0, 2,  ..., 5, 5, 5], device='cuda:0')\n",
      "Should stop\n",
      "\n"
     ]
    },
    {
     "data": {
      "application/vnd.jupyter.widget-view+json": {
       "model_id": "ee6c6774c2f4447e9659e6ba28b1028e",
       "version_major": 2,
       "version_minor": 0
      },
      "text/plain": [
       "HBox(children=(IntProgress(value=0, max=20), HTML(value='')))"
      ]
     },
     "metadata": {},
     "output_type": "display_data"
    },
    {
     "name": "stdout",
     "output_type": "stream",
     "text": [
      "Should stop\n",
      "\n",
      "Epoch: 030 | Loss: 0.23616 | Tr_c: 0.98924 | Vl_c: 0.76550 | Vl_c_liketrn: 0.92844 | Vl_mrr: 0.61795 |Time: 0.082 min\n"
     ]
    },
    {
     "data": {
      "application/vnd.jupyter.widget-view+json": {
       "model_id": "6f328452b0db469283a8c90b03af39ca",
       "version_major": 2,
       "version_minor": 0
      },
      "text/plain": [
       "HBox(children=(IntProgress(value=0, max=331), HTML(value='')))"
      ]
     },
     "metadata": {},
     "output_type": "display_data"
    },
    {
     "name": "stdout",
     "output_type": "stream",
     "text": [
      "Should stop\n",
      "\n"
     ]
    },
    {
     "data": {
      "application/vnd.jupyter.widget-view+json": {
       "model_id": "e7a68b40e59c489bb7b2abfa8fb17d43",
       "version_major": 2,
       "version_minor": 0
      },
      "text/plain": [
       "HBox(children=(IntProgress(value=0, max=2), HTML(value='')))"
      ]
     },
     "metadata": {},
     "output_type": "display_data"
    },
    {
     "name": "stdout",
     "output_type": "stream",
     "text": [
      "tensor([1, 0, 2,  ..., 0, 0, 2], device='cuda:0')\n",
      "tensor([1, 1, 0,  ..., 0, 0, 0], device='cuda:0')\n",
      "tensor([0, 1, 1,  ..., 5, 5, 5], device='cuda:0')\n",
      "Should stop\n",
      "\n"
     ]
    },
    {
     "data": {
      "application/vnd.jupyter.widget-view+json": {
       "model_id": "25003a04d9f0456cb50af2a7fa4295a1",
       "version_major": 2,
       "version_minor": 0
      },
      "text/plain": [
       "HBox(children=(IntProgress(value=0, max=20), HTML(value='')))"
      ]
     },
     "metadata": {},
     "output_type": "display_data"
    },
    {
     "name": "stdout",
     "output_type": "stream",
     "text": [
      "Should stop\n",
      "\n",
      "Epoch: 031 | Loss: 0.23527 | Tr_c: 0.98932 | Vl_c: 0.76571 | Vl_c_liketrn: 0.92807 | Vl_mrr: 0.61805 |Time: 0.092 min\n"
     ]
    },
    {
     "data": {
      "application/vnd.jupyter.widget-view+json": {
       "model_id": "fca340dc30674250b8c5c3d883b7d378",
       "version_major": 2,
       "version_minor": 0
      },
      "text/plain": [
       "HBox(children=(IntProgress(value=0, max=331), HTML(value='')))"
      ]
     },
     "metadata": {},
     "output_type": "display_data"
    },
    {
     "name": "stdout",
     "output_type": "stream",
     "text": [
      "Should stop\n",
      "\n"
     ]
    },
    {
     "data": {
      "application/vnd.jupyter.widget-view+json": {
       "model_id": "76e1efda9f8f4279929d4786b32f7144",
       "version_major": 2,
       "version_minor": 0
      },
      "text/plain": [
       "HBox(children=(IntProgress(value=0, max=2), HTML(value='')))"
      ]
     },
     "metadata": {},
     "output_type": "display_data"
    },
    {
     "name": "stdout",
     "output_type": "stream",
     "text": [
      "tensor([0, 0, 0,  ..., 0, 0, 0], device='cuda:0')\n",
      "tensor([1, 0, 0,  ..., 0, 0, 0], device='cuda:0')\n",
      "tensor([0, 0, 1,  ..., 5, 5, 5], device='cuda:0')\n",
      "Should stop\n",
      "\n"
     ]
    },
    {
     "data": {
      "application/vnd.jupyter.widget-view+json": {
       "model_id": "9a1746c0610347aeb10a4e93c5ab77df",
       "version_major": 2,
       "version_minor": 0
      },
      "text/plain": [
       "HBox(children=(IntProgress(value=0, max=20), HTML(value='')))"
      ]
     },
     "metadata": {},
     "output_type": "display_data"
    },
    {
     "name": "stdout",
     "output_type": "stream",
     "text": [
      "Should stop\n",
      "\n",
      "Epoch: 032 | Loss: 0.23384 | Tr_c: 0.98945 | Vl_c: 0.76501 | Vl_c_liketrn: 0.92786 | Vl_mrr: 0.61754 |Time: 0.083 min\n"
     ]
    },
    {
     "data": {
      "application/vnd.jupyter.widget-view+json": {
       "model_id": "f30700f5330c4a21b3f0accd6d4390df",
       "version_major": 2,
       "version_minor": 0
      },
      "text/plain": [
       "HBox(children=(IntProgress(value=0, max=331), HTML(value='')))"
      ]
     },
     "metadata": {},
     "output_type": "display_data"
    },
    {
     "name": "stdout",
     "output_type": "stream",
     "text": [
      "Should stop\n",
      "\n"
     ]
    },
    {
     "data": {
      "application/vnd.jupyter.widget-view+json": {
       "model_id": "28218e514820430385164d3cf748ff41",
       "version_major": 2,
       "version_minor": 0
      },
      "text/plain": [
       "HBox(children=(IntProgress(value=0, max=2), HTML(value='')))"
      ]
     },
     "metadata": {},
     "output_type": "display_data"
    },
    {
     "name": "stdout",
     "output_type": "stream",
     "text": [
      "tensor([6, 1, 0,  ..., 0, 0, 0], device='cuda:0')\n",
      "tensor([0, 0, 1,  ..., 0, 0, 0], device='cuda:0')\n",
      "tensor([0, 0, 3,  ..., 5, 5, 5], device='cuda:0')\n",
      "Should stop\n",
      "\n"
     ]
    },
    {
     "data": {
      "application/vnd.jupyter.widget-view+json": {
       "model_id": "15914a5405bd469589e86ef70da6f547",
       "version_major": 2,
       "version_minor": 0
      },
      "text/plain": [
       "HBox(children=(IntProgress(value=0, max=20), HTML(value='')))"
      ]
     },
     "metadata": {},
     "output_type": "display_data"
    },
    {
     "name": "stdout",
     "output_type": "stream",
     "text": [
      "Should stop\n",
      "\n",
      "Epoch: 033 | Loss: 0.23323 | Tr_c: 0.98941 | Vl_c: 0.76562 | Vl_c_liketrn: 0.92804 | Vl_mrr: 0.61792 |Time: 0.082 min\n"
     ]
    },
    {
     "data": {
      "application/vnd.jupyter.widget-view+json": {
       "model_id": "4ae29c86272a4fa4a95230485d8c15cf",
       "version_major": 2,
       "version_minor": 0
      },
      "text/plain": [
       "HBox(children=(IntProgress(value=0, max=331), HTML(value='')))"
      ]
     },
     "metadata": {},
     "output_type": "display_data"
    },
    {
     "name": "stdout",
     "output_type": "stream",
     "text": [
      "Should stop\n",
      "\n"
     ]
    },
    {
     "data": {
      "application/vnd.jupyter.widget-view+json": {
       "model_id": "376e5051d6314131bafd37eb4b7a5f09",
       "version_major": 2,
       "version_minor": 0
      },
      "text/plain": [
       "HBox(children=(IntProgress(value=0, max=2), HTML(value='')))"
      ]
     },
     "metadata": {},
     "output_type": "display_data"
    },
    {
     "name": "stdout",
     "output_type": "stream",
     "text": [
      "tensor([0, 1, 0,  ..., 1, 0, 0], device='cuda:0')\n",
      "tensor([0, 0, 0,  ..., 0, 0, 0], device='cuda:0')\n",
      "tensor([0, 0, 2,  ..., 5, 5, 5], device='cuda:0')\n",
      "Should stop\n",
      "\n"
     ]
    },
    {
     "data": {
      "application/vnd.jupyter.widget-view+json": {
       "model_id": "5d5b8f1ac5814b2e9d13978428cb3904",
       "version_major": 2,
       "version_minor": 0
      },
      "text/plain": [
       "HBox(children=(IntProgress(value=0, max=20), HTML(value='')))"
      ]
     },
     "metadata": {},
     "output_type": "display_data"
    },
    {
     "name": "stdout",
     "output_type": "stream",
     "text": [
      "Should stop\n",
      "\n",
      "Epoch: 034 | Loss: 0.23217 | Tr_c: 0.98954 | Vl_c: 0.76664 | Vl_c_liketrn: 0.92789 | Vl_mrr: 0.61839 |Time: 0.082 min\n"
     ]
    },
    {
     "data": {
      "application/vnd.jupyter.widget-view+json": {
       "model_id": "a4c5829223a4412da7c806cbf530aeff",
       "version_major": 2,
       "version_minor": 0
      },
      "text/plain": [
       "HBox(children=(IntProgress(value=0, max=331), HTML(value='')))"
      ]
     },
     "metadata": {},
     "output_type": "display_data"
    },
    {
     "name": "stdout",
     "output_type": "stream",
     "text": [
      "Should stop\n",
      "\n"
     ]
    },
    {
     "data": {
      "application/vnd.jupyter.widget-view+json": {
       "model_id": "77ec9e617f844e2c9474899e2caa5112",
       "version_major": 2,
       "version_minor": 0
      },
      "text/plain": [
       "HBox(children=(IntProgress(value=0, max=2), HTML(value='')))"
      ]
     },
     "metadata": {},
     "output_type": "display_data"
    },
    {
     "name": "stdout",
     "output_type": "stream",
     "text": [
      "tensor([0, 0, 0,  ..., 0, 0, 0], device='cuda:0')\n",
      "tensor([0, 1, 1,  ..., 0, 0, 1], device='cuda:0')\n",
      "tensor([0, 0, 1,  ..., 5, 5, 5], device='cuda:0')\n",
      "Should stop\n",
      "\n"
     ]
    },
    {
     "data": {
      "application/vnd.jupyter.widget-view+json": {
       "model_id": "3390b574537441429331b31507f9e60a",
       "version_major": 2,
       "version_minor": 0
      },
      "text/plain": [
       "HBox(children=(IntProgress(value=0, max=20), HTML(value='')))"
      ]
     },
     "metadata": {},
     "output_type": "display_data"
    },
    {
     "name": "stdout",
     "output_type": "stream",
     "text": [
      "Should stop\n",
      "\n",
      "Epoch: 035 | Loss: 0.23131 | Tr_c: 0.98958 | Vl_c: 0.76530 | Vl_c_liketrn: 0.92794 | Vl_mrr: 0.61775 |Time: 0.079 min\n"
     ]
    },
    {
     "data": {
      "application/vnd.jupyter.widget-view+json": {
       "model_id": "4c072b37580445f5a8eb8385bb38f28a",
       "version_major": 2,
       "version_minor": 0
      },
      "text/plain": [
       "HBox(children=(IntProgress(value=0, max=331), HTML(value='')))"
      ]
     },
     "metadata": {},
     "output_type": "display_data"
    },
    {
     "name": "stdout",
     "output_type": "stream",
     "text": [
      "Should stop\n",
      "\n"
     ]
    },
    {
     "data": {
      "application/vnd.jupyter.widget-view+json": {
       "model_id": "87b2c37037b948cb80f9711d37a3b044",
       "version_major": 2,
       "version_minor": 0
      },
      "text/plain": [
       "HBox(children=(IntProgress(value=0, max=2), HTML(value='')))"
      ]
     },
     "metadata": {},
     "output_type": "display_data"
    },
    {
     "name": "stdout",
     "output_type": "stream",
     "text": [
      "tensor([0, 3, 1,  ..., 0, 0, 0], device='cuda:0')\n",
      "tensor([0, 0, 0,  ..., 1, 0, 0], device='cuda:0')\n",
      "tensor([0, 1, 1,  ..., 5, 5, 5], device='cuda:0')\n",
      "Should stop\n",
      "\n"
     ]
    },
    {
     "data": {
      "application/vnd.jupyter.widget-view+json": {
       "model_id": "2734ba1be25e461b9942a37a98a1e046",
       "version_major": 2,
       "version_minor": 0
      },
      "text/plain": [
       "HBox(children=(IntProgress(value=0, max=20), HTML(value='')))"
      ]
     },
     "metadata": {},
     "output_type": "display_data"
    },
    {
     "name": "stdout",
     "output_type": "stream",
     "text": [
      "Should stop\n",
      "\n",
      "Epoch: 036 | Loss: 0.23036 | Tr_c: 0.98965 | Vl_c: 0.76546 | Vl_c_liketrn: 0.92813 | Vl_mrr: 0.61778 |Time: 0.084 min\n"
     ]
    },
    {
     "data": {
      "application/vnd.jupyter.widget-view+json": {
       "model_id": "e0628590481a41189b3ac0ebb38d410f",
       "version_major": 2,
       "version_minor": 0
      },
      "text/plain": [
       "HBox(children=(IntProgress(value=0, max=331), HTML(value='')))"
      ]
     },
     "metadata": {},
     "output_type": "display_data"
    },
    {
     "name": "stdout",
     "output_type": "stream",
     "text": [
      "Should stop\n",
      "\n"
     ]
    },
    {
     "data": {
      "application/vnd.jupyter.widget-view+json": {
       "model_id": "75e39270995947e99eef3c94af3ec39b",
       "version_major": 2,
       "version_minor": 0
      },
      "text/plain": [
       "HBox(children=(IntProgress(value=0, max=2), HTML(value='')))"
      ]
     },
     "metadata": {},
     "output_type": "display_data"
    },
    {
     "name": "stdout",
     "output_type": "stream",
     "text": [
      "tensor([0, 0, 4,  ..., 2, 0, 0], device='cuda:0')\n",
      "tensor([0, 3, 0,  ..., 0, 0, 0], device='cuda:0')\n",
      "tensor([0, 1, 0,  ..., 5, 5, 5], device='cuda:0')\n",
      "Should stop\n",
      "\n"
     ]
    },
    {
     "data": {
      "application/vnd.jupyter.widget-view+json": {
       "model_id": "1dc3c4ec0eb040dabb4c82abfcec79a7",
       "version_major": 2,
       "version_minor": 0
      },
      "text/plain": [
       "HBox(children=(IntProgress(value=0, max=20), HTML(value='')))"
      ]
     },
     "metadata": {},
     "output_type": "display_data"
    },
    {
     "name": "stdout",
     "output_type": "stream",
     "text": [
      "Should stop\n",
      "\n",
      "Epoch: 037 | Loss: 0.22976 | Tr_c: 0.98969 | Vl_c: 0.76571 | Vl_c_liketrn: 0.92796 | Vl_mrr: 0.61802 |Time: 0.083 min\n"
     ]
    },
    {
     "data": {
      "application/vnd.jupyter.widget-view+json": {
       "model_id": "81029c8893bb4019932e179c9a4b446b",
       "version_major": 2,
       "version_minor": 0
      },
      "text/plain": [
       "HBox(children=(IntProgress(value=0, max=331), HTML(value='')))"
      ]
     },
     "metadata": {},
     "output_type": "display_data"
    },
    {
     "name": "stdout",
     "output_type": "stream",
     "text": [
      "Should stop\n",
      "\n"
     ]
    },
    {
     "data": {
      "application/vnd.jupyter.widget-view+json": {
       "model_id": "81edde9b684d4d9bad5cceb2e6764342",
       "version_major": 2,
       "version_minor": 0
      },
      "text/plain": [
       "HBox(children=(IntProgress(value=0, max=2), HTML(value='')))"
      ]
     },
     "metadata": {},
     "output_type": "display_data"
    },
    {
     "name": "stdout",
     "output_type": "stream",
     "text": [
      "tensor([1, 0, 2,  ..., 0, 2, 0], device='cuda:0')\n",
      "tensor([ 0,  0,  0,  ...,  1, 10,  0], device='cuda:0')\n",
      "tensor([0, 4, 0,  ..., 5, 5, 5], device='cuda:0')\n",
      "Should stop\n",
      "\n"
     ]
    },
    {
     "data": {
      "application/vnd.jupyter.widget-view+json": {
       "model_id": "5979c830c44f4079a75b16cd95038bf4",
       "version_major": 2,
       "version_minor": 0
      },
      "text/plain": [
       "HBox(children=(IntProgress(value=0, max=20), HTML(value='')))"
      ]
     },
     "metadata": {},
     "output_type": "display_data"
    },
    {
     "name": "stdout",
     "output_type": "stream",
     "text": [
      "Should stop\n",
      "\n",
      "Epoch: 038 | Loss: 0.22889 | Tr_c: 0.98974 | Vl_c: 0.76571 | Vl_c_liketrn: 0.92794 | Vl_mrr: 0.61793 |Time: 0.079 min\n"
     ]
    },
    {
     "data": {
      "application/vnd.jupyter.widget-view+json": {
       "model_id": "1beaf6de9cc34623bad3c482bb8f7f24",
       "version_major": 2,
       "version_minor": 0
      },
      "text/plain": [
       "HBox(children=(IntProgress(value=0, max=331), HTML(value='')))"
      ]
     },
     "metadata": {},
     "output_type": "display_data"
    },
    {
     "name": "stdout",
     "output_type": "stream",
     "text": [
      "Should stop\n",
      "\n"
     ]
    },
    {
     "data": {
      "application/vnd.jupyter.widget-view+json": {
       "model_id": "8c3d1449fb1a42a79da1b8266d8d3d05",
       "version_major": 2,
       "version_minor": 0
      },
      "text/plain": [
       "HBox(children=(IntProgress(value=0, max=2), HTML(value='')))"
      ]
     },
     "metadata": {},
     "output_type": "display_data"
    },
    {
     "name": "stdout",
     "output_type": "stream",
     "text": [
      "tensor([0, 0, 7,  ..., 0, 0, 1], device='cuda:0')\n",
      "tensor([0, 3, 0,  ..., 0, 0, 0], device='cuda:0')\n",
      "tensor([0, 0, 0,  ..., 5, 5, 5], device='cuda:0')\n",
      "Should stop\n",
      "\n"
     ]
    },
    {
     "data": {
      "application/vnd.jupyter.widget-view+json": {
       "model_id": "5aaa186e776f4f39ab4de6e36c9dca87",
       "version_major": 2,
       "version_minor": 0
      },
      "text/plain": [
       "HBox(children=(IntProgress(value=0, max=20), HTML(value='')))"
      ]
     },
     "metadata": {},
     "output_type": "display_data"
    },
    {
     "name": "stdout",
     "output_type": "stream",
     "text": [
      "Should stop\n",
      "\n",
      "Epoch: 039 | Loss: 0.22807 | Tr_c: 0.98976 | Vl_c: 0.76485 | Vl_c_liketrn: 0.92752 | Vl_mrr: 0.61750 |Time: 0.080 min\n"
     ]
    },
    {
     "data": {
      "application/vnd.jupyter.widget-view+json": {
       "model_id": "3875ba10716f47b0a596443d39124fb2",
       "version_major": 2,
       "version_minor": 0
      },
      "text/plain": [
       "HBox(children=(IntProgress(value=0, max=331), HTML(value='')))"
      ]
     },
     "metadata": {},
     "output_type": "display_data"
    },
    {
     "name": "stdout",
     "output_type": "stream",
     "text": [
      "Should stop\n",
      "\n"
     ]
    },
    {
     "data": {
      "application/vnd.jupyter.widget-view+json": {
       "model_id": "f86c969d029948609165ab34cdde58a8",
       "version_major": 2,
       "version_minor": 0
      },
      "text/plain": [
       "HBox(children=(IntProgress(value=0, max=2), HTML(value='')))"
      ]
     },
     "metadata": {},
     "output_type": "display_data"
    },
    {
     "name": "stdout",
     "output_type": "stream",
     "text": [
      "tensor([0, 3, 3,  ..., 0, 0, 0], device='cuda:0')\n",
      "tensor([4, 5, 0,  ..., 0, 0, 0], device='cuda:0')\n",
      "tensor([3, 0, 1,  ..., 5, 5, 5], device='cuda:0')\n",
      "Should stop\n",
      "\n"
     ]
    },
    {
     "data": {
      "application/vnd.jupyter.widget-view+json": {
       "model_id": "a266fa8e00984e65aecdc0e15d53e0bb",
       "version_major": 2,
       "version_minor": 0
      },
      "text/plain": [
       "HBox(children=(IntProgress(value=0, max=20), HTML(value='')))"
      ]
     },
     "metadata": {},
     "output_type": "display_data"
    },
    {
     "name": "stdout",
     "output_type": "stream",
     "text": [
      "Should stop\n",
      "\n",
      "Epoch: 040 | Loss: 0.22762 | Tr_c: 0.98983 | Vl_c: 0.76599 | Vl_c_liketrn: 0.92824 | Vl_mrr: 0.61822 |Time: 0.081 min\n"
     ]
    },
    {
     "data": {
      "application/vnd.jupyter.widget-view+json": {
       "model_id": "c60c446123a94ae98ef3ef27bd34d717",
       "version_major": 2,
       "version_minor": 0
      },
      "text/plain": [
       "HBox(children=(IntProgress(value=0, max=331), HTML(value='')))"
      ]
     },
     "metadata": {},
     "output_type": "display_data"
    },
    {
     "name": "stdout",
     "output_type": "stream",
     "text": [
      "Should stop\n",
      "\n"
     ]
    },
    {
     "data": {
      "application/vnd.jupyter.widget-view+json": {
       "model_id": "dedd6f0cbd94483c9abe0a18668251f0",
       "version_major": 2,
       "version_minor": 0
      },
      "text/plain": [
       "HBox(children=(IntProgress(value=0, max=2), HTML(value='')))"
      ]
     },
     "metadata": {},
     "output_type": "display_data"
    },
    {
     "name": "stdout",
     "output_type": "stream",
     "text": [
      "tensor([9, 1, 0,  ..., 0, 0, 1], device='cuda:0')\n",
      "tensor([1, 0, 0,  ..., 1, 7, 1], device='cuda:0')\n",
      "tensor([1, 0, 0,  ..., 5, 5, 5], device='cuda:0')\n",
      "Should stop\n",
      "\n"
     ]
    },
    {
     "data": {
      "application/vnd.jupyter.widget-view+json": {
       "model_id": "20169dbf4c3e4ac1b1d611c7be60e456",
       "version_major": 2,
       "version_minor": 0
      },
      "text/plain": [
       "HBox(children=(IntProgress(value=0, max=20), HTML(value='')))"
      ]
     },
     "metadata": {},
     "output_type": "display_data"
    },
    {
     "name": "stdout",
     "output_type": "stream",
     "text": [
      "Should stop\n",
      "\n",
      "Epoch: 041 | Loss: 0.22699 | Tr_c: 0.98985 | Vl_c: 0.76440 | Vl_c_liketrn: 0.92772 | Vl_mrr: 0.61727 |Time: 0.081 min\n"
     ]
    },
    {
     "data": {
      "application/vnd.jupyter.widget-view+json": {
       "model_id": "555d102a365c4a36bb76caf8f75bd742",
       "version_major": 2,
       "version_minor": 0
      },
      "text/plain": [
       "HBox(children=(IntProgress(value=0, max=331), HTML(value='')))"
      ]
     },
     "metadata": {},
     "output_type": "display_data"
    },
    {
     "name": "stdout",
     "output_type": "stream",
     "text": [
      "Should stop\n",
      "\n"
     ]
    },
    {
     "data": {
      "application/vnd.jupyter.widget-view+json": {
       "model_id": "e1e9f703f5c642c49e4ec3ef90638a69",
       "version_major": 2,
       "version_minor": 0
      },
      "text/plain": [
       "HBox(children=(IntProgress(value=0, max=2), HTML(value='')))"
      ]
     },
     "metadata": {},
     "output_type": "display_data"
    },
    {
     "name": "stdout",
     "output_type": "stream",
     "text": [
      "tensor([0, 0, 2,  ..., 1, 0, 6], device='cuda:0')\n",
      "tensor([2, 1, 0,  ..., 0, 0, 0], device='cuda:0')\n",
      "tensor([0, 0, 0,  ..., 5, 5, 5], device='cuda:0')\n",
      "Should stop\n",
      "\n"
     ]
    },
    {
     "data": {
      "application/vnd.jupyter.widget-view+json": {
       "model_id": "701dcb81519e43c5b9f52ca1b6b14602",
       "version_major": 2,
       "version_minor": 0
      },
      "text/plain": [
       "HBox(children=(IntProgress(value=0, max=20), HTML(value='')))"
      ]
     },
     "metadata": {},
     "output_type": "display_data"
    },
    {
     "name": "stdout",
     "output_type": "stream",
     "text": [
      "Should stop\n",
      "\n",
      "Epoch: 042 | Loss: 0.22638 | Tr_c: 0.98991 | Vl_c: 0.76615 | Vl_c_liketrn: 0.92814 | Vl_mrr: 0.61839 |Time: 0.079 min\n"
     ]
    },
    {
     "data": {
      "application/vnd.jupyter.widget-view+json": {
       "model_id": "f39b1f8606724f9188ab77299e21e3ce",
       "version_major": 2,
       "version_minor": 0
      },
      "text/plain": [
       "HBox(children=(IntProgress(value=0, max=331), HTML(value='')))"
      ]
     },
     "metadata": {},
     "output_type": "display_data"
    },
    {
     "name": "stdout",
     "output_type": "stream",
     "text": [
      "Should stop\n",
      "\n"
     ]
    },
    {
     "data": {
      "application/vnd.jupyter.widget-view+json": {
       "model_id": "b1d1acc45c6440d0b4f32952515c5df5",
       "version_major": 2,
       "version_minor": 0
      },
      "text/plain": [
       "HBox(children=(IntProgress(value=0, max=2), HTML(value='')))"
      ]
     },
     "metadata": {},
     "output_type": "display_data"
    },
    {
     "name": "stdout",
     "output_type": "stream",
     "text": [
      "tensor([1, 0, 0,  ..., 0, 0, 1], device='cuda:0')\n",
      "tensor([1, 0, 0,  ..., 0, 0, 0], device='cuda:0')\n",
      "tensor([0, 0, 1,  ..., 5, 5, 5], device='cuda:0')\n",
      "Should stop\n",
      "\n"
     ]
    },
    {
     "data": {
      "application/vnd.jupyter.widget-view+json": {
       "model_id": "e8ae4144507f4025a13e12de81cef17f",
       "version_major": 2,
       "version_minor": 0
      },
      "text/plain": [
       "HBox(children=(IntProgress(value=0, max=20), HTML(value='')))"
      ]
     },
     "metadata": {},
     "output_type": "display_data"
    },
    {
     "name": "stdout",
     "output_type": "stream",
     "text": [
      "Should stop\n",
      "\n",
      "Epoch: 043 | Loss: 0.22568 | Tr_c: 0.98991 | Vl_c: 0.76611 | Vl_c_liketrn: 0.92807 | Vl_mrr: 0.61824 |Time: 0.085 min\n"
     ]
    },
    {
     "data": {
      "application/vnd.jupyter.widget-view+json": {
       "model_id": "776561342ac14340959b553879118bce",
       "version_major": 2,
       "version_minor": 0
      },
      "text/plain": [
       "HBox(children=(IntProgress(value=0, max=331), HTML(value='')))"
      ]
     },
     "metadata": {},
     "output_type": "display_data"
    },
    {
     "name": "stdout",
     "output_type": "stream",
     "text": [
      "Should stop\n",
      "\n"
     ]
    },
    {
     "data": {
      "application/vnd.jupyter.widget-view+json": {
       "model_id": "de7cea502ce441af8de5c3860b96c74e",
       "version_major": 2,
       "version_minor": 0
      },
      "text/plain": [
       "HBox(children=(IntProgress(value=0, max=2), HTML(value='')))"
      ]
     },
     "metadata": {},
     "output_type": "display_data"
    },
    {
     "name": "stdout",
     "output_type": "stream",
     "text": [
      "tensor([0, 0, 3,  ..., 0, 0, 0], device='cuda:0')\n",
      "tensor([0, 0, 1,  ..., 0, 1, 1], device='cuda:0')\n",
      "tensor([0, 0, 0,  ..., 5, 5, 5], device='cuda:0')\n",
      "Should stop\n",
      "\n"
     ]
    },
    {
     "data": {
      "application/vnd.jupyter.widget-view+json": {
       "model_id": "e19382b4dbff49f28df3a33d6701855e",
       "version_major": 2,
       "version_minor": 0
      },
      "text/plain": [
       "HBox(children=(IntProgress(value=0, max=20), HTML(value='')))"
      ]
     },
     "metadata": {},
     "output_type": "display_data"
    },
    {
     "name": "stdout",
     "output_type": "stream",
     "text": [
      "Should stop\n",
      "\n",
      "Epoch: 044 | Loss: 0.22507 | Tr_c: 0.99000 | Vl_c: 0.76733 | Vl_c_liketrn: 0.92825 | Vl_mrr: 0.61884 |Time: 0.078 min\n"
     ]
    },
    {
     "data": {
      "application/vnd.jupyter.widget-view+json": {
       "model_id": "c859fb5b2cf8401ba2099bbdebeb9544",
       "version_major": 2,
       "version_minor": 0
      },
      "text/plain": [
       "HBox(children=(IntProgress(value=0, max=331), HTML(value='')))"
      ]
     },
     "metadata": {},
     "output_type": "display_data"
    },
    {
     "name": "stdout",
     "output_type": "stream",
     "text": [
      "Should stop\n",
      "\n"
     ]
    },
    {
     "data": {
      "application/vnd.jupyter.widget-view+json": {
       "model_id": "53ce3671c77842edb75a244132b10fdc",
       "version_major": 2,
       "version_minor": 0
      },
      "text/plain": [
       "HBox(children=(IntProgress(value=0, max=2), HTML(value='')))"
      ]
     },
     "metadata": {},
     "output_type": "display_data"
    },
    {
     "name": "stdout",
     "output_type": "stream",
     "text": [
      "tensor([1, 1, 0,  ..., 0, 0, 3], device='cuda:0')\n",
      "tensor([0, 0, 1,  ..., 1, 1, 0], device='cuda:0')\n",
      "tensor([1, 0, 0,  ..., 5, 5, 5], device='cuda:0')\n",
      "Should stop\n",
      "\n"
     ]
    },
    {
     "data": {
      "application/vnd.jupyter.widget-view+json": {
       "model_id": "d2ca68e6c0234723bd5acdea0957bf88",
       "version_major": 2,
       "version_minor": 0
      },
      "text/plain": [
       "HBox(children=(IntProgress(value=0, max=20), HTML(value='')))"
      ]
     },
     "metadata": {},
     "output_type": "display_data"
    },
    {
     "name": "stdout",
     "output_type": "stream",
     "text": [
      "Should stop\n",
      "\n",
      "Epoch: 045 | Loss: 0.22476 | Tr_c: 0.99003 | Vl_c: 0.76554 | Vl_c_liketrn: 0.92886 | Vl_mrr: 0.61822 |Time: 0.084 min\n"
     ]
    },
    {
     "data": {
      "application/vnd.jupyter.widget-view+json": {
       "model_id": "19bc430ed21544d69bdd34cf74fac61c",
       "version_major": 2,
       "version_minor": 0
      },
      "text/plain": [
       "HBox(children=(IntProgress(value=0, max=331), HTML(value='')))"
      ]
     },
     "metadata": {},
     "output_type": "display_data"
    },
    {
     "name": "stdout",
     "output_type": "stream",
     "text": [
      "Should stop\n",
      "\n"
     ]
    },
    {
     "data": {
      "application/vnd.jupyter.widget-view+json": {
       "model_id": "4d6420022057418f89c06f3e706a18a9",
       "version_major": 2,
       "version_minor": 0
      },
      "text/plain": [
       "HBox(children=(IntProgress(value=0, max=2), HTML(value='')))"
      ]
     },
     "metadata": {},
     "output_type": "display_data"
    },
    {
     "name": "stdout",
     "output_type": "stream",
     "text": [
      "tensor([0, 0, 0,  ..., 0, 0, 0], device='cuda:0')\n",
      "tensor([2, 2, 1,  ..., 2, 0, 1], device='cuda:0')\n",
      "tensor([4, 2, 0,  ..., 5, 5, 5], device='cuda:0')\n",
      "Should stop\n",
      "\n"
     ]
    },
    {
     "data": {
      "application/vnd.jupyter.widget-view+json": {
       "model_id": "37ec81815dbb47388e47c4cf933b8679",
       "version_major": 2,
       "version_minor": 0
      },
      "text/plain": [
       "HBox(children=(IntProgress(value=0, max=20), HTML(value='')))"
      ]
     },
     "metadata": {},
     "output_type": "display_data"
    },
    {
     "name": "stdout",
     "output_type": "stream",
     "text": [
      "Should stop\n",
      "\n",
      "Epoch: 046 | Loss: 0.22410 | Tr_c: 0.99007 | Vl_c: 0.76506 | Vl_c_liketrn: 0.92789 | Vl_mrr: 0.61772 |Time: 0.078 min\n"
     ]
    },
    {
     "data": {
      "application/vnd.jupyter.widget-view+json": {
       "model_id": "d4c742680f52490b80608689ee2a6309",
       "version_major": 2,
       "version_minor": 0
      },
      "text/plain": [
       "HBox(children=(IntProgress(value=0, max=331), HTML(value='')))"
      ]
     },
     "metadata": {},
     "output_type": "display_data"
    },
    {
     "name": "stdout",
     "output_type": "stream",
     "text": [
      "Should stop\n",
      "\n"
     ]
    },
    {
     "data": {
      "application/vnd.jupyter.widget-view+json": {
       "model_id": "f6fe847a2f4c4283b3c8de8d3f556e51",
       "version_major": 2,
       "version_minor": 0
      },
      "text/plain": [
       "HBox(children=(IntProgress(value=0, max=2), HTML(value='')))"
      ]
     },
     "metadata": {},
     "output_type": "display_data"
    },
    {
     "name": "stdout",
     "output_type": "stream",
     "text": [
      "tensor([0, 0, 0,  ..., 0, 0, 0], device='cuda:0')\n",
      "tensor([0, 2, 0,  ..., 2, 0, 0], device='cuda:0')\n",
      "tensor([0, 1, 0,  ..., 5, 5, 5], device='cuda:0')\n",
      "Should stop\n",
      "\n"
     ]
    },
    {
     "data": {
      "application/vnd.jupyter.widget-view+json": {
       "model_id": "757b9a340ebb49e49c43a4c17f5d00cf",
       "version_major": 2,
       "version_minor": 0
      },
      "text/plain": [
       "HBox(children=(IntProgress(value=0, max=20), HTML(value='')))"
      ]
     },
     "metadata": {},
     "output_type": "display_data"
    },
    {
     "name": "stdout",
     "output_type": "stream",
     "text": [
      "Should stop\n",
      "\n",
      "Epoch: 047 | Loss: 0.22335 | Tr_c: 0.99011 | Vl_c: 0.76449 | Vl_c_liketrn: 0.92762 | Vl_mrr: 0.61735 |Time: 0.086 min\n"
     ]
    },
    {
     "data": {
      "application/vnd.jupyter.widget-view+json": {
       "model_id": "0976dd2ff19a474798d70166aeac3fc1",
       "version_major": 2,
       "version_minor": 0
      },
      "text/plain": [
       "HBox(children=(IntProgress(value=0, max=331), HTML(value='')))"
      ]
     },
     "metadata": {},
     "output_type": "display_data"
    },
    {
     "name": "stdout",
     "output_type": "stream",
     "text": [
      "Should stop\n",
      "\n"
     ]
    },
    {
     "data": {
      "application/vnd.jupyter.widget-view+json": {
       "model_id": "cb1104d011f841feb67abe67a3ad250d",
       "version_major": 2,
       "version_minor": 0
      },
      "text/plain": [
       "HBox(children=(IntProgress(value=0, max=2), HTML(value='')))"
      ]
     },
     "metadata": {},
     "output_type": "display_data"
    },
    {
     "name": "stdout",
     "output_type": "stream",
     "text": [
      "tensor([0, 2, 0,  ..., 5, 1, 0], device='cuda:0')\n",
      "tensor([5, 2, 0,  ..., 0, 0, 0], device='cuda:0')\n",
      "tensor([0, 0, 0,  ..., 5, 5, 5], device='cuda:0')\n",
      "Should stop\n",
      "\n"
     ]
    },
    {
     "data": {
      "application/vnd.jupyter.widget-view+json": {
       "model_id": "29ec6066b06f426b911db17fa8b9e0b3",
       "version_major": 2,
       "version_minor": 0
      },
      "text/plain": [
       "HBox(children=(IntProgress(value=0, max=20), HTML(value='')))"
      ]
     },
     "metadata": {},
     "output_type": "display_data"
    },
    {
     "name": "stdout",
     "output_type": "stream",
     "text": [
      "Should stop\n",
      "\n",
      "Epoch: 048 | Loss: 0.22291 | Tr_c: 0.99011 | Vl_c: 0.76668 | Vl_c_liketrn: 0.92823 | Vl_mrr: 0.61849 |Time: 0.095 min\n"
     ]
    },
    {
     "data": {
      "application/vnd.jupyter.widget-view+json": {
       "model_id": "78fff38e0b75404f905cbe5f6442d39f",
       "version_major": 2,
       "version_minor": 0
      },
      "text/plain": [
       "HBox(children=(IntProgress(value=0, max=331), HTML(value='')))"
      ]
     },
     "metadata": {},
     "output_type": "display_data"
    },
    {
     "name": "stdout",
     "output_type": "stream",
     "text": [
      "Should stop\n",
      "\n"
     ]
    },
    {
     "data": {
      "application/vnd.jupyter.widget-view+json": {
       "model_id": "eeba1baa0dbd481bbaf6c642120e8fc9",
       "version_major": 2,
       "version_minor": 0
      },
      "text/plain": [
       "HBox(children=(IntProgress(value=0, max=2), HTML(value='')))"
      ]
     },
     "metadata": {},
     "output_type": "display_data"
    },
    {
     "name": "stdout",
     "output_type": "stream",
     "text": [
      "tensor([0, 0, 0,  ..., 0, 4, 0], device='cuda:0')\n",
      "tensor([1, 0, 0,  ..., 1, 1, 1], device='cuda:0')\n",
      "tensor([1, 0, 3,  ..., 5, 5, 5], device='cuda:0')\n",
      "Should stop\n",
      "\n"
     ]
    },
    {
     "data": {
      "application/vnd.jupyter.widget-view+json": {
       "model_id": "480d92bc441642a78517912226b5bbaf",
       "version_major": 2,
       "version_minor": 0
      },
      "text/plain": [
       "HBox(children=(IntProgress(value=0, max=20), HTML(value='')))"
      ]
     },
     "metadata": {},
     "output_type": "display_data"
    },
    {
     "name": "stdout",
     "output_type": "stream",
     "text": [
      "Should stop\n",
      "\n",
      "Epoch: 049 | Loss: 0.22250 | Tr_c: 0.99021 | Vl_c: 0.76632 | Vl_c_liketrn: 0.92765 | Vl_mrr: 0.61809 |Time: 0.080 min\n"
     ]
    },
    {
     "data": {
      "application/vnd.jupyter.widget-view+json": {
       "model_id": "abb6d35665ff4412bfb3c7224522ded0",
       "version_major": 2,
       "version_minor": 0
      },
      "text/plain": [
       "HBox(children=(IntProgress(value=0, max=331), HTML(value='')))"
      ]
     },
     "metadata": {},
     "output_type": "display_data"
    },
    {
     "name": "stdout",
     "output_type": "stream",
     "text": [
      "Should stop\n",
      "\n"
     ]
    },
    {
     "data": {
      "application/vnd.jupyter.widget-view+json": {
       "model_id": "0e7ed67e4d754b718907a0b5a651c972",
       "version_major": 2,
       "version_minor": 0
      },
      "text/plain": [
       "HBox(children=(IntProgress(value=0, max=2), HTML(value='')))"
      ]
     },
     "metadata": {},
     "output_type": "display_data"
    },
    {
     "name": "stdout",
     "output_type": "stream",
     "text": [
      "tensor([0, 0, 0,  ..., 0, 0, 0], device='cuda:0')\n",
      "tensor([1, 2, 0,  ..., 0, 1, 0], device='cuda:0')\n",
      "tensor([0, 0, 0,  ..., 5, 5, 5], device='cuda:0')\n",
      "Should stop\n",
      "\n"
     ]
    },
    {
     "data": {
      "application/vnd.jupyter.widget-view+json": {
       "model_id": "2f9113ae3e1d4cb68ff0a2e517d2e7bb",
       "version_major": 2,
       "version_minor": 0
      },
      "text/plain": [
       "HBox(children=(IntProgress(value=0, max=20), HTML(value='')))"
      ]
     },
     "metadata": {},
     "output_type": "display_data"
    },
    {
     "name": "stdout",
     "output_type": "stream",
     "text": [
      "Should stop\n",
      "\n",
      "Epoch: 050 | Loss: 0.22204 | Tr_c: 0.99017 | Vl_c: 0.76562 | Vl_c_liketrn: 0.92789 | Vl_mrr: 0.61791 |Time: 0.080 min\n"
     ]
    },
    {
     "data": {
      "application/vnd.jupyter.widget-view+json": {
       "model_id": "56e4b6111c224e16af2f46c35345e949",
       "version_major": 2,
       "version_minor": 0
      },
      "text/plain": [
       "HBox(children=(IntProgress(value=0, max=331), HTML(value='')))"
      ]
     },
     "metadata": {},
     "output_type": "display_data"
    },
    {
     "name": "stdout",
     "output_type": "stream",
     "text": [
      "Should stop\n",
      "\n"
     ]
    },
    {
     "data": {
      "application/vnd.jupyter.widget-view+json": {
       "model_id": "b0c92d516f1b4fe29ee9e24b676c83da",
       "version_major": 2,
       "version_minor": 0
      },
      "text/plain": [
       "HBox(children=(IntProgress(value=0, max=2), HTML(value='')))"
      ]
     },
     "metadata": {},
     "output_type": "display_data"
    },
    {
     "name": "stdout",
     "output_type": "stream",
     "text": [
      "tensor([5, 2, 0,  ..., 5, 1, 1], device='cuda:0')\n",
      "tensor([0, 0, 0,  ..., 0, 1, 0], device='cuda:0')\n",
      "tensor([0, 0, 1,  ..., 5, 5, 5], device='cuda:0')\n",
      "Should stop\n",
      "\n"
     ]
    },
    {
     "data": {
      "application/vnd.jupyter.widget-view+json": {
       "model_id": "6d1ae22c9780479b9092c376cf106dea",
       "version_major": 2,
       "version_minor": 0
      },
      "text/plain": [
       "HBox(children=(IntProgress(value=0, max=20), HTML(value='')))"
      ]
     },
     "metadata": {},
     "output_type": "display_data"
    },
    {
     "name": "stdout",
     "output_type": "stream",
     "text": [
      "Should stop\n",
      "\n",
      "Epoch: 051 | Loss: 0.22153 | Tr_c: 0.99023 | Vl_c: 0.76754 | Vl_c_liketrn: 0.92768 | Vl_mrr: 0.61881 |Time: 0.078 min\n"
     ]
    },
    {
     "data": {
      "application/vnd.jupyter.widget-view+json": {
       "model_id": "bc586f260b58436da22608f78d600614",
       "version_major": 2,
       "version_minor": 0
      },
      "text/plain": [
       "HBox(children=(IntProgress(value=0, max=331), HTML(value='')))"
      ]
     },
     "metadata": {},
     "output_type": "display_data"
    },
    {
     "name": "stdout",
     "output_type": "stream",
     "text": [
      "Should stop\n",
      "\n"
     ]
    },
    {
     "data": {
      "application/vnd.jupyter.widget-view+json": {
       "model_id": "cdb4f741aec9401aafc6f96d1d5ebddc",
       "version_major": 2,
       "version_minor": 0
      },
      "text/plain": [
       "HBox(children=(IntProgress(value=0, max=2), HTML(value='')))"
      ]
     },
     "metadata": {},
     "output_type": "display_data"
    },
    {
     "name": "stdout",
     "output_type": "stream",
     "text": [
      "tensor([0, 1, 0,  ..., 0, 0, 2], device='cuda:0')\n",
      "tensor([1, 0, 1,  ..., 1, 1, 0], device='cuda:0')\n",
      "tensor([0, 1, 0,  ..., 5, 5, 5], device='cuda:0')\n",
      "Should stop\n",
      "\n"
     ]
    },
    {
     "data": {
      "application/vnd.jupyter.widget-view+json": {
       "model_id": "c1a31feef5064894a508d86067272a8b",
       "version_major": 2,
       "version_minor": 0
      },
      "text/plain": [
       "HBox(children=(IntProgress(value=0, max=20), HTML(value='')))"
      ]
     },
     "metadata": {},
     "output_type": "display_data"
    },
    {
     "name": "stdout",
     "output_type": "stream",
     "text": [
      "Should stop\n",
      "\n",
      "Epoch: 052 | Loss: 0.22115 | Tr_c: 0.99027 | Vl_c: 0.76624 | Vl_c_liketrn: 0.92795 | Vl_mrr: 0.61806 |Time: 0.082 min\n"
     ]
    },
    {
     "data": {
      "application/vnd.jupyter.widget-view+json": {
       "model_id": "1dea53e79b9c4275af0763d8263601a1",
       "version_major": 2,
       "version_minor": 0
      },
      "text/plain": [
       "HBox(children=(IntProgress(value=0, max=331), HTML(value='')))"
      ]
     },
     "metadata": {},
     "output_type": "display_data"
    },
    {
     "name": "stdout",
     "output_type": "stream",
     "text": [
      "Should stop\n",
      "\n"
     ]
    },
    {
     "data": {
      "application/vnd.jupyter.widget-view+json": {
       "model_id": "b1dd433e5e2046f59105a9d2e9cd9b9b",
       "version_major": 2,
       "version_minor": 0
      },
      "text/plain": [
       "HBox(children=(IntProgress(value=0, max=2), HTML(value='')))"
      ]
     },
     "metadata": {},
     "output_type": "display_data"
    },
    {
     "name": "stdout",
     "output_type": "stream",
     "text": [
      "tensor([2, 0, 1,  ..., 0, 0, 0], device='cuda:0')\n",
      "tensor([0, 0, 1,  ..., 0, 0, 0], device='cuda:0')\n",
      "tensor([1, 0, 0,  ..., 5, 5, 5], device='cuda:0')\n",
      "Should stop\n",
      "\n"
     ]
    },
    {
     "data": {
      "application/vnd.jupyter.widget-view+json": {
       "model_id": "1b1c1e856c2f42faa53f9e202c85101e",
       "version_major": 2,
       "version_minor": 0
      },
      "text/plain": [
       "HBox(children=(IntProgress(value=0, max=20), HTML(value='')))"
      ]
     },
     "metadata": {},
     "output_type": "display_data"
    },
    {
     "name": "stdout",
     "output_type": "stream",
     "text": [
      "Should stop\n",
      "\n",
      "Epoch: 053 | Loss: 0.22067 | Tr_c: 0.99032 | Vl_c: 0.76680 | Vl_c_liketrn: 0.92811 | Vl_mrr: 0.61861 |Time: 0.081 min\n"
     ]
    },
    {
     "data": {
      "application/vnd.jupyter.widget-view+json": {
       "model_id": "731d885c95e74be59eb796841aff1326",
       "version_major": 2,
       "version_minor": 0
      },
      "text/plain": [
       "HBox(children=(IntProgress(value=0, max=331), HTML(value='')))"
      ]
     },
     "metadata": {},
     "output_type": "display_data"
    },
    {
     "name": "stdout",
     "output_type": "stream",
     "text": [
      "Should stop\n",
      "\n"
     ]
    },
    {
     "data": {
      "application/vnd.jupyter.widget-view+json": {
       "model_id": "c33c0b2b60da4462898f1811f695b9b1",
       "version_major": 2,
       "version_minor": 0
      },
      "text/plain": [
       "HBox(children=(IntProgress(value=0, max=2), HTML(value='')))"
      ]
     },
     "metadata": {},
     "output_type": "display_data"
    },
    {
     "name": "stdout",
     "output_type": "stream",
     "text": [
      "tensor([0, 1, 0,  ..., 0, 0, 0], device='cuda:0')\n",
      "tensor([1, 0, 0,  ..., 1, 0, 2], device='cuda:0')\n",
      "tensor([0, 0, 4,  ..., 5, 5, 5], device='cuda:0')\n",
      "Should stop\n",
      "\n"
     ]
    },
    {
     "data": {
      "application/vnd.jupyter.widget-view+json": {
       "model_id": "3576376957724e588653e9139c4cdfb7",
       "version_major": 2,
       "version_minor": 0
      },
      "text/plain": [
       "HBox(children=(IntProgress(value=0, max=20), HTML(value='')))"
      ]
     },
     "metadata": {},
     "output_type": "display_data"
    },
    {
     "name": "stdout",
     "output_type": "stream",
     "text": [
      "Should stop\n",
      "\n",
      "Epoch: 054 | Loss: 0.22037 | Tr_c: 0.99037 | Vl_c: 0.76644 | Vl_c_liketrn: 0.92813 | Vl_mrr: 0.61861 |Time: 0.086 min\n"
     ]
    },
    {
     "data": {
      "application/vnd.jupyter.widget-view+json": {
       "model_id": "35be1f7f22e745468e88c97e389ec240",
       "version_major": 2,
       "version_minor": 0
      },
      "text/plain": [
       "HBox(children=(IntProgress(value=0, max=331), HTML(value='')))"
      ]
     },
     "metadata": {},
     "output_type": "display_data"
    },
    {
     "name": "stdout",
     "output_type": "stream",
     "text": [
      "Should stop\n",
      "\n"
     ]
    },
    {
     "data": {
      "application/vnd.jupyter.widget-view+json": {
       "model_id": "a5bb6899b72a4f418ad6e7601a805c04",
       "version_major": 2,
       "version_minor": 0
      },
      "text/plain": [
       "HBox(children=(IntProgress(value=0, max=2), HTML(value='')))"
      ]
     },
     "metadata": {},
     "output_type": "display_data"
    },
    {
     "name": "stdout",
     "output_type": "stream",
     "text": [
      "tensor([0, 1, 0,  ..., 5, 2, 0], device='cuda:0')\n",
      "tensor([0, 0, 0,  ..., 3, 0, 0], device='cuda:0')\n",
      "tensor([0, 0, 1,  ..., 5, 5, 5], device='cuda:0')\n",
      "Should stop\n",
      "\n"
     ]
    },
    {
     "data": {
      "application/vnd.jupyter.widget-view+json": {
       "model_id": "1925a9c8fac04ecaa17d6dfbd1b29ec4",
       "version_major": 2,
       "version_minor": 0
      },
      "text/plain": [
       "HBox(children=(IntProgress(value=0, max=20), HTML(value='')))"
      ]
     },
     "metadata": {},
     "output_type": "display_data"
    },
    {
     "name": "stdout",
     "output_type": "stream",
     "text": [
      "Should stop\n",
      "\n",
      "Epoch: 055 | Loss: 0.21989 | Tr_c: 0.99036 | Vl_c: 0.76729 | Vl_c_liketrn: 0.92825 | Vl_mrr: 0.61877 |Time: 0.085 min\n"
     ]
    },
    {
     "data": {
      "application/vnd.jupyter.widget-view+json": {
       "model_id": "41328fd6ef15463ea6816ed469e01f91",
       "version_major": 2,
       "version_minor": 0
      },
      "text/plain": [
       "HBox(children=(IntProgress(value=0, max=331), HTML(value='')))"
      ]
     },
     "metadata": {},
     "output_type": "display_data"
    },
    {
     "name": "stdout",
     "output_type": "stream",
     "text": [
      "Should stop\n",
      "\n"
     ]
    },
    {
     "data": {
      "application/vnd.jupyter.widget-view+json": {
       "model_id": "87ee109e60a24cc084fbe6c1045b69cd",
       "version_major": 2,
       "version_minor": 0
      },
      "text/plain": [
       "HBox(children=(IntProgress(value=0, max=2), HTML(value='')))"
      ]
     },
     "metadata": {},
     "output_type": "display_data"
    },
    {
     "name": "stdout",
     "output_type": "stream",
     "text": [
      "tensor([0, 0, 2,  ..., 0, 1, 0], device='cuda:0')\n",
      "tensor([0, 0, 0,  ..., 2, 0, 6], device='cuda:0')\n",
      "tensor([0, 0, 4,  ..., 5, 5, 5], device='cuda:0')\n",
      "Should stop\n",
      "\n"
     ]
    },
    {
     "data": {
      "application/vnd.jupyter.widget-view+json": {
       "model_id": "3c08663ab896450eb3375851e7007cef",
       "version_major": 2,
       "version_minor": 0
      },
      "text/plain": [
       "HBox(children=(IntProgress(value=0, max=20), HTML(value='')))"
      ]
     },
     "metadata": {},
     "output_type": "display_data"
    },
    {
     "name": "stdout",
     "output_type": "stream",
     "text": [
      "Should stop\n",
      "\n",
      "Epoch: 056 | Loss: 0.21937 | Tr_c: 0.99039 | Vl_c: 0.76689 | Vl_c_liketrn: 0.92766 | Vl_mrr: 0.61838 |Time: 0.080 min\n"
     ]
    },
    {
     "data": {
      "application/vnd.jupyter.widget-view+json": {
       "model_id": "6cbc6e6a45994a4e8e006b6e21ae3716",
       "version_major": 2,
       "version_minor": 0
      },
      "text/plain": [
       "HBox(children=(IntProgress(value=0, max=331), HTML(value='')))"
      ]
     },
     "metadata": {},
     "output_type": "display_data"
    },
    {
     "name": "stdout",
     "output_type": "stream",
     "text": [
      "Should stop\n",
      "\n"
     ]
    },
    {
     "data": {
      "application/vnd.jupyter.widget-view+json": {
       "model_id": "e9b19a6a278f4b76a892b22ecde7035e",
       "version_major": 2,
       "version_minor": 0
      },
      "text/plain": [
       "HBox(children=(IntProgress(value=0, max=2), HTML(value='')))"
      ]
     },
     "metadata": {},
     "output_type": "display_data"
    },
    {
     "name": "stdout",
     "output_type": "stream",
     "text": [
      "tensor([0, 0, 0,  ..., 0, 0, 2], device='cuda:0')\n",
      "tensor([0, 2, 1,  ..., 1, 0, 0], device='cuda:0')\n",
      "tensor([0, 0, 2,  ..., 5, 5, 5], device='cuda:0')\n",
      "Should stop\n",
      "\n"
     ]
    },
    {
     "data": {
      "application/vnd.jupyter.widget-view+json": {
       "model_id": "f66a8266985a4d75a544c2962da367f7",
       "version_major": 2,
       "version_minor": 0
      },
      "text/plain": [
       "HBox(children=(IntProgress(value=0, max=20), HTML(value='')))"
      ]
     },
     "metadata": {},
     "output_type": "display_data"
    },
    {
     "name": "stdout",
     "output_type": "stream",
     "text": [
      "Should stop\n",
      "\n",
      "Epoch: 057 | Loss: 0.21918 | Tr_c: 0.99039 | Vl_c: 0.76742 | Vl_c_liketrn: 0.92824 | Vl_mrr: 0.61897 |Time: 0.078 min\n"
     ]
    },
    {
     "data": {
      "application/vnd.jupyter.widget-view+json": {
       "model_id": "91887c06ba5e4a79bc7c7829e040e37d",
       "version_major": 2,
       "version_minor": 0
      },
      "text/plain": [
       "HBox(children=(IntProgress(value=0, max=331), HTML(value='')))"
      ]
     },
     "metadata": {},
     "output_type": "display_data"
    },
    {
     "name": "stdout",
     "output_type": "stream",
     "text": [
      "Should stop\n",
      "\n"
     ]
    },
    {
     "data": {
      "application/vnd.jupyter.widget-view+json": {
       "model_id": "9487ca4502394d30a76622d0d2e2c328",
       "version_major": 2,
       "version_minor": 0
      },
      "text/plain": [
       "HBox(children=(IntProgress(value=0, max=2), HTML(value='')))"
      ]
     },
     "metadata": {},
     "output_type": "display_data"
    },
    {
     "name": "stdout",
     "output_type": "stream",
     "text": [
      "tensor([2, 2, 0,  ..., 0, 1, 1], device='cuda:0')\n",
      "tensor([1, 4, 0,  ..., 0, 1, 1], device='cuda:0')\n",
      "tensor([0, 0, 0,  ..., 5, 5, 5], device='cuda:0')\n",
      "Should stop\n",
      "\n"
     ]
    },
    {
     "data": {
      "application/vnd.jupyter.widget-view+json": {
       "model_id": "3ccb976f7de24d22a2e407b8acc9ee2a",
       "version_major": 2,
       "version_minor": 0
      },
      "text/plain": [
       "HBox(children=(IntProgress(value=0, max=20), HTML(value='')))"
      ]
     },
     "metadata": {},
     "output_type": "display_data"
    },
    {
     "name": "stdout",
     "output_type": "stream",
     "text": [
      "Should stop\n",
      "\n",
      "Epoch: 058 | Loss: 0.21882 | Tr_c: 0.99045 | Vl_c: 0.76615 | Vl_c_liketrn: 0.92775 | Vl_mrr: 0.61824 |Time: 0.081 min\n"
     ]
    },
    {
     "data": {
      "application/vnd.jupyter.widget-view+json": {
       "model_id": "3c3f41b88ec84616b51cc9d30b60bfa5",
       "version_major": 2,
       "version_minor": 0
      },
      "text/plain": [
       "HBox(children=(IntProgress(value=0, max=331), HTML(value='')))"
      ]
     },
     "metadata": {},
     "output_type": "display_data"
    },
    {
     "name": "stdout",
     "output_type": "stream",
     "text": [
      "Should stop\n",
      "\n"
     ]
    },
    {
     "data": {
      "application/vnd.jupyter.widget-view+json": {
       "model_id": "b952f27e13fd4de8a2ab8e2f05967f5c",
       "version_major": 2,
       "version_minor": 0
      },
      "text/plain": [
       "HBox(children=(IntProgress(value=0, max=2), HTML(value='')))"
      ]
     },
     "metadata": {},
     "output_type": "display_data"
    },
    {
     "name": "stdout",
     "output_type": "stream",
     "text": [
      "tensor([0, 0, 2,  ..., 1, 0, 0], device='cuda:0')\n",
      "tensor([0, 2, 0,  ..., 0, 1, 0], device='cuda:0')\n",
      "tensor([0, 0, 0,  ..., 5, 5, 5], device='cuda:0')\n",
      "Should stop\n",
      "\n"
     ]
    },
    {
     "data": {
      "application/vnd.jupyter.widget-view+json": {
       "model_id": "9746908ded654e0e9f17a0a162883240",
       "version_major": 2,
       "version_minor": 0
      },
      "text/plain": [
       "HBox(children=(IntProgress(value=0, max=20), HTML(value='')))"
      ]
     },
     "metadata": {},
     "output_type": "display_data"
    },
    {
     "name": "stdout",
     "output_type": "stream",
     "text": [
      "Should stop\n",
      "\n",
      "Epoch: 059 | Loss: 0.21848 | Tr_c: 0.99049 | Vl_c: 0.76729 | Vl_c_liketrn: 0.92841 | Vl_mrr: 0.61883 |Time: 0.085 min\n"
     ]
    },
    {
     "data": {
      "application/vnd.jupyter.widget-view+json": {
       "model_id": "2bd4d56b986e479ca9f8c5db42980861",
       "version_major": 2,
       "version_minor": 0
      },
      "text/plain": [
       "HBox(children=(IntProgress(value=0, max=331), HTML(value='')))"
      ]
     },
     "metadata": {},
     "output_type": "display_data"
    },
    {
     "name": "stdout",
     "output_type": "stream",
     "text": [
      "Should stop\n",
      "\n"
     ]
    },
    {
     "data": {
      "application/vnd.jupyter.widget-view+json": {
       "model_id": "25f3ad029a2b4b848c54cfac0e57ed90",
       "version_major": 2,
       "version_minor": 0
      },
      "text/plain": [
       "HBox(children=(IntProgress(value=0, max=2), HTML(value='')))"
      ]
     },
     "metadata": {},
     "output_type": "display_data"
    },
    {
     "name": "stdout",
     "output_type": "stream",
     "text": [
      "tensor([2, 0, 0,  ..., 0, 1, 1], device='cuda:0')\n",
      "tensor([0, 0, 1,  ..., 0, 2, 0], device='cuda:0')\n",
      "tensor([3, 0, 0,  ..., 5, 5, 5], device='cuda:0')\n",
      "Should stop\n",
      "\n"
     ]
    },
    {
     "data": {
      "application/vnd.jupyter.widget-view+json": {
       "model_id": "e1a4dc04e91f4527b59c57c58f7793c6",
       "version_major": 2,
       "version_minor": 0
      },
      "text/plain": [
       "HBox(children=(IntProgress(value=0, max=20), HTML(value='')))"
      ]
     },
     "metadata": {},
     "output_type": "display_data"
    },
    {
     "name": "stdout",
     "output_type": "stream",
     "text": [
      "Should stop\n",
      "\n",
      "Epoch: 060 | Loss: 0.21785 | Tr_c: 0.99047 | Vl_c: 0.76668 | Vl_c_liketrn: 0.92788 | Vl_mrr: 0.61829 |Time: 0.082 min\n"
     ]
    },
    {
     "data": {
      "application/vnd.jupyter.widget-view+json": {
       "model_id": "6eccc3f89a674754ba87797e4f691fd7",
       "version_major": 2,
       "version_minor": 0
      },
      "text/plain": [
       "HBox(children=(IntProgress(value=0, max=331), HTML(value='')))"
      ]
     },
     "metadata": {},
     "output_type": "display_data"
    },
    {
     "name": "stdout",
     "output_type": "stream",
     "text": [
      "Should stop\n",
      "\n"
     ]
    },
    {
     "data": {
      "application/vnd.jupyter.widget-view+json": {
       "model_id": "07cb9fab868c4ed8a9763cd2c9a91b17",
       "version_major": 2,
       "version_minor": 0
      },
      "text/plain": [
       "HBox(children=(IntProgress(value=0, max=2), HTML(value='')))"
      ]
     },
     "metadata": {},
     "output_type": "display_data"
    },
    {
     "name": "stdout",
     "output_type": "stream",
     "text": [
      "tensor([1, 0, 6,  ..., 0, 0, 2], device='cuda:0')\n",
      "tensor([0, 2, 1,  ..., 0, 0, 0], device='cuda:0')\n",
      "tensor([2, 2, 0,  ..., 5, 5, 5], device='cuda:0')\n",
      "Should stop\n",
      "\n"
     ]
    },
    {
     "data": {
      "application/vnd.jupyter.widget-view+json": {
       "model_id": "d663981ac29946358cb275c2989eb553",
       "version_major": 2,
       "version_minor": 0
      },
      "text/plain": [
       "HBox(children=(IntProgress(value=0, max=20), HTML(value='')))"
      ]
     },
     "metadata": {},
     "output_type": "display_data"
    },
    {
     "name": "stdout",
     "output_type": "stream",
     "text": [
      "Should stop\n",
      "\n",
      "Epoch: 061 | Loss: 0.21760 | Tr_c: 0.99053 | Vl_c: 0.76676 | Vl_c_liketrn: 0.92787 | Vl_mrr: 0.61848 |Time: 0.079 min\n"
     ]
    },
    {
     "data": {
      "application/vnd.jupyter.widget-view+json": {
       "model_id": "fc332bc3cb144a76977ed96aadf97546",
       "version_major": 2,
       "version_minor": 0
      },
      "text/plain": [
       "HBox(children=(IntProgress(value=0, max=331), HTML(value='')))"
      ]
     },
     "metadata": {},
     "output_type": "display_data"
    },
    {
     "name": "stdout",
     "output_type": "stream",
     "text": [
      "Should stop\n",
      "\n"
     ]
    },
    {
     "data": {
      "application/vnd.jupyter.widget-view+json": {
       "model_id": "ef69103f0cf742c2820c2edac067a5f3",
       "version_major": 2,
       "version_minor": 0
      },
      "text/plain": [
       "HBox(children=(IntProgress(value=0, max=2), HTML(value='')))"
      ]
     },
     "metadata": {},
     "output_type": "display_data"
    },
    {
     "name": "stdout",
     "output_type": "stream",
     "text": [
      "tensor([0, 0, 1,  ..., 0, 1, 0], device='cuda:0')\n",
      "tensor([0, 0, 2,  ..., 0, 0, 1], device='cuda:0')\n",
      "tensor([0, 0, 1,  ..., 5, 5, 5], device='cuda:0')\n",
      "Should stop\n",
      "\n"
     ]
    },
    {
     "data": {
      "application/vnd.jupyter.widget-view+json": {
       "model_id": "aa91766ff5294a5bb1ffc7185ee0a2aa",
       "version_major": 2,
       "version_minor": 0
      },
      "text/plain": [
       "HBox(children=(IntProgress(value=0, max=20), HTML(value='')))"
      ]
     },
     "metadata": {},
     "output_type": "display_data"
    },
    {
     "name": "stdout",
     "output_type": "stream",
     "text": [
      "Should stop\n",
      "\n",
      "Epoch: 062 | Loss: 0.21742 | Tr_c: 0.99050 | Vl_c: 0.76949 | Vl_c_liketrn: 0.92794 | Vl_mrr: 0.61975 |Time: 0.080 min\n"
     ]
    },
    {
     "data": {
      "application/vnd.jupyter.widget-view+json": {
       "model_id": "e8fe80c2afe340dbaecc2513eafab701",
       "version_major": 2,
       "version_minor": 0
      },
      "text/plain": [
       "HBox(children=(IntProgress(value=0, max=331), HTML(value='')))"
      ]
     },
     "metadata": {},
     "output_type": "display_data"
    },
    {
     "name": "stdout",
     "output_type": "stream",
     "text": [
      "Should stop\n",
      "\n"
     ]
    },
    {
     "data": {
      "application/vnd.jupyter.widget-view+json": {
       "model_id": "18577f4bcf284fc589f4b898eb6bf89d",
       "version_major": 2,
       "version_minor": 0
      },
      "text/plain": [
       "HBox(children=(IntProgress(value=0, max=2), HTML(value='')))"
      ]
     },
     "metadata": {},
     "output_type": "display_data"
    },
    {
     "name": "stdout",
     "output_type": "stream",
     "text": [
      "tensor([0, 0, 0,  ..., 0, 3, 0], device='cuda:0')\n",
      "tensor([0, 0, 0,  ..., 4, 0, 0], device='cuda:0')\n",
      "tensor([0, 0, 0,  ..., 5, 5, 5], device='cuda:0')\n",
      "Should stop\n",
      "\n"
     ]
    },
    {
     "data": {
      "application/vnd.jupyter.widget-view+json": {
       "model_id": "327e3742baff41dfbf68032e800d786d",
       "version_major": 2,
       "version_minor": 0
      },
      "text/plain": [
       "HBox(children=(IntProgress(value=0, max=20), HTML(value='')))"
      ]
     },
     "metadata": {},
     "output_type": "display_data"
    },
    {
     "name": "stdout",
     "output_type": "stream",
     "text": [
      "Should stop\n",
      "\n",
      "Epoch: 063 | Loss: 0.21689 | Tr_c: 0.99055 | Vl_c: 0.76737 | Vl_c_liketrn: 0.92794 | Vl_mrr: 0.61865 |Time: 0.082 min\n"
     ]
    },
    {
     "data": {
      "application/vnd.jupyter.widget-view+json": {
       "model_id": "29865e72168145caabb7c79b9dd97d55",
       "version_major": 2,
       "version_minor": 0
      },
      "text/plain": [
       "HBox(children=(IntProgress(value=0, max=331), HTML(value='')))"
      ]
     },
     "metadata": {},
     "output_type": "display_data"
    },
    {
     "name": "stdout",
     "output_type": "stream",
     "text": [
      "Should stop\n",
      "\n"
     ]
    },
    {
     "data": {
      "application/vnd.jupyter.widget-view+json": {
       "model_id": "b4b73b2e5bd542f2abedea041a3b4277",
       "version_major": 2,
       "version_minor": 0
      },
      "text/plain": [
       "HBox(children=(IntProgress(value=0, max=2), HTML(value='')))"
      ]
     },
     "metadata": {},
     "output_type": "display_data"
    },
    {
     "name": "stdout",
     "output_type": "stream",
     "text": [
      "tensor([2, 0, 0,  ..., 0, 0, 1], device='cuda:0')\n",
      "tensor([8, 0, 0,  ..., 0, 0, 0], device='cuda:0')\n",
      "tensor([0, 0, 0,  ..., 5, 5, 5], device='cuda:0')\n",
      "Should stop\n",
      "\n"
     ]
    },
    {
     "data": {
      "application/vnd.jupyter.widget-view+json": {
       "model_id": "520cc2aebeca48068c7af62bb93788fe",
       "version_major": 2,
       "version_minor": 0
      },
      "text/plain": [
       "HBox(children=(IntProgress(value=0, max=20), HTML(value='')))"
      ]
     },
     "metadata": {},
     "output_type": "display_data"
    },
    {
     "name": "stdout",
     "output_type": "stream",
     "text": [
      "Should stop\n",
      "\n",
      "Epoch: 064 | Loss: 0.21686 | Tr_c: 0.99058 | Vl_c: 0.76831 | Vl_c_liketrn: 0.92773 | Vl_mrr: 0.61923 |Time: 0.076 min\n"
     ]
    },
    {
     "data": {
      "application/vnd.jupyter.widget-view+json": {
       "model_id": "512d6dcf80fd4f82a3e2072639384675",
       "version_major": 2,
       "version_minor": 0
      },
      "text/plain": [
       "HBox(children=(IntProgress(value=0, max=331), HTML(value='')))"
      ]
     },
     "metadata": {},
     "output_type": "display_data"
    },
    {
     "name": "stdout",
     "output_type": "stream",
     "text": [
      "Should stop\n",
      "\n"
     ]
    },
    {
     "data": {
      "application/vnd.jupyter.widget-view+json": {
       "model_id": "b196d5c0f6834089a40afc09aec9b454",
       "version_major": 2,
       "version_minor": 0
      },
      "text/plain": [
       "HBox(children=(IntProgress(value=0, max=2), HTML(value='')))"
      ]
     },
     "metadata": {},
     "output_type": "display_data"
    },
    {
     "name": "stdout",
     "output_type": "stream",
     "text": [
      "tensor([0, 2, 0,  ..., 0, 0, 0], device='cuda:0')\n",
      "tensor([0, 1, 1,  ..., 1, 0, 1], device='cuda:0')\n",
      "tensor([0, 0, 0,  ..., 5, 5, 5], device='cuda:0')\n",
      "Should stop\n",
      "\n"
     ]
    },
    {
     "data": {
      "application/vnd.jupyter.widget-view+json": {
       "model_id": "8b04d57bda224ff5ac4ebed4f101dd32",
       "version_major": 2,
       "version_minor": 0
      },
      "text/plain": [
       "HBox(children=(IntProgress(value=0, max=20), HTML(value='')))"
      ]
     },
     "metadata": {},
     "output_type": "display_data"
    },
    {
     "name": "stdout",
     "output_type": "stream",
     "text": [
      "Should stop\n",
      "\n",
      "Epoch: 065 | Loss: 0.21646 | Tr_c: 0.99058 | Vl_c: 0.76725 | Vl_c_liketrn: 0.92804 | Vl_mrr: 0.61879 |Time: 0.080 min\n"
     ]
    },
    {
     "data": {
      "application/vnd.jupyter.widget-view+json": {
       "model_id": "2277140b50704fd094e107bb5aea0a4e",
       "version_major": 2,
       "version_minor": 0
      },
      "text/plain": [
       "HBox(children=(IntProgress(value=0, max=331), HTML(value='')))"
      ]
     },
     "metadata": {},
     "output_type": "display_data"
    },
    {
     "name": "stdout",
     "output_type": "stream",
     "text": [
      "Should stop\n",
      "\n"
     ]
    },
    {
     "data": {
      "application/vnd.jupyter.widget-view+json": {
       "model_id": "5096a14275724b4282a1410fd567a8e0",
       "version_major": 2,
       "version_minor": 0
      },
      "text/plain": [
       "HBox(children=(IntProgress(value=0, max=2), HTML(value='')))"
      ]
     },
     "metadata": {},
     "output_type": "display_data"
    },
    {
     "name": "stdout",
     "output_type": "stream",
     "text": [
      "tensor([1, 5, 0,  ..., 0, 4, 0], device='cuda:0')\n",
      "tensor([0, 0, 0,  ..., 0, 1, 0], device='cuda:0')\n",
      "tensor([ 0, 10,  0,  ...,  5,  5,  5], device='cuda:0')\n",
      "Should stop\n",
      "\n"
     ]
    },
    {
     "data": {
      "application/vnd.jupyter.widget-view+json": {
       "model_id": "f7d423814f284b02acd8350ef1f1f062",
       "version_major": 2,
       "version_minor": 0
      },
      "text/plain": [
       "HBox(children=(IntProgress(value=0, max=20), HTML(value='')))"
      ]
     },
     "metadata": {},
     "output_type": "display_data"
    },
    {
     "name": "stdout",
     "output_type": "stream",
     "text": [
      "Should stop\n",
      "\n",
      "Epoch: 066 | Loss: 0.21625 | Tr_c: 0.99062 | Vl_c: 0.76770 | Vl_c_liketrn: 0.92809 | Vl_mrr: 0.61895 |Time: 0.084 min\n"
     ]
    },
    {
     "data": {
      "application/vnd.jupyter.widget-view+json": {
       "model_id": "68a2cc05a0914987beb1239a40ae82d9",
       "version_major": 2,
       "version_minor": 0
      },
      "text/plain": [
       "HBox(children=(IntProgress(value=0, max=331), HTML(value='')))"
      ]
     },
     "metadata": {},
     "output_type": "display_data"
    },
    {
     "name": "stdout",
     "output_type": "stream",
     "text": [
      "Should stop\n",
      "\n"
     ]
    },
    {
     "data": {
      "application/vnd.jupyter.widget-view+json": {
       "model_id": "9c2032f562a749e8972e2e0458f06570",
       "version_major": 2,
       "version_minor": 0
      },
      "text/plain": [
       "HBox(children=(IntProgress(value=0, max=2), HTML(value='')))"
      ]
     },
     "metadata": {},
     "output_type": "display_data"
    },
    {
     "name": "stdout",
     "output_type": "stream",
     "text": [
      "tensor([1, 0, 0,  ..., 0, 1, 0], device='cuda:0')\n",
      "tensor([0, 1, 0,  ..., 0, 2, 0], device='cuda:0')\n",
      "tensor([2, 0, 4,  ..., 5, 5, 5], device='cuda:0')\n",
      "Should stop\n",
      "\n"
     ]
    },
    {
     "data": {
      "application/vnd.jupyter.widget-view+json": {
       "model_id": "e7fb5a07189c44cba05ccde7000a67f6",
       "version_major": 2,
       "version_minor": 0
      },
      "text/plain": [
       "HBox(children=(IntProgress(value=0, max=20), HTML(value='')))"
      ]
     },
     "metadata": {},
     "output_type": "display_data"
    },
    {
     "name": "stdout",
     "output_type": "stream",
     "text": [
      "Should stop\n",
      "\n",
      "Epoch: 067 | Loss: 0.21595 | Tr_c: 0.99064 | Vl_c: 0.76754 | Vl_c_liketrn: 0.92826 | Vl_mrr: 0.61897 |Time: 0.082 min\n"
     ]
    },
    {
     "data": {
      "application/vnd.jupyter.widget-view+json": {
       "model_id": "e4743cb14e674de7b522315978eaca75",
       "version_major": 2,
       "version_minor": 0
      },
      "text/plain": [
       "HBox(children=(IntProgress(value=0, max=331), HTML(value='')))"
      ]
     },
     "metadata": {},
     "output_type": "display_data"
    },
    {
     "name": "stdout",
     "output_type": "stream",
     "text": [
      "Should stop\n",
      "\n"
     ]
    },
    {
     "data": {
      "application/vnd.jupyter.widget-view+json": {
       "model_id": "f6fbd0648b8f43caa0d133d0b4916610",
       "version_major": 2,
       "version_minor": 0
      },
      "text/plain": [
       "HBox(children=(IntProgress(value=0, max=2), HTML(value='')))"
      ]
     },
     "metadata": {},
     "output_type": "display_data"
    },
    {
     "name": "stdout",
     "output_type": "stream",
     "text": [
      "tensor([0, 0, 0,  ..., 0, 0, 0], device='cuda:0')\n",
      "tensor([1, 1, 0,  ..., 0, 1, 0], device='cuda:0')\n",
      "tensor([0, 0, 0,  ..., 5, 5, 5], device='cuda:0')\n",
      "Should stop\n",
      "\n"
     ]
    },
    {
     "data": {
      "application/vnd.jupyter.widget-view+json": {
       "model_id": "db6f0c0f00424ebeae3c4066451e5eed",
       "version_major": 2,
       "version_minor": 0
      },
      "text/plain": [
       "HBox(children=(IntProgress(value=0, max=20), HTML(value='')))"
      ]
     },
     "metadata": {},
     "output_type": "display_data"
    },
    {
     "name": "stdout",
     "output_type": "stream",
     "text": [
      "Should stop\n",
      "\n",
      "Epoch: 068 | Loss: 0.21559 | Tr_c: 0.99070 | Vl_c: 0.76811 | Vl_c_liketrn: 0.92822 | Vl_mrr: 0.61929 |Time: 0.085 min\n"
     ]
    },
    {
     "data": {
      "application/vnd.jupyter.widget-view+json": {
       "model_id": "9971effc848d4a84b28ab021631fca44",
       "version_major": 2,
       "version_minor": 0
      },
      "text/plain": [
       "HBox(children=(IntProgress(value=0, max=331), HTML(value='')))"
      ]
     },
     "metadata": {},
     "output_type": "display_data"
    },
    {
     "name": "stdout",
     "output_type": "stream",
     "text": [
      "Should stop\n",
      "\n"
     ]
    },
    {
     "data": {
      "application/vnd.jupyter.widget-view+json": {
       "model_id": "bad5d1ba2d06468889c7c13137536b63",
       "version_major": 2,
       "version_minor": 0
      },
      "text/plain": [
       "HBox(children=(IntProgress(value=0, max=2), HTML(value='')))"
      ]
     },
     "metadata": {},
     "output_type": "display_data"
    },
    {
     "name": "stdout",
     "output_type": "stream",
     "text": [
      "tensor([1, 0, 0,  ..., 0, 1, 0], device='cuda:0')\n",
      "tensor([2, 0, 0,  ..., 1, 0, 0], device='cuda:0')\n",
      "tensor([2, 0, 0,  ..., 5, 5, 5], device='cuda:0')\n",
      "Should stop\n",
      "\n"
     ]
    },
    {
     "data": {
      "application/vnd.jupyter.widget-view+json": {
       "model_id": "d6cf980024744450b6db723b87c39764",
       "version_major": 2,
       "version_minor": 0
      },
      "text/plain": [
       "HBox(children=(IntProgress(value=0, max=20), HTML(value='')))"
      ]
     },
     "metadata": {},
     "output_type": "display_data"
    },
    {
     "name": "stdout",
     "output_type": "stream",
     "text": [
      "Should stop\n",
      "\n",
      "Epoch: 069 | Loss: 0.21548 | Tr_c: 0.99069 | Vl_c: 0.76689 | Vl_c_liketrn: 0.92781 | Vl_mrr: 0.61856 |Time: 0.080 min\n"
     ]
    },
    {
     "data": {
      "application/vnd.jupyter.widget-view+json": {
       "model_id": "fa4337b63e1849a6be083cb886d28c28",
       "version_major": 2,
       "version_minor": 0
      },
      "text/plain": [
       "HBox(children=(IntProgress(value=0, max=331), HTML(value='')))"
      ]
     },
     "metadata": {},
     "output_type": "display_data"
    },
    {
     "name": "stdout",
     "output_type": "stream",
     "text": [
      "Should stop\n",
      "\n"
     ]
    },
    {
     "data": {
      "application/vnd.jupyter.widget-view+json": {
       "model_id": "fae1270a85a14095a1b4448d987c4513",
       "version_major": 2,
       "version_minor": 0
      },
      "text/plain": [
       "HBox(children=(IntProgress(value=0, max=2), HTML(value='')))"
      ]
     },
     "metadata": {},
     "output_type": "display_data"
    },
    {
     "name": "stdout",
     "output_type": "stream",
     "text": [
      "tensor([0, 0, 0,  ..., 0, 0, 1], device='cuda:0')\n",
      "tensor([1, 0, 1,  ..., 0, 0, 0], device='cuda:0')\n",
      "tensor([0, 0, 0,  ..., 5, 5, 5], device='cuda:0')\n",
      "Should stop\n",
      "\n"
     ]
    },
    {
     "data": {
      "application/vnd.jupyter.widget-view+json": {
       "model_id": "0961dfca952d447e9e0470aed4d5fbb0",
       "version_major": 2,
       "version_minor": 0
      },
      "text/plain": [
       "HBox(children=(IntProgress(value=0, max=20), HTML(value='')))"
      ]
     },
     "metadata": {},
     "output_type": "display_data"
    },
    {
     "name": "stdout",
     "output_type": "stream",
     "text": [
      "Should stop\n",
      "\n",
      "Epoch: 070 | Loss: 0.21509 | Tr_c: 0.99069 | Vl_c: 0.76762 | Vl_c_liketrn: 0.92808 | Vl_mrr: 0.61904 |Time: 0.082 min\n"
     ]
    },
    {
     "data": {
      "application/vnd.jupyter.widget-view+json": {
       "model_id": "43517ad74ec44c5fa4f6b26a30a81c7c",
       "version_major": 2,
       "version_minor": 0
      },
      "text/plain": [
       "HBox(children=(IntProgress(value=0, max=331), HTML(value='')))"
      ]
     },
     "metadata": {},
     "output_type": "display_data"
    },
    {
     "name": "stdout",
     "output_type": "stream",
     "text": [
      "Should stop\n",
      "\n"
     ]
    },
    {
     "data": {
      "application/vnd.jupyter.widget-view+json": {
       "model_id": "4fe45105740d472292b2083f23bce110",
       "version_major": 2,
       "version_minor": 0
      },
      "text/plain": [
       "HBox(children=(IntProgress(value=0, max=2), HTML(value='')))"
      ]
     },
     "metadata": {},
     "output_type": "display_data"
    },
    {
     "name": "stdout",
     "output_type": "stream",
     "text": [
      "tensor([5, 0, 2,  ..., 6, 0, 1], device='cuda:0')\n",
      "tensor([0, 0, 0,  ..., 0, 1, 0], device='cuda:0')\n",
      "tensor([1, 0, 6,  ..., 5, 5, 5], device='cuda:0')\n",
      "Should stop\n",
      "\n"
     ]
    },
    {
     "data": {
      "application/vnd.jupyter.widget-view+json": {
       "model_id": "2f6ef007688f41029306955f8b0238a7",
       "version_major": 2,
       "version_minor": 0
      },
      "text/plain": [
       "HBox(children=(IntProgress(value=0, max=20), HTML(value='')))"
      ]
     },
     "metadata": {},
     "output_type": "display_data"
    },
    {
     "name": "stdout",
     "output_type": "stream",
     "text": [
      "Should stop\n",
      "\n",
      "Epoch: 071 | Loss: 0.21487 | Tr_c: 0.99071 | Vl_c: 0.76794 | Vl_c_liketrn: 0.92805 | Vl_mrr: 0.61909 |Time: 0.081 min\n"
     ]
    },
    {
     "data": {
      "application/vnd.jupyter.widget-view+json": {
       "model_id": "179d6483e5ae4953ad52cad3bdd0a0c2",
       "version_major": 2,
       "version_minor": 0
      },
      "text/plain": [
       "HBox(children=(IntProgress(value=0, max=331), HTML(value='')))"
      ]
     },
     "metadata": {},
     "output_type": "display_data"
    },
    {
     "name": "stdout",
     "output_type": "stream",
     "text": [
      "Should stop\n",
      "\n"
     ]
    },
    {
     "data": {
      "application/vnd.jupyter.widget-view+json": {
       "model_id": "04ce972763954f06a518896c175ff257",
       "version_major": 2,
       "version_minor": 0
      },
      "text/plain": [
       "HBox(children=(IntProgress(value=0, max=2), HTML(value='')))"
      ]
     },
     "metadata": {},
     "output_type": "display_data"
    },
    {
     "name": "stdout",
     "output_type": "stream",
     "text": [
      "tensor([0, 1, 0,  ..., 2, 0, 0], device='cuda:0')\n",
      "tensor([0, 0, 0,  ..., 0, 0, 0], device='cuda:0')\n",
      "tensor([0, 0, 0,  ..., 5, 5, 5], device='cuda:0')\n",
      "Should stop\n",
      "\n"
     ]
    },
    {
     "data": {
      "application/vnd.jupyter.widget-view+json": {
       "model_id": "ebcc03074f3d43aa9b6441b3463c1f9f",
       "version_major": 2,
       "version_minor": 0
      },
      "text/plain": [
       "HBox(children=(IntProgress(value=0, max=20), HTML(value='')))"
      ]
     },
     "metadata": {},
     "output_type": "display_data"
    },
    {
     "name": "stdout",
     "output_type": "stream",
     "text": [
      "Should stop\n",
      "\n",
      "Epoch: 072 | Loss: 0.21462 | Tr_c: 0.99073 | Vl_c: 0.76888 | Vl_c_liketrn: 0.92810 | Vl_mrr: 0.61935 |Time: 0.084 min\n"
     ]
    },
    {
     "data": {
      "application/vnd.jupyter.widget-view+json": {
       "model_id": "055b8dedca624d3c9c2ac704adbdfa50",
       "version_major": 2,
       "version_minor": 0
      },
      "text/plain": [
       "HBox(children=(IntProgress(value=0, max=331), HTML(value='')))"
      ]
     },
     "metadata": {},
     "output_type": "display_data"
    },
    {
     "name": "stdout",
     "output_type": "stream",
     "text": [
      "Should stop\n",
      "\n"
     ]
    },
    {
     "data": {
      "application/vnd.jupyter.widget-view+json": {
       "model_id": "433fcda5b4f740cb81c3c37f78e8ce71",
       "version_major": 2,
       "version_minor": 0
      },
      "text/plain": [
       "HBox(children=(IntProgress(value=0, max=2), HTML(value='')))"
      ]
     },
     "metadata": {},
     "output_type": "display_data"
    },
    {
     "name": "stdout",
     "output_type": "stream",
     "text": [
      "tensor([ 0,  0, 10,  ...,  0,  0,  0], device='cuda:0')\n",
      "tensor([1, 0, 3,  ..., 0, 0, 0], device='cuda:0')\n",
      "tensor([0, 0, 0,  ..., 5, 5, 5], device='cuda:0')\n",
      "Should stop\n",
      "\n"
     ]
    },
    {
     "data": {
      "application/vnd.jupyter.widget-view+json": {
       "model_id": "e86efb85c224429faf9ab9223e9bbb09",
       "version_major": 2,
       "version_minor": 0
      },
      "text/plain": [
       "HBox(children=(IntProgress(value=0, max=20), HTML(value='')))"
      ]
     },
     "metadata": {},
     "output_type": "display_data"
    },
    {
     "name": "stdout",
     "output_type": "stream",
     "text": [
      "Should stop\n",
      "\n",
      "Epoch: 073 | Loss: 0.21423 | Tr_c: 0.99076 | Vl_c: 0.76815 | Vl_c_liketrn: 0.92810 | Vl_mrr: 0.61914 |Time: 0.082 min\n"
     ]
    },
    {
     "data": {
      "application/vnd.jupyter.widget-view+json": {
       "model_id": "ea4be2f8ede24f14a4502197d0a4c210",
       "version_major": 2,
       "version_minor": 0
      },
      "text/plain": [
       "HBox(children=(IntProgress(value=0, max=331), HTML(value='')))"
      ]
     },
     "metadata": {},
     "output_type": "display_data"
    },
    {
     "name": "stdout",
     "output_type": "stream",
     "text": [
      "Should stop\n",
      "\n"
     ]
    },
    {
     "data": {
      "application/vnd.jupyter.widget-view+json": {
       "model_id": "1bddf0bf04784e1eb503841617cbf9c8",
       "version_major": 2,
       "version_minor": 0
      },
      "text/plain": [
       "HBox(children=(IntProgress(value=0, max=2), HTML(value='')))"
      ]
     },
     "metadata": {},
     "output_type": "display_data"
    },
    {
     "name": "stdout",
     "output_type": "stream",
     "text": [
      "tensor([0, 2, 0,  ..., 1, 0, 0], device='cuda:0')\n",
      "tensor([1, 9, 1,  ..., 0, 0, 1], device='cuda:0')\n",
      "tensor([0, 0, 0,  ..., 5, 5, 5], device='cuda:0')\n",
      "Should stop\n",
      "\n"
     ]
    },
    {
     "data": {
      "application/vnd.jupyter.widget-view+json": {
       "model_id": "e97f1e16a34b481cb56643ca604bbd1f",
       "version_major": 2,
       "version_minor": 0
      },
      "text/plain": [
       "HBox(children=(IntProgress(value=0, max=20), HTML(value='')))"
      ]
     },
     "metadata": {},
     "output_type": "display_data"
    },
    {
     "name": "stdout",
     "output_type": "stream",
     "text": [
      "Should stop\n",
      "\n",
      "Epoch: 074 | Loss: 0.21384 | Tr_c: 0.99077 | Vl_c: 0.76908 | Vl_c_liketrn: 0.92830 | Vl_mrr: 0.61964 |Time: 0.085 min\n"
     ]
    },
    {
     "data": {
      "application/vnd.jupyter.widget-view+json": {
       "model_id": "10322d07770341e2bfbb86d6c89080d1",
       "version_major": 2,
       "version_minor": 0
      },
      "text/plain": [
       "HBox(children=(IntProgress(value=0, max=331), HTML(value='')))"
      ]
     },
     "metadata": {},
     "output_type": "display_data"
    },
    {
     "name": "stdout",
     "output_type": "stream",
     "text": [
      "Should stop\n",
      "\n"
     ]
    },
    {
     "data": {
      "application/vnd.jupyter.widget-view+json": {
       "model_id": "3eda3c15b5ff45b8b9dd67711df6d9b2",
       "version_major": 2,
       "version_minor": 0
      },
      "text/plain": [
       "HBox(children=(IntProgress(value=0, max=2), HTML(value='')))"
      ]
     },
     "metadata": {},
     "output_type": "display_data"
    },
    {
     "name": "stdout",
     "output_type": "stream",
     "text": [
      "tensor([0, 1, 0,  ..., 0, 0, 0], device='cuda:0')\n",
      "tensor([1, 0, 2,  ..., 0, 0, 0], device='cuda:0')\n",
      "tensor([0, 0, 0,  ..., 5, 5, 5], device='cuda:0')\n",
      "Should stop\n",
      "\n"
     ]
    },
    {
     "data": {
      "application/vnd.jupyter.widget-view+json": {
       "model_id": "4d3572d5b7e3414c9523735f502c0514",
       "version_major": 2,
       "version_minor": 0
      },
      "text/plain": [
       "HBox(children=(IntProgress(value=0, max=20), HTML(value='')))"
      ]
     },
     "metadata": {},
     "output_type": "display_data"
    },
    {
     "name": "stdout",
     "output_type": "stream",
     "text": [
      "Should stop\n",
      "\n",
      "Epoch: 075 | Loss: 0.21395 | Tr_c: 0.99079 | Vl_c: 0.76912 | Vl_c_liketrn: 0.92847 | Vl_mrr: 0.61971 |Time: 0.084 min\n"
     ]
    },
    {
     "data": {
      "application/vnd.jupyter.widget-view+json": {
       "model_id": "1d244c01df7c4fb7936958e53d9b00f4",
       "version_major": 2,
       "version_minor": 0
      },
      "text/plain": [
       "HBox(children=(IntProgress(value=0, max=331), HTML(value='')))"
      ]
     },
     "metadata": {},
     "output_type": "display_data"
    },
    {
     "name": "stdout",
     "output_type": "stream",
     "text": [
      "Should stop\n",
      "\n"
     ]
    },
    {
     "data": {
      "application/vnd.jupyter.widget-view+json": {
       "model_id": "9f1f8d874e6e447fb7c1bf6bb100ef4c",
       "version_major": 2,
       "version_minor": 0
      },
      "text/plain": [
       "HBox(children=(IntProgress(value=0, max=2), HTML(value='')))"
      ]
     },
     "metadata": {},
     "output_type": "display_data"
    },
    {
     "name": "stdout",
     "output_type": "stream",
     "text": [
      "tensor([0, 0, 0,  ..., 1, 0, 0], device='cuda:0')\n",
      "tensor([0, 0, 0,  ..., 0, 0, 1], device='cuda:0')\n",
      "tensor([1, 0, 0,  ..., 5, 5, 5], device='cuda:0')\n",
      "Should stop\n",
      "\n"
     ]
    },
    {
     "data": {
      "application/vnd.jupyter.widget-view+json": {
       "model_id": "64fffa93ec4743e68b9553a92deac224",
       "version_major": 2,
       "version_minor": 0
      },
      "text/plain": [
       "HBox(children=(IntProgress(value=0, max=20), HTML(value='')))"
      ]
     },
     "metadata": {},
     "output_type": "display_data"
    },
    {
     "name": "stdout",
     "output_type": "stream",
     "text": [
      "Should stop\n",
      "\n",
      "Epoch: 076 | Loss: 0.21362 | Tr_c: 0.99081 | Vl_c: 0.76668 | Vl_c_liketrn: 0.92797 | Vl_mrr: 0.61839 |Time: 0.081 min\n"
     ]
    },
    {
     "data": {
      "application/vnd.jupyter.widget-view+json": {
       "model_id": "dba79e8a0f5248149d83852aeac7588d",
       "version_major": 2,
       "version_minor": 0
      },
      "text/plain": [
       "HBox(children=(IntProgress(value=0, max=331), HTML(value='')))"
      ]
     },
     "metadata": {},
     "output_type": "display_data"
    },
    {
     "name": "stdout",
     "output_type": "stream",
     "text": [
      "Should stop\n",
      "\n"
     ]
    },
    {
     "data": {
      "application/vnd.jupyter.widget-view+json": {
       "model_id": "9296c1e983c545938ae7956da933b1a4",
       "version_major": 2,
       "version_minor": 0
      },
      "text/plain": [
       "HBox(children=(IntProgress(value=0, max=2), HTML(value='')))"
      ]
     },
     "metadata": {},
     "output_type": "display_data"
    },
    {
     "name": "stdout",
     "output_type": "stream",
     "text": [
      "tensor([0, 6, 0,  ..., 4, 0, 0], device='cuda:0')\n",
      "tensor([0, 0, 3,  ..., 0, 0, 1], device='cuda:0')\n",
      "tensor([0, 0, 0,  ..., 5, 5, 5], device='cuda:0')\n",
      "Should stop\n",
      "\n"
     ]
    },
    {
     "data": {
      "application/vnd.jupyter.widget-view+json": {
       "model_id": "896bb9323c554dff85e51c01232a7597",
       "version_major": 2,
       "version_minor": 0
      },
      "text/plain": [
       "HBox(children=(IntProgress(value=0, max=20), HTML(value='')))"
      ]
     },
     "metadata": {},
     "output_type": "display_data"
    },
    {
     "name": "stdout",
     "output_type": "stream",
     "text": [
      "Should stop\n",
      "\n",
      "Epoch: 077 | Loss: 0.21334 | Tr_c: 0.99082 | Vl_c: 0.76933 | Vl_c_liketrn: 0.92816 | Vl_mrr: 0.61960 |Time: 0.081 min\n"
     ]
    },
    {
     "data": {
      "application/vnd.jupyter.widget-view+json": {
       "model_id": "60da73b3275947c4a4513636b8cd0150",
       "version_major": 2,
       "version_minor": 0
      },
      "text/plain": [
       "HBox(children=(IntProgress(value=0, max=331), HTML(value='')))"
      ]
     },
     "metadata": {},
     "output_type": "display_data"
    },
    {
     "name": "stdout",
     "output_type": "stream",
     "text": [
      "Should stop\n",
      "\n"
     ]
    },
    {
     "data": {
      "application/vnd.jupyter.widget-view+json": {
       "model_id": "e659dc96efa3469fb0de722c48746608",
       "version_major": 2,
       "version_minor": 0
      },
      "text/plain": [
       "HBox(children=(IntProgress(value=0, max=2), HTML(value='')))"
      ]
     },
     "metadata": {},
     "output_type": "display_data"
    },
    {
     "name": "stdout",
     "output_type": "stream",
     "text": [
      "tensor([0, 0, 0,  ..., 0, 0, 1], device='cuda:0')\n",
      "tensor([1, 1, 0,  ..., 0, 0, 3], device='cuda:0')\n",
      "tensor([1, 0, 0,  ..., 5, 5, 5], device='cuda:0')\n",
      "Should stop\n",
      "\n"
     ]
    },
    {
     "data": {
      "application/vnd.jupyter.widget-view+json": {
       "model_id": "aa058ccf472b42d3bb6b73d95b4880c6",
       "version_major": 2,
       "version_minor": 0
      },
      "text/plain": [
       "HBox(children=(IntProgress(value=0, max=20), HTML(value='')))"
      ]
     },
     "metadata": {},
     "output_type": "display_data"
    },
    {
     "name": "stdout",
     "output_type": "stream",
     "text": [
      "Should stop\n",
      "\n",
      "Epoch: 078 | Loss: 0.21314 | Tr_c: 0.99084 | Vl_c: 0.76786 | Vl_c_liketrn: 0.92845 | Vl_mrr: 0.61912 |Time: 0.082 min\n"
     ]
    },
    {
     "data": {
      "application/vnd.jupyter.widget-view+json": {
       "model_id": "7026fe69a41045ecbe026cfc676735fa",
       "version_major": 2,
       "version_minor": 0
      },
      "text/plain": [
       "HBox(children=(IntProgress(value=0, max=331), HTML(value='')))"
      ]
     },
     "metadata": {},
     "output_type": "display_data"
    },
    {
     "name": "stdout",
     "output_type": "stream",
     "text": [
      "Should stop\n",
      "\n"
     ]
    },
    {
     "data": {
      "application/vnd.jupyter.widget-view+json": {
       "model_id": "00295a4cff104a46b53a1407d8c93d8d",
       "version_major": 2,
       "version_minor": 0
      },
      "text/plain": [
       "HBox(children=(IntProgress(value=0, max=2), HTML(value='')))"
      ]
     },
     "metadata": {},
     "output_type": "display_data"
    },
    {
     "name": "stdout",
     "output_type": "stream",
     "text": [
      "tensor([0, 0, 0,  ..., 0, 2, 0], device='cuda:0')\n",
      "tensor([ 0,  0,  1,  ...,  2, 10,  0], device='cuda:0')\n",
      "tensor([0, 0, 1,  ..., 5, 5, 5], device='cuda:0')\n",
      "Should stop\n",
      "\n"
     ]
    },
    {
     "data": {
      "application/vnd.jupyter.widget-view+json": {
       "model_id": "6b3310e6079b4877880c80239aaedad6",
       "version_major": 2,
       "version_minor": 0
      },
      "text/plain": [
       "HBox(children=(IntProgress(value=0, max=20), HTML(value='')))"
      ]
     },
     "metadata": {},
     "output_type": "display_data"
    },
    {
     "name": "stdout",
     "output_type": "stream",
     "text": [
      "Should stop\n",
      "\n",
      "Epoch: 079 | Loss: 0.21291 | Tr_c: 0.99081 | Vl_c: 0.76819 | Vl_c_liketrn: 0.92825 | Vl_mrr: 0.61907 |Time: 0.083 min\n"
     ]
    },
    {
     "ename": "KeyboardInterrupt",
     "evalue": "",
     "output_type": "error",
     "traceback": [
      "\u001b[0;31m---------------------------------------------------------------------------\u001b[0m",
      "\u001b[0;31mKeyboardInterrupt\u001b[0m                         Traceback (most recent call last)",
      "\u001b[0;32m<ipython-input-18-2d39cad86446>\u001b[0m in \u001b[0;36m<module>\u001b[0;34m\u001b[0m\n\u001b[0;32m----> 1\u001b[0;31m \u001b[0msimplest_loop\u001b[0m\u001b[0;34m(\u001b[0m\u001b[0;34m**\u001b[0m\u001b[0margs\u001b[0m\u001b[0;34m)\u001b[0m\u001b[0;34m\u001b[0m\u001b[0;34m\u001b[0m\u001b[0m\n\u001b[0m",
      "\u001b[0;32m<ipython-input-16-049028cf62bd>\u001b[0m in \u001b[0;36msimplest_loop\u001b[0;34m(epochs, data, opt, train_fn, predict_fn, device, data_fn, data_fn_val, eval_fn_trn, eval_fn_val)\u001b[0m\n\u001b[1;32m     51\u001b[0m \u001b[0;34m\u001b[0m\u001b[0m\n\u001b[1;32m     52\u001b[0m             \u001b[0;31m# Make data\u001b[0m\u001b[0;34m\u001b[0m\u001b[0;34m\u001b[0m\u001b[0;34m\u001b[0m\u001b[0m\n\u001b[0;32m---> 53\u001b[0;31m             \u001b[0mtrn_dl\u001b[0m\u001b[0;34m,\u001b[0m \u001b[0mval_dl_like_trn\u001b[0m\u001b[0;34m,\u001b[0m \u001b[0mval_dl\u001b[0m \u001b[0;34m=\u001b[0m \u001b[0mdata_fn\u001b[0m\u001b[0;34m(\u001b[0m\u001b[0mdata\u001b[0m\u001b[0;34m[\u001b[0m\u001b[0;34m'train'\u001b[0m\u001b[0;34m]\u001b[0m\u001b[0;34m)\u001b[0m\u001b[0;34m,\u001b[0m \u001b[0mdata_fn\u001b[0m\u001b[0;34m(\u001b[0m\u001b[0mdata\u001b[0m\u001b[0;34m[\u001b[0m\u001b[0;34m'valid'\u001b[0m\u001b[0;34m]\u001b[0m\u001b[0;34m)\u001b[0m\u001b[0;34m,\u001b[0m \u001b[0mdata_fn_val\u001b[0m\u001b[0;34m(\u001b[0m\u001b[0mdata\u001b[0m\u001b[0;34m[\u001b[0m\u001b[0;34m'valid'\u001b[0m\u001b[0;34m]\u001b[0m\u001b[0;34m)\u001b[0m\u001b[0;34m\u001b[0m\u001b[0;34m\u001b[0m\u001b[0m\n\u001b[0m\u001b[1;32m     54\u001b[0m \u001b[0;34m\u001b[0m\u001b[0m\n\u001b[1;32m     55\u001b[0m             \u001b[0;32mfor\u001b[0m \u001b[0mpos\u001b[0m\u001b[0;34m,\u001b[0m \u001b[0mneg\u001b[0m \u001b[0;32min\u001b[0m \u001b[0mtqdm\u001b[0m\u001b[0;34m(\u001b[0m\u001b[0mtrn_dl\u001b[0m\u001b[0;34m)\u001b[0m\u001b[0;34m:\u001b[0m\u001b[0;34m\u001b[0m\u001b[0;34m\u001b[0m\u001b[0m\n",
      "\u001b[0;32m<ipython-input-3-268acc3fd6ec>\u001b[0m in \u001b[0;36m__init__\u001b[0;34m(self, data, bs)\u001b[0m\n\u001b[1;32m     20\u001b[0m \u001b[0;34m\u001b[0m\u001b[0m\n\u001b[1;32m     21\u001b[0m         \u001b[0;31m# Shuffle everything\u001b[0m\u001b[0;34m\u001b[0m\u001b[0;34m\u001b[0m\u001b[0;34m\u001b[0m\u001b[0m\n\u001b[0;32m---> 22\u001b[0;31m         \u001b[0mself\u001b[0m\u001b[0;34m.\u001b[0m\u001b[0mshuffle\u001b[0m\u001b[0;34m(\u001b[0m\u001b[0;34m)\u001b[0m\u001b[0;34m\u001b[0m\u001b[0;34m\u001b[0m\u001b[0m\n\u001b[0m\u001b[1;32m     23\u001b[0m \u001b[0;34m\u001b[0m\u001b[0m\n\u001b[1;32m     24\u001b[0m     \u001b[0;32mdef\u001b[0m \u001b[0minitialize\u001b[0m\u001b[0;34m(\u001b[0m\u001b[0mself\u001b[0m\u001b[0;34m)\u001b[0m\u001b[0;34m:\u001b[0m\u001b[0;34m\u001b[0m\u001b[0;34m\u001b[0m\u001b[0m\n",
      "\u001b[0;32m<ipython-input-3-268acc3fd6ec>\u001b[0m in \u001b[0;36mshuffle\u001b[0;34m(self)\u001b[0m\n\u001b[1;32m     49\u001b[0m         \u001b[0;31m#         print(shuffle_ids)\u001b[0m\u001b[0;34m\u001b[0m\u001b[0;34m\u001b[0m\u001b[0;34m\u001b[0m\u001b[0m\n\u001b[1;32m     50\u001b[0m         \u001b[0mself\u001b[0m\u001b[0;34m.\u001b[0m\u001b[0mpos\u001b[0m \u001b[0;34m=\u001b[0m \u001b[0mself\u001b[0m\u001b[0;34m.\u001b[0m\u001b[0mpos\u001b[0m\u001b[0;34m[\u001b[0m\u001b[0mshuffle_ids\u001b[0m\u001b[0;34m]\u001b[0m\u001b[0;34m\u001b[0m\u001b[0;34m\u001b[0m\u001b[0m\n\u001b[0;32m---> 51\u001b[0;31m         \u001b[0mself\u001b[0m\u001b[0;34m.\u001b[0m\u001b[0mneg\u001b[0m \u001b[0;34m=\u001b[0m \u001b[0mself\u001b[0m\u001b[0;34m.\u001b[0m\u001b[0mneg\u001b[0m\u001b[0;34m[\u001b[0m\u001b[0mshuffle_ids\u001b[0m\u001b[0;34m]\u001b[0m\u001b[0;34m\u001b[0m\u001b[0;34m\u001b[0m\u001b[0m\n\u001b[0m\u001b[1;32m     52\u001b[0m \u001b[0;34m\u001b[0m\u001b[0m\n\u001b[1;32m     53\u001b[0m     \u001b[0;32mdef\u001b[0m \u001b[0m__len__\u001b[0m\u001b[0;34m(\u001b[0m\u001b[0mself\u001b[0m\u001b[0;34m)\u001b[0m\u001b[0;34m:\u001b[0m\u001b[0;34m\u001b[0m\u001b[0;34m\u001b[0m\u001b[0m\n",
      "\u001b[0;31mKeyboardInterrupt\u001b[0m: "
     ]
    }
   ],
   "source": [
    "simplest_loop(**args)"
   ]
  },
  {
   "cell_type": "code",
   "execution_count": null,
   "metadata": {},
   "outputs": [],
   "source": []
  }
 ],
 "metadata": {
  "kernelspec": {
   "display_name": "Python 3",
   "language": "python",
   "name": "python3"
  },
  "language_info": {
   "codemirror_mode": {
    "name": "ipython",
    "version": 3
   },
   "file_extension": ".py",
   "mimetype": "text/x-python",
   "name": "python",
   "nbconvert_exporter": "python",
   "pygments_lexer": "ipython3",
   "version": "3.6.7"
  }
 },
 "nbformat": 4,
 "nbformat_minor": 2
}
