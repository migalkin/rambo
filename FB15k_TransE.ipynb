{
 "cells": [
  {
   "cell_type": "markdown",
   "metadata": {},
   "source": [
    "## Clone OpenKE for benchmark datasets FB15K-237 and WN18"
   ]
  },
  {
   "cell_type": "raw",
   "metadata": {},
   "source": [
    "!git clone https://github.com/thunlp/OpenKE.git"
   ]
  },
  {
   "cell_type": "code",
   "execution_count": 1,
   "metadata": {},
   "outputs": [],
   "source": [
    "from typing import Optional, Union, List, Callable, Dict\n",
    "from tqdm import tqdm_notebook as tqdm\n",
    "from functools import partial\n",
    "from pathlib import Path\n",
    "import pandas as  pd\n",
    "import numpy as np\n",
    "import traceback\n",
    "import warnings\n",
    "import logging\n",
    "import random\n",
    "import pickle\n",
    "import wandb\n",
    "\n",
    "\n",
    "\n",
    "# MyTorch imports\n",
    "from mytorch.utils.goodies import *\n",
    "from mytorch import dataiters\n",
    "\n",
    "# Local imports \n",
    "from raw_parser import Quint\n",
    "from utils import *\n",
    "from evaluation import *\n",
    "from models import TransE\n"
   ]
  },
  {
   "cell_type": "markdown",
   "metadata": {},
   "source": [
    "## Prepare data"
   ]
  },
  {
   "cell_type": "code",
   "execution_count": 2,
   "metadata": {},
   "outputs": [],
   "source": [
    "# Overwriting data dir\n",
    "RAW_DATA_DIR = Path('./data/FB15K237')\n",
    "DATASET = 'fb15k'\n",
    "\n",
    "np.random.seed(42)\n",
    "random.seed(42)"
   ]
  },
  {
   "cell_type": "code",
   "execution_count": 3,
   "metadata": {},
   "outputs": [],
   "source": [
    "training_triples = []\n",
    "valid_triples = []\n",
    "test_triples = []\n",
    "\n",
    "with open(RAW_DATA_DIR / \"entity2id.txt\", \"r\") as ent_file, \\\n",
    "    open(RAW_DATA_DIR / \"relation2id.txt\", \"r\") as rel_file, \\\n",
    "    open(RAW_DATA_DIR / \"train2id.txt\", \"r\") as train_file, \\\n",
    "    open(RAW_DATA_DIR / \"valid2id.txt\", \"r\") as valid_file, \\\n",
    "    open(RAW_DATA_DIR / \"test2id.txt\", \"r\") as test_file:\n",
    "    num_entities = int(next(ent_file).strip(\"\\n\"))\n",
    "    num_relations = int(next(rel_file).strip(\"\\n\"))\n",
    "    num_trains = int(next(train_file).strip(\"\\n\"))\n",
    "    for line in train_file:\n",
    "        triple = line.strip(\"\\n\").split(\" \")\n",
    "        training_triples.append([int(triple[0]), int(triple[2]), int(triple[1])])\n",
    "        \n",
    "    num_valid = int(next(valid_file).strip(\"\\n\"))\n",
    "    for line in valid_file:\n",
    "        triple = line.strip(\"\\n\").split(\" \")\n",
    "        valid_triples.append([int(triple[0]), int(triple[2]), int(triple[1])])\n",
    "    \n",
    "    num_test = int(next(test_file).strip(\"\\n\"))\n",
    "    for line in test_file:\n",
    "        triple = line.strip(\"\\n\").split(\" \")\n",
    "        test_triples.append([int(triple[0]), int(triple[2]), int(triple[1])])"
   ]
  },
  {
   "cell_type": "code",
   "execution_count": 4,
   "metadata": {},
   "outputs": [],
   "source": [
    "EXPERIMENT_CONFIG = {\n",
    "    'NUM_ENTITIES': num_entities,\n",
    "    'NUM_RELATIONS': num_relations,\n",
    "    'EMBEDDING_DIM': 200,\n",
    "    'NORM_FOR_NORMALIZATION_OF_ENTITIES': 2,\n",
    "    'NORM_FOR_NORMALIZATION_OF_RELATIONS': 2,\n",
    "    'SCORING_FUNCTION_NORM': 1,\n",
    "    'MARGIN_LOSS': 1,\n",
    "    'LEARNING_RATE': 0.001,\n",
    "    'NEGATIVE_SAMPLING_PROBS': [0.3, 0.0, 0.2, 0.5],\n",
    "    'NEGATIVE_SAMPLING_TIMES': 10,\n",
    "    'BATCH_SIZE': 8192,\n",
    "    'EPOCHS': 100,\n",
    "    'IS_QUINTS': False\n",
    "}"
   ]
  },
  {
   "cell_type": "code",
   "execution_count": 5,
   "metadata": {},
   "outputs": [],
   "source": [
    "def sample_negatives(triple: List) -> List:\n",
    "    if np.random.random() < 0.5:\n",
    "        # sample subject\n",
    "        return [random.choice(range(num_entities)), triple[1], triple[2]]\n",
    "    else:\n",
    "        # sample object\n",
    "        return [triple[0], triple[1], random.choice(range(num_entities))]   "
   ]
  },
  {
   "cell_type": "code",
   "execution_count": 6,
   "metadata": {},
   "outputs": [],
   "source": [
    "def generate_negatives(positive: List[List], times: int):\n",
    "    \"\"\"\n",
    "        :param postive: List of the raw data\n",
    "        :param times: how many negative samples per positive sample.\n",
    "    \"\"\"\n",
    "    negatives = []\n",
    "    for pos in tqdm(positive):\n",
    "        negatives_per_pos = [sample_negatives(pos) for _ in range(times)]\n",
    "        negatives.append(negatives_per_pos)\n",
    "        \n",
    "    return negatives"
   ]
  },
  {
   "cell_type": "code",
   "execution_count": 7,
   "metadata": {},
   "outputs": [],
   "source": [
    "try:\n",
    "    negatives = pickle.load(open(PRETRAINING_DATA_DIR / 'fb15k_negatives.pkl', 'rb'))\n",
    "except (FileNotFoundError, IOError) as e:\n",
    "    # Generate it again\n",
    "    warnings.warn(\"Negative data not pre-generating. Takes three minutes.\")\n",
    "    negatives = generate_negatives(training_triples + valid_triples, \n",
    "                                   times = EXPERIMENT_CONFIG['NEGATIVE_SAMPLING_TIMES'])\n",
    "\n",
    "    # Dump this somewhere\n",
    "    with open(PRETRAINING_DATA_DIR / 'fb15k_negatives.pkl', 'wb+') as f:\n",
    "        pickle.dump(negatives, f)"
   ]
  },
  {
   "cell_type": "code",
   "execution_count": 8,
   "metadata": {},
   "outputs": [],
   "source": [
    "train_neg = negatives[:len(training_triples)]\n",
    "val_neg = negatives[len(training_triples):]"
   ]
  },
  {
   "cell_type": "code",
   "execution_count": 9,
   "metadata": {},
   "outputs": [],
   "source": [
    "data = {'train': {'pos': training_triples, 'neg': train_neg}, 'valid': {'pos': valid_triples, 'neg': val_neg}}\n",
    "data_pos = {'train': np.array(training_triples), 'valid': np.array(valid_triples)}"
   ]
  },
  {
   "cell_type": "raw",
   "metadata": {},
   "source": [
    "np.append(np.array(data_pos['train']), data_pos['valid'], axis=0).shape, len(data_pos['train']), data_pos['valid'].shape"
   ]
  },
  {
   "cell_type": "markdown",
   "metadata": {},
   "source": [
    "## Model"
   ]
  },
  {
   "cell_type": "markdown",
   "metadata": {},
   "source": [
    "## Training"
   ]
  },
  {
   "cell_type": "code",
   "execution_count": 10,
   "metadata": {},
   "outputs": [
    {
     "data": {
      "text/html": [
       "\n",
       "        Notebook configured with <a href=\"https://wandb.com\" target=\"_blank\">W&B</a>. You can <a href=\"https://app.wandb.ai/geraltofrivia783/wikidata-embeddings/runs/s7j026ci?apiKey=3a8d7c8feb5ed0b57d1dead1314e5624ee2b388e\" target=\"_blank\">open</a> the run page, or call <code>%%wandb</code>\n",
       "        in a cell containing your training loop to display live results.  Learn more in our <a href=\"https://docs.wandb.com/docs/integrations/jupyter.html\" target=\"_blank\">docs</a>.\n",
       "    "
      ],
      "text/plain": [
       "<IPython.core.display.HTML object>"
      ]
     },
     "metadata": {},
     "output_type": "display_data"
    }
   ],
   "source": [
    "config = EXPERIMENT_CONFIG.copy()\n",
    "config['DEVICE'] = torch.device('cuda')\n",
    "model = TransE(config)\n",
    "model.to(config['DEVICE'])\n",
    "optimizer = torch.optim.SGD(model.parameters(), lr=config['LEARNING_RATE'])\n",
    "\n",
    "\n",
    "wandb.init(project=\"wikidata-embeddings\")\n",
    "for k, v in config.items():\n",
    "    wandb.config[k] = v"
   ]
  },
  {
   "cell_type": "code",
   "execution_count": 11,
   "metadata": {},
   "outputs": [],
   "source": [
    "eval_metrics = [acc, mrr, partial(hits_at, k=3), partial(hits_at, k=5), partial(hits_at, k=10)]\n",
    "evaluation = EvaluationBench(data_pos, model, config[\"BATCH_SIZE\"], metrics=eval_metrics, _filtered=True)"
   ]
  },
  {
   "cell_type": "code",
   "execution_count": 12,
   "metadata": {},
   "outputs": [],
   "source": [
    "# Make a loop fn\n",
    "def simplest_loop(epochs: int,\n",
    "                  data: dict,\n",
    "                  opt: torch.optim,\n",
    "                  train_fn: Callable,\n",
    "                  predict_fn: Callable,\n",
    "                  neg_generator,\n",
    "                  device: torch.device = torch.device('cpu'),\n",
    "                  data_fn: Callable = dataiters.SimplestSampler,\n",
    "                  data_fn_val: Callable = dataiters.SimplestSampler,\n",
    "                  eval_fn_trn: Callable = default_eval,\n",
    "                  eval_fn_val: Callable = default_eval,\n",
    "                  eval_every: int = 1) -> (list, list, list):\n",
    "    \"\"\"\n",
    "        A fn which can be used to train a language model.\n",
    "\n",
    "        The model doesn't need to be an nn.Module,\n",
    "            but have an eval (optional), a train and a predict function.\n",
    "\n",
    "        Data should be a dict like so:\n",
    "            {\"train\":{\"x\":np.arr, \"y\":np.arr}, \"val\":{\"x\":np.arr, \"y\":np.arr} }\n",
    "\n",
    "        Train_fn must return both loss and y_pred\n",
    "\n",
    "        :param epochs: number of epochs to train for\n",
    "        :param data: a dict having keys train_x, test_x, train_y, test_y\n",
    "        :param device: torch device to create new tensor from data\n",
    "        :param opt: optimizer\n",
    "        :param loss_fn: loss function\n",
    "        :param train_fn: function to call with x and y\n",
    "        :param predict_fn: function to call with x (test)\n",
    "        :param data_fn: a class to which we can pass training data and get an iterator.\n",
    "        :param data_fn_val: can be same as above; or diff. Specifically for validation runs.\n",
    "        :param eval_fn: (optional) function which when given pred and true, returns acc\n",
    "        :return: traces\n",
    "    \"\"\"\n",
    "\n",
    "    train_loss = []\n",
    "    train_acc = []\n",
    "    valid_acc = []\n",
    "    valid_mrr = []\n",
    "    valid_hits_3, valid_hits_5, valid_hits_10 = [], [], []\n",
    "    lrs = []\n",
    "\n",
    "    # Epoch level\n",
    "    for e in range(epochs):\n",
    "\n",
    "        per_epoch_loss = []\n",
    "        per_epoch_tr_acc = []\n",
    "\n",
    "        # Train\n",
    "        with Timer() as timer:\n",
    "\n",
    "            # Make data\n",
    "            trn_dl = data_fn(data['train'])\n",
    "\n",
    "            for pos in tqdm(trn_dl):\n",
    "                neg = neg_generator.corrupt_batch(pos)\n",
    "                opt.zero_grad()\n",
    "\n",
    "                _pos = torch.tensor(pos, dtype=torch.long, device=device)\n",
    "                _neg = torch.tensor(neg, dtype=torch.long, device=device)\n",
    "\n",
    "                (pos_scores, neg_scores), loss = train_fn(_pos, _neg)\n",
    "\n",
    "                per_epoch_tr_acc.append(eval_fn_trn(pos_scores=pos_scores, neg_scores=neg_scores))\n",
    "                per_epoch_loss.append(loss.item())\n",
    "\n",
    "                loss.backward()\n",
    "                opt.step()\n",
    "\n",
    "        \"\"\"\n",
    "            # Val\n",
    "            Run through the dataset twice.\n",
    "                1. same as training data (pointwise eval)\n",
    "                2. One quint (pos+negs) at a time. \n",
    "        \"\"\" \n",
    "        if e % eval_every == 0:\n",
    "            with torch.no_grad():\n",
    "                summary = eval_fn_val()\n",
    "                per_epoch_vl_acc = summary['metrics']['acc']\n",
    "                per_epoch_vl_mrr = summary['metrics']['mrr']\n",
    "                per_epoch_vl_hits_3 = summary['metrics']['hits_at 3']\n",
    "                per_epoch_vl_hits_5 = summary['metrics']['hits_at 5']\n",
    "                per_epoch_vl_hits_10 = summary['metrics']['hits_at 10']\n",
    "\n",
    "#             per_epoch_vl_acc, per_epoch_vl_mrr, per_epoch_vl_acc_like_trn = [], [], []\n",
    "#             for quints in tqdm(val_dl):\n",
    "#                 _quints = torch.tensor(quints, dtype=torch.long, device=device)\n",
    "                \n",
    "#                 # Flatten it\n",
    "#                 _quints_shape = _quints.shape\n",
    "#                 scores = predict_fn(_quints.view(-1, _quints_shape[-1]))\n",
    "#                 scores = scores.view(_quints_shape[0], _quints_shape[1])\n",
    "                \n",
    "#                 accuracy, recirank = eval_fn_val(scores)\n",
    "\n",
    "#                 per_epoch_vl_acc.append(accuracy)\n",
    "#                 per_epoch_vl_mrr.append(recirank)\n",
    "            \n",
    "#             for pos, neg in tqdm(val_dl_like_trn):\n",
    "                \n",
    "#                 _pos = torch.tensor(pos, dtype=torch.long, device=device)\n",
    "#                 _neg = torch.tensor(neg, dtype=torch.long, device=device)\n",
    "\n",
    "#                 (pos_scores, neg_scores), loss = train_fn(_pos, _neg)\n",
    "#                 acc = eval_fn_trn(pos_scores=pos_scores, neg_scores=neg_scores)\n",
    "                \n",
    "#                 per_epoch_vl_acc_like_trn.append(acc)\n",
    "            \n",
    "\n",
    "        # Bookkeep\n",
    "        train_acc.append(np.mean(per_epoch_tr_acc))\n",
    "        train_loss.append(np.mean(per_epoch_loss))\n",
    "        if e % eval_every == 0:\n",
    "            valid_acc.append(per_epoch_vl_acc)\n",
    "            valid_mrr.append(per_epoch_vl_mrr)\n",
    "            valid_hits_3.append(per_epoch_vl_hits_3)\n",
    "            valid_hits_5.append(per_epoch_vl_hits_5)\n",
    "            valid_hits_10.append(per_epoch_vl_hits_10)\n",
    "        \n",
    "            print(\"Epoch: %(epo)03d | Loss: %(loss).5f | Tr_c: %(tracc)0.5f | \"\n",
    "                  \"Vl_c: %(vlacc)0.5f | Vl_mrr: %(vlmrr)0.5f | \"\n",
    "                  \"Vl_h3: %(vlh3)0.5f | Vl_h5: %(vlh5)0.5f | Vl_h10: %(vlh10)0.5f | \"\n",
    "                  \"Time_Train: %(time).3f min\"\n",
    "                  % {'epo': e,\n",
    "                     'loss': float(np.mean(per_epoch_loss)),\n",
    "                     'tracc': float(np.mean(per_epoch_tr_acc)),\n",
    "                     'vlacc': float(per_epoch_vl_acc),\n",
    "                     'vlmrr': float(per_epoch_vl_mrr),\n",
    "                     'vlh3': float(per_epoch_vl_hits_3),\n",
    "                     'vlh5': float(per_epoch_vl_hits_5),\n",
    "                     'vlh10': float(per_epoch_vl_hits_10),\n",
    "                     'time': timer.interval / 60.0})\n",
    "\n",
    "            # Wandb stuff\n",
    "            wandb.log({\n",
    "                'epoch': e, \n",
    "                'loss': float(np.mean(per_epoch_loss)),\n",
    "                'trn_acc': float(np.mean(per_epoch_tr_acc)),\n",
    "                'val_acc': float(per_epoch_vl_acc),\n",
    "                'val_mrr': float(per_epoch_vl_mrr),\n",
    "                'val_hits@3': float(per_epoch_vl_hits_3),\n",
    "                'val_hits@5': float(per_epoch_vl_hits_5),\n",
    "                'val_hits@10': float(per_epoch_vl_hits_10),\n",
    "            })\n",
    "            \n",
    "        else:\n",
    "            print(\"Epoch: %(epo)03d | Loss: %(loss).5f | Tr_c: %(tracc)0.5f | \"\n",
    "                  \"Time_Train: %(time).3f min\"\n",
    "                  % {'epo': e,\n",
    "                     'loss': float(np.mean(per_epoch_loss)),\n",
    "                     'tracc': float(np.mean(per_epoch_tr_acc)),\n",
    "                     'time': timer.interval / 60.0})\n",
    "\n",
    "            # Wandb stuff\n",
    "            wandb.log({\n",
    "                'epoch': e, \n",
    "                'loss': float(np.mean(per_epoch_loss)),\n",
    "                'trn_acc': float(np.mean(per_epoch_tr_acc))\n",
    "            })\n",
    "        \n",
    "\n",
    "    return train_acc, valid_acc, valid_acc_like_trn, valid_mrr, train_loss"
   ]
  },
  {
   "cell_type": "code",
   "execution_count": 13,
   "metadata": {},
   "outputs": [],
   "source": [
    "args = {\n",
    "    \"epochs\":config['EPOCHS'],\n",
    "    \"data\":data,\n",
    "    \"opt\": optimizer,\n",
    "    \"train_fn\": model,\n",
    "    \"predict_fn\": model.predict,\n",
    "    \"device\": config['DEVICE'],\n",
    "    \"data_fn\": partial(QuintRankingSampler, bs=config[\"BATCH_SIZE\"]),\n",
    "    \"data_fn_val\": partial(SingleSampler, bs=config[\"BATCH_SIZE\"]),\n",
    "    \"eval_fn_trn\": evaluate_pointwise,\n",
    "    \"eval_fn_val\": evaluation.run,\n",
    "    \"eval_every\": 20,\n",
    "    \"neg_generator\": evaluation.corrupter\n",
    "}"
   ]
  },
  {
   "cell_type": "code",
   "execution_count": 14,
   "metadata": {},
   "outputs": [
    {
     "name": "stderr",
     "output_type": "stream",
     "text": [
      "333it [00:01, 167.79it/s]                         \n",
      "  0%|          | 13/17535 [00:00<02:19, 126.04it/s]"
     ]
    },
    {
     "name": "stdout",
     "output_type": "stream",
     "text": [
      "Should stop\n"
     ]
    },
    {
     "name": "stderr",
     "output_type": "stream",
     "text": [
      "100%|██████████| 17535/17535 [01:41<00:00, 172.70it/s]\n"
     ]
    },
    {
     "name": "stdout",
     "output_type": "stream",
     "text": [
      "This run over 17535 triples took 1.692 min\n",
      "---------\n",
      "\n",
      "acc : 0.0068\n",
      "mrr : 0.0164\n",
      "hits_at 3 : 0.0110\n",
      "hits_at 5 : 0.0155\n",
      "hits_at 10 : 0.0277\n",
      "Epoch: 000 | Loss: 2218.28983 | Tr_c: 0.88681 | Vl_c: 0.00679 | Vl_mrr: 0.01642 | Vl_h3: 0.01101 | Vl_h5: 0.01545 | Vl_h10: 0.02772 | Time_Train: 0.098 min\n"
     ]
    },
    {
     "name": "stderr",
     "output_type": "stream",
     "text": [
      "wandb: Wandb version 0.8.9 is available!  To upgrade, please run:\n",
      "wandb:  $ pip install wandb --upgrade\n",
      "333it [00:01, 207.60it/s]                         \n"
     ]
    },
    {
     "name": "stdout",
     "output_type": "stream",
     "text": [
      "Should stop\n",
      "Epoch: 001 | Loss: 403.06377 | Tr_c: 0.98216 | Time_Train: 0.108 min\n"
     ]
    },
    {
     "name": "stderr",
     "output_type": "stream",
     "text": [
      "333it [00:01, 205.02it/s]                         \n"
     ]
    },
    {
     "name": "stdout",
     "output_type": "stream",
     "text": [
      "Should stop\n",
      "Epoch: 002 | Loss: 228.37475 | Tr_c: 0.99024 | Time_Train: 0.092 min\n"
     ]
    },
    {
     "name": "stderr",
     "output_type": "stream",
     "text": [
      "333it [00:01, 203.83it/s]                         \n"
     ]
    },
    {
     "name": "stdout",
     "output_type": "stream",
     "text": [
      "Should stop\n",
      "Epoch: 003 | Loss: 156.08578 | Tr_c: 0.99353 | Time_Train: 0.101 min\n"
     ]
    },
    {
     "name": "stderr",
     "output_type": "stream",
     "text": [
      "333it [00:01, 207.29it/s]                         \n"
     ]
    },
    {
     "name": "stdout",
     "output_type": "stream",
     "text": [
      "Should stop\n",
      "Epoch: 004 | Loss: 115.42168 | Tr_c: 0.99535 | Time_Train: 0.102 min\n"
     ]
    },
    {
     "name": "stderr",
     "output_type": "stream",
     "text": [
      "333it [00:01, 207.04it/s]                         \n"
     ]
    },
    {
     "name": "stdout",
     "output_type": "stream",
     "text": [
      "Should stop\n",
      "Epoch: 005 | Loss: 89.96819 | Tr_c: 0.99640 | Time_Train: 0.094 min\n"
     ]
    },
    {
     "name": "stderr",
     "output_type": "stream",
     "text": [
      "333it [00:01, 206.36it/s]                         \n"
     ]
    },
    {
     "name": "stdout",
     "output_type": "stream",
     "text": [
      "Should stop\n",
      "Epoch: 006 | Loss: 72.68711 | Tr_c: 0.99714 | Time_Train: 0.094 min\n"
     ]
    },
    {
     "name": "stderr",
     "output_type": "stream",
     "text": [
      "333it [00:01, 206.60it/s]                         \n"
     ]
    },
    {
     "name": "stdout",
     "output_type": "stream",
     "text": [
      "Should stop\n",
      "Epoch: 007 | Loss: 60.69826 | Tr_c: 0.99760 | Time_Train: 0.092 min\n"
     ]
    },
    {
     "name": "stderr",
     "output_type": "stream",
     "text": [
      "333it [00:01, 192.66it/s]                         \n"
     ]
    },
    {
     "name": "stdout",
     "output_type": "stream",
     "text": [
      "Should stop\n",
      "Epoch: 008 | Loss: 51.94059 | Tr_c: 0.99792 | Time_Train: 0.097 min\n"
     ]
    },
    {
     "name": "stderr",
     "output_type": "stream",
     "text": [
      "333it [00:01, 203.54it/s]                         \n"
     ]
    },
    {
     "name": "stdout",
     "output_type": "stream",
     "text": [
      "Should stop\n",
      "Epoch: 009 | Loss: 44.90984 | Tr_c: 0.99824 | Time_Train: 0.104 min\n"
     ]
    },
    {
     "name": "stderr",
     "output_type": "stream",
     "text": [
      "333it [00:01, 209.31it/s]                         \n"
     ]
    },
    {
     "name": "stdout",
     "output_type": "stream",
     "text": [
      "Should stop\n",
      "Epoch: 010 | Loss: 39.88410 | Tr_c: 0.99842 | Time_Train: 0.098 min\n"
     ]
    },
    {
     "name": "stderr",
     "output_type": "stream",
     "text": [
      "333it [00:01, 209.14it/s]                         \n"
     ]
    },
    {
     "name": "stdout",
     "output_type": "stream",
     "text": [
      "Should stop\n",
      "Epoch: 011 | Loss: 35.77309 | Tr_c: 0.99857 | Time_Train: 0.104 min\n"
     ]
    },
    {
     "name": "stderr",
     "output_type": "stream",
     "text": [
      "333it [00:01, 204.85it/s]                         \n"
     ]
    },
    {
     "name": "stdout",
     "output_type": "stream",
     "text": [
      "Should stop\n",
      "Epoch: 012 | Loss: 32.57678 | Tr_c: 0.99870 | Time_Train: 0.093 min\n"
     ]
    },
    {
     "name": "stderr",
     "output_type": "stream",
     "text": [
      "333it [00:01, 202.90it/s]                         \n"
     ]
    },
    {
     "name": "stdout",
     "output_type": "stream",
     "text": [
      "Should stop\n",
      "Epoch: 013 | Loss: 29.80079 | Tr_c: 0.99881 | Time_Train: 0.095 min\n"
     ]
    },
    {
     "name": "stderr",
     "output_type": "stream",
     "text": [
      "333it [00:01, 208.26it/s]                         \n"
     ]
    },
    {
     "name": "stdout",
     "output_type": "stream",
     "text": [
      "Should stop\n",
      "Epoch: 014 | Loss: 27.46168 | Tr_c: 0.99889 | Time_Train: 0.099 min\n"
     ]
    },
    {
     "name": "stderr",
     "output_type": "stream",
     "text": [
      "333it [00:01, 210.95it/s]                         \n"
     ]
    },
    {
     "name": "stdout",
     "output_type": "stream",
     "text": [
      "Should stop\n",
      "Epoch: 015 | Loss: 25.50494 | Tr_c: 0.99897 | Time_Train: 0.103 min\n"
     ]
    },
    {
     "name": "stderr",
     "output_type": "stream",
     "text": [
      "333it [00:01, 204.18it/s]                         \n"
     ]
    },
    {
     "name": "stdout",
     "output_type": "stream",
     "text": [
      "Should stop\n",
      "Epoch: 016 | Loss: 23.95940 | Tr_c: 0.99904 | Time_Train: 0.098 min\n"
     ]
    },
    {
     "name": "stderr",
     "output_type": "stream",
     "text": [
      "333it [00:01, 205.91it/s]                         \n"
     ]
    },
    {
     "name": "stdout",
     "output_type": "stream",
     "text": [
      "Should stop\n",
      "Epoch: 017 | Loss: 22.53917 | Tr_c: 0.99908 | Time_Train: 0.093 min\n"
     ]
    },
    {
     "name": "stderr",
     "output_type": "stream",
     "text": [
      "333it [00:01, 209.05it/s]                         \n"
     ]
    },
    {
     "name": "stdout",
     "output_type": "stream",
     "text": [
      "Should stop\n",
      "Epoch: 018 | Loss: 21.24929 | Tr_c: 0.99912 | Time_Train: 0.104 min\n"
     ]
    },
    {
     "name": "stderr",
     "output_type": "stream",
     "text": [
      "333it [00:01, 207.72it/s]                         \n"
     ]
    },
    {
     "name": "stdout",
     "output_type": "stream",
     "text": [
      "Should stop\n",
      "Epoch: 019 | Loss: 20.23740 | Tr_c: 0.99917 | Time_Train: 0.102 min\n"
     ]
    },
    {
     "name": "stderr",
     "output_type": "stream",
     "text": [
      "333it [00:01, 210.52it/s]                         \n",
      "  0%|          | 16/17535 [00:00<01:55, 151.42it/s]"
     ]
    },
    {
     "name": "stdout",
     "output_type": "stream",
     "text": [
      "Should stop\n"
     ]
    },
    {
     "name": "stderr",
     "output_type": "stream",
     "text": [
      "100%|██████████| 17535/17535 [01:45<00:00, 165.95it/s]\n"
     ]
    },
    {
     "name": "stdout",
     "output_type": "stream",
     "text": [
      "This run over 17535 triples took 1.761 min\n",
      "---------\n",
      "\n",
      "acc : 0.0069\n",
      "mrr : 0.0181\n",
      "hits_at 3 : 0.0117\n",
      "hits_at 5 : 0.0171\n",
      "hits_at 10 : 0.0287\n",
      "Epoch: 020 | Loss: 19.24839 | Tr_c: 0.99919 | Vl_c: 0.00690 | Vl_mrr: 0.01810 | Vl_h3: 0.01175 | Vl_h5: 0.01705 | Vl_h10: 0.02869 | Time_Train: 0.099 min\n"
     ]
    },
    {
     "name": "stderr",
     "output_type": "stream",
     "text": [
      "333it [00:01, 203.53it/s]                         \n"
     ]
    },
    {
     "name": "stdout",
     "output_type": "stream",
     "text": [
      "Should stop\n",
      "Epoch: 021 | Loss: 18.49615 | Tr_c: 0.99923 | Time_Train: 0.096 min\n"
     ]
    },
    {
     "name": "stderr",
     "output_type": "stream",
     "text": [
      "333it [00:01, 209.28it/s]                         \n"
     ]
    },
    {
     "name": "stdout",
     "output_type": "stream",
     "text": [
      "Should stop\n",
      "Epoch: 022 | Loss: 17.70941 | Tr_c: 0.99926 | Time_Train: 0.089 min\n"
     ]
    },
    {
     "name": "stderr",
     "output_type": "stream",
     "text": [
      "333it [00:01, 207.87it/s]                         \n"
     ]
    },
    {
     "name": "stdout",
     "output_type": "stream",
     "text": [
      "Should stop\n",
      "Epoch: 023 | Loss: 16.93971 | Tr_c: 0.99929 | Time_Train: 0.094 min\n"
     ]
    },
    {
     "name": "stderr",
     "output_type": "stream",
     "text": [
      "333it [00:01, 206.00it/s]                         \n"
     ]
    },
    {
     "name": "stdout",
     "output_type": "stream",
     "text": [
      "Should stop\n",
      "Epoch: 024 | Loss: 16.37178 | Tr_c: 0.99932 | Time_Train: 0.099 min\n"
     ]
    },
    {
     "name": "stderr",
     "output_type": "stream",
     "text": [
      "333it [00:01, 202.37it/s]                         \n"
     ]
    },
    {
     "name": "stdout",
     "output_type": "stream",
     "text": [
      "Should stop\n",
      "Epoch: 025 | Loss: 15.77119 | Tr_c: 0.99933 | Time_Train: 0.097 min\n"
     ]
    },
    {
     "name": "stderr",
     "output_type": "stream",
     "text": [
      "333it [00:01, 205.12it/s]                         \n"
     ]
    },
    {
     "name": "stdout",
     "output_type": "stream",
     "text": [
      "Should stop\n",
      "Epoch: 026 | Loss: 15.32931 | Tr_c: 0.99935 | Time_Train: 0.097 min\n"
     ]
    },
    {
     "name": "stderr",
     "output_type": "stream",
     "text": [
      "333it [00:01, 207.51it/s]                         \n"
     ]
    },
    {
     "name": "stdout",
     "output_type": "stream",
     "text": [
      "Should stop\n",
      "Epoch: 027 | Loss: 14.89965 | Tr_c: 0.99937 | Time_Train: 0.094 min\n"
     ]
    },
    {
     "name": "stderr",
     "output_type": "stream",
     "text": [
      "333it [00:01, 208.13it/s]                         \n"
     ]
    },
    {
     "name": "stdout",
     "output_type": "stream",
     "text": [
      "Should stop\n",
      "Epoch: 028 | Loss: 14.46969 | Tr_c: 0.99939 | Time_Train: 0.101 min\n"
     ]
    },
    {
     "name": "stderr",
     "output_type": "stream",
     "text": [
      "333it [00:01, 199.38it/s]                         \n"
     ]
    },
    {
     "name": "stdout",
     "output_type": "stream",
     "text": [
      "Should stop\n",
      "Epoch: 029 | Loss: 13.99894 | Tr_c: 0.99940 | Time_Train: 0.093 min\n"
     ]
    },
    {
     "name": "stderr",
     "output_type": "stream",
     "text": [
      "333it [00:01, 211.80it/s]                         \n"
     ]
    },
    {
     "name": "stdout",
     "output_type": "stream",
     "text": [
      "Should stop\n",
      "Epoch: 030 | Loss: 13.70163 | Tr_c: 0.99941 | Time_Train: 0.096 min\n"
     ]
    },
    {
     "name": "stderr",
     "output_type": "stream",
     "text": [
      "333it [00:01, 201.31it/s]                         \n"
     ]
    },
    {
     "name": "stdout",
     "output_type": "stream",
     "text": [
      "Should stop\n",
      "Epoch: 031 | Loss: 13.29815 | Tr_c: 0.99944 | Time_Train: 0.098 min\n"
     ]
    },
    {
     "name": "stderr",
     "output_type": "stream",
     "text": [
      "333it [00:01, 209.61it/s]                         \n"
     ]
    },
    {
     "name": "stdout",
     "output_type": "stream",
     "text": [
      "Should stop\n",
      "Epoch: 032 | Loss: 12.98399 | Tr_c: 0.99943 | Time_Train: 0.090 min\n"
     ]
    },
    {
     "name": "stderr",
     "output_type": "stream",
     "text": [
      "333it [00:01, 205.44it/s]                         \n"
     ]
    },
    {
     "name": "stdout",
     "output_type": "stream",
     "text": [
      "Should stop\n",
      "Epoch: 033 | Loss: 12.72148 | Tr_c: 0.99945 | Time_Train: 0.098 min\n"
     ]
    },
    {
     "name": "stderr",
     "output_type": "stream",
     "text": [
      "333it [00:01, 205.69it/s]                         \n"
     ]
    },
    {
     "name": "stdout",
     "output_type": "stream",
     "text": [
      "Should stop\n",
      "Epoch: 034 | Loss: 12.46295 | Tr_c: 0.99947 | Time_Train: 0.096 min\n"
     ]
    },
    {
     "name": "stderr",
     "output_type": "stream",
     "text": [
      "333it [00:01, 209.35it/s]                         \n"
     ]
    },
    {
     "name": "stdout",
     "output_type": "stream",
     "text": [
      "Should stop\n",
      "Epoch: 035 | Loss: 12.11064 | Tr_c: 0.99947 | Time_Train: 0.093 min\n"
     ]
    },
    {
     "name": "stderr",
     "output_type": "stream",
     "text": [
      "333it [00:01, 212.06it/s]                         \n"
     ]
    },
    {
     "name": "stdout",
     "output_type": "stream",
     "text": [
      "Should stop\n",
      "Epoch: 036 | Loss: 11.87669 | Tr_c: 0.99948 | Time_Train: 0.089 min\n"
     ]
    },
    {
     "name": "stderr",
     "output_type": "stream",
     "text": [
      "333it [00:01, 208.64it/s]                         \n"
     ]
    },
    {
     "name": "stdout",
     "output_type": "stream",
     "text": [
      "Should stop\n",
      "Epoch: 037 | Loss: 11.72361 | Tr_c: 0.99949 | Time_Train: 0.102 min\n"
     ]
    },
    {
     "name": "stderr",
     "output_type": "stream",
     "text": [
      "333it [00:01, 209.10it/s]                         \n"
     ]
    },
    {
     "name": "stdout",
     "output_type": "stream",
     "text": [
      "Should stop\n",
      "Epoch: 038 | Loss: 11.43739 | Tr_c: 0.99949 | Time_Train: 0.094 min\n"
     ]
    },
    {
     "name": "stderr",
     "output_type": "stream",
     "text": [
      "333it [00:01, 205.54it/s]                         \n"
     ]
    },
    {
     "name": "stdout",
     "output_type": "stream",
     "text": [
      "Should stop\n",
      "Epoch: 039 | Loss: 11.22265 | Tr_c: 0.99950 | Time_Train: 0.096 min\n"
     ]
    },
    {
     "name": "stderr",
     "output_type": "stream",
     "text": [
      "333it [00:01, 209.57it/s]                         \n",
      "  0%|          | 14/17535 [00:00<02:09, 135.48it/s]"
     ]
    },
    {
     "name": "stdout",
     "output_type": "stream",
     "text": [
      "Should stop\n"
     ]
    },
    {
     "name": "stderr",
     "output_type": "stream",
     "text": [
      "100%|██████████| 17535/17535 [01:44<00:00, 167.42it/s]\n"
     ]
    },
    {
     "name": "stdout",
     "output_type": "stream",
     "text": [
      "This run over 17535 triples took 1.746 min\n",
      "---------\n",
      "\n",
      "acc : 0.0075\n",
      "mrr : 0.0186\n",
      "hits_at 3 : 0.0125\n",
      "hits_at 5 : 0.0172\n",
      "hits_at 10 : 0.0304\n",
      "Epoch: 040 | Loss: 11.07338 | Tr_c: 0.99951 | Vl_c: 0.00753 | Vl_mrr: 0.01862 | Vl_h3: 0.01249 | Vl_h5: 0.01722 | Vl_h10: 0.03040 | Time_Train: 0.100 min\n"
     ]
    },
    {
     "name": "stderr",
     "output_type": "stream",
     "text": [
      "333it [00:01, 209.92it/s]                         \n"
     ]
    },
    {
     "name": "stdout",
     "output_type": "stream",
     "text": [
      "Should stop\n",
      "Epoch: 041 | Loss: 10.87109 | Tr_c: 0.99952 | Time_Train: 0.094 min\n"
     ]
    },
    {
     "name": "stderr",
     "output_type": "stream",
     "text": [
      "333it [00:01, 208.95it/s]                         \n"
     ]
    },
    {
     "name": "stdout",
     "output_type": "stream",
     "text": [
      "Should stop\n",
      "Epoch: 042 | Loss: 10.67750 | Tr_c: 0.99953 | Time_Train: 0.093 min\n"
     ]
    },
    {
     "name": "stderr",
     "output_type": "stream",
     "text": [
      "333it [00:01, 206.52it/s]                         \n"
     ]
    },
    {
     "name": "stdout",
     "output_type": "stream",
     "text": [
      "Should stop\n",
      "Epoch: 043 | Loss: 10.52725 | Tr_c: 0.99954 | Time_Train: 0.085 min\n"
     ]
    },
    {
     "name": "stderr",
     "output_type": "stream",
     "text": [
      "333it [00:01, 205.75it/s]                         \n"
     ]
    },
    {
     "name": "stdout",
     "output_type": "stream",
     "text": [
      "Should stop\n",
      "Epoch: 044 | Loss: 10.36393 | Tr_c: 0.99953 | Time_Train: 0.098 min\n"
     ]
    },
    {
     "name": "stderr",
     "output_type": "stream",
     "text": [
      "333it [00:01, 201.31it/s]                         \n"
     ]
    },
    {
     "name": "stdout",
     "output_type": "stream",
     "text": [
      "Should stop\n",
      "Epoch: 045 | Loss: 10.18160 | Tr_c: 0.99955 | Time_Train: 0.089 min\n"
     ]
    },
    {
     "name": "stderr",
     "output_type": "stream",
     "text": [
      "333it [00:01, 209.71it/s]                         \n"
     ]
    },
    {
     "name": "stdout",
     "output_type": "stream",
     "text": [
      "Should stop\n",
      "Epoch: 046 | Loss: 10.11260 | Tr_c: 0.99955 | Time_Train: 0.094 min\n"
     ]
    },
    {
     "name": "stderr",
     "output_type": "stream",
     "text": [
      "333it [00:01, 210.92it/s]                         \n"
     ]
    },
    {
     "name": "stdout",
     "output_type": "stream",
     "text": [
      "Should stop\n",
      "Epoch: 047 | Loss: 9.94784 | Tr_c: 0.99956 | Time_Train: 0.096 min\n"
     ]
    },
    {
     "name": "stderr",
     "output_type": "stream",
     "text": [
      "333it [00:01, 204.40it/s]                         \n"
     ]
    },
    {
     "name": "stdout",
     "output_type": "stream",
     "text": [
      "Should stop\n",
      "Epoch: 048 | Loss: 9.82961 | Tr_c: 0.99956 | Time_Train: 0.102 min\n"
     ]
    },
    {
     "name": "stderr",
     "output_type": "stream",
     "text": [
      "333it [00:01, 200.21it/s]                         \n"
     ]
    },
    {
     "name": "stdout",
     "output_type": "stream",
     "text": [
      "Should stop\n",
      "Epoch: 049 | Loss: 9.68394 | Tr_c: 0.99957 | Time_Train: 0.096 min\n"
     ]
    },
    {
     "name": "stderr",
     "output_type": "stream",
     "text": [
      "333it [00:01, 206.43it/s]                         \n"
     ]
    },
    {
     "name": "stdout",
     "output_type": "stream",
     "text": [
      "Should stop\n",
      "Epoch: 050 | Loss: 9.51343 | Tr_c: 0.99958 | Time_Train: 0.101 min\n"
     ]
    },
    {
     "name": "stderr",
     "output_type": "stream",
     "text": [
      "333it [00:01, 204.88it/s]                         \n"
     ]
    },
    {
     "name": "stdout",
     "output_type": "stream",
     "text": [
      "Should stop\n",
      "Epoch: 051 | Loss: 9.44587 | Tr_c: 0.99958 | Time_Train: 0.100 min\n"
     ]
    },
    {
     "name": "stderr",
     "output_type": "stream",
     "text": [
      "333it [00:01, 196.52it/s]                         \n"
     ]
    },
    {
     "name": "stdout",
     "output_type": "stream",
     "text": [
      "Should stop\n",
      "Epoch: 052 | Loss: 9.36623 | Tr_c: 0.99958 | Time_Train: 0.091 min\n"
     ]
    },
    {
     "name": "stderr",
     "output_type": "stream",
     "text": [
      "333it [00:01, 209.15it/s]                         \n"
     ]
    },
    {
     "name": "stdout",
     "output_type": "stream",
     "text": [
      "Should stop\n",
      "Epoch: 053 | Loss: 9.16438 | Tr_c: 0.99959 | Time_Train: 0.099 min\n"
     ]
    },
    {
     "name": "stderr",
     "output_type": "stream",
     "text": [
      "333it [00:01, 207.02it/s]                         \n"
     ]
    },
    {
     "name": "stdout",
     "output_type": "stream",
     "text": [
      "Should stop\n",
      "Epoch: 054 | Loss: 9.18034 | Tr_c: 0.99959 | Time_Train: 0.095 min\n"
     ]
    },
    {
     "name": "stderr",
     "output_type": "stream",
     "text": [
      "333it [00:01, 207.66it/s]                         \n"
     ]
    },
    {
     "name": "stdout",
     "output_type": "stream",
     "text": [
      "Should stop\n",
      "Epoch: 055 | Loss: 9.01239 | Tr_c: 0.99959 | Time_Train: 0.102 min\n"
     ]
    },
    {
     "name": "stderr",
     "output_type": "stream",
     "text": [
      "333it [00:01, 204.96it/s]                         \n"
     ]
    },
    {
     "name": "stdout",
     "output_type": "stream",
     "text": [
      "Should stop\n",
      "Epoch: 056 | Loss: 8.95523 | Tr_c: 0.99960 | Time_Train: 0.089 min\n"
     ]
    },
    {
     "name": "stderr",
     "output_type": "stream",
     "text": [
      "333it [00:01, 208.29it/s]                         \n"
     ]
    },
    {
     "name": "stdout",
     "output_type": "stream",
     "text": [
      "Should stop\n",
      "Epoch: 057 | Loss: 8.80852 | Tr_c: 0.99960 | Time_Train: 0.088 min\n"
     ]
    },
    {
     "name": "stderr",
     "output_type": "stream",
     "text": [
      "333it [00:01, 207.92it/s]                         \n"
     ]
    },
    {
     "name": "stdout",
     "output_type": "stream",
     "text": [
      "Should stop\n",
      "Epoch: 058 | Loss: 8.76667 | Tr_c: 0.99961 | Time_Train: 0.084 min\n"
     ]
    },
    {
     "name": "stderr",
     "output_type": "stream",
     "text": [
      "333it [00:01, 207.25it/s]                         \n"
     ]
    },
    {
     "name": "stdout",
     "output_type": "stream",
     "text": [
      "Should stop\n",
      "Epoch: 059 | Loss: 8.65336 | Tr_c: 0.99961 | Time_Train: 0.086 min\n"
     ]
    },
    {
     "name": "stderr",
     "output_type": "stream",
     "text": [
      "333it [00:01, 209.92it/s]                         \n",
      "  0%|          | 17/17535 [00:00<01:46, 164.44it/s]"
     ]
    },
    {
     "name": "stdout",
     "output_type": "stream",
     "text": [
      "Should stop\n"
     ]
    },
    {
     "name": "stderr",
     "output_type": "stream",
     "text": [
      "100%|██████████| 17535/17535 [01:33<00:00, 187.20it/s]\n"
     ]
    },
    {
     "name": "stdout",
     "output_type": "stream",
     "text": [
      "This run over 17535 triples took 1.561 min\n",
      "---------\n",
      "\n",
      "acc : 0.0073\n",
      "mrr : 0.0183\n",
      "hits_at 3 : 0.0116\n",
      "hits_at 5 : 0.0173\n",
      "hits_at 10 : 0.0302\n",
      "Epoch: 060 | Loss: 8.55376 | Tr_c: 0.99962 | Vl_c: 0.00730 | Vl_mrr: 0.01826 | Vl_h3: 0.01158 | Vl_h5: 0.01734 | Vl_h10: 0.03017 | Time_Train: 0.084 min\n"
     ]
    },
    {
     "name": "stderr",
     "output_type": "stream",
     "text": [
      "333it [00:01, 203.74it/s]                         \n"
     ]
    },
    {
     "name": "stdout",
     "output_type": "stream",
     "text": [
      "Should stop\n",
      "Epoch: 061 | Loss: 8.51276 | Tr_c: 0.99962 | Time_Train: 0.076 min\n"
     ]
    },
    {
     "name": "stderr",
     "output_type": "stream",
     "text": [
      "333it [00:01, 210.08it/s]                         \n"
     ]
    },
    {
     "name": "stdout",
     "output_type": "stream",
     "text": [
      "Should stop\n",
      "Epoch: 062 | Loss: 8.48603 | Tr_c: 0.99962 | Time_Train: 0.075 min\n"
     ]
    },
    {
     "name": "stderr",
     "output_type": "stream",
     "text": [
      "333it [00:01, 210.21it/s]                         \n"
     ]
    },
    {
     "name": "stdout",
     "output_type": "stream",
     "text": [
      "Should stop\n",
      "Epoch: 063 | Loss: 8.32145 | Tr_c: 0.99963 | Time_Train: 0.075 min\n"
     ]
    },
    {
     "name": "stderr",
     "output_type": "stream",
     "text": [
      "333it [00:01, 211.08it/s]                         \n"
     ]
    },
    {
     "name": "stdout",
     "output_type": "stream",
     "text": [
      "Should stop\n",
      "Epoch: 064 | Loss: 8.28002 | Tr_c: 0.99963 | Time_Train: 0.083 min\n"
     ]
    },
    {
     "name": "stderr",
     "output_type": "stream",
     "text": [
      "333it [00:01, 210.64it/s]                         \n"
     ]
    },
    {
     "name": "stdout",
     "output_type": "stream",
     "text": [
      "Should stop\n",
      "Epoch: 065 | Loss: 8.22074 | Tr_c: 0.99963 | Time_Train: 0.085 min\n"
     ]
    },
    {
     "name": "stderr",
     "output_type": "stream",
     "text": [
      "333it [00:01, 206.63it/s]                         \n"
     ]
    },
    {
     "name": "stdout",
     "output_type": "stream",
     "text": [
      "Should stop\n",
      "Epoch: 066 | Loss: 8.20296 | Tr_c: 0.99962 | Time_Train: 0.080 min\n"
     ]
    },
    {
     "name": "stderr",
     "output_type": "stream",
     "text": [
      "333it [00:01, 211.32it/s]                         \n"
     ]
    },
    {
     "name": "stdout",
     "output_type": "stream",
     "text": [
      "Should stop\n",
      "Epoch: 067 | Loss: 8.01627 | Tr_c: 0.99964 | Time_Train: 0.077 min\n"
     ]
    },
    {
     "name": "stderr",
     "output_type": "stream",
     "text": [
      "333it [00:01, 207.34it/s]                         \n"
     ]
    },
    {
     "name": "stdout",
     "output_type": "stream",
     "text": [
      "Should stop\n",
      "Epoch: 068 | Loss: 8.08626 | Tr_c: 0.99963 | Time_Train: 0.083 min\n"
     ]
    },
    {
     "name": "stderr",
     "output_type": "stream",
     "text": [
      "333it [00:01, 219.04it/s]                         \n"
     ]
    },
    {
     "name": "stdout",
     "output_type": "stream",
     "text": [
      "Should stop\n",
      "Epoch: 069 | Loss: 8.00628 | Tr_c: 0.99963 | Time_Train: 0.076 min\n"
     ]
    },
    {
     "name": "stderr",
     "output_type": "stream",
     "text": [
      "333it [00:01, 206.68it/s]                         \n"
     ]
    },
    {
     "name": "stdout",
     "output_type": "stream",
     "text": [
      "Should stop\n",
      "Epoch: 070 | Loss: 7.93877 | Tr_c: 0.99963 | Time_Train: 0.077 min\n"
     ]
    },
    {
     "name": "stderr",
     "output_type": "stream",
     "text": [
      "333it [00:01, 208.11it/s]                         \n"
     ]
    },
    {
     "name": "stdout",
     "output_type": "stream",
     "text": [
      "Should stop\n",
      "Epoch: 071 | Loss: 7.82671 | Tr_c: 0.99965 | Time_Train: 0.078 min\n"
     ]
    },
    {
     "name": "stderr",
     "output_type": "stream",
     "text": [
      "333it [00:01, 206.88it/s]                         \n"
     ]
    },
    {
     "name": "stdout",
     "output_type": "stream",
     "text": [
      "Should stop\n",
      "Epoch: 072 | Loss: 7.72368 | Tr_c: 0.99965 | Time_Train: 0.079 min\n"
     ]
    },
    {
     "name": "stderr",
     "output_type": "stream",
     "text": [
      "333it [00:01, 212.08it/s]                         \n"
     ]
    },
    {
     "name": "stdout",
     "output_type": "stream",
     "text": [
      "Should stop\n",
      "Epoch: 073 | Loss: 7.73609 | Tr_c: 0.99964 | Time_Train: 0.078 min\n"
     ]
    },
    {
     "name": "stderr",
     "output_type": "stream",
     "text": [
      "333it [00:01, 203.34it/s]                         \n"
     ]
    },
    {
     "name": "stdout",
     "output_type": "stream",
     "text": [
      "Should stop\n",
      "Epoch: 074 | Loss: 7.70498 | Tr_c: 0.99964 | Time_Train: 0.078 min\n"
     ]
    },
    {
     "name": "stderr",
     "output_type": "stream",
     "text": [
      "333it [00:01, 207.40it/s]                         \n"
     ]
    },
    {
     "name": "stdout",
     "output_type": "stream",
     "text": [
      "Should stop\n",
      "Epoch: 075 | Loss: 7.62787 | Tr_c: 0.99965 | Time_Train: 0.083 min\n"
     ]
    },
    {
     "name": "stderr",
     "output_type": "stream",
     "text": [
      "333it [00:01, 209.99it/s]                         \n"
     ]
    },
    {
     "name": "stdout",
     "output_type": "stream",
     "text": [
      "Should stop\n",
      "Epoch: 076 | Loss: 7.54171 | Tr_c: 0.99966 | Time_Train: 0.079 min\n"
     ]
    },
    {
     "name": "stderr",
     "output_type": "stream",
     "text": [
      "333it [00:01, 218.00it/s]                         \n"
     ]
    },
    {
     "name": "stdout",
     "output_type": "stream",
     "text": [
      "Should stop\n",
      "Epoch: 077 | Loss: 7.50709 | Tr_c: 0.99966 | Time_Train: 0.080 min\n"
     ]
    },
    {
     "name": "stderr",
     "output_type": "stream",
     "text": [
      "333it [00:01, 207.60it/s]                         \n"
     ]
    },
    {
     "name": "stdout",
     "output_type": "stream",
     "text": [
      "Should stop\n",
      "Epoch: 078 | Loss: 7.46298 | Tr_c: 0.99966 | Time_Train: 0.076 min\n"
     ]
    },
    {
     "name": "stderr",
     "output_type": "stream",
     "text": [
      "333it [00:01, 207.39it/s]                         \n"
     ]
    },
    {
     "name": "stdout",
     "output_type": "stream",
     "text": [
      "Should stop\n",
      "Epoch: 079 | Loss: 7.44390 | Tr_c: 0.99966 | Time_Train: 0.075 min\n"
     ]
    },
    {
     "name": "stderr",
     "output_type": "stream",
     "text": [
      "333it [00:01, 210.80it/s]                         \n",
      "  0%|          | 16/17535 [00:00<01:49, 159.42it/s]"
     ]
    },
    {
     "name": "stdout",
     "output_type": "stream",
     "text": [
      "Should stop\n"
     ]
    },
    {
     "name": "stderr",
     "output_type": "stream",
     "text": [
      "100%|██████████| 17535/17535 [01:25<00:00, 205.88it/s]\n"
     ]
    },
    {
     "name": "stdout",
     "output_type": "stream",
     "text": [
      "This run over 17535 triples took 1.420 min\n",
      "---------\n",
      "\n",
      "acc : 0.0074\n",
      "mrr : 0.0184\n",
      "hits_at 3 : 0.0117\n",
      "hits_at 5 : 0.0171\n",
      "hits_at 10 : 0.0291\n",
      "Epoch: 080 | Loss: 7.40331 | Tr_c: 0.99966 | Vl_c: 0.00741 | Vl_mrr: 0.01836 | Vl_h3: 0.01175 | Vl_h5: 0.01711 | Vl_h10: 0.02908 | Time_Train: 0.075 min\n"
     ]
    },
    {
     "name": "stderr",
     "output_type": "stream",
     "text": [
      "333it [00:01, 210.46it/s]                         \n"
     ]
    },
    {
     "name": "stdout",
     "output_type": "stream",
     "text": [
      "Should stop\n",
      "Epoch: 081 | Loss: 7.34236 | Tr_c: 0.99967 | Time_Train: 0.077 min\n"
     ]
    },
    {
     "name": "stderr",
     "output_type": "stream",
     "text": [
      "333it [00:01, 215.47it/s]                         \n"
     ]
    },
    {
     "name": "stdout",
     "output_type": "stream",
     "text": [
      "Should stop\n",
      "Epoch: 082 | Loss: 7.31046 | Tr_c: 0.99966 | Time_Train: 0.076 min\n"
     ]
    },
    {
     "name": "stderr",
     "output_type": "stream",
     "text": [
      "333it [00:01, 213.02it/s]                         \n"
     ]
    },
    {
     "name": "stdout",
     "output_type": "stream",
     "text": [
      "Should stop\n",
      "Epoch: 083 | Loss: 7.26832 | Tr_c: 0.99967 | Time_Train: 0.079 min\n"
     ]
    },
    {
     "name": "stderr",
     "output_type": "stream",
     "text": [
      "333it [00:01, 211.00it/s]                         \n"
     ]
    },
    {
     "name": "stdout",
     "output_type": "stream",
     "text": [
      "Should stop\n",
      "Epoch: 084 | Loss: 7.23505 | Tr_c: 0.99967 | Time_Train: 0.079 min\n"
     ]
    },
    {
     "name": "stderr",
     "output_type": "stream",
     "text": [
      "333it [00:01, 205.82it/s]                         \n"
     ]
    },
    {
     "name": "stdout",
     "output_type": "stream",
     "text": [
      "Should stop\n",
      "Epoch: 085 | Loss: 7.15431 | Tr_c: 0.99966 | Time_Train: 0.081 min\n"
     ]
    },
    {
     "name": "stderr",
     "output_type": "stream",
     "text": [
      "333it [00:01, 211.41it/s]                         \n"
     ]
    },
    {
     "name": "stdout",
     "output_type": "stream",
     "text": [
      "Should stop\n",
      "Epoch: 086 | Loss: 7.11363 | Tr_c: 0.99968 | Time_Train: 0.081 min\n"
     ]
    },
    {
     "name": "stderr",
     "output_type": "stream",
     "text": [
      "333it [00:01, 208.90it/s]                         \n"
     ]
    },
    {
     "name": "stdout",
     "output_type": "stream",
     "text": [
      "Should stop\n",
      "Epoch: 087 | Loss: 7.08666 | Tr_c: 0.99967 | Time_Train: 0.075 min\n"
     ]
    },
    {
     "name": "stderr",
     "output_type": "stream",
     "text": [
      "333it [00:01, 207.12it/s]                         \n"
     ]
    },
    {
     "name": "stdout",
     "output_type": "stream",
     "text": [
      "Should stop\n",
      "Epoch: 088 | Loss: 7.04039 | Tr_c: 0.99968 | Time_Train: 0.079 min\n"
     ]
    },
    {
     "name": "stderr",
     "output_type": "stream",
     "text": [
      "333it [00:01, 207.40it/s]                         \n"
     ]
    },
    {
     "name": "stdout",
     "output_type": "stream",
     "text": [
      "Should stop\n",
      "Epoch: 089 | Loss: 7.01395 | Tr_c: 0.99967 | Time_Train: 0.075 min\n"
     ]
    },
    {
     "name": "stderr",
     "output_type": "stream",
     "text": [
      "333it [00:01, 209.94it/s]                         \n"
     ]
    },
    {
     "name": "stdout",
     "output_type": "stream",
     "text": [
      "Should stop\n",
      "Epoch: 090 | Loss: 6.96323 | Tr_c: 0.99968 | Time_Train: 0.079 min\n"
     ]
    },
    {
     "name": "stderr",
     "output_type": "stream",
     "text": [
      "333it [00:01, 198.65it/s]                         \n"
     ]
    },
    {
     "name": "stdout",
     "output_type": "stream",
     "text": [
      "Should stop\n",
      "Epoch: 091 | Loss: 6.92768 | Tr_c: 0.99968 | Time_Train: 0.077 min\n"
     ]
    },
    {
     "name": "stderr",
     "output_type": "stream",
     "text": [
      "333it [00:01, 207.00it/s]                         \n"
     ]
    },
    {
     "name": "stdout",
     "output_type": "stream",
     "text": [
      "Should stop\n",
      "Epoch: 092 | Loss: 6.87043 | Tr_c: 0.99968 | Time_Train: 0.078 min\n"
     ]
    },
    {
     "name": "stderr",
     "output_type": "stream",
     "text": [
      "333it [00:01, 212.61it/s]                         \n"
     ]
    },
    {
     "name": "stdout",
     "output_type": "stream",
     "text": [
      "Should stop\n",
      "Epoch: 093 | Loss: 6.86914 | Tr_c: 0.99968 | Time_Train: 0.080 min\n"
     ]
    },
    {
     "name": "stderr",
     "output_type": "stream",
     "text": [
      "333it [00:01, 211.41it/s]                         \n"
     ]
    },
    {
     "name": "stdout",
     "output_type": "stream",
     "text": [
      "Should stop\n",
      "Epoch: 094 | Loss: 6.83455 | Tr_c: 0.99969 | Time_Train: 0.081 min\n"
     ]
    },
    {
     "name": "stderr",
     "output_type": "stream",
     "text": [
      "333it [00:01, 210.39it/s]                         \n"
     ]
    },
    {
     "name": "stdout",
     "output_type": "stream",
     "text": [
      "Should stop\n",
      "Epoch: 095 | Loss: 6.75938 | Tr_c: 0.99969 | Time_Train: 0.078 min\n"
     ]
    },
    {
     "name": "stderr",
     "output_type": "stream",
     "text": [
      "333it [00:01, 210.53it/s]                         \n"
     ]
    },
    {
     "name": "stdout",
     "output_type": "stream",
     "text": [
      "Should stop\n",
      "Epoch: 096 | Loss: 6.82653 | Tr_c: 0.99968 | Time_Train: 0.076 min\n"
     ]
    },
    {
     "name": "stderr",
     "output_type": "stream",
     "text": [
      "333it [00:01, 210.55it/s]                         \n"
     ]
    },
    {
     "name": "stdout",
     "output_type": "stream",
     "text": [
      "Should stop\n",
      "Epoch: 097 | Loss: 6.69029 | Tr_c: 0.99969 | Time_Train: 0.080 min\n"
     ]
    },
    {
     "name": "stderr",
     "output_type": "stream",
     "text": [
      "333it [00:01, 210.64it/s]                         \n"
     ]
    },
    {
     "name": "stdout",
     "output_type": "stream",
     "text": [
      "Should stop\n",
      "Epoch: 098 | Loss: 6.75061 | Tr_c: 0.99969 | Time_Train: 0.081 min\n"
     ]
    },
    {
     "name": "stderr",
     "output_type": "stream",
     "text": [
      "333it [00:01, 208.21it/s]                         \n"
     ]
    },
    {
     "name": "stdout",
     "output_type": "stream",
     "text": [
      "Should stop\n",
      "Epoch: 099 | Loss: 6.67331 | Tr_c: 0.99969 | Time_Train: 0.076 min\n"
     ]
    },
    {
     "ename": "NameError",
     "evalue": "name 'valid_acc_like_trn' is not defined",
     "output_type": "error",
     "traceback": [
      "\u001b[0;31m---------------------------------------------------------------------------\u001b[0m",
      "\u001b[0;31mNameError\u001b[0m                                 Traceback (most recent call last)",
      "\u001b[0;32m<ipython-input-14-2d39cad86446>\u001b[0m in \u001b[0;36m<module>\u001b[0;34m\u001b[0m\n\u001b[0;32m----> 1\u001b[0;31m \u001b[0msimplest_loop\u001b[0m\u001b[0;34m(\u001b[0m\u001b[0;34m**\u001b[0m\u001b[0margs\u001b[0m\u001b[0;34m)\u001b[0m\u001b[0;34m\u001b[0m\u001b[0;34m\u001b[0m\u001b[0m\n\u001b[0m",
      "\u001b[0;32m<ipython-input-12-b7ddad800131>\u001b[0m in \u001b[0;36msimplest_loop\u001b[0;34m(epochs, data, opt, train_fn, predict_fn, device, data_fn, data_fn_val, eval_fn_trn, eval_fn_val, eval_every)\u001b[0m\n\u001b[1;32m    160\u001b[0m \u001b[0;34m\u001b[0m\u001b[0m\n\u001b[1;32m    161\u001b[0m \u001b[0;34m\u001b[0m\u001b[0m\n\u001b[0;32m--> 162\u001b[0;31m     \u001b[0;32mreturn\u001b[0m \u001b[0mtrain_acc\u001b[0m\u001b[0;34m,\u001b[0m \u001b[0mvalid_acc\u001b[0m\u001b[0;34m,\u001b[0m \u001b[0mvalid_acc_like_trn\u001b[0m\u001b[0;34m,\u001b[0m \u001b[0mvalid_mrr\u001b[0m\u001b[0;34m,\u001b[0m \u001b[0mtrain_loss\u001b[0m\u001b[0;34m\u001b[0m\u001b[0;34m\u001b[0m\u001b[0m\n\u001b[0m",
      "\u001b[0;31mNameError\u001b[0m: name 'valid_acc_like_trn' is not defined"
     ]
    }
   ],
   "source": [
    "simplest_loop(**args)"
   ]
  },
  {
   "cell_type": "code",
   "execution_count": null,
   "metadata": {},
   "outputs": [],
   "source": []
  }
 ],
 "metadata": {
  "kernelspec": {
   "display_name": "Python 3",
   "language": "python",
   "name": "python3"
  },
  "language_info": {
   "codemirror_mode": {
    "name": "ipython",
    "version": 3
   },
   "file_extension": ".py",
   "mimetype": "text/x-python",
   "name": "python",
   "nbconvert_exporter": "python",
   "pygments_lexer": "ipython3",
   "version": "3.6.9"
  }
 },
 "nbformat": 4,
 "nbformat_minor": 2
}
