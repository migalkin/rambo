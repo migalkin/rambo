{
 "cells": [
  {
   "cell_type": "markdown",
   "metadata": {},
   "source": [
    "# TransE\n",
    "\n",
    "**Data**: s, p, o, qp, qe\n",
    "\n",
    "$s,p,o,qe,qp \\in R^{d}$"
   ]
  },
  {
   "cell_type": "markdown",
   "metadata": {},
   "source": [
    "## Challenge\n",
    "1. Model\n",
    "2. Sampling Code\n",
    "\n",
    "\n",
    "**Model** from [pyKeen](https://github.com/SmartDataAnalytics/PyKEEN/blob/master/src/pykeen/kge_models/trans_e.py)"
   ]
  },
  {
   "cell_type": "code",
   "execution_count": 1,
   "metadata": {},
   "outputs": [],
   "source": [
    "import logging\n",
    "# from dataclasses import dataclass\n",
    "from typing import Dict\n",
    "\n",
    "from tqdm import tqdm_notebook as tqdm\n",
    "import pandas as  pd\n",
    "import numpy as np\n",
    "import traceback\n",
    "import warnings\n",
    "import random\n",
    "import pickle\n",
    "\n",
    "import torch\n",
    "import torch.autograd\n",
    "from torch import nn\n",
    "\n",
    "from functools import partial\n",
    "from typing import Optional, Union, List, Callable\n",
    "\n",
    "# MyTorch imports\n",
    "from mytorch.utils.goodies import *\n",
    "from mytorch import dataiters\n",
    "\n",
    "import wandb"
   ]
  },
  {
   "cell_type": "code",
   "execution_count": 2,
   "metadata": {
    "scrolled": true
   },
   "outputs": [],
   "source": [
    "# Local imports\n",
    "from raw_parser import Quint\n",
    "from utils import *\n",
    "from corruption import sample_negatives"
   ]
  },
  {
   "cell_type": "code",
   "execution_count": 3,
   "metadata": {},
   "outputs": [],
   "source": [
    "np.random.seed(42)\n",
    "random.seed(42)"
   ]
  },
  {
   "cell_type": "markdown",
   "metadata": {},
   "source": [
    "## Basic Stats\n",
    "n_entities, n_relations etc"
   ]
  },
  {
   "cell_type": "raw",
   "metadata": {},
   "source": [
    "# Load data from disk\n",
    "with open('./parsed_raw_data.pkl', 'rb') as f:\n",
    "    raw_data = pickle.load(f)"
   ]
  },
  {
   "cell_type": "raw",
   "metadata": {},
   "source": [
    "entities, predicates = [], []\n",
    "\n",
    "for quint in raw_data:\n",
    "    entities += [quint[0], quint[2]]\n",
    "    if quint[4]:\n",
    "        entities.append(quint[4])\n",
    "        \n",
    "    predicates.append(quint[1])\n",
    "    if quint[3]: \n",
    "        predicates.append(quint[3])\n",
    "    \n",
    "entities = list(set(entities))\n",
    "predicates = list(set(predicates))\n",
    "        \n",
    "print(len(entities), len(predicates))"
   ]
  },
  {
   "cell_type": "markdown",
   "metadata": {},
   "source": [
    "## TransE Neural Model\n",
    "Code from PyKeen"
   ]
  },
  {
   "cell_type": "code",
   "execution_count": 4,
   "metadata": {},
   "outputs": [],
   "source": [
    "EXPERIMENT_CONFIG = {\n",
    "    'NUM_ENTITIES': len(entities),\n",
    "    'NUM_RELATIONS': len(predicates),\n",
    "    'EMBEDDING_DIM': 200,\n",
    "    'NORM_FOR_NORMALIZATION_OF_ENTITIES': 2,\n",
    "    'NORM_FOR_NORMALIZATION_OF_RELATIONS': 2,\n",
    "    'SCORING_FUNCTION_NORM': 1,\n",
    "    'MARGIN_LOSS': 4,\n",
    "    'LEARNING_RATE': 0.001,\n",
    "    'NEGATIVE_SAMPLING_PROBS': [0.3, 0.0, 0.2, 0.5],\n",
    "    'NEGATIVE_SAMPLING_TIMES': 10,\n",
    "    'BATCH_SIZE': 8192,\n",
    "    'EPOCHS': 100\n",
    "}"
   ]
  },
  {
   "cell_type": "code",
   "execution_count": 5,
   "metadata": {},
   "outputs": [],
   "source": [
    "def slice_triples(triples: torch.Tensor) -> List[torch.Tensor]:\n",
    "    \"\"\" Slice in 3 or 5 as needed \"\"\"\n",
    "    return triples[:,0], triples[:,1], triples[:,2], triples[:,3], triples[:, 4]\n",
    "    "
   ]
  },
  {
   "cell_type": "raw",
   "metadata": {},
   "source": [
    "# Test slice_triples\n",
    "t = torch.randint(0, 100, (10, 5))\n",
    "t, slice_triples(t)"
   ]
  },
  {
   "cell_type": "code",
   "execution_count": 6,
   "metadata": {},
   "outputs": [],
   "source": [
    "class BaseModule(nn.Module):\n",
    "    \"\"\"A base class for all of the models.\"\"\"\n",
    "\n",
    "    margin_ranking_loss_size_average: bool = None\n",
    "    entity_embedding_max_norm: Optional[int] = None\n",
    "    entity_embedding_norm_type: int = 2\n",
    "    hyper_params = [EXPERIMENT_CONFIG['EMBEDDING_DIM'], \n",
    "                    EXPERIMENT_CONFIG['MARGIN_LOSS'], \n",
    "                    EXPERIMENT_CONFIG['LEARNING_RATE']]\n",
    "\n",
    "    def __init__(self, config: Dict) -> None:\n",
    "        super().__init__()\n",
    "\n",
    "        # Device selection\n",
    "        self.device = config['DEVICE']\n",
    "\n",
    "        # Loss\n",
    "        self.margin_loss = config['MARGIN_LOSS']\n",
    "        self.criterion = nn.MarginRankingLoss(\n",
    "            margin=self.margin_loss,\n",
    "            reduction='mean' if self.margin_ranking_loss_size_average else 'sum'\n",
    "        )\n",
    "\n",
    "        # Entity dimensions\n",
    "        #: The number of entities in the knowledge graph\n",
    "        self.num_entities = config['NUM_ENTITIES']\n",
    "        #: The number of unique relation types in the knowledge graph\n",
    "        self.num_relations = config['NUM_RELATIONS']\n",
    "        #: The dimension of the embeddings to generate\n",
    "        self.embedding_dim = config['EMBEDDING_DIM']\n",
    "\n",
    "        self.entity_embeddings = nn.Embedding(\n",
    "            self.num_entities,\n",
    "            self.embedding_dim,\n",
    "            norm_type=self.entity_embedding_norm_type,\n",
    "            max_norm=self.entity_embedding_max_norm,\n",
    "        )\n",
    "\n",
    "    def __init_subclass__(cls, **kwargs):  # noqa: D105\n",
    "        if not getattr(cls, 'model_name', None):\n",
    "            raise TypeError('missing model_name class attribute')\n",
    "\n",
    "    def _get_entity_embeddings(self, entities):\n",
    "        return self.entity_embeddings(entities).view(-1, self.embedding_dim)\n",
    "\n",
    "    def _compute_loss(self, positive_scores: torch.Tensor, negative_scores: torch.Tensor) -> torch.Tensor:\n",
    "        y = np.repeat([1], repeats=positive_scores.shape[0])\n",
    "        y = torch.tensor(y, dtype=torch.float, device=self.device)\n",
    "\n",
    "        loss = self.criterion(positive_scores, negative_scores, y)\n",
    "        return loss"
   ]
  },
  {
   "cell_type": "code",
   "execution_count": 7,
   "metadata": {},
   "outputs": [],
   "source": [
    "class TransE(BaseModule):\n",
    "    \"\"\"An implementation of TransE [borders2013]_.\n",
    "     This model considers a relation as a translation from the head to the tail entity.\n",
    "    .. [borders2013] Bordes, A., *et al.* (2013). `Translating embeddings for modeling multi-relational data\n",
    "                     <http://papers.nips.cc/paper/5071-translating-embeddings-for-modeling-multi-relational-data.pdf>`_\n",
    "                     . NIPS.\n",
    "    .. seealso::\n",
    "       - Alternative implementation in OpenKE: https://github.com/thunlp/OpenKE/blob/OpenKE-PyTorch/models/TransE.py\n",
    "    \"\"\"\n",
    "\n",
    "    model_name = 'TransE MM'\n",
    "    margin_ranking_loss_size_average: bool = True\n",
    "    entity_embedding_max_norm: Optional[int] = None\n",
    "    entity_embedding_norm_type: int = 2\n",
    "    \n",
    "    def __init__(self, config) -> None:\n",
    "        super().__init__(config)\n",
    "\n",
    "        # Embeddings\n",
    "        self.l_p_norm_entities = config['NORM_FOR_NORMALIZATION_OF_ENTITIES']\n",
    "        self.scoring_fct_norm = config['SCORING_FUNCTION_NORM']\n",
    "        self.relation_embeddings = nn.Embedding(config['NUM_RELATIONS'], config['EMBEDDING_DIM'])\n",
    "        \n",
    "        self.config = config\n",
    "\n",
    "        self._initialize()\n",
    "\n",
    "    def _initialize(self):\n",
    "        embeddings_init_bound = 6 / np.sqrt(self.config['EMBEDDING_DIM'])\n",
    "        nn.init.uniform_(\n",
    "            self.entity_embeddings.weight.data,\n",
    "            a=-embeddings_init_bound,\n",
    "            b=+embeddings_init_bound,\n",
    "        )\n",
    "        nn.init.uniform_(\n",
    "            self.relation_embeddings.weight.data,\n",
    "            a=-embeddings_init_bound,\n",
    "            b=+embeddings_init_bound,\n",
    "        )\n",
    "\n",
    "        norms = torch.norm(self.relation_embeddings.weight, \n",
    "                           p=self.config['NORM_FOR_NORMALIZATION_OF_RELATIONS'], dim=1).data\n",
    "        self.relation_embeddings.weight.data = self.relation_embeddings.weight.data.div(\n",
    "            norms.view(self.num_relations, 1).expand_as(self.relation_embeddings.weight))\n",
    "\n",
    "    def predict(self, triples):\n",
    "        scores = self._score_triples(triples)\n",
    "        return scores\n",
    "\n",
    "    def forward(self, batch_positives, batch_negatives):\n",
    "        # Normalize embeddings of entities\n",
    "        norms = torch.norm(self.entity_embeddings.weight, p=self.l_p_norm_entities, dim=1).data\n",
    "        self.entity_embeddings.weight.data = self.entity_embeddings.weight.data.div(\n",
    "            norms.view(self.num_entities, 1).expand_as(self.entity_embeddings.weight))\n",
    "\n",
    "        positive_scores = self._score_triples(batch_positives)\n",
    "        negative_scores = self._score_triples(batch_negatives)\n",
    "        loss = self._compute_loss(positive_scores=positive_scores, negative_scores=negative_scores)\n",
    "        return (positive_scores, negative_scores), loss\n",
    "\n",
    "    def _score_triples(self, triples):\n",
    "        \n",
    "        head_embeddings, relation_embeddings, tail_embeddings, qual_relation_embeddings, qual_entity_embeddings = self._get_triple_embeddings(triples)\n",
    "        scores = self._compute_scores(head_embeddings, relation_embeddings, tail_embeddings, qual_relation_embeddings, qual_entity_embeddings)\n",
    "        return scores\n",
    "\n",
    "    def _compute_scores(self, head_embeddings, relation_embeddings, tail_embeddings, qual_relation_embeddings, qual_entity_embeddings):\n",
    "        \"\"\"\n",
    "            Compute the scores based on the head, relation, and tail embeddings.\n",
    "        \n",
    "        :param head_embeddings: embeddings of head entities of dimension batchsize x embedding_dim\n",
    "        :param relation_embeddings: emebddings of relation embeddings of dimension batchsize x embedding_dim\n",
    "        :param tail_embeddings: embeddings of tail entities of dimension batchsize x embedding_dim\n",
    "        :param qual_relation_embeddings: embeddings of qualifier relation of dimension batchsize x embedding_dim\n",
    "        :param qual_entity_embeddings: embeddings of qualifier entity of dimension batchsize x embedding_dim\n",
    "        :return: Tensor of dimension batch_size containing the scores for each batch element\n",
    "        \"\"\"\n",
    "        # Add the vector element wise\n",
    "        sum_res = head_embeddings + relation_embeddings - tail_embeddings \\\n",
    "                                        + qual_relation_embeddings - qual_entity_embeddings\n",
    "        distances = torch.norm(sum_res, dim=1, p=self.scoring_fct_norm).view(size=(-1,))\n",
    "        return distances\n",
    "\n",
    "    def _get_triple_embeddings(self, triples):\n",
    "        heads, relations, tails, qual_relations, qual_entities = slice_triples(triples)\n",
    "        return (\n",
    "            self._get_entity_embeddings(heads),\n",
    "            self._get_relation_embeddings(relations),\n",
    "            self._get_entity_embeddings(tails),\n",
    "            self._get_relation_embeddings(qual_relations),\n",
    "            self._get_entity_embeddings(qual_entities)\n",
    "        )\n",
    "\n",
    "    def _get_relation_embeddings(self, relations):\n",
    "        return self.relation_embeddings(relations).view(-1, self.embedding_dim)"
   ]
  },
  {
   "cell_type": "markdown",
   "metadata": {},
   "source": [
    "## Data Sampling etc\n",
    "\n",
    "TODO: Figuring out \n",
    "1. How to perturb data\n",
    "2. What ratios\n",
    "3. Train/Test splits\n",
    "4. Test task\n",
    "\n",
    "**CODE ORG**\n",
    "Instead of perturbing on the fly, we can pre-perturb it and then do splits and batches.\n",
    "\n",
    "**How to deal with cases w no qualifiers**\n",
    "    - treat them differently?"
   ]
  },
  {
   "cell_type": "raw",
   "metadata": {},
   "source": [
    "for datum in data:\n",
    "    case 1 (enter with p) -> fuck s\n",
    "    case 2 (enter with p) -> fuck o\n",
    "    case 3 (enter with p) -> fuck r\n",
    "    case 3 (enter with p)\n",
    "        -> either qe, qp exist\n",
    "            -> either you can remove qe, qp | or replace qe & qp | or replace qe | or replace qp\n",
    "        -> they dont exist\n",
    "            -> either you add qe qp\n",
    "    check if corrupted thing doesnt exist in dataset."
   ]
  },
  {
   "cell_type": "code",
   "execution_count": 8,
   "metadata": {},
   "outputs": [
    {
     "data": {
      "text/plain": [
       "(Quint(s='Q636', p='P27', o='Q8854904', qp=None, qe=None),\n",
       " Quint(s='Q636', p='P27', o='Q145', qp=None, qe=None))"
      ]
     },
     "execution_count": 8,
     "metadata": {},
     "output_type": "execute_result"
    }
   ],
   "source": [
    "sample_negatives(raw_data[0], EXPERIMENT_CONFIG['NEGATIVE_SAMPLING_PROBS']), raw_data[0]"
   ]
  },
  {
   "cell_type": "raw",
   "metadata": {},
   "source": [
    "negatives = [sample_negatives(datum, prob) for datum in raw_data]"
   ]
  },
  {
   "cell_type": "code",
   "execution_count": 9,
   "metadata": {},
   "outputs": [],
   "source": [
    "def generate_negatives(positive: List[Quint], probs: List[float], times: int):\n",
    "    \"\"\"\n",
    "        :param postive: List of the raw data\n",
    "        :param probs: List of probabilities to generate neg data following [ p(s), p(r), p(o), p(q) ]\n",
    "        :param times: how many negative samples per positive sample.\n",
    "    \"\"\"\n",
    "    negatives = []\n",
    "    for pos in tqdm(positive):\n",
    "        negatives_per_pos = [sample_negatives(pos, probs) for _ in range(times)]\n",
    "        negatives.append(negatives_per_pos)\n",
    "        \n",
    "    return negatives"
   ]
  },
  {
   "cell_type": "code",
   "execution_count": 10,
   "metadata": {},
   "outputs": [],
   "source": [
    "try:\n",
    "    negatives = pickle.load(open(PRETRAINING_DATA_DIR / 'negatives.pkl', 'rb'))\n",
    "except (FileNotFoundError, IOError) as e:\n",
    "    # Generate it again\n",
    "    warnings.warn(\"Negative data not pre-generating. Takes three minutes.\")\n",
    "    negatives = generate_negatives(raw_data, \n",
    "                                   probs = EXPERIMENT_CONFIG['NEGATIVE_SAMPLING_PROBS'],\n",
    "                                   times = EXPERIMENT_CONFIG['NEGATIVE_SAMPLING_TIMES'])\n",
    "\n",
    "    # Dump this somewhere\n",
    "    with open(PRETRAINING_DATA_DIR / 'negatives.pkl', 'wb+') as f:\n",
    "        pickle.dump(negatives, f)"
   ]
  },
  {
   "cell_type": "code",
   "execution_count": 11,
   "metadata": {},
   "outputs": [],
   "source": [
    "_positives, _negatives = [], []\n",
    "for quint in raw_data:\n",
    "    _pos = [\n",
    "        entoid[quint[0]], \n",
    "        prtoid[quint[1]], \n",
    "        entoid[quint[2]], \n",
    "        prtoid[quint[3] if quint[3] else '__na__'], \n",
    "        entoid[quint[4] if quint[4] else '__na__']\n",
    "    ]\n",
    "    _positives.append(_pos)\n",
    "    \n",
    "for negative in negatives:\n",
    "    _negative = []\n",
    "    for quint in negative:\n",
    "        _neg = [\n",
    "            entoid[quint[0]], \n",
    "            prtoid[quint[1]], \n",
    "            entoid[quint[2]], \n",
    "            prtoid[quint[3] if quint[3] else '__na__'], \n",
    "            entoid[quint[4] if quint[4] else '__na__']\n",
    "        ] \n",
    "        _negative.append(_neg)\n",
    "    _negatives.append(_negative)\n",
    "\n",
    "# _positives, _negatives = np.array(_positives), np.array(_negatives)"
   ]
  },
  {
   "cell_type": "raw",
   "metadata": {},
   "source": [
    "_positives[:10], _negatives[0]"
   ]
  },
  {
   "cell_type": "raw",
   "metadata": {},
   "source": [
    "# Convert raw_data (pos) and negatives to int lists/arrays\n",
    "_positives = [[uritoid[uri] if uri else uritoid['__na__'] for uri in quint] for quint in raw_data]\n",
    "_negatives = [[[uritoid[uri] if uri else uritoid['__na__'] for uri in quint] for quint in negative] for negative in negatives]"
   ]
  },
  {
   "cell_type": "raw",
   "metadata": {},
   "source": [
    "ss = SingleSampler(data={\"pos\": _positives, \"neg\": _negatives }, bs=200)\n",
    "for i, x in enumerate(ss):\n",
    "    print(x.shape)\n",
    "    if i> 10: \n",
    "        break\n",
    "#     pass"
   ]
  },
  {
   "cell_type": "raw",
   "metadata": {},
   "source": [
    "# Try sampling (test), skip in prod\n",
    "sampler = QuintRankingSampler({\"pos\": _positives, \"neg\": _negatives }, bs=800)\n",
    "actual_length = len(_positives)*10 + sum(len(x) for x in _negatives)\n",
    "sampled_length = 0\n",
    "for pos, neg in tqdm(sampler):\n",
    "    sampled_length += len(pos)\n",
    "    sampled_length += len(neg)\n",
    "\n",
    "    \n",
    "# assert sampled_length == actual_length, f\"Different lengths: sampled - {sampled_length}, actual - {actual_length}\""
   ]
  },
  {
   "cell_type": "markdown",
   "metadata": {},
   "source": [
    "## Training\n",
    "\n",
    "Make a model.\n",
    "\n",
    "See if we can use something for loop."
   ]
  },
  {
   "cell_type": "code",
   "execution_count": 12,
   "metadata": {},
   "outputs": [
    {
     "data": {
      "text/html": [
       "\n",
       "        Notebook configured with <a href=\"https://wandb.com\" target=\"_blank\">W&B</a>. You can <a href=\"https://app.wandb.ai/geraltofrivia783/wikidata-embeddings/runs/up5puv0l?apiKey=3a8d7c8feb5ed0b57d1dead1314e5624ee2b388e\" target=\"_blank\">open</a> the run page, or call <code>%%wandb</code>\n",
       "        in a cell containing your training loop to display live results.  Learn more in our <a href=\"https://docs.wandb.com/docs/integrations/jupyter.html\" target=\"_blank\">docs</a>.\n",
       "    "
      ],
      "text/plain": [
       "<IPython.core.display.HTML object>"
      ]
     },
     "metadata": {},
     "output_type": "display_data"
    }
   ],
   "source": [
    "config = EXPERIMENT_CONFIG.copy()\n",
    "config['DEVICE'] = torch.device('cuda')\n",
    "model = TransE(config)\n",
    "model.to(config['DEVICE'])\n",
    "optimizer = torch.optim.SGD(model.parameters(), lr=config['LEARNING_RATE'])\n",
    "\n",
    "\n",
    "wandb.init(project=\"wikidata-embeddings\")\n",
    "for k, v in config.items():\n",
    "    wandb.config[k] = v"
   ]
  },
  {
   "cell_type": "code",
   "execution_count": 13,
   "metadata": {},
   "outputs": [],
   "source": [
    "# Split data in train and valid\n",
    "index = np.arange(len(_positives))\n",
    "np.random.shuffle(index)\n",
    "train_index, valid_index = index[:int(index.shape[0]*0.8)], index[int(index.shape[0]*0.8):]\n",
    "train_pos = [_positives[i] for i in train_index]\n",
    "valid_pos = [_positives[i] for i in valid_index]\n",
    "train_neg = [_negatives[i] for i in train_index]\n",
    "valid_neg = [_negatives[i] for i in valid_index]\n",
    "data = {'train': {'pos': train_pos, 'neg': train_neg}, 'valid': {'pos': valid_pos, 'neg': valid_neg}}"
   ]
  },
  {
   "cell_type": "raw",
   "metadata": {},
   "source": [
    "score = torch.randn(6) # 17 is bs; 6 things\n",
    "acc = (torch.argmax(score, dim=0)==0).float()\n",
    "print(score)\n",
    "rr = 1/(torch.argsort(-score).tolist().index(0) + 1)\n",
    "rr, acc\n",
    "# print(torch.mean((torch.argmax(score, dim=0)==0).float()))\n",
    "# print(torch.argmax(s, dim=-1))\n",
    "# torch.argsort(s, dim=-1)[0], s[0,:]\n"
   ]
  },
  {
   "cell_type": "code",
   "execution_count": 14,
   "metadata": {},
   "outputs": [],
   "source": [
    "def evaluate_pointwise(pos_scores: torch.Tensor, neg_scores:torch.Tensor)->torch.Tensor:\n",
    "    \"\"\"\n",
    "        Given a pos and neg quint, how many times did the score for positive be more than score for negative\n",
    "    \n",
    "        :param pos_scores: scores corresponding to pos quints (bs, )\n",
    "        :param neg_scores: scores corresponding to neg quints (bs, )\n",
    "        :return accuracy (0d tensor)\n",
    "    \"\"\"\n",
    "    return torch.mean((pos_scores>=neg_scores).float()).item()\n",
    "    \n",
    "def evaluate_dataset(scores:torch.Tensor):\n",
    "    \"\"\"\n",
    "        Compute score for `bs` set of [pos, neg, neg .....] quints.\n",
    "        Assume pos is at the first position.\n",
    "        \n",
    "        \n",
    "        :param scores: torch tensor of scores (bs,neg_samples+1)\n",
    "        :returns (acc, mrr) both 1d tensors.\n",
    "    \"\"\"\n",
    "    accuracy = (torch.argmax(scores, dim=1)==0).float()\n",
    "    ranks = (torch.argsort(-scores, dim=1) == 0).nonzero()[:,1]\n",
    "    print(ranks)\n",
    "    recirank = 1.0/(ranks+1).float()\n",
    "    \n",
    "    return accuracy.detach().cpu().numpy(), recirank.detach().cpu().numpy()\n",
    "    "
   ]
  },
  {
   "cell_type": "code",
   "execution_count": 15,
   "metadata": {},
   "outputs": [],
   "source": [
    "# Make a loop fn\n",
    "def simplest_loop(epochs: int,\n",
    "                  data: dict,\n",
    "                  opt: torch.optim,\n",
    "                  train_fn: Callable,\n",
    "                  predict_fn: Callable,\n",
    "                  device: torch.device = torch.device('cpu'),\n",
    "                  data_fn: Callable = dataiters.SimplestSampler,\n",
    "                  data_fn_val: Callable = dataiters.SimplestSampler,\n",
    "                  eval_fn_trn: Callable = default_eval,\n",
    "                  eval_fn_val: Callable = default_eval) -> (list, list, list):\n",
    "    \"\"\"\n",
    "        A fn which can be used to train a language model.\n",
    "\n",
    "        The model doesn't need to be an nn.Module,\n",
    "            but have an eval (optional), a train and a predict function.\n",
    "\n",
    "        Data should be a dict like so:\n",
    "            {\"train\":{\"x\":np.arr, \"y\":np.arr}, \"val\":{\"x\":np.arr, \"y\":np.arr} }\n",
    "\n",
    "        Train_fn must return both loss and y_pred\n",
    "\n",
    "        :param epochs: number of epochs to train for\n",
    "        :param data: a dict having keys train_x, test_x, train_y, test_y\n",
    "        :param device: torch device to create new tensor from data\n",
    "        :param opt: optimizer\n",
    "        :param loss_fn: loss function\n",
    "        :param train_fn: function to call with x and y\n",
    "        :param predict_fn: function to call with x (test)\n",
    "        :param data_fn: a class to which we can pass training data and get an iterator.\n",
    "        :param data_fn_val: can be same as above; or diff. Specifically for validation runs.\n",
    "        :param eval_fn: (optional) function which when given pred and true, returns acc\n",
    "        :return: traces\n",
    "    \"\"\"\n",
    "\n",
    "    train_loss = []\n",
    "    train_acc = []\n",
    "    valid_acc = []\n",
    "    valid_acc_like_trn = []\n",
    "    valid_mrr = []\n",
    "    lrs = []\n",
    "\n",
    "    # Epoch level\n",
    "    for e in range(epochs):\n",
    "\n",
    "        per_epoch_loss = []\n",
    "        per_epoch_tr_acc = []\n",
    "\n",
    "        # Train\n",
    "        with Timer() as timer:\n",
    "\n",
    "            # Make data\n",
    "            trn_dl, val_dl_like_trn, val_dl = data_fn(data['train']), data_fn(data['valid']), data_fn_val(data['valid'])\n",
    "\n",
    "            for pos, neg in tqdm(trn_dl):\n",
    "                opt.zero_grad()\n",
    "\n",
    "                _pos = torch.tensor(pos, dtype=torch.long, device=device)\n",
    "                _neg = torch.tensor(neg, dtype=torch.long, device=device)\n",
    "\n",
    "                (pos_scores, neg_scores), loss = train_fn(_pos, _neg)\n",
    "\n",
    "                per_epoch_tr_acc.append(eval_fn_trn(pos_scores=pos_scores, neg_scores=neg_scores))\n",
    "                per_epoch_loss.append(loss.item())\n",
    "\n",
    "                loss.backward()\n",
    "                opt.step()\n",
    "\n",
    "        \"\"\"\n",
    "            # Val\n",
    "            Run through the dataset twice.\n",
    "                1. same as training data (pointwise eval)\n",
    "                2. One quint (pos+negs) at a time. \n",
    "        \"\"\" \n",
    "        \n",
    "        with torch.no_grad():\n",
    "\n",
    "            per_epoch_vl_acc, per_epoch_vl_mrr, per_epoch_vl_acc_like_trn = [], [], []\n",
    "            for quints in tqdm(val_dl):\n",
    "                _quints = torch.tensor(quints, dtype=torch.long, device=device)\n",
    "                \n",
    "                # Flatten it\n",
    "                _quints_shape = _quints.shape\n",
    "                scores = predict_fn(_quints.view(-1, _quints_shape[-1]))\n",
    "                scores = scores.view(_quints_shape[0], _quints_shape[1])\n",
    "                \n",
    "                accuracy, recirank = eval_fn_val(scores)\n",
    "\n",
    "                per_epoch_vl_acc.append(accuracy)\n",
    "                per_epoch_vl_mrr.append(recirank)\n",
    "            \n",
    "            for pos, neg in tqdm(val_dl_like_trn):\n",
    "                \n",
    "                _pos = torch.tensor(pos, dtype=torch.long, device=device)\n",
    "                _neg = torch.tensor(neg, dtype=torch.long, device=device)\n",
    "\n",
    "                (pos_scores, neg_scores), loss = train_fn(_pos, _neg)\n",
    "                acc = eval_fn_trn(pos_scores=pos_scores, neg_scores=neg_scores)\n",
    "                \n",
    "                per_epoch_vl_acc_like_trn.append(acc)\n",
    "\n",
    "        # Bookkeep\n",
    "        train_acc.append(np.mean(per_epoch_tr_acc))\n",
    "        train_loss.append(np.mean(per_epoch_loss))\n",
    "        valid_acc.append(np.mean(per_epoch_vl_acc))\n",
    "        valid_acc_like_trn.append(np.mean(per_epoch_vl_acc_like_trn))\n",
    "        valid_mrr.append(np.mean(per_epoch_vl_mrr))\n",
    "        \n",
    "        print(\"Epoch: %(epo)03d | Loss: %(loss).5f | Tr_c: %(tracc)0.5f | Vl_c: %(vlacc)0.5f | Vl_c_liketrn: %(vlacc_liketrn)0.5f | Vl_mrr: %(vlmrr)0.5f |Time: %(time).3f min\"\n",
    "              % {'epo': e,\n",
    "                 'loss': float(np.mean(per_epoch_loss)),\n",
    "                 'tracc': float(np.mean(per_epoch_tr_acc)),\n",
    "                 'vlacc': float(np.mean(per_epoch_vl_acc)),\n",
    "                 'vlacc_liketrn': float(np.mean(per_epoch_vl_acc_like_trn)),\n",
    "                 'vlmrr': float(np.mean(per_epoch_vl_mrr)),\n",
    "                 'time': timer.interval / 60.0})\n",
    "\n",
    "        # Wandb stuff\n",
    "        wandb.log({\n",
    "            'epoch': e, \n",
    "            'loss': float(np.mean(per_epoch_loss)),\n",
    "            'trn_acc': float(np.mean(per_epoch_tr_acc)),\n",
    "            'val_acc': float(np.mean(per_epoch_vl_acc)),\n",
    "            'val_acc_liketrn': float(np.mean(per_epoch_vl_acc_like_trn)),\n",
    "            'val_mrr': float(np.mean(per_epoch_vl_mrr))\n",
    "        })\n",
    "\n",
    "    return train_acc, valid_acc, valid_acc_like_trn, valid_mrr, train_loss"
   ]
  },
  {
   "cell_type": "raw",
   "metadata": {},
   "source": [
    "epochs: int,\n",
    "                  data: dict,\n",
    "                  opt: torch.optim,\n",
    "                  train_fn: Callable,\n",
    "                  predict_fn: Callable,\n",
    "                  device: torch.device = torch.device('cpu'),\n",
    "                  data_fn: classmethod = dataiters.SimplestSampler,\n",
    "                  eval_fn: Callable = default_eval"
   ]
  },
  {
   "cell_type": "code",
   "execution_count": 16,
   "metadata": {},
   "outputs": [],
   "source": [
    "args = {\n",
    "    \"epochs\":config['EPOCHS'],\n",
    "    \"data\":data,\n",
    "    \"opt\": optimizer,\n",
    "    \"train_fn\": model,\n",
    "    \"predict_fn\": model.predict,\n",
    "    \"device\": config['DEVICE'],\n",
    "    \"data_fn\": partial(QuintRankingSampler, bs=config[\"BATCH_SIZE\"]),\n",
    "    \"data_fn_val\": partial(SingleSampler, bs=config[\"BATCH_SIZE\"]),\n",
    "    \"eval_fn_trn\": evaluate_pointwise,\n",
    "    \"eval_fn_val\": evaluate_dataset\n",
    "}"
   ]
  },
  {
   "cell_type": "code",
   "execution_count": 17,
   "metadata": {},
   "outputs": [
    {
     "name": "stderr",
     "output_type": "stream",
     "text": [
      "39it [00:02, 19.34it/s]                        \n",
      "10it [00:00, 57.52it/s]                      \n",
      "  0%|          | 0/8 [00:00<?, ?it/s]"
     ]
    },
    {
     "name": "stdout",
     "output_type": "stream",
     "text": [
      "Should stop\n",
      "tensor([1, 1, 1,  ..., 1, 1, 1], device='cuda:0')\n",
      "tensor([0, 1, 1,  ..., 1, 1, 0], device='cuda:0')\n",
      "tensor([0, 1, 1,  ..., 1, 0, 1], device='cuda:0')\n",
      "tensor([0, 0, 0,  ..., 1, 1, 0], device='cuda:0')\n",
      "tensor([1, 0, 0,  ..., 0, 0, 0], device='cuda:0')\n",
      "tensor([0, 0, 0,  ..., 0, 0, 1], device='cuda:0')\n",
      "tensor([0, 0, 0,  ..., 0, 0, 0], device='cuda:0')\n",
      "tensor([1, 1, 1,  ..., 0, 0, 0], device='cuda:0')\n",
      "tensor([0, 0, 0,  ..., 1, 0, 0], device='cuda:0')\n",
      "tensor([0, 0, 1,  ..., 1, 1, 1], device='cuda:0')\n",
      "Should stop\n"
     ]
    },
    {
     "name": "stderr",
     "output_type": "stream",
     "text": [
      "10it [00:00, 268.86it/s]             \n"
     ]
    },
    {
     "name": "stdout",
     "output_type": "stream",
     "text": [
      "Should stop\n",
      "Epoch: 000 | Loss: 3.79048 | Tr_c: 0.55261 | Vl_c: 0.63810 | Vl_c_liketrn: 0.61871 | Vl_mrr: 0.79500 |Time: 0.063 min\n"
     ]
    },
    {
     "name": "stderr",
     "output_type": "stream",
     "text": [
      "39it [00:01, 33.23it/s]                        \n",
      "10it [00:00, 51.29it/s]                      "
     ]
    },
    {
     "name": "stdout",
     "output_type": "stream",
     "text": [
      "Should stop\n",
      "tensor([0, 0, 0,  ..., 1, 0, 1], device='cuda:0')\n",
      "tensor([0, 1, 0,  ..., 0, 1, 0], device='cuda:0')\n",
      "tensor([0, 0, 0,  ..., 0, 0, 0], device='cuda:0')\n",
      "tensor([1, 0, 0,  ..., 0, 0, 0], device='cuda:0')\n",
      "tensor([0, 0, 0,  ..., 0, 0, 0], device='cuda:0')\n",
      "tensor([0, 0, 0,  ..., 0, 1, 1], device='cuda:0')\n",
      "tensor([1, 0, 1,  ..., 1, 0, 0], device='cuda:0')\n",
      "tensor([0, 1, 0,  ..., 0, 1, 0], device='cuda:0')\n",
      "tensor([0, 1, 1,  ..., 1, 1, 1], device='cuda:0')\n",
      "tensor([0, 0, 0,  ..., 1, 1, 1], device='cuda:0')\n",
      "Should stop\n"
     ]
    },
    {
     "name": "stderr",
     "output_type": "stream",
     "text": [
      "\n",
      "10it [00:00, 240.95it/s]             \n"
     ]
    },
    {
     "name": "stdout",
     "output_type": "stream",
     "text": [
      "Should stop\n",
      "Epoch: 001 | Loss: 3.23609 | Tr_c: 0.65444 | Vl_c: 0.69749 | Vl_c_liketrn: 0.68163 | Vl_mrr: 0.82469 |Time: 0.053 min\n"
     ]
    },
    {
     "name": "stderr",
     "output_type": "stream",
     "text": [
      "39it [00:01, 33.68it/s]                        \n",
      " 44%|████▍     | 4/9 [00:00<00:00, 37.52it/s]"
     ]
    },
    {
     "name": "stdout",
     "output_type": "stream",
     "text": [
      "Should stop\n",
      "tensor([0, 0, 0,  ..., 0, 1, 0], device='cuda:0')\n",
      "tensor([0, 1, 0,  ..., 1, 1, 0], device='cuda:0')\n",
      "tensor([0, 1, 0,  ..., 0, 1, 0], device='cuda:0')\n",
      "tensor([1, 1, 0,  ..., 0, 1, 0], device='cuda:0')\n",
      "tensor([0, 1, 1,  ..., 1, 0, 1], device='cuda:0')\n",
      "tensor([0, 0, 1,  ..., 0, 0, 0], device='cuda:0')\n",
      "tensor([0, 1, 1,  ..., 0, 0, 1], device='cuda:0')\n"
     ]
    },
    {
     "name": "stderr",
     "output_type": "stream",
     "text": [
      "10it [00:00, 41.66it/s]                      \n",
      "10it [00:00, 252.50it/s]             \n"
     ]
    },
    {
     "name": "stdout",
     "output_type": "stream",
     "text": [
      "tensor([0, 0, 0,  ..., 0, 0, 0], device='cuda:0')\n",
      "tensor([0, 1, 0,  ..., 0, 0, 1], device='cuda:0')\n",
      "tensor([0, 1, 0,  ..., 1, 1, 1], device='cuda:0')\n",
      "Should stop\n",
      "Should stop\n",
      "Epoch: 002 | Loss: 2.81912 | Tr_c: 0.68966 | Vl_c: 0.71133 | Vl_c_liketrn: 0.69594 | Vl_mrr: 0.83162 |Time: 0.048 min\n"
     ]
    },
    {
     "name": "stderr",
     "output_type": "stream",
     "text": [
      "39it [00:01, 33.89it/s]                        \n",
      "10it [00:00, 59.28it/s]                      \n",
      "  0%|          | 0/8 [00:00<?, ?it/s]"
     ]
    },
    {
     "name": "stdout",
     "output_type": "stream",
     "text": [
      "Should stop\n",
      "tensor([1, 0, 1,  ..., 0, 0, 1], device='cuda:0')\n",
      "tensor([1, 0, 0,  ..., 0, 0, 1], device='cuda:0')\n",
      "tensor([1, 0, 1,  ..., 0, 1, 0], device='cuda:0')\n",
      "tensor([0, 0, 1,  ..., 1, 0, 1], device='cuda:0')\n",
      "tensor([1, 1, 0,  ..., 1, 0, 1], device='cuda:0')\n",
      "tensor([1, 1, 0,  ..., 0, 1, 0], device='cuda:0')\n",
      "tensor([0, 1, 0,  ..., 0, 0, 1], device='cuda:0')\n",
      "tensor([0, 0, 0,  ..., 1, 0, 0], device='cuda:0')\n",
      "tensor([1, 0, 0,  ..., 0, 0, 1], device='cuda:0')\n",
      "tensor([0, 1, 0,  ..., 1, 1, 1], device='cuda:0')\n",
      "Should stop\n"
     ]
    },
    {
     "name": "stderr",
     "output_type": "stream",
     "text": [
      "10it [00:00, 283.22it/s]             \n"
     ]
    },
    {
     "name": "stdout",
     "output_type": "stream",
     "text": [
      "Should stop\n",
      "Epoch: 003 | Loss: 2.60249 | Tr_c: 0.69798 | Vl_c: 0.71417 | Vl_c_liketrn: 0.70020 | Vl_mrr: 0.83304 |Time: 0.047 min\n"
     ]
    },
    {
     "name": "stderr",
     "output_type": "stream",
     "text": [
      "39it [00:01, 33.79it/s]                        \n",
      "10it [00:00, 55.65it/s]                      \n",
      "  0%|          | 0/8 [00:00<?, ?it/s]"
     ]
    },
    {
     "name": "stdout",
     "output_type": "stream",
     "text": [
      "Should stop\n",
      "tensor([0, 1, 1,  ..., 0, 0, 1], device='cuda:0')\n",
      "tensor([0, 1, 0,  ..., 0, 1, 0], device='cuda:0')\n",
      "tensor([1, 0, 0,  ..., 1, 0, 0], device='cuda:0')\n",
      "tensor([1, 0, 0,  ..., 0, 1, 0], device='cuda:0')\n",
      "tensor([0, 0, 0,  ..., 0, 1, 0], device='cuda:0')\n",
      "tensor([1, 0, 0,  ..., 0, 0, 0], device='cuda:0')\n",
      "tensor([0, 1, 0,  ..., 0, 0, 0], device='cuda:0')\n",
      "tensor([0, 1, 1,  ..., 0, 1, 0], device='cuda:0')\n",
      "tensor([0, 1, 0,  ..., 0, 0, 0], device='cuda:0')\n",
      "tensor([0, 1, 0,  ..., 1, 1, 1], device='cuda:0')\n",
      "Should stop\n"
     ]
    },
    {
     "name": "stderr",
     "output_type": "stream",
     "text": [
      "10it [00:00, 278.46it/s]             \n"
     ]
    },
    {
     "name": "stdout",
     "output_type": "stream",
     "text": [
      "Should stop\n",
      "Epoch: 004 | Loss: 2.50611 | Tr_c: 0.70018 | Vl_c: 0.71562 | Vl_c_liketrn: 0.70195 | Vl_mrr: 0.83376 |Time: 0.044 min\n"
     ]
    },
    {
     "name": "stderr",
     "output_type": "stream",
     "text": [
      "39it [00:01, 33.56it/s]                        \n",
      "10it [00:00, 54.44it/s]                      \n",
      "  0%|          | 0/8 [00:00<?, ?it/s]"
     ]
    },
    {
     "name": "stdout",
     "output_type": "stream",
     "text": [
      "Should stop\n",
      "tensor([0, 0, 0,  ..., 1, 0, 0], device='cuda:0')\n",
      "tensor([0, 0, 0,  ..., 0, 0, 1], device='cuda:0')\n",
      "tensor([0, 1, 1,  ..., 0, 0, 1], device='cuda:0')\n",
      "tensor([0, 1, 0,  ..., 0, 1, 0], device='cuda:0')\n",
      "tensor([0, 0, 0,  ..., 0, 0, 1], device='cuda:0')\n",
      "tensor([0, 0, 0,  ..., 0, 0, 1], device='cuda:0')\n",
      "tensor([1, 0, 1,  ..., 0, 1, 0], device='cuda:0')\n",
      "tensor([1, 1, 0,  ..., 0, 0, 0], device='cuda:0')\n",
      "tensor([0, 0, 1,  ..., 1, 0, 0], device='cuda:0')\n",
      "tensor([0, 1, 0,  ..., 1, 1, 1], device='cuda:0')\n",
      "Should stop\n"
     ]
    },
    {
     "name": "stderr",
     "output_type": "stream",
     "text": [
      "10it [00:00, 263.68it/s]             \n"
     ]
    },
    {
     "name": "stdout",
     "output_type": "stream",
     "text": [
      "Should stop\n",
      "Epoch: 005 | Loss: 2.46062 | Tr_c: 0.70058 | Vl_c: 0.71631 | Vl_c_liketrn: 0.70194 | Vl_mrr: 0.83411 |Time: 0.045 min\n"
     ]
    },
    {
     "name": "stderr",
     "output_type": "stream",
     "text": [
      "39it [00:01, 33.54it/s]                        \n",
      "10it [00:00, 53.64it/s]                      \n",
      "  0%|          | 0/8 [00:00<?, ?it/s]"
     ]
    },
    {
     "name": "stdout",
     "output_type": "stream",
     "text": [
      "Should stop\n",
      "tensor([0, 1, 0,  ..., 0, 0, 0], device='cuda:0')\n",
      "tensor([0, 0, 0,  ..., 0, 0, 0], device='cuda:0')\n",
      "tensor([1, 1, 1,  ..., 0, 0, 0], device='cuda:0')\n",
      "tensor([0, 0, 0,  ..., 0, 1, 0], device='cuda:0')\n",
      "tensor([0, 1, 0,  ..., 0, 0, 1], device='cuda:0')\n",
      "tensor([0, 1, 1,  ..., 0, 1, 1], device='cuda:0')\n",
      "tensor([0, 1, 0,  ..., 1, 1, 0], device='cuda:0')\n",
      "tensor([1, 0, 0,  ..., 0, 0, 1], device='cuda:0')\n",
      "tensor([0, 0, 0,  ..., 0, 0, 0], device='cuda:0')\n",
      "tensor([0, 0, 1,  ..., 1, 1, 1], device='cuda:0')\n",
      "Should stop\n"
     ]
    },
    {
     "name": "stderr",
     "output_type": "stream",
     "text": [
      "10it [00:00, 286.28it/s]             \n"
     ]
    },
    {
     "name": "stdout",
     "output_type": "stream",
     "text": [
      "Should stop\n",
      "Epoch: 006 | Loss: 2.43508 | Tr_c: 0.70110 | Vl_c: 0.71660 | Vl_c_liketrn: 0.70258 | Vl_mrr: 0.83425 |Time: 0.047 min\n"
     ]
    },
    {
     "name": "stderr",
     "output_type": "stream",
     "text": [
      "39it [00:01, 33.78it/s]                        \n",
      "10it [00:00, 58.54it/s]                      \n",
      "  0%|          | 0/8 [00:00<?, ?it/s]"
     ]
    },
    {
     "name": "stdout",
     "output_type": "stream",
     "text": [
      "Should stop\n",
      "tensor([1, 1, 0,  ..., 1, 1, 1], device='cuda:0')\n",
      "tensor([0, 0, 1,  ..., 1, 0, 0], device='cuda:0')\n",
      "tensor([0, 1, 0,  ..., 1, 0, 0], device='cuda:0')\n",
      "tensor([0, 0, 0,  ..., 0, 1, 1], device='cuda:0')\n",
      "tensor([0, 1, 1,  ..., 1, 0, 0], device='cuda:0')\n",
      "tensor([0, 1, 0,  ..., 1, 1, 0], device='cuda:0')\n",
      "tensor([0, 0, 0,  ..., 0, 0, 0], device='cuda:0')\n",
      "tensor([0, 0, 0,  ..., 0, 0, 0], device='cuda:0')\n",
      "tensor([0, 0, 0,  ..., 0, 1, 1], device='cuda:0')\n",
      "tensor([1, 0, 1,  ..., 1, 1, 1], device='cuda:0')\n",
      "Should stop\n"
     ]
    },
    {
     "name": "stderr",
     "output_type": "stream",
     "text": [
      "10it [00:00, 280.56it/s]             \n"
     ]
    },
    {
     "name": "stdout",
     "output_type": "stream",
     "text": [
      "Should stop\n",
      "Epoch: 007 | Loss: 2.42079 | Tr_c: 0.70151 | Vl_c: 0.71720 | Vl_c_liketrn: 0.70304 | Vl_mrr: 0.83455 |Time: 0.049 min\n"
     ]
    },
    {
     "name": "stderr",
     "output_type": "stream",
     "text": [
      "39it [00:01, 33.74it/s]                        \n",
      "10it [00:00, 52.39it/s]                      \n",
      "  0%|          | 0/8 [00:00<?, ?it/s]"
     ]
    },
    {
     "name": "stdout",
     "output_type": "stream",
     "text": [
      "Should stop\n",
      "tensor([0, 0, 0,  ..., 0, 0, 0], device='cuda:0')\n",
      "tensor([0, 1, 0,  ..., 0, 0, 0], device='cuda:0')\n",
      "tensor([1, 1, 0,  ..., 0, 0, 0], device='cuda:0')\n",
      "tensor([0, 0, 0,  ..., 1, 1, 1], device='cuda:0')\n",
      "tensor([1, 0, 1,  ..., 0, 0, 1], device='cuda:0')\n",
      "tensor([0, 1, 1,  ..., 0, 0, 0], device='cuda:0')\n",
      "tensor([0, 0, 1,  ..., 0, 1, 0], device='cuda:0')\n",
      "tensor([1, 0, 1,  ..., 0, 1, 0], device='cuda:0')\n",
      "tensor([1, 1, 0,  ..., 0, 0, 1], device='cuda:0')\n",
      "tensor([0, 1, 0,  ..., 1, 1, 1], device='cuda:0')\n",
      "Should stop\n"
     ]
    },
    {
     "name": "stderr",
     "output_type": "stream",
     "text": [
      "10it [00:00, 279.29it/s]             \n"
     ]
    },
    {
     "name": "stdout",
     "output_type": "stream",
     "text": [
      "Should stop\n",
      "Epoch: 008 | Loss: 2.40282 | Tr_c: 0.70304 | Vl_c: 0.71749 | Vl_c_liketrn: 0.70312 | Vl_mrr: 0.83470 |Time: 0.045 min\n"
     ]
    },
    {
     "name": "stderr",
     "output_type": "stream",
     "text": [
      "39it [00:01, 33.53it/s]                        \n",
      " 44%|████▍     | 4/9 [00:00<00:00, 39.54it/s]"
     ]
    },
    {
     "name": "stdout",
     "output_type": "stream",
     "text": [
      "Should stop\n",
      "tensor([1, 1, 0,  ..., 0, 1, 0], device='cuda:0')\n",
      "tensor([0, 1, 0,  ..., 0, 1, 0], device='cuda:0')\n",
      "tensor([1, 0, 1,  ..., 1, 0, 0], device='cuda:0')\n",
      "tensor([0, 0, 0,  ..., 0, 1, 1], device='cuda:0')\n",
      "tensor([1, 0, 0,  ..., 0, 0, 0], device='cuda:0')\n",
      "tensor([0, 1, 0,  ..., 1, 0, 1], device='cuda:0')\n",
      "tensor([1, 0, 1,  ..., 0, 1, 0], device='cuda:0')\n",
      "tensor([0, 0, 1,  ..., 1, 0, 0], device='cuda:0')\n"
     ]
    },
    {
     "name": "stderr",
     "output_type": "stream",
     "text": [
      "10it [00:00, 44.57it/s]                      \n",
      "10it [00:00, 266.64it/s]             \n"
     ]
    },
    {
     "name": "stdout",
     "output_type": "stream",
     "text": [
      "tensor([1, 1, 1,  ..., 0, 1, 0], device='cuda:0')\n",
      "tensor([0, 0, 0,  ..., 1, 1, 1], device='cuda:0')\n",
      "Should stop\n",
      "Should stop\n",
      "Epoch: 009 | Loss: 2.40324 | Tr_c: 0.70254 | Vl_c: 0.71796 | Vl_c_liketrn: 0.70365 | Vl_mrr: 0.83493 |Time: 0.045 min\n"
     ]
    },
    {
     "name": "stderr",
     "output_type": "stream",
     "text": [
      "39it [00:01, 33.62it/s]                        \n",
      "10it [00:00, 54.00it/s]                      \n",
      "  0%|          | 0/8 [00:00<?, ?it/s]"
     ]
    },
    {
     "name": "stdout",
     "output_type": "stream",
     "text": [
      "Should stop\n",
      "tensor([0, 0, 0,  ..., 0, 1, 1], device='cuda:0')\n",
      "tensor([0, 0, 1,  ..., 0, 0, 1], device='cuda:0')\n",
      "tensor([0, 0, 0,  ..., 1, 1, 0], device='cuda:0')\n",
      "tensor([1, 0, 0,  ..., 0, 0, 0], device='cuda:0')\n",
      "tensor([1, 1, 0,  ..., 0, 0, 0], device='cuda:0')\n",
      "tensor([0, 1, 1,  ..., 0, 1, 0], device='cuda:0')\n",
      "tensor([1, 1, 0,  ..., 1, 0, 0], device='cuda:0')\n",
      "tensor([1, 0, 0,  ..., 1, 0, 0], device='cuda:0')\n",
      "tensor([0, 0, 0,  ..., 1, 1, 0], device='cuda:0')\n",
      "tensor([0, 0, 1,  ..., 1, 1, 1], device='cuda:0')\n",
      "Should stop\n"
     ]
    },
    {
     "name": "stderr",
     "output_type": "stream",
     "text": [
      "10it [00:00, 266.53it/s]             \n"
     ]
    },
    {
     "name": "stdout",
     "output_type": "stream",
     "text": [
      "Should stop\n",
      "Epoch: 010 | Loss: 2.39436 | Tr_c: 0.70275 | Vl_c: 0.71814 | Vl_c_liketrn: 0.70345 | Vl_mrr: 0.83502 |Time: 0.046 min\n"
     ]
    },
    {
     "name": "stderr",
     "output_type": "stream",
     "text": [
      "39it [00:01, 33.44it/s]                        \n",
      "10it [00:00, 54.24it/s]                      \n",
      "  0%|          | 0/8 [00:00<?, ?it/s]"
     ]
    },
    {
     "name": "stdout",
     "output_type": "stream",
     "text": [
      "Should stop\n",
      "tensor([1, 1, 0,  ..., 1, 0, 0], device='cuda:0')\n",
      "tensor([0, 1, 0,  ..., 0, 0, 0], device='cuda:0')\n",
      "tensor([1, 0, 0,  ..., 0, 1, 1], device='cuda:0')\n",
      "tensor([0, 1, 0,  ..., 0, 0, 0], device='cuda:0')\n",
      "tensor([0, 0, 0,  ..., 1, 0, 0], device='cuda:0')\n",
      "tensor([0, 0, 1,  ..., 1, 0, 0], device='cuda:0')\n",
      "tensor([0, 0, 1,  ..., 0, 1, 0], device='cuda:0')\n",
      "tensor([0, 0, 0,  ..., 1, 0, 0], device='cuda:0')\n",
      "tensor([1, 1, 0,  ..., 1, 0, 0], device='cuda:0')\n",
      "tensor([1, 0, 0,  ..., 1, 1, 1], device='cuda:0')\n",
      "Should stop\n"
     ]
    },
    {
     "name": "stderr",
     "output_type": "stream",
     "text": [
      "10it [00:00, 274.06it/s]             \n"
     ]
    },
    {
     "name": "stdout",
     "output_type": "stream",
     "text": [
      "Should stop\n",
      "Epoch: 011 | Loss: 2.39290 | Tr_c: 0.70339 | Vl_c: 0.71841 | Vl_c_liketrn: 0.70460 | Vl_mrr: 0.83515 |Time: 0.047 min\n"
     ]
    },
    {
     "name": "stderr",
     "output_type": "stream",
     "text": [
      "39it [00:01, 33.66it/s]                        \n",
      "10it [00:00, 54.29it/s]                      \n",
      "  0%|          | 0/8 [00:00<?, ?it/s]"
     ]
    },
    {
     "name": "stdout",
     "output_type": "stream",
     "text": [
      "Should stop\n",
      "tensor([0, 0, 1,  ..., 0, 0, 1], device='cuda:0')\n",
      "tensor([0, 1, 0,  ..., 0, 0, 0], device='cuda:0')\n",
      "tensor([1, 0, 0,  ..., 0, 0, 1], device='cuda:0')\n",
      "tensor([0, 1, 0,  ..., 0, 0, 0], device='cuda:0')\n",
      "tensor([0, 1, 0,  ..., 0, 1, 1], device='cuda:0')\n",
      "tensor([1, 0, 0,  ..., 0, 0, 1], device='cuda:0')\n",
      "tensor([0, 0, 0,  ..., 1, 1, 0], device='cuda:0')\n",
      "tensor([0, 1, 0,  ..., 0, 1, 0], device='cuda:0')\n",
      "tensor([0, 1, 1,  ..., 1, 1, 1], device='cuda:0')\n",
      "tensor([0, 0, 0,  ..., 1, 1, 1], device='cuda:0')\n",
      "Should stop\n"
     ]
    },
    {
     "name": "stderr",
     "output_type": "stream",
     "text": [
      "10it [00:00, 283.51it/s]             \n"
     ]
    },
    {
     "name": "stdout",
     "output_type": "stream",
     "text": [
      "Should stop\n",
      "Epoch: 012 | Loss: 2.38691 | Tr_c: 0.70318 | Vl_c: 0.71870 | Vl_c_liketrn: 0.70432 | Vl_mrr: 0.83530 |Time: 0.046 min\n"
     ]
    },
    {
     "name": "stderr",
     "output_type": "stream",
     "text": [
      "39it [00:01, 33.85it/s]                        \n",
      "10it [00:00, 54.56it/s]                      \n",
      "  0%|          | 0/8 [00:00<?, ?it/s]"
     ]
    },
    {
     "name": "stdout",
     "output_type": "stream",
     "text": [
      "Should stop\n",
      "tensor([1, 0, 0,  ..., 0, 0, 0], device='cuda:0')\n",
      "tensor([0, 1, 0,  ..., 0, 1, 0], device='cuda:0')\n",
      "tensor([0, 0, 0,  ..., 0, 1, 0], device='cuda:0')\n",
      "tensor([0, 0, 1,  ..., 0, 1, 0], device='cuda:0')\n",
      "tensor([0, 0, 1,  ..., 1, 1, 1], device='cuda:0')\n",
      "tensor([1, 0, 1,  ..., 0, 1, 1], device='cuda:0')\n",
      "tensor([1, 0, 0,  ..., 0, 0, 0], device='cuda:0')\n",
      "tensor([0, 0, 0,  ..., 0, 1, 0], device='cuda:0')\n",
      "tensor([0, 0, 0,  ..., 1, 0, 0], device='cuda:0')\n",
      "tensor([0, 0, 1,  ..., 1, 1, 1], device='cuda:0')\n",
      "Should stop\n"
     ]
    },
    {
     "name": "stderr",
     "output_type": "stream",
     "text": [
      "10it [00:00, 285.03it/s]             \n"
     ]
    },
    {
     "name": "stdout",
     "output_type": "stream",
     "text": [
      "Should stop\n",
      "Epoch: 013 | Loss: 2.38308 | Tr_c: 0.70386 | Vl_c: 0.71896 | Vl_c_liketrn: 0.70522 | Vl_mrr: 0.83543 |Time: 0.044 min\n"
     ]
    },
    {
     "name": "stderr",
     "output_type": "stream",
     "text": [
      "39it [00:01, 33.70it/s]                        \n",
      "10it [00:00, 54.42it/s]                      \n",
      "  0%|          | 0/8 [00:00<?, ?it/s]"
     ]
    },
    {
     "name": "stdout",
     "output_type": "stream",
     "text": [
      "Should stop\n",
      "tensor([0, 0, 0,  ..., 0, 1, 0], device='cuda:0')\n",
      "tensor([0, 0, 0,  ..., 1, 0, 0], device='cuda:0')\n",
      "tensor([0, 0, 0,  ..., 1, 0, 1], device='cuda:0')\n",
      "tensor([0, 0, 0,  ..., 0, 0, 0], device='cuda:0')\n",
      "tensor([0, 0, 1,  ..., 0, 0, 0], device='cuda:0')\n",
      "tensor([0, 0, 1,  ..., 0, 1, 0], device='cuda:0')\n",
      "tensor([0, 0, 0,  ..., 1, 0, 0], device='cuda:0')\n",
      "tensor([1, 0, 0,  ..., 0, 0, 0], device='cuda:0')\n",
      "tensor([0, 0, 0,  ..., 0, 0, 0], device='cuda:0')\n",
      "tensor([1, 0, 0,  ..., 1, 1, 1], device='cuda:0')\n",
      "Should stop\n"
     ]
    },
    {
     "name": "stderr",
     "output_type": "stream",
     "text": [
      "10it [00:00, 271.67it/s]             \n"
     ]
    },
    {
     "name": "stdout",
     "output_type": "stream",
     "text": [
      "Should stop\n",
      "Epoch: 014 | Loss: 2.38151 | Tr_c: 0.70448 | Vl_c: 0.71912 | Vl_c_liketrn: 0.70529 | Vl_mrr: 0.83551 |Time: 0.046 min\n"
     ]
    },
    {
     "name": "stderr",
     "output_type": "stream",
     "text": [
      "39it [00:01, 33.49it/s]                        \n",
      "10it [00:00, 52.73it/s]                      \n",
      "  0%|          | 0/8 [00:00<?, ?it/s]"
     ]
    },
    {
     "name": "stdout",
     "output_type": "stream",
     "text": [
      "Should stop\n",
      "tensor([0, 0, 0,  ..., 1, 0, 1], device='cuda:0')\n",
      "tensor([0, 1, 0,  ..., 1, 0, 1], device='cuda:0')\n",
      "tensor([0, 0, 1,  ..., 0, 0, 1], device='cuda:0')\n",
      "tensor([1, 1, 0,  ..., 0, 0, 0], device='cuda:0')\n",
      "tensor([0, 0, 0,  ..., 1, 1, 0], device='cuda:0')\n",
      "tensor([0, 1, 0,  ..., 1, 0, 0], device='cuda:0')\n",
      "tensor([0, 0, 0,  ..., 0, 0, 0], device='cuda:0')\n",
      "tensor([1, 0, 1,  ..., 1, 1, 0], device='cuda:0')\n",
      "tensor([0, 0, 0,  ..., 0, 0, 1], device='cuda:0')\n",
      "tensor([1, 0, 0,  ..., 1, 1, 1], device='cuda:0')\n",
      "Should stop\n"
     ]
    },
    {
     "name": "stderr",
     "output_type": "stream",
     "text": [
      "10it [00:00, 266.04it/s]             \n"
     ]
    },
    {
     "name": "stdout",
     "output_type": "stream",
     "text": [
      "Should stop\n",
      "Epoch: 015 | Loss: 2.37737 | Tr_c: 0.70450 | Vl_c: 0.71934 | Vl_c_liketrn: 0.70497 | Vl_mrr: 0.83562 |Time: 0.047 min\n"
     ]
    },
    {
     "name": "stderr",
     "output_type": "stream",
     "text": [
      "39it [00:01, 33.61it/s]                        \n",
      "10it [00:00, 53.64it/s]                      \n",
      "  0%|          | 0/8 [00:00<?, ?it/s]"
     ]
    },
    {
     "name": "stdout",
     "output_type": "stream",
     "text": [
      "Should stop\n",
      "tensor([1, 0, 1,  ..., 0, 0, 0], device='cuda:0')\n",
      "tensor([1, 0, 0,  ..., 0, 1, 0], device='cuda:0')\n",
      "tensor([1, 0, 0,  ..., 1, 0, 0], device='cuda:0')\n",
      "tensor([0, 0, 0,  ..., 0, 0, 0], device='cuda:0')\n",
      "tensor([0, 1, 0,  ..., 0, 0, 0], device='cuda:0')\n",
      "tensor([0, 0, 1,  ..., 0, 1, 0], device='cuda:0')\n",
      "tensor([0, 1, 1,  ..., 0, 0, 0], device='cuda:0')\n",
      "tensor([1, 0, 0,  ..., 1, 1, 0], device='cuda:0')\n",
      "tensor([0, 0, 0,  ..., 0, 0, 0], device='cuda:0')\n",
      "tensor([0, 1, 0,  ..., 1, 1, 1], device='cuda:0')\n",
      "Should stop\n"
     ]
    },
    {
     "name": "stderr",
     "output_type": "stream",
     "text": [
      "10it [00:00, 280.37it/s]             \n"
     ]
    },
    {
     "name": "stdout",
     "output_type": "stream",
     "text": [
      "Should stop\n",
      "Epoch: 016 | Loss: 2.37360 | Tr_c: 0.70552 | Vl_c: 0.71963 | Vl_c_liketrn: 0.70545 | Vl_mrr: 0.83577 |Time: 0.045 min\n"
     ]
    },
    {
     "name": "stderr",
     "output_type": "stream",
     "text": [
      "39it [00:01, 33.63it/s]                        \n",
      "10it [00:00, 55.55it/s]                      \n",
      "  0%|          | 0/8 [00:00<?, ?it/s]"
     ]
    },
    {
     "name": "stdout",
     "output_type": "stream",
     "text": [
      "Should stop\n",
      "tensor([0, 0, 1,  ..., 0, 0, 0], device='cuda:0')\n",
      "tensor([0, 1, 1,  ..., 0, 0, 1], device='cuda:0')\n",
      "tensor([0, 1, 0,  ..., 0, 0, 0], device='cuda:0')\n",
      "tensor([0, 0, 1,  ..., 0, 1, 1], device='cuda:0')\n",
      "tensor([0, 1, 0,  ..., 0, 0, 0], device='cuda:0')\n",
      "tensor([0, 0, 0,  ..., 0, 0, 1], device='cuda:0')\n",
      "tensor([0, 0, 1,  ..., 1, 0, 1], device='cuda:0')\n",
      "tensor([1, 1, 1,  ..., 0, 0, 0], device='cuda:0')\n",
      "tensor([0, 0, 1,  ..., 0, 0, 0], device='cuda:0')\n",
      "tensor([0, 1, 0,  ..., 1, 1, 1], device='cuda:0')\n",
      "Should stop\n"
     ]
    },
    {
     "name": "stderr",
     "output_type": "stream",
     "text": [
      "10it [00:00, 258.99it/s]             \n"
     ]
    },
    {
     "name": "stdout",
     "output_type": "stream",
     "text": [
      "Should stop\n",
      "Epoch: 017 | Loss: 2.37592 | Tr_c: 0.70433 | Vl_c: 0.72007 | Vl_c_liketrn: 0.70598 | Vl_mrr: 0.83599 |Time: 0.046 min\n"
     ]
    },
    {
     "name": "stderr",
     "output_type": "stream",
     "text": [
      "39it [00:01, 33.89it/s]                        \n",
      " 56%|█████▌    | 5/9 [00:00<00:00, 46.35it/s]"
     ]
    },
    {
     "name": "stdout",
     "output_type": "stream",
     "text": [
      "Should stop\n",
      "tensor([0, 1, 0,  ..., 0, 1, 0], device='cuda:0')\n",
      "tensor([0, 1, 0,  ..., 0, 0, 0], device='cuda:0')\n",
      "tensor([0, 0, 0,  ..., 0, 0, 0], device='cuda:0')\n",
      "tensor([0, 0, 0,  ..., 0, 0, 0], device='cuda:0')\n",
      "tensor([1, 0, 0,  ..., 0, 0, 1], device='cuda:0')\n",
      "tensor([0, 0, 1,  ..., 1, 0, 1], device='cuda:0')\n",
      "tensor([1, 0, 1,  ..., 0, 0, 1], device='cuda:0')\n",
      "tensor([1, 0, 1,  ..., 0, 0, 0], device='cuda:0')\n"
     ]
    },
    {
     "name": "stderr",
     "output_type": "stream",
     "text": [
      "10it [00:00, 41.38it/s]                      \n",
      "10it [00:00, 249.58it/s]             \n"
     ]
    },
    {
     "name": "stdout",
     "output_type": "stream",
     "text": [
      "tensor([0, 1, 0,  ..., 1, 1, 1], device='cuda:0')\n",
      "tensor([0, 0, 1,  ..., 1, 1, 1], device='cuda:0')\n",
      "Should stop\n",
      "Should stop\n",
      "Epoch: 018 | Loss: 2.37191 | Tr_c: 0.70525 | Vl_c: 0.72051 | Vl_c_liketrn: 0.70584 | Vl_mrr: 0.83621 |Time: 0.047 min\n"
     ]
    },
    {
     "name": "stderr",
     "output_type": "stream",
     "text": [
      "39it [00:01, 33.90it/s]                        \n",
      "10it [00:00, 54.97it/s]                      \n",
      "  0%|          | 0/8 [00:00<?, ?it/s]"
     ]
    },
    {
     "name": "stdout",
     "output_type": "stream",
     "text": [
      "Should stop\n",
      "tensor([0, 1, 0,  ..., 0, 0, 0], device='cuda:0')\n",
      "tensor([0, 0, 0,  ..., 1, 0, 0], device='cuda:0')\n",
      "tensor([0, 0, 1,  ..., 0, 0, 0], device='cuda:0')\n",
      "tensor([0, 1, 1,  ..., 0, 0, 0], device='cuda:0')\n",
      "tensor([1, 0, 0,  ..., 1, 0, 0], device='cuda:0')\n",
      "tensor([0, 1, 1,  ..., 1, 0, 1], device='cuda:0')\n",
      "tensor([0, 0, 0,  ..., 1, 0, 1], device='cuda:0')\n",
      "tensor([1, 0, 1,  ..., 1, 1, 1], device='cuda:0')\n",
      "tensor([0, 0, 1,  ..., 0, 0, 0], device='cuda:0')\n",
      "tensor([0, 0, 0,  ..., 1, 1, 1], device='cuda:0')\n",
      "Should stop\n"
     ]
    },
    {
     "name": "stderr",
     "output_type": "stream",
     "text": [
      "10it [00:00, 284.19it/s]             \n"
     ]
    },
    {
     "name": "stdout",
     "output_type": "stream",
     "text": [
      "Should stop\n",
      "Epoch: 019 | Loss: 2.36911 | Tr_c: 0.70589 | Vl_c: 0.72080 | Vl_c_liketrn: 0.70688 | Vl_mrr: 0.83635 |Time: 0.045 min\n"
     ]
    },
    {
     "name": "stderr",
     "output_type": "stream",
     "text": [
      "39it [00:01, 33.68it/s]                        \n",
      " 56%|█████▌    | 5/9 [00:00<00:00, 46.28it/s]"
     ]
    },
    {
     "name": "stdout",
     "output_type": "stream",
     "text": [
      "Should stop\n",
      "tensor([0, 0, 0,  ..., 0, 0, 0], device='cuda:0')\n",
      "tensor([0, 1, 0,  ..., 0, 0, 1], device='cuda:0')\n",
      "tensor([0, 1, 0,  ..., 1, 0, 0], device='cuda:0')\n",
      "tensor([1, 1, 0,  ..., 0, 1, 0], device='cuda:0')\n",
      "tensor([0, 1, 0,  ..., 1, 1, 1], device='cuda:0')\n",
      "tensor([0, 0, 0,  ..., 0, 0, 0], device='cuda:0')\n",
      "tensor([0, 0, 0,  ..., 0, 1, 1], device='cuda:0')\n",
      "tensor([1, 0, 1,  ..., 0, 1, 0], device='cuda:0')\n",
      "tensor([1, 0, 1,  ..., 0, 1, 1], device='cuda:0')\n"
     ]
    },
    {
     "name": "stderr",
     "output_type": "stream",
     "text": [
      "10it [00:00, 46.74it/s]                      \n",
      "10it [00:00, 284.88it/s]             \n"
     ]
    },
    {
     "name": "stdout",
     "output_type": "stream",
     "text": [
      "tensor([0, 0, 1,  ..., 1, 1, 1], device='cuda:0')\n",
      "Should stop\n",
      "Should stop\n",
      "Epoch: 020 | Loss: 2.36851 | Tr_c: 0.70588 | Vl_c: 0.72095 | Vl_c_liketrn: 0.70657 | Vl_mrr: 0.83642 |Time: 0.045 min\n"
     ]
    },
    {
     "name": "stderr",
     "output_type": "stream",
     "text": [
      "39it [00:01, 33.78it/s]                        \n",
      " 56%|█████▌    | 5/9 [00:00<00:00, 46.76it/s]"
     ]
    },
    {
     "name": "stdout",
     "output_type": "stream",
     "text": [
      "Should stop\n",
      "tensor([0, 0, 0,  ..., 1, 0, 0], device='cuda:0')\n",
      "tensor([1, 0, 0,  ..., 0, 1, 0], device='cuda:0')\n",
      "tensor([0, 0, 0,  ..., 0, 0, 1], device='cuda:0')\n",
      "tensor([0, 0, 1,  ..., 0, 0, 0], device='cuda:0')\n",
      "tensor([0, 0, 1,  ..., 0, 0, 0], device='cuda:0')\n",
      "tensor([1, 0, 0,  ..., 0, 1, 1], device='cuda:0')\n",
      "tensor([0, 0, 0,  ..., 0, 0, 0], device='cuda:0')\n",
      "tensor([1, 0, 0,  ..., 0, 0, 0], device='cuda:0')\n"
     ]
    },
    {
     "name": "stderr",
     "output_type": "stream",
     "text": [
      "10it [00:00, 47.31it/s]                      \n",
      "10it [00:00, 266.44it/s]             \n"
     ]
    },
    {
     "name": "stdout",
     "output_type": "stream",
     "text": [
      "tensor([1, 0, 1,  ..., 0, 0, 0], device='cuda:0')\n",
      "tensor([1, 0, 0,  ..., 1, 1, 1], device='cuda:0')\n",
      "Should stop\n",
      "Should stop\n",
      "Epoch: 021 | Loss: 2.36607 | Tr_c: 0.70693 | Vl_c: 0.72107 | Vl_c_liketrn: 0.70729 | Vl_mrr: 0.83649 |Time: 0.044 min\n"
     ]
    },
    {
     "name": "stderr",
     "output_type": "stream",
     "text": [
      "39it [00:01, 33.70it/s]                        \n",
      "10it [00:00, 51.68it/s]                      \n",
      "  0%|          | 0/8 [00:00<?, ?it/s]"
     ]
    },
    {
     "name": "stdout",
     "output_type": "stream",
     "text": [
      "Should stop\n",
      "tensor([0, 1, 1,  ..., 1, 0, 0], device='cuda:0')\n",
      "tensor([1, 0, 1,  ..., 0, 1, 0], device='cuda:0')\n",
      "tensor([0, 0, 0,  ..., 0, 0, 1], device='cuda:0')\n",
      "tensor([0, 0, 0,  ..., 0, 0, 0], device='cuda:0')\n",
      "tensor([0, 1, 0,  ..., 0, 0, 0], device='cuda:0')\n",
      "tensor([0, 0, 0,  ..., 0, 0, 0], device='cuda:0')\n",
      "tensor([1, 0, 1,  ..., 1, 0, 0], device='cuda:0')\n",
      "tensor([0, 0, 0,  ..., 0, 0, 0], device='cuda:0')\n",
      "tensor([1, 0, 0,  ..., 1, 0, 1], device='cuda:0')\n",
      "tensor([0, 1, 0,  ..., 1, 1, 1], device='cuda:0')\n",
      "Should stop\n"
     ]
    },
    {
     "name": "stderr",
     "output_type": "stream",
     "text": [
      "10it [00:00, 259.52it/s]             \n"
     ]
    },
    {
     "name": "stdout",
     "output_type": "stream",
     "text": [
      "Should stop\n",
      "Epoch: 022 | Loss: 2.36690 | Tr_c: 0.70667 | Vl_c: 0.72120 | Vl_c_liketrn: 0.70739 | Vl_mrr: 0.83655 |Time: 0.045 min\n"
     ]
    },
    {
     "name": "stderr",
     "output_type": "stream",
     "text": [
      "39it [00:01, 33.74it/s]                        \n",
      "10it [00:00, 53.96it/s]                      \n",
      "  0%|          | 0/8 [00:00<?, ?it/s]"
     ]
    },
    {
     "name": "stdout",
     "output_type": "stream",
     "text": [
      "Should stop\n",
      "tensor([0, 0, 1,  ..., 0, 1, 0], device='cuda:0')\n",
      "tensor([1, 0, 1,  ..., 1, 1, 1], device='cuda:0')\n",
      "tensor([0, 0, 1,  ..., 1, 0, 0], device='cuda:0')\n",
      "tensor([0, 0, 0,  ..., 1, 1, 1], device='cuda:0')\n",
      "tensor([1, 0, 0,  ..., 1, 0, 1], device='cuda:0')\n",
      "tensor([0, 0, 0,  ..., 0, 0, 0], device='cuda:0')\n",
      "tensor([0, 0, 1,  ..., 0, 0, 0], device='cuda:0')\n",
      "tensor([0, 1, 0,  ..., 0, 0, 0], device='cuda:0')\n",
      "tensor([0, 0, 0,  ..., 0, 0, 1], device='cuda:0')\n",
      "tensor([0, 1, 0,  ..., 1, 1, 1], device='cuda:0')\n",
      "Should stop\n"
     ]
    },
    {
     "name": "stderr",
     "output_type": "stream",
     "text": [
      "10it [00:00, 281.63it/s]             \n"
     ]
    },
    {
     "name": "stdout",
     "output_type": "stream",
     "text": [
      "Should stop\n",
      "Epoch: 023 | Loss: 2.36181 | Tr_c: 0.70777 | Vl_c: 0.72167 | Vl_c_liketrn: 0.70701 | Vl_mrr: 0.83679 |Time: 0.046 min\n"
     ]
    },
    {
     "name": "stderr",
     "output_type": "stream",
     "text": [
      "39it [00:01, 33.76it/s]                        \n",
      " 56%|█████▌    | 5/9 [00:00<00:00, 45.84it/s]"
     ]
    },
    {
     "name": "stdout",
     "output_type": "stream",
     "text": [
      "Should stop\n",
      "tensor([1, 0, 1,  ..., 1, 1, 0], device='cuda:0')\n",
      "tensor([0, 1, 0,  ..., 0, 1, 0], device='cuda:0')\n",
      "tensor([0, 0, 1,  ..., 0, 0, 1], device='cuda:0')\n",
      "tensor([0, 0, 0,  ..., 1, 1, 0], device='cuda:0')\n",
      "tensor([1, 0, 0,  ..., 0, 0, 1], device='cuda:0')\n",
      "tensor([0, 0, 1,  ..., 1, 0, 0], device='cuda:0')\n",
      "tensor([0, 0, 0,  ..., 0, 0, 0], device='cuda:0')\n",
      "tensor([1, 1, 0,  ..., 1, 1, 0], device='cuda:0')\n",
      "tensor([1, 0, 0,  ..., 0, 1, 0], device='cuda:0')\n"
     ]
    },
    {
     "name": "stderr",
     "output_type": "stream",
     "text": [
      "10it [00:00, 48.16it/s]                      \n",
      "10it [00:00, 265.31it/s]             \n"
     ]
    },
    {
     "name": "stdout",
     "output_type": "stream",
     "text": [
      "tensor([0, 0, 0,  ..., 1, 1, 1], device='cuda:0')\n",
      "Should stop\n",
      "Should stop\n",
      "Epoch: 024 | Loss: 2.36290 | Tr_c: 0.70770 | Vl_c: 0.72205 | Vl_c_liketrn: 0.70754 | Vl_mrr: 0.83698 |Time: 0.046 min\n"
     ]
    },
    {
     "name": "stderr",
     "output_type": "stream",
     "text": [
      "39it [00:01, 33.58it/s]                        \n",
      " 44%|████▍     | 4/9 [00:00<00:00, 36.64it/s]"
     ]
    },
    {
     "name": "stdout",
     "output_type": "stream",
     "text": [
      "Should stop\n",
      "tensor([0, 0, 1,  ..., 0, 0, 0], device='cuda:0')\n",
      "tensor([1, 0, 0,  ..., 0, 0, 0], device='cuda:0')\n",
      "tensor([0, 0, 1,  ..., 1, 0, 1], device='cuda:0')\n",
      "tensor([1, 0, 0,  ..., 0, 0, 1], device='cuda:0')\n",
      "tensor([0, 1, 1,  ..., 0, 0, 0], device='cuda:0')\n",
      "tensor([1, 0, 1,  ..., 0, 1, 1], device='cuda:0')\n",
      "tensor([1, 0, 1,  ..., 1, 0, 1], device='cuda:0')\n"
     ]
    },
    {
     "name": "stderr",
     "output_type": "stream",
     "text": [
      "10it [00:00, 38.48it/s]                      \n",
      "10it [00:00, 263.24it/s]             \n"
     ]
    },
    {
     "name": "stdout",
     "output_type": "stream",
     "text": [
      "tensor([0, 0, 0,  ..., 1, 0, 0], device='cuda:0')\n",
      "tensor([0, 0, 0,  ..., 0, 0, 0], device='cuda:0')\n",
      "tensor([0, 1, 0,  ..., 1, 1, 1], device='cuda:0')\n",
      "Should stop\n",
      "Should stop\n",
      "Epoch: 025 | Loss: 2.36146 | Tr_c: 0.70746 | Vl_c: 0.72224 | Vl_c_liketrn: 0.70791 | Vl_mrr: 0.83707 |Time: 0.044 min\n"
     ]
    },
    {
     "name": "stderr",
     "output_type": "stream",
     "text": [
      "39it [00:01, 33.79it/s]                        \n",
      "10it [00:00, 53.96it/s]                      \n",
      "  0%|          | 0/8 [00:00<?, ?it/s]"
     ]
    },
    {
     "name": "stdout",
     "output_type": "stream",
     "text": [
      "Should stop\n",
      "tensor([0, 0, 1,  ..., 1, 0, 0], device='cuda:0')\n",
      "tensor([0, 1, 1,  ..., 1, 0, 0], device='cuda:0')\n",
      "tensor([0, 0, 1,  ..., 0, 0, 0], device='cuda:0')\n",
      "tensor([1, 0, 0,  ..., 1, 0, 0], device='cuda:0')\n",
      "tensor([0, 0, 1,  ..., 0, 1, 0], device='cuda:0')\n",
      "tensor([0, 0, 1,  ..., 1, 1, 0], device='cuda:0')\n",
      "tensor([0, 0, 0,  ..., 0, 0, 0], device='cuda:0')\n",
      "tensor([1, 1, 1,  ..., 0, 0, 1], device='cuda:0')\n",
      "tensor([1, 0, 0,  ..., 0, 0, 0], device='cuda:0')\n",
      "tensor([0, 1, 0,  ..., 1, 1, 1], device='cuda:0')\n",
      "Should stop\n"
     ]
    },
    {
     "name": "stderr",
     "output_type": "stream",
     "text": [
      "10it [00:00, 282.39it/s]             \n"
     ]
    },
    {
     "name": "stdout",
     "output_type": "stream",
     "text": [
      "Should stop\n",
      "Epoch: 026 | Loss: 2.36201 | Tr_c: 0.70739 | Vl_c: 0.72239 | Vl_c_liketrn: 0.70912 | Vl_mrr: 0.83715 |Time: 0.045 min\n"
     ]
    },
    {
     "name": "stderr",
     "output_type": "stream",
     "text": [
      "39it [00:01, 33.76it/s]                        \n",
      "10it [00:00, 54.99it/s]                      \n",
      "  0%|          | 0/8 [00:00<?, ?it/s]"
     ]
    },
    {
     "name": "stdout",
     "output_type": "stream",
     "text": [
      "Should stop\n",
      "tensor([0, 1, 0,  ..., 0, 0, 0], device='cuda:0')\n",
      "tensor([0, 0, 1,  ..., 0, 0, 0], device='cuda:0')\n",
      "tensor([1, 0, 0,  ..., 0, 0, 0], device='cuda:0')\n",
      "tensor([1, 0, 0,  ..., 1, 0, 1], device='cuda:0')\n",
      "tensor([1, 0, 0,  ..., 0, 0, 0], device='cuda:0')\n",
      "tensor([0, 0, 0,  ..., 0, 0, 1], device='cuda:0')\n",
      "tensor([0, 1, 0,  ..., 0, 0, 0], device='cuda:0')\n",
      "tensor([0, 0, 0,  ..., 1, 0, 0], device='cuda:0')\n",
      "tensor([0, 0, 0,  ..., 0, 1, 1], device='cuda:0')\n",
      "tensor([0, 1, 0,  ..., 1, 1, 1], device='cuda:0')\n",
      "Should stop\n"
     ]
    },
    {
     "name": "stderr",
     "output_type": "stream",
     "text": [
      "10it [00:00, 266.50it/s]             \n"
     ]
    },
    {
     "name": "stdout",
     "output_type": "stream",
     "text": [
      "Should stop\n",
      "Epoch: 027 | Loss: 2.35795 | Tr_c: 0.70839 | Vl_c: 0.72267 | Vl_c_liketrn: 0.70868 | Vl_mrr: 0.83729 |Time: 0.045 min\n"
     ]
    },
    {
     "name": "stderr",
     "output_type": "stream",
     "text": [
      "39it [00:01, 33.66it/s]                        \n",
      "10it [00:00, 58.33it/s]                      \n",
      "  0%|          | 0/8 [00:00<?, ?it/s]"
     ]
    },
    {
     "name": "stdout",
     "output_type": "stream",
     "text": [
      "Should stop\n",
      "tensor([0, 0, 0,  ..., 0, 1, 1], device='cuda:0')\n",
      "tensor([0, 0, 0,  ..., 1, 0, 0], device='cuda:0')\n",
      "tensor([0, 0, 0,  ..., 0, 0, 0], device='cuda:0')\n",
      "tensor([0, 0, 0,  ..., 1, 1, 1], device='cuda:0')\n",
      "tensor([0, 0, 0,  ..., 1, 0, 0], device='cuda:0')\n",
      "tensor([0, 0, 1,  ..., 0, 0, 0], device='cuda:0')\n",
      "tensor([0, 1, 0,  ..., 0, 1, 0], device='cuda:0')\n",
      "tensor([0, 0, 0,  ..., 0, 1, 0], device='cuda:0')\n",
      "tensor([0, 0, 0,  ..., 0, 0, 0], device='cuda:0')\n",
      "tensor([0, 0, 1,  ..., 1, 1, 1], device='cuda:0')\n",
      "Should stop\n"
     ]
    },
    {
     "name": "stderr",
     "output_type": "stream",
     "text": [
      "10it [00:00, 283.88it/s]             \n"
     ]
    },
    {
     "name": "stdout",
     "output_type": "stream",
     "text": [
      "Should stop\n",
      "Epoch: 028 | Loss: 2.36018 | Tr_c: 0.70821 | Vl_c: 0.72305 | Vl_c_liketrn: 0.70914 | Vl_mrr: 0.83748 |Time: 0.045 min\n"
     ]
    },
    {
     "name": "stderr",
     "output_type": "stream",
     "text": [
      "39it [00:01, 33.67it/s]                        \n",
      "10it [00:00, 51.65it/s]                      \n",
      "  0%|          | 0/8 [00:00<?, ?it/s]"
     ]
    },
    {
     "name": "stdout",
     "output_type": "stream",
     "text": [
      "Should stop\n",
      "tensor([0, 0, 0,  ..., 0, 0, 0], device='cuda:0')\n",
      "tensor([0, 1, 1,  ..., 1, 0, 0], device='cuda:0')\n",
      "tensor([0, 0, 0,  ..., 1, 1, 1], device='cuda:0')\n",
      "tensor([1, 0, 0,  ..., 1, 0, 0], device='cuda:0')\n",
      "tensor([0, 0, 0,  ..., 1, 0, 0], device='cuda:0')\n",
      "tensor([0, 1, 1,  ..., 0, 1, 1], device='cuda:0')\n",
      "tensor([0, 1, 0,  ..., 0, 0, 1], device='cuda:0')\n",
      "tensor([0, 1, 0,  ..., 1, 0, 0], device='cuda:0')\n",
      "tensor([1, 0, 0,  ..., 1, 0, 1], device='cuda:0')\n",
      "tensor([0, 1, 0,  ..., 1, 1, 1], device='cuda:0')\n",
      "Should stop\n"
     ]
    },
    {
     "name": "stderr",
     "output_type": "stream",
     "text": [
      "10it [00:00, 261.71it/s]             \n"
     ]
    },
    {
     "name": "stdout",
     "output_type": "stream",
     "text": [
      "Should stop\n",
      "Epoch: 029 | Loss: 2.35621 | Tr_c: 0.70922 | Vl_c: 0.72334 | Vl_c_liketrn: 0.70954 | Vl_mrr: 0.83762 |Time: 0.045 min\n"
     ]
    },
    {
     "name": "stderr",
     "output_type": "stream",
     "text": [
      "39it [00:01, 33.73it/s]                        \n",
      " 56%|█████▌    | 5/9 [00:00<00:00, 44.47it/s]"
     ]
    },
    {
     "name": "stdout",
     "output_type": "stream",
     "text": [
      "Should stop\n",
      "tensor([1, 1, 0,  ..., 1, 0, 0], device='cuda:0')\n",
      "tensor([0, 1, 0,  ..., 0, 1, 0], device='cuda:0')\n",
      "tensor([1, 1, 0,  ..., 0, 0, 0], device='cuda:0')\n",
      "tensor([0, 0, 1,  ..., 0, 1, 0], device='cuda:0')\n",
      "tensor([1, 0, 0,  ..., 0, 0, 0], device='cuda:0')\n",
      "tensor([0, 0, 0,  ..., 1, 0, 0], device='cuda:0')\n",
      "tensor([0, 1, 0,  ..., 0, 0, 0], device='cuda:0')\n",
      "tensor([1, 0, 0,  ..., 1, 0, 0], device='cuda:0')\n",
      "tensor([0, 1, 0,  ..., 1, 0, 0], device='cuda:0')\n"
     ]
    },
    {
     "name": "stderr",
     "output_type": "stream",
     "text": [
      "10it [00:00, 45.06it/s]                      \n",
      "10it [00:00, 285.89it/s]             \n"
     ]
    },
    {
     "name": "stdout",
     "output_type": "stream",
     "text": [
      "tensor([1, 0, 1,  ..., 1, 1, 1], device='cuda:0')\n",
      "Should stop\n",
      "Should stop\n",
      "Epoch: 030 | Loss: 2.35473 | Tr_c: 0.70925 | Vl_c: 0.72357 | Vl_c_liketrn: 0.70893 | Vl_mrr: 0.83774 |Time: 0.046 min\n"
     ]
    },
    {
     "name": "stderr",
     "output_type": "stream",
     "text": [
      "39it [00:01, 33.65it/s]                        \n",
      "10it [00:00, 51.65it/s]                      \n",
      "  0%|          | 0/8 [00:00<?, ?it/s]"
     ]
    },
    {
     "name": "stdout",
     "output_type": "stream",
     "text": [
      "Should stop\n",
      "tensor([0, 0, 1,  ..., 0, 0, 1], device='cuda:0')\n",
      "tensor([0, 0, 0,  ..., 1, 0, 0], device='cuda:0')\n",
      "tensor([1, 0, 0,  ..., 0, 0, 0], device='cuda:0')\n",
      "tensor([1, 0, 0,  ..., 0, 1, 0], device='cuda:0')\n",
      "tensor([1, 0, 0,  ..., 0, 1, 0], device='cuda:0')\n",
      "tensor([0, 0, 0,  ..., 1, 0, 0], device='cuda:0')\n",
      "tensor([0, 0, 0,  ..., 1, 0, 1], device='cuda:0')\n",
      "tensor([1, 0, 1,  ..., 1, 0, 0], device='cuda:0')\n",
      "tensor([0, 0, 0,  ..., 1, 0, 1], device='cuda:0')\n",
      "tensor([0, 0, 0,  ..., 1, 1, 1], device='cuda:0')\n",
      "Should stop\n"
     ]
    },
    {
     "name": "stderr",
     "output_type": "stream",
     "text": [
      "10it [00:00, 280.44it/s]             \n"
     ]
    },
    {
     "name": "stdout",
     "output_type": "stream",
     "text": [
      "Should stop\n",
      "Epoch: 031 | Loss: 2.35448 | Tr_c: 0.70916 | Vl_c: 0.72386 | Vl_c_liketrn: 0.71020 | Vl_mrr: 0.83788 |Time: 0.044 min\n"
     ]
    },
    {
     "name": "stderr",
     "output_type": "stream",
     "text": [
      "39it [00:01, 33.62it/s]                        \n",
      "10it [00:00, 56.19it/s]                      \n",
      "  0%|          | 0/8 [00:00<?, ?it/s]"
     ]
    },
    {
     "name": "stdout",
     "output_type": "stream",
     "text": [
      "Should stop\n",
      "tensor([0, 0, 1,  ..., 1, 0, 0], device='cuda:0')\n",
      "tensor([0, 0, 0,  ..., 1, 0, 0], device='cuda:0')\n",
      "tensor([0, 0, 0,  ..., 0, 1, 0], device='cuda:0')\n",
      "tensor([0, 1, 0,  ..., 0, 0, 1], device='cuda:0')\n",
      "tensor([0, 0, 0,  ..., 0, 0, 0], device='cuda:0')\n",
      "tensor([0, 0, 1,  ..., 1, 1, 1], device='cuda:0')\n",
      "tensor([1, 0, 0,  ..., 0, 0, 1], device='cuda:0')\n",
      "tensor([0, 0, 0,  ..., 1, 0, 0], device='cuda:0')\n",
      "tensor([0, 0, 1,  ..., 0, 0, 0], device='cuda:0')\n",
      "tensor([0, 0, 0,  ..., 1, 1, 1], device='cuda:0')\n",
      "Should stop\n"
     ]
    },
    {
     "name": "stderr",
     "output_type": "stream",
     "text": [
      "10it [00:00, 255.98it/s]             \n"
     ]
    },
    {
     "name": "stdout",
     "output_type": "stream",
     "text": [
      "Should stop\n",
      "Epoch: 032 | Loss: 2.34917 | Tr_c: 0.71053 | Vl_c: 0.72415 | Vl_c_liketrn: 0.71005 | Vl_mrr: 0.83802 |Time: 0.049 min\n"
     ]
    },
    {
     "name": "stderr",
     "output_type": "stream",
     "text": [
      "39it [00:01, 33.70it/s]                        \n",
      "10it [00:00, 56.47it/s]                      \n",
      "  0%|          | 0/8 [00:00<?, ?it/s]"
     ]
    },
    {
     "name": "stdout",
     "output_type": "stream",
     "text": [
      "Should stop\n",
      "tensor([1, 0, 0,  ..., 1, 1, 0], device='cuda:0')\n",
      "tensor([0, 0, 1,  ..., 0, 1, 1], device='cuda:0')\n",
      "tensor([0, 1, 0,  ..., 0, 0, 0], device='cuda:0')\n",
      "tensor([0, 0, 1,  ..., 0, 0, 1], device='cuda:0')\n",
      "tensor([1, 0, 0,  ..., 0, 1, 1], device='cuda:0')\n",
      "tensor([1, 0, 0,  ..., 0, 1, 0], device='cuda:0')\n",
      "tensor([0, 1, 0,  ..., 1, 0, 0], device='cuda:0')\n",
      "tensor([1, 0, 0,  ..., 0, 0, 0], device='cuda:0')\n",
      "tensor([0, 1, 1,  ..., 0, 0, 1], device='cuda:0')\n",
      "tensor([0, 0, 1,  ..., 1, 1, 1], device='cuda:0')\n",
      "Should stop\n"
     ]
    },
    {
     "name": "stderr",
     "output_type": "stream",
     "text": [
      "10it [00:00, 281.16it/s]             \n"
     ]
    },
    {
     "name": "stdout",
     "output_type": "stream",
     "text": [
      "Should stop\n",
      "Epoch: 033 | Loss: 2.35057 | Tr_c: 0.71031 | Vl_c: 0.72434 | Vl_c_liketrn: 0.71024 | Vl_mrr: 0.83812 |Time: 0.050 min\n"
     ]
    },
    {
     "name": "stderr",
     "output_type": "stream",
     "text": [
      "39it [00:01, 33.69it/s]                        \n",
      " 56%|█████▌    | 5/9 [00:00<00:00, 44.10it/s]"
     ]
    },
    {
     "name": "stdout",
     "output_type": "stream",
     "text": [
      "Should stop\n",
      "tensor([0, 0, 0,  ..., 0, 0, 1], device='cuda:0')\n",
      "tensor([0, 0, 0,  ..., 0, 0, 0], device='cuda:0')\n",
      "tensor([0, 0, 0,  ..., 0, 1, 0], device='cuda:0')\n",
      "tensor([0, 0, 0,  ..., 1, 0, 1], device='cuda:0')\n",
      "tensor([0, 1, 0,  ..., 0, 1, 0], device='cuda:0')\n",
      "tensor([0, 0, 1,  ..., 0, 0, 0], device='cuda:0')\n",
      "tensor([0, 0, 0,  ..., 0, 1, 0], device='cuda:0')\n",
      "tensor([0, 0, 0,  ..., 1, 0, 0], device='cuda:0')\n",
      "tensor([0, 0, 0,  ..., 0, 0, 0], device='cuda:0')\n",
      "tensor([0, 1, 1,  ..., 1, 1, 1], device='cuda:0')\n"
     ]
    },
    {
     "name": "stderr",
     "output_type": "stream",
     "text": [
      "10it [00:00, 50.43it/s]                      \n",
      "10it [00:00, 251.99it/s]             \n"
     ]
    },
    {
     "name": "stdout",
     "output_type": "stream",
     "text": [
      "Should stop\n",
      "Should stop\n",
      "Epoch: 034 | Loss: 2.35020 | Tr_c: 0.71088 | Vl_c: 0.72460 | Vl_c_liketrn: 0.71054 | Vl_mrr: 0.83825 |Time: 0.044 min\n"
     ]
    },
    {
     "name": "stderr",
     "output_type": "stream",
     "text": [
      "39it [00:01, 33.73it/s]                        \n",
      " 56%|█████▌    | 5/9 [00:00<00:00, 46.60it/s]"
     ]
    },
    {
     "name": "stdout",
     "output_type": "stream",
     "text": [
      "Should stop\n",
      "tensor([1, 1, 0,  ..., 0, 0, 1], device='cuda:0')\n",
      "tensor([0, 0, 1,  ..., 1, 0, 0], device='cuda:0')\n",
      "tensor([0, 0, 0,  ..., 0, 0, 1], device='cuda:0')\n",
      "tensor([1, 0, 1,  ..., 0, 1, 0], device='cuda:0')\n",
      "tensor([1, 0, 1,  ..., 0, 1, 1], device='cuda:0')\n",
      "tensor([0, 1, 0,  ..., 0, 0, 0], device='cuda:0')\n",
      "tensor([1, 0, 0,  ..., 0, 0, 1], device='cuda:0')\n",
      "tensor([1, 1, 0,  ..., 0, 0, 0], device='cuda:0')\n",
      "tensor([0, 0, 0,  ..., 1, 1, 0], device='cuda:0')\n"
     ]
    },
    {
     "name": "stderr",
     "output_type": "stream",
     "text": [
      "10it [00:00, 49.03it/s]                      \n",
      "10it [00:00, 282.63it/s]             \n"
     ]
    },
    {
     "name": "stdout",
     "output_type": "stream",
     "text": [
      "tensor([1, 1, 0,  ..., 1, 1, 1], device='cuda:0')\n",
      "Should stop\n",
      "Should stop\n",
      "Epoch: 035 | Loss: 2.34765 | Tr_c: 0.71061 | Vl_c: 0.72495 | Vl_c_liketrn: 0.71069 | Vl_mrr: 0.83843 |Time: 0.045 min\n"
     ]
    },
    {
     "name": "stderr",
     "output_type": "stream",
     "text": [
      "39it [00:01, 33.86it/s]                        \n",
      "10it [00:00, 51.69it/s]                      \n",
      "  0%|          | 0/8 [00:00<?, ?it/s]"
     ]
    },
    {
     "name": "stdout",
     "output_type": "stream",
     "text": [
      "Should stop\n",
      "tensor([0, 0, 0,  ..., 0, 0, 1], device='cuda:0')\n",
      "tensor([1, 1, 0,  ..., 0, 0, 1], device='cuda:0')\n",
      "tensor([0, 0, 0,  ..., 0, 0, 1], device='cuda:0')\n",
      "tensor([1, 0, 0,  ..., 0, 0, 0], device='cuda:0')\n",
      "tensor([0, 0, 0,  ..., 1, 0, 0], device='cuda:0')\n",
      "tensor([1, 0, 0,  ..., 0, 0, 0], device='cuda:0')\n",
      "tensor([0, 0, 1,  ..., 1, 0, 0], device='cuda:0')\n",
      "tensor([0, 1, 0,  ..., 0, 0, 0], device='cuda:0')\n",
      "tensor([1, 0, 0,  ..., 0, 0, 1], device='cuda:0')\n",
      "tensor([1, 0, 0,  ..., 1, 1, 1], device='cuda:0')\n",
      "Should stop\n"
     ]
    },
    {
     "name": "stderr",
     "output_type": "stream",
     "text": [
      "10it [00:00, 259.51it/s]             \n"
     ]
    },
    {
     "name": "stdout",
     "output_type": "stream",
     "text": [
      "Should stop\n",
      "Epoch: 036 | Loss: 2.34453 | Tr_c: 0.71118 | Vl_c: 0.72521 | Vl_c_liketrn: 0.71138 | Vl_mrr: 0.83856 |Time: 0.044 min\n"
     ]
    },
    {
     "name": "stderr",
     "output_type": "stream",
     "text": [
      "39it [00:01, 33.58it/s]                        \n",
      "10it [00:00, 52.40it/s]                      \n",
      "  0%|          | 0/8 [00:00<?, ?it/s]"
     ]
    },
    {
     "name": "stdout",
     "output_type": "stream",
     "text": [
      "Should stop\n",
      "tensor([0, 0, 0,  ..., 0, 0, 0], device='cuda:0')\n",
      "tensor([1, 0, 1,  ..., 0, 1, 0], device='cuda:0')\n",
      "tensor([0, 0, 0,  ..., 0, 1, 0], device='cuda:0')\n",
      "tensor([0, 0, 0,  ..., 1, 0, 0], device='cuda:0')\n",
      "tensor([0, 0, 1,  ..., 0, 0, 0], device='cuda:0')\n",
      "tensor([0, 1, 1,  ..., 0, 0, 0], device='cuda:0')\n",
      "tensor([0, 0, 1,  ..., 0, 0, 1], device='cuda:0')\n",
      "tensor([0, 1, 1,  ..., 0, 0, 0], device='cuda:0')\n",
      "tensor([0, 0, 0,  ..., 0, 0, 0], device='cuda:0')\n",
      "tensor([0, 1, 1,  ..., 1, 1, 1], device='cuda:0')\n",
      "Should stop\n"
     ]
    },
    {
     "name": "stderr",
     "output_type": "stream",
     "text": [
      "10it [00:00, 275.39it/s]             \n"
     ]
    },
    {
     "name": "stdout",
     "output_type": "stream",
     "text": [
      "Should stop\n",
      "Epoch: 037 | Loss: 2.34639 | Tr_c: 0.71136 | Vl_c: 0.72548 | Vl_c_liketrn: 0.71170 | Vl_mrr: 0.83869 |Time: 0.054 min\n"
     ]
    },
    {
     "name": "stderr",
     "output_type": "stream",
     "text": [
      "39it [00:01, 33.68it/s]                        \n",
      "10it [00:00, 53.76it/s]                      \n",
      "  0%|          | 0/8 [00:00<?, ?it/s]"
     ]
    },
    {
     "name": "stdout",
     "output_type": "stream",
     "text": [
      "Should stop\n",
      "tensor([0, 0, 0,  ..., 0, 0, 0], device='cuda:0')\n",
      "tensor([1, 0, 0,  ..., 0, 0, 0], device='cuda:0')\n",
      "tensor([0, 1, 0,  ..., 0, 1, 1], device='cuda:0')\n",
      "tensor([0, 0, 1,  ..., 0, 0, 0], device='cuda:0')\n",
      "tensor([1, 1, 0,  ..., 0, 0, 1], device='cuda:0')\n",
      "tensor([0, 0, 0,  ..., 0, 0, 0], device='cuda:0')\n",
      "tensor([0, 0, 1,  ..., 0, 1, 0], device='cuda:0')\n",
      "tensor([0, 1, 1,  ..., 1, 0, 1], device='cuda:0')\n",
      "tensor([1, 1, 1,  ..., 1, 0, 0], device='cuda:0')\n",
      "tensor([1, 0, 0,  ..., 1, 1, 1], device='cuda:0')\n",
      "Should stop\n"
     ]
    },
    {
     "name": "stderr",
     "output_type": "stream",
     "text": [
      "10it [00:00, 273.51it/s]             \n"
     ]
    },
    {
     "name": "stdout",
     "output_type": "stream",
     "text": [
      "Should stop\n",
      "Epoch: 038 | Loss: 2.35077 | Tr_c: 0.71070 | Vl_c: 0.72577 | Vl_c_liketrn: 0.71125 | Vl_mrr: 0.83884 |Time: 0.048 min\n"
     ]
    },
    {
     "name": "stderr",
     "output_type": "stream",
     "text": [
      "39it [00:01, 33.50it/s]                        \n",
      "10it [00:00, 54.41it/s]                      \n",
      "  0%|          | 0/8 [00:00<?, ?it/s]"
     ]
    },
    {
     "name": "stdout",
     "output_type": "stream",
     "text": [
      "Should stop\n",
      "tensor([0, 1, 0,  ..., 0, 0, 0], device='cuda:0')\n",
      "tensor([1, 0, 1,  ..., 1, 0, 0], device='cuda:0')\n",
      "tensor([0, 0, 0,  ..., 0, 0, 0], device='cuda:0')\n",
      "tensor([0, 0, 1,  ..., 0, 0, 1], device='cuda:0')\n",
      "tensor([0, 1, 0,  ..., 0, 0, 1], device='cuda:0')\n",
      "tensor([1, 0, 0,  ..., 0, 0, 0], device='cuda:0')\n",
      "tensor([0, 0, 0,  ..., 0, 1, 0], device='cuda:0')\n",
      "tensor([1, 0, 1,  ..., 1, 0, 0], device='cuda:0')\n",
      "tensor([1, 0, 1,  ..., 0, 0, 0], device='cuda:0')\n",
      "tensor([1, 0, 0,  ..., 1, 1, 1], device='cuda:0')\n",
      "Should stop\n"
     ]
    },
    {
     "name": "stderr",
     "output_type": "stream",
     "text": [
      "10it [00:00, 273.63it/s]             \n"
     ]
    },
    {
     "name": "stdout",
     "output_type": "stream",
     "text": [
      "Should stop\n",
      "Epoch: 039 | Loss: 2.34681 | Tr_c: 0.71104 | Vl_c: 0.72603 | Vl_c_liketrn: 0.71184 | Vl_mrr: 0.83896 |Time: 0.045 min\n"
     ]
    },
    {
     "name": "stderr",
     "output_type": "stream",
     "text": [
      "39it [00:01, 33.55it/s]                        \n",
      " 56%|█████▌    | 5/9 [00:00<00:00, 43.32it/s]"
     ]
    },
    {
     "name": "stdout",
     "output_type": "stream",
     "text": [
      "Should stop\n",
      "tensor([0, 1, 0,  ..., 0, 0, 1], device='cuda:0')\n",
      "tensor([0, 0, 0,  ..., 0, 0, 0], device='cuda:0')\n",
      "tensor([0, 0, 0,  ..., 0, 1, 0], device='cuda:0')\n",
      "tensor([0, 0, 0,  ..., 0, 0, 0], device='cuda:0')\n",
      "tensor([0, 0, 0,  ..., 1, 0, 1], device='cuda:0')\n",
      "tensor([0, 0, 1,  ..., 1, 0, 0], device='cuda:0')\n",
      "tensor([0, 0, 1,  ..., 0, 0, 1], device='cuda:0')\n",
      "tensor([1, 0, 1,  ..., 0, 0, 0], device='cuda:0')\n"
     ]
    },
    {
     "name": "stderr",
     "output_type": "stream",
     "text": [
      "10it [00:00, 47.23it/s]                      \n",
      "10it [00:00, 274.56it/s]             \n"
     ]
    },
    {
     "name": "stdout",
     "output_type": "stream",
     "text": [
      "tensor([0, 0, 0,  ..., 0, 1, 1], device='cuda:0')\n",
      "tensor([0, 1, 1,  ..., 1, 1, 1], device='cuda:0')\n",
      "Should stop\n",
      "Should stop\n",
      "Epoch: 040 | Loss: 2.33991 | Tr_c: 0.71308 | Vl_c: 0.72621 | Vl_c_liketrn: 0.71243 | Vl_mrr: 0.83906 |Time: 0.046 min\n"
     ]
    },
    {
     "name": "stderr",
     "output_type": "stream",
     "text": [
      "39it [00:01, 33.70it/s]                        \n",
      "10it [00:00, 51.22it/s]                      "
     ]
    },
    {
     "name": "stdout",
     "output_type": "stream",
     "text": [
      "Should stop\n",
      "tensor([0, 0, 0,  ..., 0, 0, 0], device='cuda:0')\n",
      "tensor([0, 1, 0,  ..., 0, 1, 0], device='cuda:0')\n",
      "tensor([0, 0, 0,  ..., 0, 0, 0], device='cuda:0')\n",
      "tensor([1, 0, 0,  ..., 1, 0, 0], device='cuda:0')\n",
      "tensor([1, 1, 1,  ..., 1, 0, 0], device='cuda:0')\n",
      "tensor([0, 0, 1,  ..., 0, 0, 1], device='cuda:0')\n",
      "tensor([0, 0, 1,  ..., 1, 0, 0], device='cuda:0')\n",
      "tensor([0, 0, 1,  ..., 1, 1, 0], device='cuda:0')\n",
      "tensor([0, 0, 1,  ..., 1, 0, 1], device='cuda:0')\n",
      "tensor([0, 1, 1,  ..., 1, 1, 1], device='cuda:0')\n",
      "Should stop\n"
     ]
    },
    {
     "name": "stderr",
     "output_type": "stream",
     "text": [
      "\n",
      "10it [00:00, 278.33it/s]             \n"
     ]
    },
    {
     "name": "stdout",
     "output_type": "stream",
     "text": [
      "Should stop\n",
      "Epoch: 041 | Loss: 2.34336 | Tr_c: 0.71256 | Vl_c: 0.72637 | Vl_c_liketrn: 0.71283 | Vl_mrr: 0.83914 |Time: 0.051 min\n"
     ]
    },
    {
     "name": "stderr",
     "output_type": "stream",
     "text": [
      "39it [00:01, 33.48it/s]                        \n",
      "10it [00:00, 52.57it/s]                      \n",
      "  0%|          | 0/8 [00:00<?, ?it/s]"
     ]
    },
    {
     "name": "stdout",
     "output_type": "stream",
     "text": [
      "Should stop\n",
      "tensor([0, 1, 0,  ..., 0, 0, 0], device='cuda:0')\n",
      "tensor([0, 1, 0,  ..., 0, 0, 0], device='cuda:0')\n",
      "tensor([1, 0, 0,  ..., 0, 0, 1], device='cuda:0')\n",
      "tensor([0, 0, 0,  ..., 0, 1, 0], device='cuda:0')\n",
      "tensor([0, 0, 1,  ..., 0, 0, 0], device='cuda:0')\n",
      "tensor([1, 1, 1,  ..., 1, 0, 0], device='cuda:0')\n",
      "tensor([1, 1, 1,  ..., 0, 0, 1], device='cuda:0')\n",
      "tensor([0, 0, 1,  ..., 1, 0, 0], device='cuda:0')\n",
      "tensor([0, 0, 0,  ..., 0, 1, 0], device='cuda:0')\n",
      "tensor([0, 0, 1,  ..., 1, 1, 1], device='cuda:0')\n",
      "Should stop\n"
     ]
    },
    {
     "name": "stderr",
     "output_type": "stream",
     "text": [
      "10it [00:00, 273.89it/s]             \n"
     ]
    },
    {
     "name": "stdout",
     "output_type": "stream",
     "text": [
      "Should stop\n",
      "Epoch: 042 | Loss: 2.33955 | Tr_c: 0.71327 | Vl_c: 0.72648 | Vl_c_liketrn: 0.71267 | Vl_mrr: 0.83919 |Time: 0.045 min\n"
     ]
    },
    {
     "name": "stderr",
     "output_type": "stream",
     "text": [
      "39it [00:01, 33.59it/s]                        \n",
      " 44%|████▍     | 4/9 [00:00<00:00, 39.83it/s]"
     ]
    },
    {
     "name": "stdout",
     "output_type": "stream",
     "text": [
      "Should stop\n",
      "tensor([0, 0, 0,  ..., 0, 0, 0], device='cuda:0')\n",
      "tensor([0, 1, 1,  ..., 0, 0, 0], device='cuda:0')\n",
      "tensor([0, 0, 0,  ..., 0, 1, 1], device='cuda:0')\n",
      "tensor([1, 1, 1,  ..., 1, 0, 0], device='cuda:0')\n",
      "tensor([0, 1, 0,  ..., 0, 0, 0], device='cuda:0')\n",
      "tensor([0, 0, 0,  ..., 0, 1, 0], device='cuda:0')\n",
      "tensor([0, 0, 0,  ..., 0, 1, 0], device='cuda:0')\n",
      "tensor([1, 1, 0,  ..., 0, 0, 1], device='cuda:0')\n"
     ]
    },
    {
     "name": "stderr",
     "output_type": "stream",
     "text": [
      "10it [00:00, 46.07it/s]                      \n",
      "10it [00:00, 267.18it/s]             \n"
     ]
    },
    {
     "name": "stdout",
     "output_type": "stream",
     "text": [
      "tensor([0, 1, 0,  ..., 0, 0, 0], device='cuda:0')\n",
      "tensor([0, 1, 0,  ..., 1, 1, 1], device='cuda:0')\n",
      "Should stop\n",
      "Should stop\n",
      "Epoch: 043 | Loss: 2.33948 | Tr_c: 0.71341 | Vl_c: 0.72675 | Vl_c_liketrn: 0.71305 | Vl_mrr: 0.83932 |Time: 0.045 min\n"
     ]
    },
    {
     "name": "stderr",
     "output_type": "stream",
     "text": [
      "39it [00:01, 33.50it/s]                        \n",
      "10it [00:00, 52.04it/s]                      \n",
      "  0%|          | 0/8 [00:00<?, ?it/s]"
     ]
    },
    {
     "name": "stdout",
     "output_type": "stream",
     "text": [
      "Should stop\n",
      "tensor([1, 0, 0,  ..., 0, 0, 1], device='cuda:0')\n",
      "tensor([0, 1, 1,  ..., 0, 1, 0], device='cuda:0')\n",
      "tensor([0, 0, 0,  ..., 0, 0, 0], device='cuda:0')\n",
      "tensor([1, 0, 0,  ..., 0, 1, 1], device='cuda:0')\n",
      "tensor([0, 0, 0,  ..., 1, 0, 1], device='cuda:0')\n",
      "tensor([0, 0, 0,  ..., 0, 0, 0], device='cuda:0')\n",
      "tensor([0, 0, 0,  ..., 0, 0, 1], device='cuda:0')\n",
      "tensor([1, 0, 0,  ..., 0, 0, 0], device='cuda:0')\n",
      "tensor([0, 0, 1,  ..., 0, 1, 1], device='cuda:0')\n",
      "tensor([0, 0, 0,  ..., 1, 1, 1], device='cuda:0')\n",
      "Should stop\n"
     ]
    },
    {
     "name": "stderr",
     "output_type": "stream",
     "text": [
      "10it [00:00, 260.62it/s]             \n"
     ]
    },
    {
     "name": "stdout",
     "output_type": "stream",
     "text": [
      "Should stop\n",
      "Epoch: 044 | Loss: 2.33852 | Tr_c: 0.71354 | Vl_c: 0.72704 | Vl_c_liketrn: 0.71323 | Vl_mrr: 0.83947 |Time: 0.046 min\n"
     ]
    },
    {
     "name": "stderr",
     "output_type": "stream",
     "text": [
      "39it [00:01, 33.81it/s]                        \n",
      "10it [00:00, 53.96it/s]                      \n",
      "  0%|          | 0/8 [00:00<?, ?it/s]"
     ]
    },
    {
     "name": "stdout",
     "output_type": "stream",
     "text": [
      "Should stop\n",
      "tensor([0, 1, 1,  ..., 1, 0, 0], device='cuda:0')\n",
      "tensor([0, 0, 0,  ..., 1, 0, 0], device='cuda:0')\n",
      "tensor([0, 0, 0,  ..., 1, 0, 0], device='cuda:0')\n",
      "tensor([0, 0, 0,  ..., 1, 1, 0], device='cuda:0')\n",
      "tensor([0, 1, 1,  ..., 0, 0, 1], device='cuda:0')\n",
      "tensor([0, 1, 1,  ..., 0, 0, 1], device='cuda:0')\n",
      "tensor([0, 0, 0,  ..., 0, 1, 0], device='cuda:0')\n",
      "tensor([0, 0, 0,  ..., 0, 0, 0], device='cuda:0')\n",
      "tensor([1, 0, 0,  ..., 1, 0, 0], device='cuda:0')\n",
      "tensor([0, 0, 0,  ..., 1, 1, 1], device='cuda:0')\n",
      "Should stop\n"
     ]
    },
    {
     "name": "stderr",
     "output_type": "stream",
     "text": [
      "10it [00:00, 257.02it/s]             \n"
     ]
    },
    {
     "name": "stdout",
     "output_type": "stream",
     "text": [
      "Should stop\n",
      "Epoch: 045 | Loss: 2.33556 | Tr_c: 0.71437 | Vl_c: 0.72733 | Vl_c_liketrn: 0.71409 | Vl_mrr: 0.83962 |Time: 0.049 min\n"
     ]
    },
    {
     "name": "stderr",
     "output_type": "stream",
     "text": [
      "39it [00:01, 33.78it/s]                        \n",
      "10it [00:00, 56.22it/s]                      \n",
      "  0%|          | 0/8 [00:00<?, ?it/s]"
     ]
    },
    {
     "name": "stdout",
     "output_type": "stream",
     "text": [
      "Should stop\n",
      "tensor([1, 0, 0,  ..., 1, 0, 1], device='cuda:0')\n",
      "tensor([0, 0, 0,  ..., 0, 0, 0], device='cuda:0')\n",
      "tensor([1, 1, 1,  ..., 0, 0, 1], device='cuda:0')\n",
      "tensor([0, 1, 0,  ..., 0, 1, 1], device='cuda:0')\n",
      "tensor([0, 1, 1,  ..., 0, 1, 0], device='cuda:0')\n",
      "tensor([1, 0, 1,  ..., 0, 0, 0], device='cuda:0')\n",
      "tensor([0, 1, 0,  ..., 0, 1, 0], device='cuda:0')\n",
      "tensor([1, 1, 0,  ..., 0, 0, 0], device='cuda:0')\n",
      "tensor([1, 0, 1,  ..., 1, 0, 0], device='cuda:0')\n",
      "tensor([1, 1, 0,  ..., 1, 1, 1], device='cuda:0')\n",
      "Should stop\n"
     ]
    },
    {
     "name": "stderr",
     "output_type": "stream",
     "text": [
      "10it [00:00, 285.25it/s]             \n"
     ]
    },
    {
     "name": "stdout",
     "output_type": "stream",
     "text": [
      "Should stop\n",
      "Epoch: 046 | Loss: 2.33427 | Tr_c: 0.71462 | Vl_c: 0.72764 | Vl_c_liketrn: 0.71387 | Vl_mrr: 0.83977 |Time: 0.044 min\n"
     ]
    },
    {
     "name": "stderr",
     "output_type": "stream",
     "text": [
      "39it [00:01, 33.77it/s]                        \n",
      "10it [00:00, 51.39it/s]                      \n",
      "  0%|          | 0/8 [00:00<?, ?it/s]"
     ]
    },
    {
     "name": "stdout",
     "output_type": "stream",
     "text": [
      "Should stop\n",
      "tensor([1, 0, 1,  ..., 0, 0, 0], device='cuda:0')\n",
      "tensor([1, 0, 1,  ..., 0, 1, 1], device='cuda:0')\n",
      "tensor([0, 0, 0,  ..., 1, 0, 0], device='cuda:0')\n",
      "tensor([0, 0, 0,  ..., 0, 0, 0], device='cuda:0')\n",
      "tensor([1, 0, 0,  ..., 0, 1, 1], device='cuda:0')\n",
      "tensor([0, 0, 0,  ..., 1, 0, 0], device='cuda:0')\n",
      "tensor([1, 1, 0,  ..., 0, 0, 1], device='cuda:0')\n",
      "tensor([1, 1, 1,  ..., 0, 0, 0], device='cuda:0')\n",
      "tensor([0, 1, 0,  ..., 0, 0, 0], device='cuda:0')\n",
      "tensor([0, 0, 0,  ..., 1, 1, 1], device='cuda:0')\n",
      "Should stop\n"
     ]
    },
    {
     "name": "stderr",
     "output_type": "stream",
     "text": [
      "10it [00:00, 254.09it/s]             \n"
     ]
    },
    {
     "name": "stdout",
     "output_type": "stream",
     "text": [
      "Should stop\n",
      "Epoch: 047 | Loss: 2.33458 | Tr_c: 0.71462 | Vl_c: 0.72781 | Vl_c_liketrn: 0.71395 | Vl_mrr: 0.83986 |Time: 0.046 min\n"
     ]
    },
    {
     "name": "stderr",
     "output_type": "stream",
     "text": [
      "39it [00:01, 33.78it/s]                        \n",
      " 56%|█████▌    | 5/9 [00:00<00:00, 42.62it/s]"
     ]
    },
    {
     "name": "stdout",
     "output_type": "stream",
     "text": [
      "Should stop\n",
      "tensor([1, 0, 1,  ..., 0, 0, 0], device='cuda:0')\n",
      "tensor([0, 1, 0,  ..., 0, 1, 1], device='cuda:0')\n",
      "tensor([0, 0, 1,  ..., 1, 1, 0], device='cuda:0')\n",
      "tensor([1, 0, 0,  ..., 0, 1, 0], device='cuda:0')\n",
      "tensor([1, 1, 0,  ..., 0, 0, 1], device='cuda:0')\n",
      "tensor([0, 0, 0,  ..., 1, 1, 0], device='cuda:0')\n",
      "tensor([1, 0, 0,  ..., 1, 1, 0], device='cuda:0')\n",
      "tensor([1, 0, 0,  ..., 0, 1, 0], device='cuda:0')\n",
      "tensor([0, 0, 1,  ..., 0, 0, 0], device='cuda:0')\n"
     ]
    },
    {
     "name": "stderr",
     "output_type": "stream",
     "text": [
      "10it [00:00, 48.94it/s]                      \n",
      "10it [00:00, 254.60it/s]             \n"
     ]
    },
    {
     "name": "stdout",
     "output_type": "stream",
     "text": [
      "tensor([0, 0, 0,  ..., 1, 1, 1], device='cuda:0')\n",
      "Should stop\n",
      "Should stop\n",
      "Epoch: 048 | Loss: 2.33303 | Tr_c: 0.71471 | Vl_c: 0.72808 | Vl_c_liketrn: 0.71479 | Vl_mrr: 0.83999 |Time: 0.044 min\n"
     ]
    },
    {
     "name": "stderr",
     "output_type": "stream",
     "text": [
      "39it [00:01, 33.41it/s]                        \n",
      "10it [00:00, 51.55it/s]                      \n",
      "  0%|          | 0/8 [00:00<?, ?it/s]"
     ]
    },
    {
     "name": "stdout",
     "output_type": "stream",
     "text": [
      "Should stop\n",
      "tensor([0, 0, 0,  ..., 0, 0, 1], device='cuda:0')\n",
      "tensor([1, 0, 1,  ..., 0, 1, 0], device='cuda:0')\n",
      "tensor([1, 0, 0,  ..., 0, 1, 1], device='cuda:0')\n",
      "tensor([0, 0, 0,  ..., 0, 0, 0], device='cuda:0')\n",
      "tensor([0, 0, 0,  ..., 1, 0, 1], device='cuda:0')\n",
      "tensor([0, 0, 0,  ..., 1, 1, 1], device='cuda:0')\n",
      "tensor([0, 0, 0,  ..., 0, 0, 1], device='cuda:0')\n",
      "tensor([1, 0, 1,  ..., 0, 0, 1], device='cuda:0')\n",
      "tensor([1, 0, 0,  ..., 0, 0, 1], device='cuda:0')\n",
      "tensor([1, 0, 1,  ..., 1, 1, 1], device='cuda:0')\n",
      "Should stop\n"
     ]
    },
    {
     "name": "stderr",
     "output_type": "stream",
     "text": [
      "10it [00:00, 281.60it/s]             \n"
     ]
    },
    {
     "name": "stdout",
     "output_type": "stream",
     "text": [
      "Should stop\n",
      "Epoch: 049 | Loss: 2.33071 | Tr_c: 0.71528 | Vl_c: 0.72828 | Vl_c_liketrn: 0.71460 | Vl_mrr: 0.84009 |Time: 0.045 min\n"
     ]
    },
    {
     "name": "stderr",
     "output_type": "stream",
     "text": [
      "39it [00:01, 33.70it/s]                        \n",
      "10it [00:00, 51.83it/s]                      \n",
      "  0%|          | 0/8 [00:00<?, ?it/s]"
     ]
    },
    {
     "name": "stdout",
     "output_type": "stream",
     "text": [
      "Should stop\n",
      "tensor([0, 0, 0,  ..., 0, 0, 0], device='cuda:0')\n",
      "tensor([0, 0, 0,  ..., 0, 0, 0], device='cuda:0')\n",
      "tensor([1, 0, 0,  ..., 1, 0, 0], device='cuda:0')\n",
      "tensor([1, 0, 1,  ..., 0, 0, 0], device='cuda:0')\n",
      "tensor([1, 1, 0,  ..., 1, 1, 0], device='cuda:0')\n",
      "tensor([0, 0, 0,  ..., 0, 1, 0], device='cuda:0')\n",
      "tensor([0, 1, 0,  ..., 0, 0, 0], device='cuda:0')\n",
      "tensor([0, 1, 1,  ..., 0, 0, 0], device='cuda:0')\n",
      "tensor([0, 0, 0,  ..., 0, 0, 1], device='cuda:0')\n",
      "tensor([1, 0, 0,  ..., 1, 1, 1], device='cuda:0')\n",
      "Should stop\n"
     ]
    },
    {
     "name": "stderr",
     "output_type": "stream",
     "text": [
      "10it [00:00, 259.07it/s]             \n"
     ]
    },
    {
     "name": "stdout",
     "output_type": "stream",
     "text": [
      "Should stop\n",
      "Epoch: 050 | Loss: 2.33278 | Tr_c: 0.71519 | Vl_c: 0.72861 | Vl_c_liketrn: 0.71462 | Vl_mrr: 0.84026 |Time: 0.045 min\n"
     ]
    },
    {
     "name": "stderr",
     "output_type": "stream",
     "text": [
      "39it [00:01, 33.75it/s]                        \n",
      "10it [00:00, 56.10it/s]                      \n",
      "  0%|          | 0/8 [00:00<?, ?it/s]"
     ]
    },
    {
     "name": "stdout",
     "output_type": "stream",
     "text": [
      "Should stop\n",
      "tensor([1, 1, 0,  ..., 0, 1, 1], device='cuda:0')\n",
      "tensor([0, 0, 1,  ..., 0, 1, 1], device='cuda:0')\n",
      "tensor([0, 0, 0,  ..., 0, 0, 1], device='cuda:0')\n",
      "tensor([0, 0, 0,  ..., 0, 0, 0], device='cuda:0')\n",
      "tensor([1, 0, 1,  ..., 0, 1, 0], device='cuda:0')\n",
      "tensor([0, 0, 0,  ..., 1, 0, 0], device='cuda:0')\n",
      "tensor([0, 0, 0,  ..., 0, 1, 0], device='cuda:0')\n",
      "tensor([0, 1, 1,  ..., 1, 1, 1], device='cuda:0')\n",
      "tensor([0, 0, 0,  ..., 0, 1, 0], device='cuda:0')\n",
      "tensor([1, 0, 0,  ..., 1, 1, 1], device='cuda:0')\n",
      "Should stop\n"
     ]
    },
    {
     "name": "stderr",
     "output_type": "stream",
     "text": [
      "10it [00:00, 284.57it/s]             \n"
     ]
    },
    {
     "name": "stdout",
     "output_type": "stream",
     "text": [
      "Should stop\n",
      "Epoch: 051 | Loss: 2.32915 | Tr_c: 0.71611 | Vl_c: 0.72894 | Vl_c_liketrn: 0.71543 | Vl_mrr: 0.84042 |Time: 0.044 min\n"
     ]
    },
    {
     "name": "stderr",
     "output_type": "stream",
     "text": [
      "39it [00:01, 33.57it/s]                        \n",
      "10it [00:00, 53.74it/s]                      \n",
      "  0%|          | 0/8 [00:00<?, ?it/s]"
     ]
    },
    {
     "name": "stdout",
     "output_type": "stream",
     "text": [
      "Should stop\n",
      "tensor([0, 0, 1,  ..., 0, 0, 0], device='cuda:0')\n",
      "tensor([0, 1, 1,  ..., 0, 0, 0], device='cuda:0')\n",
      "tensor([0, 0, 1,  ..., 1, 0, 0], device='cuda:0')\n",
      "tensor([0, 0, 0,  ..., 0, 0, 1], device='cuda:0')\n",
      "tensor([1, 0, 0,  ..., 0, 0, 0], device='cuda:0')\n",
      "tensor([0, 0, 0,  ..., 0, 0, 1], device='cuda:0')\n",
      "tensor([0, 1, 1,  ..., 1, 1, 1], device='cuda:0')\n",
      "tensor([1, 0, 0,  ..., 0, 0, 0], device='cuda:0')\n",
      "tensor([0, 0, 1,  ..., 0, 0, 1], device='cuda:0')\n",
      "tensor([0, 1, 0,  ..., 1, 1, 1], device='cuda:0')\n",
      "Should stop\n"
     ]
    },
    {
     "name": "stderr",
     "output_type": "stream",
     "text": [
      "10it [00:00, 280.54it/s]             \n"
     ]
    },
    {
     "name": "stdout",
     "output_type": "stream",
     "text": [
      "Should stop\n",
      "Epoch: 052 | Loss: 2.33000 | Tr_c: 0.71628 | Vl_c: 0.72909 | Vl_c_liketrn: 0.71503 | Vl_mrr: 0.84050 |Time: 0.045 min\n"
     ]
    },
    {
     "name": "stderr",
     "output_type": "stream",
     "text": [
      "39it [00:01, 33.76it/s]                        \n",
      "10it [00:00, 51.88it/s]                      \n",
      "  0%|          | 0/8 [00:00<?, ?it/s]"
     ]
    },
    {
     "name": "stdout",
     "output_type": "stream",
     "text": [
      "Should stop\n",
      "tensor([0, 1, 0,  ..., 0, 1, 0], device='cuda:0')\n",
      "tensor([0, 0, 0,  ..., 0, 0, 1], device='cuda:0')\n",
      "tensor([0, 0, 1,  ..., 0, 0, 0], device='cuda:0')\n",
      "tensor([0, 0, 1,  ..., 0, 0, 0], device='cuda:0')\n",
      "tensor([0, 1, 0,  ..., 0, 1, 0], device='cuda:0')\n",
      "tensor([0, 0, 1,  ..., 0, 0, 0], device='cuda:0')\n",
      "tensor([0, 0, 0,  ..., 1, 0, 1], device='cuda:0')\n",
      "tensor([0, 0, 0,  ..., 1, 0, 0], device='cuda:0')\n",
      "tensor([0, 1, 0,  ..., 1, 0, 0], device='cuda:0')\n",
      "tensor([0, 0, 0,  ..., 1, 1, 1], device='cuda:0')\n",
      "Should stop\n"
     ]
    },
    {
     "name": "stderr",
     "output_type": "stream",
     "text": [
      "10it [00:00, 281.17it/s]             \n"
     ]
    },
    {
     "name": "stdout",
     "output_type": "stream",
     "text": [
      "Should stop\n",
      "Epoch: 053 | Loss: 2.32815 | Tr_c: 0.71633 | Vl_c: 0.72922 | Vl_c_liketrn: 0.71546 | Vl_mrr: 0.84056 |Time: 0.045 min\n"
     ]
    },
    {
     "name": "stderr",
     "output_type": "stream",
     "text": [
      "39it [00:01, 33.86it/s]                        \n",
      " 56%|█████▌    | 5/9 [00:00<00:00, 45.53it/s]"
     ]
    },
    {
     "name": "stdout",
     "output_type": "stream",
     "text": [
      "Should stop\n",
      "tensor([0, 0, 0,  ..., 0, 0, 0], device='cuda:0')\n",
      "tensor([0, 1, 0,  ..., 0, 0, 0], device='cuda:0')\n",
      "tensor([0, 0, 0,  ..., 0, 1, 1], device='cuda:0')\n",
      "tensor([1, 0, 0,  ..., 0, 0, 0], device='cuda:0')\n",
      "tensor([0, 0, 0,  ..., 0, 0, 0], device='cuda:0')\n",
      "tensor([0, 0, 1,  ..., 0, 0, 0], device='cuda:0')\n",
      "tensor([0, 1, 1,  ..., 0, 1, 0], device='cuda:0')\n",
      "tensor([1, 0, 0,  ..., 0, 1, 0], device='cuda:0')\n"
     ]
    },
    {
     "name": "stderr",
     "output_type": "stream",
     "text": [
      "10it [00:00, 45.04it/s]                      \n",
      "10it [00:00, 250.76it/s]             \n"
     ]
    },
    {
     "name": "stdout",
     "output_type": "stream",
     "text": [
      "tensor([0, 1, 0,  ..., 1, 0, 0], device='cuda:0')\n",
      "tensor([1, 0, 0,  ..., 1, 1, 1], device='cuda:0')\n",
      "Should stop\n",
      "Should stop\n",
      "Epoch: 054 | Loss: 2.32569 | Tr_c: 0.71691 | Vl_c: 0.72953 | Vl_c_liketrn: 0.71620 | Vl_mrr: 0.84072 |Time: 0.049 min\n"
     ]
    },
    {
     "name": "stderr",
     "output_type": "stream",
     "text": [
      "39it [00:01, 33.60it/s]                        \n",
      "10it [00:00, 52.88it/s]                      \n",
      "  0%|          | 0/8 [00:00<?, ?it/s]"
     ]
    },
    {
     "name": "stdout",
     "output_type": "stream",
     "text": [
      "Should stop\n",
      "tensor([0, 0, 0,  ..., 1, 0, 0], device='cuda:0')\n",
      "tensor([0, 0, 0,  ..., 0, 0, 1], device='cuda:0')\n",
      "tensor([0, 0, 1,  ..., 1, 0, 0], device='cuda:0')\n",
      "tensor([0, 0, 0,  ..., 0, 0, 0], device='cuda:0')\n",
      "tensor([1, 0, 0,  ..., 0, 1, 1], device='cuda:0')\n",
      "tensor([0, 0, 0,  ..., 0, 1, 0], device='cuda:0')\n",
      "tensor([0, 1, 0,  ..., 1, 0, 0], device='cuda:0')\n",
      "tensor([0, 0, 0,  ..., 0, 0, 0], device='cuda:0')\n",
      "tensor([1, 0, 0,  ..., 0, 0, 0], device='cuda:0')\n",
      "tensor([0, 0, 1,  ..., 1, 1, 1], device='cuda:0')\n",
      "Should stop\n"
     ]
    },
    {
     "name": "stderr",
     "output_type": "stream",
     "text": [
      "10it [00:00, 256.93it/s]             \n"
     ]
    },
    {
     "name": "stdout",
     "output_type": "stream",
     "text": [
      "Should stop\n",
      "Epoch: 055 | Loss: 2.32486 | Tr_c: 0.71695 | Vl_c: 0.72980 | Vl_c_liketrn: 0.71619 | Vl_mrr: 0.84085 |Time: 0.046 min\n"
     ]
    },
    {
     "name": "stderr",
     "output_type": "stream",
     "text": [
      "39it [00:01, 33.61it/s]                        \n",
      " 56%|█████▌    | 5/9 [00:00<00:00, 43.09it/s]"
     ]
    },
    {
     "name": "stdout",
     "output_type": "stream",
     "text": [
      "Should stop\n",
      "tensor([0, 0, 0,  ..., 0, 0, 0], device='cuda:0')\n",
      "tensor([0, 0, 0,  ..., 0, 1, 0], device='cuda:0')\n",
      "tensor([0, 0, 1,  ..., 0, 0, 1], device='cuda:0')\n",
      "tensor([0, 1, 0,  ..., 1, 0, 0], device='cuda:0')\n",
      "tensor([0, 1, 1,  ..., 0, 0, 0], device='cuda:0')\n",
      "tensor([0, 0, 0,  ..., 0, 0, 0], device='cuda:0')\n",
      "tensor([0, 1, 1,  ..., 0, 0, 0], device='cuda:0')\n",
      "tensor([0, 0, 0,  ..., 1, 0, 0], device='cuda:0')\n"
     ]
    },
    {
     "name": "stderr",
     "output_type": "stream",
     "text": [
      "10it [00:00, 47.72it/s]                      \n",
      "10it [00:00, 268.19it/s]             \n"
     ]
    },
    {
     "name": "stdout",
     "output_type": "stream",
     "text": [
      "tensor([0, 0, 0,  ..., 0, 0, 0], device='cuda:0')\n",
      "tensor([0, 0, 0,  ..., 1, 1, 1], device='cuda:0')\n",
      "Should stop\n",
      "Should stop\n",
      "Epoch: 056 | Loss: 2.32191 | Tr_c: 0.71742 | Vl_c: 0.73004 | Vl_c_liketrn: 0.71703 | Vl_mrr: 0.84097 |Time: 0.047 min\n"
     ]
    },
    {
     "name": "stderr",
     "output_type": "stream",
     "text": [
      "39it [00:01, 33.66it/s]                        \n",
      "10it [00:00, 52.07it/s]                      \n",
      "  0%|          | 0/8 [00:00<?, ?it/s]"
     ]
    },
    {
     "name": "stdout",
     "output_type": "stream",
     "text": [
      "Should stop\n",
      "tensor([0, 0, 0,  ..., 0, 0, 0], device='cuda:0')\n",
      "tensor([0, 0, 0,  ..., 1, 0, 1], device='cuda:0')\n",
      "tensor([1, 1, 0,  ..., 0, 1, 0], device='cuda:0')\n",
      "tensor([0, 0, 0,  ..., 1, 0, 1], device='cuda:0')\n",
      "tensor([1, 0, 0,  ..., 0, 0, 1], device='cuda:0')\n",
      "tensor([0, 1, 0,  ..., 0, 0, 1], device='cuda:0')\n",
      "tensor([1, 0, 1,  ..., 0, 0, 0], device='cuda:0')\n",
      "tensor([1, 0, 0,  ..., 0, 1, 1], device='cuda:0')\n",
      "tensor([1, 1, 0,  ..., 0, 0, 0], device='cuda:0')\n",
      "tensor([0, 0, 0,  ..., 1, 1, 1], device='cuda:0')\n",
      "Should stop\n"
     ]
    },
    {
     "name": "stderr",
     "output_type": "stream",
     "text": [
      "10it [00:00, 279.38it/s]             \n"
     ]
    },
    {
     "name": "stdout",
     "output_type": "stream",
     "text": [
      "Should stop\n",
      "Epoch: 057 | Loss: 2.32433 | Tr_c: 0.71701 | Vl_c: 0.73040 | Vl_c_liketrn: 0.71642 | Vl_mrr: 0.84115 |Time: 0.047 min\n"
     ]
    },
    {
     "name": "stderr",
     "output_type": "stream",
     "text": [
      "39it [00:01, 33.73it/s]                        \n",
      "10it [00:00, 53.46it/s]                      \n",
      "  0%|          | 0/8 [00:00<?, ?it/s]"
     ]
    },
    {
     "name": "stdout",
     "output_type": "stream",
     "text": [
      "Should stop\n",
      "tensor([1, 0, 0,  ..., 0, 0, 0], device='cuda:0')\n",
      "tensor([0, 1, 0,  ..., 0, 1, 0], device='cuda:0')\n",
      "tensor([0, 0, 0,  ..., 0, 0, 0], device='cuda:0')\n",
      "tensor([1, 1, 0,  ..., 0, 0, 0], device='cuda:0')\n",
      "tensor([0, 1, 0,  ..., 0, 0, 0], device='cuda:0')\n",
      "tensor([0, 1, 0,  ..., 0, 0, 0], device='cuda:0')\n",
      "tensor([0, 0, 0,  ..., 1, 1, 0], device='cuda:0')\n",
      "tensor([1, 0, 0,  ..., 0, 0, 0], device='cuda:0')\n",
      "tensor([1, 0, 1,  ..., 0, 1, 1], device='cuda:0')\n",
      "tensor([0, 0, 1,  ..., 1, 1, 1], device='cuda:0')\n",
      "Should stop\n"
     ]
    },
    {
     "name": "stderr",
     "output_type": "stream",
     "text": [
      "10it [00:00, 278.31it/s]             \n"
     ]
    },
    {
     "name": "stdout",
     "output_type": "stream",
     "text": [
      "Should stop\n",
      "Epoch: 058 | Loss: 2.32010 | Tr_c: 0.71812 | Vl_c: 0.73063 | Vl_c_liketrn: 0.71714 | Vl_mrr: 0.84127 |Time: 0.045 min\n"
     ]
    },
    {
     "name": "stderr",
     "output_type": "stream",
     "text": [
      "39it [00:01, 33.91it/s]                        \n",
      "10it [00:00, 52.79it/s]                      \n",
      "  0%|          | 0/8 [00:00<?, ?it/s]"
     ]
    },
    {
     "name": "stdout",
     "output_type": "stream",
     "text": [
      "Should stop\n",
      "tensor([0, 0, 0,  ..., 0, 0, 0], device='cuda:0')\n",
      "tensor([1, 1, 0,  ..., 0, 0, 1], device='cuda:0')\n",
      "tensor([0, 0, 1,  ..., 1, 0, 0], device='cuda:0')\n",
      "tensor([0, 0, 0,  ..., 0, 0, 0], device='cuda:0')\n",
      "tensor([1, 1, 0,  ..., 1, 0, 1], device='cuda:0')\n",
      "tensor([0, 0, 1,  ..., 1, 1, 0], device='cuda:0')\n",
      "tensor([0, 0, 0,  ..., 0, 0, 0], device='cuda:0')\n",
      "tensor([1, 0, 0,  ..., 0, 0, 1], device='cuda:0')\n",
      "tensor([1, 0, 0,  ..., 0, 0, 0], device='cuda:0')\n",
      "tensor([0, 0, 0,  ..., 1, 1, 1], device='cuda:0')\n",
      "Should stop\n"
     ]
    },
    {
     "name": "stderr",
     "output_type": "stream",
     "text": [
      "10it [00:00, 284.32it/s]             \n"
     ]
    },
    {
     "name": "stdout",
     "output_type": "stream",
     "text": [
      "Should stop\n",
      "Epoch: 059 | Loss: 2.32141 | Tr_c: 0.71818 | Vl_c: 0.73096 | Vl_c_liketrn: 0.71768 | Vl_mrr: 0.84143 |Time: 0.049 min\n"
     ]
    },
    {
     "name": "stderr",
     "output_type": "stream",
     "text": [
      "39it [00:01, 33.66it/s]                        \n",
      "10it [00:00, 52.43it/s]                      \n",
      "  0%|          | 0/8 [00:00<?, ?it/s]"
     ]
    },
    {
     "name": "stdout",
     "output_type": "stream",
     "text": [
      "Should stop\n",
      "tensor([1, 0, 0,  ..., 1, 0, 0], device='cuda:0')\n",
      "tensor([0, 0, 1,  ..., 0, 0, 0], device='cuda:0')\n",
      "tensor([1, 1, 0,  ..., 0, 0, 0], device='cuda:0')\n",
      "tensor([1, 0, 0,  ..., 0, 0, 0], device='cuda:0')\n",
      "tensor([0, 1, 0,  ..., 0, 0, 0], device='cuda:0')\n",
      "tensor([0, 1, 0,  ..., 1, 0, 0], device='cuda:0')\n",
      "tensor([0, 0, 0,  ..., 1, 0, 1], device='cuda:0')\n",
      "tensor([0, 0, 1,  ..., 0, 0, 0], device='cuda:0')\n",
      "tensor([1, 0, 0,  ..., 1, 1, 1], device='cuda:0')\n",
      "tensor([0, 0, 0,  ..., 1, 1, 1], device='cuda:0')\n",
      "Should stop\n"
     ]
    },
    {
     "name": "stderr",
     "output_type": "stream",
     "text": [
      "10it [00:00, 283.90it/s]             \n"
     ]
    },
    {
     "name": "stdout",
     "output_type": "stream",
     "text": [
      "Should stop\n",
      "Epoch: 060 | Loss: 2.32268 | Tr_c: 0.71804 | Vl_c: 0.73112 | Vl_c_liketrn: 0.71726 | Vl_mrr: 0.84150 |Time: 0.045 min\n"
     ]
    },
    {
     "name": "stderr",
     "output_type": "stream",
     "text": [
      "39it [00:01, 33.56it/s]                        \n",
      "10it [00:00, 51.44it/s]                      \n",
      "  0%|          | 0/8 [00:00<?, ?it/s]"
     ]
    },
    {
     "name": "stdout",
     "output_type": "stream",
     "text": [
      "Should stop\n",
      "tensor([0, 0, 1,  ..., 1, 0, 1], device='cuda:0')\n",
      "tensor([0, 0, 1,  ..., 0, 1, 0], device='cuda:0')\n",
      "tensor([0, 1, 0,  ..., 0, 0, 0], device='cuda:0')\n",
      "tensor([0, 0, 0,  ..., 0, 0, 0], device='cuda:0')\n",
      "tensor([0, 0, 0,  ..., 1, 0, 1], device='cuda:0')\n",
      "tensor([0, 0, 0,  ..., 0, 1, 0], device='cuda:0')\n",
      "tensor([0, 0, 0,  ..., 0, 0, 0], device='cuda:0')\n",
      "tensor([0, 0, 1,  ..., 1, 1, 0], device='cuda:0')\n",
      "tensor([0, 1, 0,  ..., 0, 0, 1], device='cuda:0')\n",
      "tensor([0, 0, 0,  ..., 1, 1, 1], device='cuda:0')\n",
      "Should stop\n"
     ]
    },
    {
     "name": "stderr",
     "output_type": "stream",
     "text": [
      "10it [00:00, 281.48it/s]             \n"
     ]
    },
    {
     "name": "stdout",
     "output_type": "stream",
     "text": [
      "Should stop\n",
      "Epoch: 061 | Loss: 2.31795 | Tr_c: 0.71861 | Vl_c: 0.73125 | Vl_c_liketrn: 0.71758 | Vl_mrr: 0.84158 |Time: 0.046 min\n"
     ]
    },
    {
     "name": "stderr",
     "output_type": "stream",
     "text": [
      "39it [00:01, 33.73it/s]                        \n",
      "10it [00:00, 56.28it/s]                      \n",
      "  0%|          | 0/8 [00:00<?, ?it/s]"
     ]
    },
    {
     "name": "stdout",
     "output_type": "stream",
     "text": [
      "Should stop\n",
      "tensor([0, 1, 0,  ..., 0, 1, 0], device='cuda:0')\n",
      "tensor([0, 0, 0,  ..., 0, 0, 0], device='cuda:0')\n",
      "tensor([1, 0, 0,  ..., 0, 0, 1], device='cuda:0')\n",
      "tensor([0, 0, 1,  ..., 0, 1, 1], device='cuda:0')\n",
      "tensor([1, 0, 0,  ..., 1, 0, 0], device='cuda:0')\n",
      "tensor([0, 1, 0,  ..., 0, 0, 0], device='cuda:0')\n",
      "tensor([1, 1, 0,  ..., 0, 1, 0], device='cuda:0')\n",
      "tensor([0, 1, 0,  ..., 1, 1, 0], device='cuda:0')\n",
      "tensor([1, 0, 0,  ..., 0, 0, 0], device='cuda:0')\n",
      "tensor([0, 0, 0,  ..., 1, 1, 1], device='cuda:0')\n",
      "Should stop\n"
     ]
    },
    {
     "name": "stderr",
     "output_type": "stream",
     "text": [
      "10it [00:00, 284.68it/s]             \n"
     ]
    },
    {
     "name": "stdout",
     "output_type": "stream",
     "text": [
      "Should stop\n",
      "Epoch: 062 | Loss: 2.31655 | Tr_c: 0.71856 | Vl_c: 0.73141 | Vl_c_liketrn: 0.71790 | Vl_mrr: 0.84166 |Time: 0.045 min\n"
     ]
    },
    {
     "name": "stderr",
     "output_type": "stream",
     "text": [
      "39it [00:01, 33.71it/s]                        \n",
      "10it [00:00, 54.26it/s]                      \n",
      "  0%|          | 0/8 [00:00<?, ?it/s]"
     ]
    },
    {
     "name": "stdout",
     "output_type": "stream",
     "text": [
      "Should stop\n",
      "tensor([1, 0, 0,  ..., 0, 0, 0], device='cuda:0')\n",
      "tensor([0, 0, 0,  ..., 0, 0, 0], device='cuda:0')\n",
      "tensor([0, 0, 0,  ..., 0, 0, 0], device='cuda:0')\n",
      "tensor([1, 1, 1,  ..., 0, 0, 0], device='cuda:0')\n",
      "tensor([0, 0, 1,  ..., 0, 0, 0], device='cuda:0')\n",
      "tensor([0, 1, 0,  ..., 0, 0, 0], device='cuda:0')\n",
      "tensor([1, 0, 0,  ..., 0, 0, 0], device='cuda:0')\n",
      "tensor([0, 0, 0,  ..., 1, 0, 1], device='cuda:0')\n",
      "tensor([1, 1, 0,  ..., 1, 0, 0], device='cuda:0')\n",
      "tensor([0, 0, 0,  ..., 1, 1, 1], device='cuda:0')\n",
      "Should stop\n"
     ]
    },
    {
     "name": "stderr",
     "output_type": "stream",
     "text": [
      "10it [00:00, 285.92it/s]             \n"
     ]
    },
    {
     "name": "stdout",
     "output_type": "stream",
     "text": [
      "Should stop\n",
      "Epoch: 063 | Loss: 2.31644 | Tr_c: 0.71899 | Vl_c: 0.73164 | Vl_c_liketrn: 0.71767 | Vl_mrr: 0.84177 |Time: 0.045 min\n"
     ]
    },
    {
     "name": "stderr",
     "output_type": "stream",
     "text": [
      "39it [00:01, 33.58it/s]                        \n",
      "10it [00:00, 52.47it/s]                      \n",
      "  0%|          | 0/8 [00:00<?, ?it/s]"
     ]
    },
    {
     "name": "stdout",
     "output_type": "stream",
     "text": [
      "Should stop\n",
      "tensor([0, 0, 0,  ..., 0, 1, 0], device='cuda:0')\n",
      "tensor([0, 0, 0,  ..., 0, 0, 1], device='cuda:0')\n",
      "tensor([1, 0, 0,  ..., 0, 1, 0], device='cuda:0')\n",
      "tensor([0, 0, 0,  ..., 1, 0, 0], device='cuda:0')\n",
      "tensor([0, 1, 0,  ..., 0, 0, 0], device='cuda:0')\n",
      "tensor([0, 0, 0,  ..., 1, 0, 0], device='cuda:0')\n",
      "tensor([0, 1, 0,  ..., 0, 0, 1], device='cuda:0')\n",
      "tensor([1, 1, 1,  ..., 1, 0, 1], device='cuda:0')\n",
      "tensor([0, 1, 0,  ..., 0, 0, 0], device='cuda:0')\n",
      "tensor([0, 0, 0,  ..., 1, 1, 1], device='cuda:0')\n",
      "Should stop\n"
     ]
    },
    {
     "name": "stderr",
     "output_type": "stream",
     "text": [
      "10it [00:00, 277.28it/s]             \n"
     ]
    },
    {
     "name": "stdout",
     "output_type": "stream",
     "text": [
      "Should stop\n",
      "Epoch: 064 | Loss: 2.31824 | Tr_c: 0.71873 | Vl_c: 0.73184 | Vl_c_liketrn: 0.71865 | Vl_mrr: 0.84187 |Time: 0.045 min\n"
     ]
    },
    {
     "name": "stderr",
     "output_type": "stream",
     "text": [
      "39it [00:01, 33.85it/s]                        \n",
      "10it [00:00, 54.56it/s]                      \n",
      "  0%|          | 0/8 [00:00<?, ?it/s]"
     ]
    },
    {
     "name": "stdout",
     "output_type": "stream",
     "text": [
      "Should stop\n",
      "tensor([1, 0, 0,  ..., 1, 0, 0], device='cuda:0')\n",
      "tensor([0, 0, 0,  ..., 0, 0, 0], device='cuda:0')\n",
      "tensor([0, 0, 1,  ..., 1, 1, 1], device='cuda:0')\n",
      "tensor([1, 0, 0,  ..., 0, 0, 0], device='cuda:0')\n",
      "tensor([0, 0, 1,  ..., 1, 0, 0], device='cuda:0')\n",
      "tensor([0, 0, 0,  ..., 0, 0, 0], device='cuda:0')\n",
      "tensor([0, 0, 0,  ..., 0, 0, 0], device='cuda:0')\n",
      "tensor([1, 0, 0,  ..., 0, 0, 0], device='cuda:0')\n",
      "tensor([1, 0, 0,  ..., 0, 1, 0], device='cuda:0')\n",
      "tensor([0, 0, 1,  ..., 1, 1, 1], device='cuda:0')\n",
      "Should stop\n"
     ]
    },
    {
     "name": "stderr",
     "output_type": "stream",
     "text": [
      "10it [00:00, 284.66it/s]             \n"
     ]
    },
    {
     "name": "stdout",
     "output_type": "stream",
     "text": [
      "Should stop\n",
      "Epoch: 065 | Loss: 2.31400 | Tr_c: 0.71975 | Vl_c: 0.73221 | Vl_c_liketrn: 0.71871 | Vl_mrr: 0.84206 |Time: 0.047 min\n"
     ]
    },
    {
     "name": "stderr",
     "output_type": "stream",
     "text": [
      "39it [00:01, 33.61it/s]                        \n",
      " 56%|█████▌    | 5/9 [00:00<00:00, 44.00it/s]"
     ]
    },
    {
     "name": "stdout",
     "output_type": "stream",
     "text": [
      "Should stop\n",
      "tensor([0, 0, 0,  ..., 1, 0, 0], device='cuda:0')\n",
      "tensor([0, 0, 0,  ..., 0, 0, 0], device='cuda:0')\n",
      "tensor([0, 0, 0,  ..., 1, 1, 0], device='cuda:0')\n",
      "tensor([0, 0, 0,  ..., 1, 0, 0], device='cuda:0')\n",
      "tensor([0, 1, 0,  ..., 1, 0, 0], device='cuda:0')\n",
      "tensor([0, 1, 0,  ..., 0, 0, 0], device='cuda:0')\n",
      "tensor([0, 0, 0,  ..., 0, 0, 0], device='cuda:0')\n",
      "tensor([0, 0, 0,  ..., 0, 0, 1], device='cuda:0')\n",
      "tensor([1, 1, 0,  ..., 1, 1, 0], device='cuda:0')\n",
      "tensor([0, 0, 0,  ..., 1, 1, 1], device='cuda:0')\n"
     ]
    },
    {
     "name": "stderr",
     "output_type": "stream",
     "text": [
      "10it [00:00, 50.60it/s]                      \n",
      "10it [00:00, 250.67it/s]             \n"
     ]
    },
    {
     "name": "stdout",
     "output_type": "stream",
     "text": [
      "Should stop\n",
      "Should stop\n",
      "Epoch: 066 | Loss: 2.31396 | Tr_c: 0.72023 | Vl_c: 0.73243 | Vl_c_liketrn: 0.71878 | Vl_mrr: 0.84217 |Time: 0.044 min\n"
     ]
    },
    {
     "name": "stderr",
     "output_type": "stream",
     "text": [
      "39it [00:01, 33.72it/s]                        \n",
      "10it [00:00, 53.23it/s]                      \n",
      "  0%|          | 0/8 [00:00<?, ?it/s]"
     ]
    },
    {
     "name": "stdout",
     "output_type": "stream",
     "text": [
      "Should stop\n",
      "tensor([0, 0, 0,  ..., 1, 0, 0], device='cuda:0')\n",
      "tensor([0, 0, 1,  ..., 0, 0, 1], device='cuda:0')\n",
      "tensor([0, 0, 0,  ..., 0, 1, 0], device='cuda:0')\n",
      "tensor([0, 0, 1,  ..., 1, 0, 1], device='cuda:0')\n",
      "tensor([0, 0, 0,  ..., 1, 1, 0], device='cuda:0')\n",
      "tensor([0, 1, 0,  ..., 0, 0, 1], device='cuda:0')\n",
      "tensor([0, 1, 0,  ..., 0, 0, 0], device='cuda:0')\n",
      "tensor([1, 0, 1,  ..., 1, 1, 1], device='cuda:0')\n",
      "tensor([0, 0, 0,  ..., 1, 1, 0], device='cuda:0')\n",
      "tensor([0, 0, 1,  ..., 1, 1, 1], device='cuda:0')\n",
      "Should stop\n"
     ]
    },
    {
     "name": "stderr",
     "output_type": "stream",
     "text": [
      "10it [00:00, 273.26it/s]             \n"
     ]
    },
    {
     "name": "stdout",
     "output_type": "stream",
     "text": [
      "Should stop\n",
      "Epoch: 067 | Loss: 2.30785 | Tr_c: 0.72046 | Vl_c: 0.73257 | Vl_c_liketrn: 0.71910 | Vl_mrr: 0.84224 |Time: 0.045 min\n"
     ]
    },
    {
     "name": "stderr",
     "output_type": "stream",
     "text": [
      "39it [00:01, 33.81it/s]                        \n",
      "10it [00:00, 55.01it/s]                      \n",
      "  0%|          | 0/8 [00:00<?, ?it/s]"
     ]
    },
    {
     "name": "stdout",
     "output_type": "stream",
     "text": [
      "Should stop\n",
      "tensor([0, 1, 0,  ..., 1, 1, 0], device='cuda:0')\n",
      "tensor([1, 0, 0,  ..., 0, 0, 0], device='cuda:0')\n",
      "tensor([0, 0, 1,  ..., 1, 0, 0], device='cuda:0')\n",
      "tensor([1, 0, 0,  ..., 1, 0, 1], device='cuda:0')\n",
      "tensor([0, 0, 0,  ..., 0, 0, 1], device='cuda:0')\n",
      "tensor([0, 1, 0,  ..., 0, 0, 0], device='cuda:0')\n",
      "tensor([0, 0, 0,  ..., 0, 0, 1], device='cuda:0')\n",
      "tensor([0, 1, 0,  ..., 0, 0, 0], device='cuda:0')\n",
      "tensor([0, 1, 0,  ..., 0, 1, 1], device='cuda:0')\n",
      "tensor([0, 1, 0,  ..., 1, 1, 1], device='cuda:0')\n",
      "Should stop\n"
     ]
    },
    {
     "name": "stderr",
     "output_type": "stream",
     "text": [
      "10it [00:00, 286.48it/s]             \n"
     ]
    },
    {
     "name": "stdout",
     "output_type": "stream",
     "text": [
      "Should stop\n",
      "Epoch: 068 | Loss: 2.31077 | Tr_c: 0.72012 | Vl_c: 0.73287 | Vl_c_liketrn: 0.71919 | Vl_mrr: 0.84239 |Time: 0.048 min\n"
     ]
    },
    {
     "name": "stderr",
     "output_type": "stream",
     "text": [
      "39it [00:01, 33.82it/s]                        \n",
      "10it [00:00, 51.63it/s]                      \n",
      "  0%|          | 0/8 [00:00<?, ?it/s]"
     ]
    },
    {
     "name": "stdout",
     "output_type": "stream",
     "text": [
      "Should stop\n",
      "tensor([0, 0, 1,  ..., 0, 0, 0], device='cuda:0')\n",
      "tensor([0, 0, 1,  ..., 0, 0, 0], device='cuda:0')\n",
      "tensor([1, 0, 1,  ..., 0, 1, 0], device='cuda:0')\n",
      "tensor([0, 0, 0,  ..., 0, 1, 0], device='cuda:0')\n",
      "tensor([1, 1, 0,  ..., 1, 0, 0], device='cuda:0')\n",
      "tensor([0, 0, 0,  ..., 0, 1, 0], device='cuda:0')\n",
      "tensor([1, 1, 0,  ..., 0, 0, 0], device='cuda:0')\n",
      "tensor([0, 0, 0,  ..., 0, 0, 0], device='cuda:0')\n",
      "tensor([1, 0, 1,  ..., 0, 0, 0], device='cuda:0')\n",
      "tensor([0, 0, 0,  ..., 1, 1, 1], device='cuda:0')\n",
      "Should stop\n"
     ]
    },
    {
     "name": "stderr",
     "output_type": "stream",
     "text": [
      "10it [00:00, 257.58it/s]             \n"
     ]
    },
    {
     "name": "stdout",
     "output_type": "stream",
     "text": [
      "Should stop\n",
      "Epoch: 069 | Loss: 2.30876 | Tr_c: 0.72042 | Vl_c: 0.73304 | Vl_c_liketrn: 0.71910 | Vl_mrr: 0.84247 |Time: 0.044 min\n"
     ]
    },
    {
     "name": "stderr",
     "output_type": "stream",
     "text": [
      "39it [00:01, 33.44it/s]                        \n",
      " 56%|█████▌    | 5/9 [00:00<00:00, 43.13it/s]"
     ]
    },
    {
     "name": "stdout",
     "output_type": "stream",
     "text": [
      "Should stop\n",
      "tensor([0, 1, 0,  ..., 0, 0, 0], device='cuda:0')\n",
      "tensor([0, 1, 1,  ..., 1, 0, 1], device='cuda:0')\n",
      "tensor([0, 0, 0,  ..., 0, 0, 0], device='cuda:0')\n",
      "tensor([0, 0, 1,  ..., 0, 0, 0], device='cuda:0')\n",
      "tensor([1, 1, 0,  ..., 0, 0, 0], device='cuda:0')\n",
      "tensor([1, 0, 0,  ..., 0, 0, 1], device='cuda:0')\n",
      "tensor([1, 0, 0,  ..., 0, 0, 1], device='cuda:0')\n",
      "tensor([0, 0, 0,  ..., 0, 1, 0], device='cuda:0')\n",
      "tensor([0, 0, 0,  ..., 0, 1, 0], device='cuda:0')\n"
     ]
    },
    {
     "name": "stderr",
     "output_type": "stream",
     "text": [
      "10it [00:00, 48.88it/s]                      \n",
      "10it [00:00, 276.43it/s]             \n"
     ]
    },
    {
     "name": "stdout",
     "output_type": "stream",
     "text": [
      "tensor([0, 1, 1,  ..., 1, 1, 1], device='cuda:0')\n",
      "Should stop\n",
      "Should stop\n",
      "Epoch: 070 | Loss: 2.30327 | Tr_c: 0.72127 | Vl_c: 0.73328 | Vl_c_liketrn: 0.71964 | Vl_mrr: 0.84259 |Time: 0.045 min\n"
     ]
    },
    {
     "name": "stderr",
     "output_type": "stream",
     "text": [
      "39it [00:01, 33.65it/s]                        \n",
      " 56%|█████▌    | 5/9 [00:00<00:00, 39.70it/s]"
     ]
    },
    {
     "name": "stdout",
     "output_type": "stream",
     "text": [
      "Should stop\n",
      "tensor([1, 1, 1,  ..., 0, 0, 0], device='cuda:0')\n",
      "tensor([0, 0, 0,  ..., 0, 0, 0], device='cuda:0')\n",
      "tensor([0, 0, 0,  ..., 0, 0, 0], device='cuda:0')\n",
      "tensor([0, 0, 0,  ..., 0, 0, 0], device='cuda:0')\n",
      "tensor([0, 1, 1,  ..., 0, 0, 0], device='cuda:0')\n",
      "tensor([0, 0, 0,  ..., 1, 0, 0], device='cuda:0')\n",
      "tensor([0, 0, 1,  ..., 0, 1, 0], device='cuda:0')\n",
      "tensor([1, 0, 0,  ..., 1, 0, 1], device='cuda:0')\n"
     ]
    },
    {
     "name": "stderr",
     "output_type": "stream",
     "text": [
      "10it [00:00, 42.07it/s]                      \n",
      "10it [00:00, 274.73it/s]             \n"
     ]
    },
    {
     "name": "stdout",
     "output_type": "stream",
     "text": [
      "tensor([1, 0, 0,  ..., 0, 1, 1], device='cuda:0')\n",
      "tensor([0, 1, 0,  ..., 1, 1, 1], device='cuda:0')\n",
      "Should stop\n",
      "Should stop\n",
      "Epoch: 071 | Loss: 2.30589 | Tr_c: 0.72080 | Vl_c: 0.73348 | Vl_c_liketrn: 0.71965 | Vl_mrr: 0.84269 |Time: 0.050 min\n"
     ]
    },
    {
     "name": "stderr",
     "output_type": "stream",
     "text": [
      "39it [00:01, 33.51it/s]                        \n",
      "10it [00:00, 52.57it/s]                      \n",
      "  0%|          | 0/8 [00:00<?, ?it/s]"
     ]
    },
    {
     "name": "stdout",
     "output_type": "stream",
     "text": [
      "Should stop\n",
      "tensor([1, 0, 1,  ..., 0, 0, 0], device='cuda:0')\n",
      "tensor([0, 0, 1,  ..., 1, 1, 1], device='cuda:0')\n",
      "tensor([0, 0, 0,  ..., 1, 0, 0], device='cuda:0')\n",
      "tensor([1, 1, 0,  ..., 0, 0, 1], device='cuda:0')\n",
      "tensor([0, 0, 0,  ..., 0, 0, 0], device='cuda:0')\n",
      "tensor([0, 0, 1,  ..., 0, 0, 0], device='cuda:0')\n",
      "tensor([0, 0, 0,  ..., 0, 0, 0], device='cuda:0')\n",
      "tensor([0, 0, 0,  ..., 0, 0, 1], device='cuda:0')\n",
      "tensor([1, 0, 0,  ..., 1, 0, 0], device='cuda:0')\n",
      "tensor([0, 0, 0,  ..., 1, 1, 1], device='cuda:0')\n",
      "Should stop\n"
     ]
    },
    {
     "name": "stderr",
     "output_type": "stream",
     "text": [
      "10it [00:00, 253.16it/s]             \n"
     ]
    },
    {
     "name": "stdout",
     "output_type": "stream",
     "text": [
      "Should stop\n",
      "Epoch: 072 | Loss: 2.30894 | Tr_c: 0.72040 | Vl_c: 0.73367 | Vl_c_liketrn: 0.72035 | Vl_mrr: 0.84279 |Time: 0.045 min\n"
     ]
    },
    {
     "name": "stderr",
     "output_type": "stream",
     "text": [
      "39it [00:01, 33.52it/s]                        \n",
      "10it [00:00, 54.38it/s]                      \n",
      "  0%|          | 0/8 [00:00<?, ?it/s]"
     ]
    },
    {
     "name": "stdout",
     "output_type": "stream",
     "text": [
      "Should stop\n",
      "tensor([1, 0, 0,  ..., 0, 0, 0], device='cuda:0')\n",
      "tensor([0, 0, 0,  ..., 1, 0, 0], device='cuda:0')\n",
      "tensor([0, 1, 0,  ..., 1, 0, 0], device='cuda:0')\n",
      "tensor([0, 0, 0,  ..., 0, 1, 0], device='cuda:0')\n",
      "tensor([0, 0, 0,  ..., 0, 1, 1], device='cuda:0')\n",
      "tensor([0, 1, 0,  ..., 0, 0, 1], device='cuda:0')\n",
      "tensor([0, 0, 1,  ..., 0, 0, 1], device='cuda:0')\n",
      "tensor([0, 1, 0,  ..., 0, 0, 0], device='cuda:0')\n",
      "tensor([0, 0, 0,  ..., 1, 1, 0], device='cuda:0')\n",
      "tensor([0, 0, 0,  ..., 1, 1, 1], device='cuda:0')\n",
      "Should stop\n"
     ]
    },
    {
     "name": "stderr",
     "output_type": "stream",
     "text": [
      "10it [00:00, 283.20it/s]             \n"
     ]
    },
    {
     "name": "stdout",
     "output_type": "stream",
     "text": [
      "Should stop\n",
      "Epoch: 073 | Loss: 2.30469 | Tr_c: 0.72114 | Vl_c: 0.73389 | Vl_c_liketrn: 0.72112 | Vl_mrr: 0.84290 |Time: 0.046 min\n"
     ]
    },
    {
     "name": "stderr",
     "output_type": "stream",
     "text": [
      "39it [00:01, 33.34it/s]                        \n",
      "10it [00:00, 52.77it/s]                      \n",
      "  0%|          | 0/8 [00:00<?, ?it/s]"
     ]
    },
    {
     "name": "stdout",
     "output_type": "stream",
     "text": [
      "Should stop\n",
      "tensor([0, 0, 1,  ..., 0, 0, 0], device='cuda:0')\n",
      "tensor([1, 0, 0,  ..., 0, 0, 1], device='cuda:0')\n",
      "tensor([1, 0, 0,  ..., 0, 1, 0], device='cuda:0')\n",
      "tensor([0, 0, 1,  ..., 0, 0, 0], device='cuda:0')\n",
      "tensor([0, 1, 0,  ..., 0, 1, 0], device='cuda:0')\n",
      "tensor([1, 0, 0,  ..., 0, 1, 0], device='cuda:0')\n",
      "tensor([0, 0, 0,  ..., 0, 1, 0], device='cuda:0')\n",
      "tensor([0, 0, 0,  ..., 1, 1, 0], device='cuda:0')\n",
      "tensor([0, 0, 0,  ..., 1, 0, 1], device='cuda:0')\n",
      "tensor([0, 0, 1,  ..., 1, 1, 1], device='cuda:0')\n",
      "Should stop\n"
     ]
    },
    {
     "name": "stderr",
     "output_type": "stream",
     "text": [
      "10it [00:00, 265.37it/s]             \n"
     ]
    },
    {
     "name": "stdout",
     "output_type": "stream",
     "text": [
      "Should stop\n",
      "Epoch: 074 | Loss: 2.30097 | Tr_c: 0.72198 | Vl_c: 0.73389 | Vl_c_liketrn: 0.72045 | Vl_mrr: 0.84290 |Time: 0.046 min\n"
     ]
    },
    {
     "name": "stderr",
     "output_type": "stream",
     "text": [
      "39it [00:01, 33.67it/s]                        \n",
      " 56%|█████▌    | 5/9 [00:00<00:00, 46.81it/s]"
     ]
    },
    {
     "name": "stdout",
     "output_type": "stream",
     "text": [
      "Should stop\n",
      "tensor([0, 0, 0,  ..., 0, 0, 0], device='cuda:0')\n",
      "tensor([0, 0, 0,  ..., 1, 0, 0], device='cuda:0')\n",
      "tensor([1, 1, 0,  ..., 0, 0, 0], device='cuda:0')\n",
      "tensor([0, 0, 0,  ..., 1, 0, 0], device='cuda:0')\n",
      "tensor([0, 0, 0,  ..., 0, 0, 0], device='cuda:0')\n",
      "tensor([0, 0, 0,  ..., 0, 0, 0], device='cuda:0')\n",
      "tensor([0, 0, 0,  ..., 0, 0, 1], device='cuda:0')\n",
      "tensor([0, 0, 0,  ..., 1, 1, 0], device='cuda:0')\n",
      "tensor([1, 0, 0,  ..., 1, 0, 0], device='cuda:0')\n"
     ]
    },
    {
     "name": "stderr",
     "output_type": "stream",
     "text": [
      "10it [00:00, 48.86it/s]                      \n",
      "10it [00:00, 288.30it/s]             \n"
     ]
    },
    {
     "name": "stdout",
     "output_type": "stream",
     "text": [
      "tensor([0, 0, 1,  ..., 1, 1, 1], device='cuda:0')\n",
      "Should stop\n",
      "Should stop\n",
      "Epoch: 075 | Loss: 2.30193 | Tr_c: 0.72233 | Vl_c: 0.73417 | Vl_c_liketrn: 0.72051 | Vl_mrr: 0.84304 |Time: 0.045 min\n"
     ]
    },
    {
     "name": "stderr",
     "output_type": "stream",
     "text": [
      "39it [00:01, 33.69it/s]                        \n",
      " 56%|█████▌    | 5/9 [00:00<00:00, 47.93it/s]"
     ]
    },
    {
     "name": "stdout",
     "output_type": "stream",
     "text": [
      "Should stop\n",
      "tensor([0, 0, 1,  ..., 0, 0, 1], device='cuda:0')\n",
      "tensor([0, 0, 0,  ..., 1, 0, 0], device='cuda:0')\n",
      "tensor([1, 1, 0,  ..., 0, 0, 0], device='cuda:0')\n",
      "tensor([0, 1, 1,  ..., 0, 0, 1], device='cuda:0')\n",
      "tensor([1, 0, 0,  ..., 0, 0, 0], device='cuda:0')\n",
      "tensor([0, 0, 0,  ..., 0, 0, 0], device='cuda:0')\n",
      "tensor([1, 0, 0,  ..., 1, 0, 1], device='cuda:0')\n",
      "tensor([0, 0, 1,  ..., 1, 0, 1], device='cuda:0')\n",
      "tensor([0, 0, 1,  ..., 1, 0, 1], device='cuda:0')\n"
     ]
    },
    {
     "name": "stderr",
     "output_type": "stream",
     "text": [
      "10it [00:00, 49.91it/s]                      \n",
      "10it [00:00, 284.79it/s]             \n"
     ]
    },
    {
     "name": "stdout",
     "output_type": "stream",
     "text": [
      "tensor([1, 1, 0,  ..., 1, 1, 1], device='cuda:0')\n",
      "Should stop\n",
      "Should stop\n",
      "Epoch: 076 | Loss: 2.29999 | Tr_c: 0.72239 | Vl_c: 0.73425 | Vl_c_liketrn: 0.72113 | Vl_mrr: 0.84308 |Time: 0.044 min\n"
     ]
    },
    {
     "name": "stderr",
     "output_type": "stream",
     "text": [
      "39it [00:01, 33.55it/s]                        \n",
      " 67%|██████▋   | 6/9 [00:00<00:00, 53.59it/s]"
     ]
    },
    {
     "name": "stdout",
     "output_type": "stream",
     "text": [
      "Should stop\n",
      "tensor([0, 1, 0,  ..., 0, 0, 1], device='cuda:0')\n",
      "tensor([0, 0, 1,  ..., 1, 0, 1], device='cuda:0')\n",
      "tensor([0, 0, 0,  ..., 0, 0, 1], device='cuda:0')\n",
      "tensor([0, 0, 0,  ..., 0, 1, 0], device='cuda:0')\n",
      "tensor([1, 0, 1,  ..., 1, 0, 0], device='cuda:0')\n",
      "tensor([0, 0, 1,  ..., 0, 0, 1], device='cuda:0')\n",
      "tensor([0, 0, 0,  ..., 0, 0, 0], device='cuda:0')\n",
      "tensor([1, 0, 0,  ..., 0, 0, 1], device='cuda:0')\n",
      "tensor([0, 0, 0,  ..., 0, 1, 0], device='cuda:0')\n"
     ]
    },
    {
     "name": "stderr",
     "output_type": "stream",
     "text": [
      "10it [00:00, 49.81it/s]                      \n",
      "10it [00:00, 254.56it/s]             \n"
     ]
    },
    {
     "name": "stdout",
     "output_type": "stream",
     "text": [
      "tensor([1, 0, 0,  ..., 1, 1, 1], device='cuda:0')\n",
      "Should stop\n",
      "Should stop\n",
      "Epoch: 077 | Loss: 2.30201 | Tr_c: 0.72227 | Vl_c: 0.73431 | Vl_c_liketrn: 0.72088 | Vl_mrr: 0.84311 |Time: 0.043 min\n"
     ]
    },
    {
     "name": "stderr",
     "output_type": "stream",
     "text": [
      "39it [00:01, 33.65it/s]                        \n",
      "10it [00:00, 53.56it/s]                      \n",
      "  0%|          | 0/8 [00:00<?, ?it/s]"
     ]
    },
    {
     "name": "stdout",
     "output_type": "stream",
     "text": [
      "Should stop\n",
      "tensor([0, 0, 1,  ..., 1, 0, 0], device='cuda:0')\n",
      "tensor([0, 0, 0,  ..., 1, 0, 0], device='cuda:0')\n",
      "tensor([1, 1, 0,  ..., 0, 0, 1], device='cuda:0')\n",
      "tensor([0, 1, 0,  ..., 0, 0, 0], device='cuda:0')\n",
      "tensor([0, 0, 0,  ..., 0, 0, 0], device='cuda:0')\n",
      "tensor([0, 0, 0,  ..., 0, 0, 0], device='cuda:0')\n",
      "tensor([0, 0, 0,  ..., 1, 0, 1], device='cuda:0')\n",
      "tensor([0, 1, 0,  ..., 0, 0, 0], device='cuda:0')\n",
      "tensor([0, 0, 0,  ..., 0, 0, 0], device='cuda:0')\n",
      "tensor([0, 0, 0,  ..., 1, 1, 1], device='cuda:0')\n",
      "Should stop\n"
     ]
    },
    {
     "name": "stderr",
     "output_type": "stream",
     "text": [
      "10it [00:00, 284.32it/s]             \n"
     ]
    },
    {
     "name": "stdout",
     "output_type": "stream",
     "text": [
      "Should stop\n",
      "Epoch: 078 | Loss: 2.29896 | Tr_c: 0.72184 | Vl_c: 0.73445 | Vl_c_liketrn: 0.72118 | Vl_mrr: 0.84318 |Time: 0.046 min\n"
     ]
    },
    {
     "name": "stderr",
     "output_type": "stream",
     "text": [
      "39it [00:01, 33.48it/s]                        \n",
      " 56%|█████▌    | 5/9 [00:00<00:00, 46.09it/s]"
     ]
    },
    {
     "name": "stdout",
     "output_type": "stream",
     "text": [
      "Should stop\n",
      "tensor([0, 1, 0,  ..., 0, 0, 1], device='cuda:0')\n",
      "tensor([0, 1, 0,  ..., 0, 1, 1], device='cuda:0')\n",
      "tensor([0, 0, 0,  ..., 1, 0, 0], device='cuda:0')\n",
      "tensor([0, 0, 0,  ..., 0, 1, 0], device='cuda:0')\n",
      "tensor([1, 0, 1,  ..., 1, 1, 0], device='cuda:0')\n",
      "tensor([0, 0, 0,  ..., 0, 0, 0], device='cuda:0')\n",
      "tensor([0, 0, 0,  ..., 0, 0, 0], device='cuda:0')\n",
      "tensor([0, 1, 0,  ..., 0, 1, 1], device='cuda:0')\n",
      "tensor([0, 0, 1,  ..., 0, 1, 1], device='cuda:0')\n",
      "tensor([0, 0, 0,  ..., 1, 1, 1], device='cuda:0')\n"
     ]
    },
    {
     "name": "stderr",
     "output_type": "stream",
     "text": [
      "10it [00:00, 49.74it/s]                      \n",
      "10it [00:00, 270.89it/s]             \n"
     ]
    },
    {
     "name": "stdout",
     "output_type": "stream",
     "text": [
      "Should stop\n",
      "Should stop\n",
      "Epoch: 079 | Loss: 2.29913 | Tr_c: 0.72230 | Vl_c: 0.73466 | Vl_c_liketrn: 0.72133 | Vl_mrr: 0.84328 |Time: 0.047 min\n"
     ]
    },
    {
     "name": "stderr",
     "output_type": "stream",
     "text": [
      "39it [00:01, 33.31it/s]                        \n",
      " 56%|█████▌    | 5/9 [00:00<00:00, 42.72it/s]"
     ]
    },
    {
     "name": "stdout",
     "output_type": "stream",
     "text": [
      "Should stop\n",
      "tensor([0, 0, 1,  ..., 0, 0, 0], device='cuda:0')\n",
      "tensor([0, 0, 0,  ..., 0, 0, 1], device='cuda:0')\n",
      "tensor([0, 0, 0,  ..., 0, 0, 0], device='cuda:0')\n",
      "tensor([0, 1, 1,  ..., 0, 0, 1], device='cuda:0')\n",
      "tensor([0, 0, 0,  ..., 0, 0, 1], device='cuda:0')\n",
      "tensor([0, 0, 0,  ..., 0, 0, 0], device='cuda:0')\n",
      "tensor([0, 1, 1,  ..., 0, 0, 1], device='cuda:0')\n",
      "tensor([1, 1, 0,  ..., 0, 0, 1], device='cuda:0')\n",
      "tensor([0, 0, 0,  ..., 0, 0, 0], device='cuda:0')\n"
     ]
    },
    {
     "name": "stderr",
     "output_type": "stream",
     "text": [
      "10it [00:00, 48.54it/s]                      \n",
      "10it [00:00, 262.83it/s]             \n"
     ]
    },
    {
     "name": "stdout",
     "output_type": "stream",
     "text": [
      "tensor([0, 1, 0,  ..., 1, 1, 1], device='cuda:0')\n",
      "Should stop\n",
      "Should stop\n",
      "Epoch: 080 | Loss: 2.29775 | Tr_c: 0.72323 | Vl_c: 0.73494 | Vl_c_liketrn: 0.72151 | Vl_mrr: 0.84342 |Time: 0.050 min\n"
     ]
    },
    {
     "name": "stderr",
     "output_type": "stream",
     "text": [
      "39it [00:01, 33.39it/s]                        \n",
      "10it [00:00, 57.99it/s]                      \n",
      "  0%|          | 0/8 [00:00<?, ?it/s]"
     ]
    },
    {
     "name": "stdout",
     "output_type": "stream",
     "text": [
      "Should stop\n",
      "tensor([0, 0, 0,  ..., 1, 0, 1], device='cuda:0')\n",
      "tensor([0, 1, 1,  ..., 0, 1, 0], device='cuda:0')\n",
      "tensor([0, 0, 1,  ..., 0, 0, 1], device='cuda:0')\n",
      "tensor([0, 0, 0,  ..., 0, 1, 0], device='cuda:0')\n",
      "tensor([0, 0, 0,  ..., 1, 1, 0], device='cuda:0')\n",
      "tensor([0, 0, 0,  ..., 0, 1, 0], device='cuda:0')\n",
      "tensor([0, 1, 1,  ..., 1, 0, 0], device='cuda:0')\n",
      "tensor([0, 0, 0,  ..., 0, 0, 0], device='cuda:0')\n",
      "tensor([0, 0, 0,  ..., 0, 0, 0], device='cuda:0')\n",
      "tensor([0, 0, 1,  ..., 1, 1, 1], device='cuda:0')\n",
      "Should stop\n"
     ]
    },
    {
     "name": "stderr",
     "output_type": "stream",
     "text": [
      "10it [00:00, 213.46it/s]             \n"
     ]
    },
    {
     "name": "stdout",
     "output_type": "stream",
     "text": [
      "Should stop\n",
      "Epoch: 081 | Loss: 2.29436 | Tr_c: 0.72358 | Vl_c: 0.73513 | Vl_c_liketrn: 0.72191 | Vl_mrr: 0.84352 |Time: 0.046 min\n"
     ]
    },
    {
     "name": "stderr",
     "output_type": "stream",
     "text": [
      "39it [00:01, 33.52it/s]                        \n",
      "10it [00:00, 51.62it/s]                      "
     ]
    },
    {
     "name": "stdout",
     "output_type": "stream",
     "text": [
      "Should stop\n",
      "tensor([0, 0, 0,  ..., 1, 1, 1], device='cuda:0')\n",
      "tensor([0, 1, 1,  ..., 0, 0, 0], device='cuda:0')\n",
      "tensor([0, 0, 0,  ..., 0, 0, 0], device='cuda:0')\n",
      "tensor([0, 0, 1,  ..., 1, 0, 1], device='cuda:0')\n",
      "tensor([0, 0, 0,  ..., 0, 0, 0], device='cuda:0')\n",
      "tensor([1, 0, 0,  ..., 0, 0, 0], device='cuda:0')\n",
      "tensor([1, 0, 0,  ..., 0, 0, 0], device='cuda:0')\n",
      "tensor([0, 0, 0,  ..., 0, 0, 1], device='cuda:0')\n",
      "tensor([0, 0, 0,  ..., 0, 0, 1], device='cuda:0')\n",
      "tensor([0, 0, 0,  ..., 1, 1, 1], device='cuda:0')\n",
      "Should stop\n"
     ]
    },
    {
     "name": "stderr",
     "output_type": "stream",
     "text": [
      "\n",
      "10it [00:00, 281.17it/s]             \n"
     ]
    },
    {
     "name": "stdout",
     "output_type": "stream",
     "text": [
      "Should stop\n",
      "Epoch: 082 | Loss: 2.29439 | Tr_c: 0.72331 | Vl_c: 0.73553 | Vl_c_liketrn: 0.72238 | Vl_mrr: 0.84372 |Time: 0.045 min\n"
     ]
    },
    {
     "name": "stderr",
     "output_type": "stream",
     "text": [
      "39it [00:01, 33.64it/s]                        \n",
      "10it [00:00, 57.50it/s]                      \n",
      "  0%|          | 0/8 [00:00<?, ?it/s]"
     ]
    },
    {
     "name": "stdout",
     "output_type": "stream",
     "text": [
      "Should stop\n",
      "tensor([1, 0, 1,  ..., 0, 0, 0], device='cuda:0')\n",
      "tensor([0, 0, 0,  ..., 0, 1, 0], device='cuda:0')\n",
      "tensor([1, 0, 0,  ..., 0, 1, 0], device='cuda:0')\n",
      "tensor([1, 0, 0,  ..., 1, 0, 0], device='cuda:0')\n",
      "tensor([0, 0, 1,  ..., 0, 0, 1], device='cuda:0')\n",
      "tensor([0, 0, 0,  ..., 1, 1, 0], device='cuda:0')\n",
      "tensor([1, 0, 0,  ..., 1, 0, 0], device='cuda:0')\n",
      "tensor([1, 1, 0,  ..., 0, 0, 0], device='cuda:0')\n",
      "tensor([0, 0, 0,  ..., 0, 0, 0], device='cuda:0')\n",
      "tensor([1, 0, 0,  ..., 1, 1, 1], device='cuda:0')\n",
      "Should stop\n"
     ]
    },
    {
     "name": "stderr",
     "output_type": "stream",
     "text": [
      "10it [00:00, 295.40it/s]             \n"
     ]
    },
    {
     "name": "stdout",
     "output_type": "stream",
     "text": [
      "Should stop\n",
      "Epoch: 083 | Loss: 2.29287 | Tr_c: 0.72389 | Vl_c: 0.73585 | Vl_c_liketrn: 0.72318 | Vl_mrr: 0.84388 |Time: 0.045 min\n"
     ]
    },
    {
     "name": "stderr",
     "output_type": "stream",
     "text": [
      "39it [00:01, 33.63it/s]                        \n",
      " 56%|█████▌    | 5/9 [00:00<00:00, 47.26it/s]"
     ]
    },
    {
     "name": "stdout",
     "output_type": "stream",
     "text": [
      "Should stop\n",
      "tensor([0, 0, 0,  ..., 1, 0, 0], device='cuda:0')\n",
      "tensor([1, 0, 0,  ..., 1, 0, 0], device='cuda:0')\n",
      "tensor([0, 0, 0,  ..., 0, 0, 1], device='cuda:0')\n",
      "tensor([0, 0, 0,  ..., 0, 0, 1], device='cuda:0')\n",
      "tensor([0, 0, 0,  ..., 1, 1, 0], device='cuda:0')\n",
      "tensor([0, 0, 0,  ..., 0, 1, 0], device='cuda:0')\n",
      "tensor([0, 1, 1,  ..., 0, 0, 1], device='cuda:0')\n",
      "tensor([0, 0, 0,  ..., 1, 0, 0], device='cuda:0')\n"
     ]
    },
    {
     "name": "stderr",
     "output_type": "stream",
     "text": [
      "10it [00:00, 44.11it/s]                      \n",
      "10it [00:00, 272.33it/s]             \n"
     ]
    },
    {
     "name": "stdout",
     "output_type": "stream",
     "text": [
      "tensor([0, 0, 1,  ..., 1, 0, 0], device='cuda:0')\n",
      "tensor([0, 1, 0,  ..., 1, 1, 1], device='cuda:0')\n",
      "Should stop\n",
      "Should stop\n",
      "Epoch: 084 | Loss: 2.29152 | Tr_c: 0.72422 | Vl_c: 0.73590 | Vl_c_liketrn: 0.72310 | Vl_mrr: 0.84390 |Time: 0.047 min\n"
     ]
    },
    {
     "name": "stderr",
     "output_type": "stream",
     "text": [
      "39it [00:01, 33.78it/s]                        \n",
      "10it [00:00, 52.04it/s]                      \n",
      "  0%|          | 0/8 [00:00<?, ?it/s]"
     ]
    },
    {
     "name": "stdout",
     "output_type": "stream",
     "text": [
      "Should stop\n",
      "tensor([0, 0, 0,  ..., 0, 1, 0], device='cuda:0')\n",
      "tensor([1, 1, 1,  ..., 1, 0, 0], device='cuda:0')\n",
      "tensor([0, 0, 0,  ..., 1, 1, 1], device='cuda:0')\n",
      "tensor([0, 0, 0,  ..., 0, 0, 0], device='cuda:0')\n",
      "tensor([1, 0, 0,  ..., 0, 0, 0], device='cuda:0')\n",
      "tensor([0, 0, 0,  ..., 1, 0, 1], device='cuda:0')\n",
      "tensor([1, 1, 0,  ..., 0, 1, 0], device='cuda:0')\n",
      "tensor([1, 0, 1,  ..., 0, 0, 0], device='cuda:0')\n",
      "tensor([0, 0, 0,  ..., 0, 0, 0], device='cuda:0')\n",
      "tensor([0, 0, 0,  ..., 1, 1, 1], device='cuda:0')\n",
      "Should stop\n"
     ]
    },
    {
     "name": "stderr",
     "output_type": "stream",
     "text": [
      "10it [00:00, 265.63it/s]             \n"
     ]
    },
    {
     "name": "stdout",
     "output_type": "stream",
     "text": [
      "Should stop\n",
      "Epoch: 085 | Loss: 2.29135 | Tr_c: 0.72367 | Vl_c: 0.73618 | Vl_c_liketrn: 0.72330 | Vl_mrr: 0.84404 |Time: 0.046 min\n"
     ]
    },
    {
     "name": "stderr",
     "output_type": "stream",
     "text": [
      "39it [00:01, 33.53it/s]                        \n",
      "10it [00:00, 52.04it/s]                      \n",
      "  0%|          | 0/8 [00:00<?, ?it/s]"
     ]
    },
    {
     "name": "stdout",
     "output_type": "stream",
     "text": [
      "Should stop\n",
      "tensor([0, 1, 1,  ..., 0, 0, 0], device='cuda:0')\n",
      "tensor([0, 0, 0,  ..., 0, 0, 0], device='cuda:0')\n",
      "tensor([0, 1, 0,  ..., 0, 1, 0], device='cuda:0')\n",
      "tensor([1, 1, 0,  ..., 0, 0, 0], device='cuda:0')\n",
      "tensor([0, 0, 0,  ..., 0, 0, 1], device='cuda:0')\n",
      "tensor([1, 1, 0,  ..., 1, 1, 1], device='cuda:0')\n",
      "tensor([1, 0, 0,  ..., 0, 1, 0], device='cuda:0')\n",
      "tensor([0, 1, 0,  ..., 1, 0, 0], device='cuda:0')\n",
      "tensor([0, 1, 0,  ..., 0, 0, 0], device='cuda:0')\n",
      "tensor([0, 0, 0,  ..., 1, 1, 1], device='cuda:0')\n",
      "Should stop\n"
     ]
    },
    {
     "name": "stderr",
     "output_type": "stream",
     "text": [
      "10it [00:00, 238.77it/s]             \n"
     ]
    },
    {
     "name": "stdout",
     "output_type": "stream",
     "text": [
      "Should stop\n",
      "Epoch: 086 | Loss: 2.29386 | Tr_c: 0.72355 | Vl_c: 0.73634 | Vl_c_liketrn: 0.72349 | Vl_mrr: 0.84412 |Time: 0.044 min\n"
     ]
    },
    {
     "name": "stderr",
     "output_type": "stream",
     "text": [
      "39it [00:01, 33.60it/s]                        \n",
      "10it [00:00, 51.40it/s]                      \n",
      "  0%|          | 0/8 [00:00<?, ?it/s]"
     ]
    },
    {
     "name": "stdout",
     "output_type": "stream",
     "text": [
      "Should stop\n",
      "tensor([0, 0, 1,  ..., 0, 0, 0], device='cuda:0')\n",
      "tensor([0, 1, 1,  ..., 1, 1, 0], device='cuda:0')\n",
      "tensor([0, 0, 0,  ..., 1, 0, 0], device='cuda:0')\n",
      "tensor([0, 0, 0,  ..., 0, 0, 0], device='cuda:0')\n",
      "tensor([0, 0, 0,  ..., 0, 0, 0], device='cuda:0')\n",
      "tensor([0, 1, 0,  ..., 0, 0, 0], device='cuda:0')\n",
      "tensor([1, 0, 0,  ..., 0, 0, 0], device='cuda:0')\n",
      "tensor([1, 0, 0,  ..., 0, 0, 1], device='cuda:0')\n",
      "tensor([0, 1, 0,  ..., 0, 0, 0], device='cuda:0')\n",
      "tensor([0, 0, 0,  ..., 1, 1, 1], device='cuda:0')\n",
      "Should stop\n"
     ]
    },
    {
     "name": "stderr",
     "output_type": "stream",
     "text": [
      "10it [00:00, 271.02it/s]             \n"
     ]
    },
    {
     "name": "stdout",
     "output_type": "stream",
     "text": [
      "Should stop\n",
      "Epoch: 087 | Loss: 2.28948 | Tr_c: 0.72389 | Vl_c: 0.73647 | Vl_c_liketrn: 0.72286 | Vl_mrr: 0.84419 |Time: 0.046 min\n"
     ]
    },
    {
     "name": "stderr",
     "output_type": "stream",
     "text": [
      "39it [00:01, 33.42it/s]                        \n",
      "10it [00:00, 53.51it/s]                      \n",
      "  0%|          | 0/8 [00:00<?, ?it/s]"
     ]
    },
    {
     "name": "stdout",
     "output_type": "stream",
     "text": [
      "Should stop\n",
      "tensor([1, 0, 1,  ..., 1, 0, 0], device='cuda:0')\n",
      "tensor([0, 0, 0,  ..., 0, 0, 0], device='cuda:0')\n",
      "tensor([1, 1, 0,  ..., 0, 1, 0], device='cuda:0')\n",
      "tensor([0, 0, 0,  ..., 1, 0, 0], device='cuda:0')\n",
      "tensor([0, 0, 0,  ..., 0, 0, 1], device='cuda:0')\n",
      "tensor([0, 0, 1,  ..., 1, 0, 0], device='cuda:0')\n",
      "tensor([0, 0, 0,  ..., 0, 0, 1], device='cuda:0')\n",
      "tensor([0, 0, 1,  ..., 0, 0, 0], device='cuda:0')\n",
      "tensor([1, 1, 1,  ..., 1, 0, 0], device='cuda:0')\n",
      "tensor([0, 0, 1,  ..., 1, 1, 1], device='cuda:0')\n",
      "Should stop\n"
     ]
    },
    {
     "name": "stderr",
     "output_type": "stream",
     "text": [
      "10it [00:00, 269.04it/s]             \n"
     ]
    },
    {
     "name": "stdout",
     "output_type": "stream",
     "text": [
      "Should stop\n",
      "Epoch: 088 | Loss: 2.28828 | Tr_c: 0.72448 | Vl_c: 0.73671 | Vl_c_liketrn: 0.72350 | Vl_mrr: 0.84431 |Time: 0.046 min\n"
     ]
    },
    {
     "name": "stderr",
     "output_type": "stream",
     "text": [
      "39it [00:01, 33.69it/s]                        \n",
      " 56%|█████▌    | 5/9 [00:00<00:00, 44.82it/s]"
     ]
    },
    {
     "name": "stdout",
     "output_type": "stream",
     "text": [
      "Should stop\n",
      "tensor([0, 1, 0,  ..., 1, 0, 0], device='cuda:0')\n",
      "tensor([0, 0, 0,  ..., 0, 0, 0], device='cuda:0')\n",
      "tensor([0, 0, 0,  ..., 0, 1, 1], device='cuda:0')\n",
      "tensor([0, 0, 0,  ..., 1, 0, 0], device='cuda:0')\n",
      "tensor([1, 0, 1,  ..., 0, 1, 1], device='cuda:0')\n",
      "tensor([0, 0, 0,  ..., 1, 0, 1], device='cuda:0')\n",
      "tensor([1, 0, 0,  ..., 0, 1, 0], device='cuda:0')\n",
      "tensor([0, 0, 0,  ..., 0, 0, 0], device='cuda:0')\n",
      "tensor([0, 0, 1,  ..., 1, 1, 1], device='cuda:0')\n"
     ]
    },
    {
     "name": "stderr",
     "output_type": "stream",
     "text": [
      "10it [00:00, 47.92it/s]                      \n",
      "10it [00:00, 264.80it/s]             \n"
     ]
    },
    {
     "name": "stdout",
     "output_type": "stream",
     "text": [
      "tensor([1, 0, 0,  ..., 1, 1, 1], device='cuda:0')\n",
      "Should stop\n",
      "Should stop\n",
      "Epoch: 089 | Loss: 2.28928 | Tr_c: 0.72431 | Vl_c: 0.73680 | Vl_c_liketrn: 0.72386 | Vl_mrr: 0.84435 |Time: 0.045 min\n"
     ]
    },
    {
     "name": "stderr",
     "output_type": "stream",
     "text": [
      "39it [00:01, 33.61it/s]                        \n",
      " 44%|████▍     | 4/9 [00:00<00:00, 38.95it/s]"
     ]
    },
    {
     "name": "stdout",
     "output_type": "stream",
     "text": [
      "Should stop\n",
      "tensor([0, 0, 0,  ..., 0, 0, 0], device='cuda:0')\n",
      "tensor([0, 0, 0,  ..., 0, 0, 1], device='cuda:0')\n",
      "tensor([1, 0, 1,  ..., 0, 0, 0], device='cuda:0')\n",
      "tensor([0, 0, 0,  ..., 1, 0, 1], device='cuda:0')\n",
      "tensor([0, 0, 1,  ..., 0, 0, 1], device='cuda:0')\n",
      "tensor([0, 0, 0,  ..., 1, 1, 0], device='cuda:0')\n",
      "tensor([0, 0, 0,  ..., 0, 0, 0], device='cuda:0')\n",
      "tensor([0, 0, 1,  ..., 0, 1, 0], device='cuda:0')\n"
     ]
    },
    {
     "name": "stderr",
     "output_type": "stream",
     "text": [
      "10it [00:00, 45.44it/s]                      \n",
      "10it [00:00, 254.50it/s]             \n"
     ]
    },
    {
     "name": "stdout",
     "output_type": "stream",
     "text": [
      "tensor([0, 1, 1,  ..., 1, 0, 0], device='cuda:0')\n",
      "tensor([0, 0, 1,  ..., 1, 1, 1], device='cuda:0')\n",
      "Should stop\n",
      "Should stop\n",
      "Epoch: 090 | Loss: 2.28462 | Tr_c: 0.72550 | Vl_c: 0.73690 | Vl_c_liketrn: 0.72376 | Vl_mrr: 0.84440 |Time: 0.045 min\n"
     ]
    },
    {
     "name": "stderr",
     "output_type": "stream",
     "text": [
      "39it [00:01, 33.54it/s]                        \n",
      "10it [00:00, 53.18it/s]                      \n",
      "  0%|          | 0/8 [00:00<?, ?it/s]"
     ]
    },
    {
     "name": "stdout",
     "output_type": "stream",
     "text": [
      "Should stop\n",
      "tensor([0, 0, 0,  ..., 0, 0, 0], device='cuda:0')\n",
      "tensor([0, 0, 0,  ..., 0, 0, 0], device='cuda:0')\n",
      "tensor([1, 0, 0,  ..., 0, 0, 0], device='cuda:0')\n",
      "tensor([0, 0, 0,  ..., 1, 0, 0], device='cuda:0')\n",
      "tensor([0, 0, 0,  ..., 0, 1, 1], device='cuda:0')\n",
      "tensor([1, 0, 0,  ..., 0, 0, 0], device='cuda:0')\n",
      "tensor([0, 1, 0,  ..., 0, 0, 0], device='cuda:0')\n",
      "tensor([0, 1, 0,  ..., 0, 0, 1], device='cuda:0')\n",
      "tensor([0, 0, 0,  ..., 0, 0, 0], device='cuda:0')\n",
      "tensor([0, 0, 0,  ..., 1, 1, 1], device='cuda:0')\n",
      "Should stop\n"
     ]
    },
    {
     "name": "stderr",
     "output_type": "stream",
     "text": [
      "10it [00:00, 268.83it/s]             \n"
     ]
    },
    {
     "name": "stdout",
     "output_type": "stream",
     "text": [
      "Should stop\n",
      "Epoch: 091 | Loss: 2.28237 | Tr_c: 0.72542 | Vl_c: 0.73696 | Vl_c_liketrn: 0.72366 | Vl_mrr: 0.84443 |Time: 0.046 min\n"
     ]
    },
    {
     "name": "stderr",
     "output_type": "stream",
     "text": [
      "39it [00:01, 33.53it/s]                        \n",
      " 56%|█████▌    | 5/9 [00:00<00:00, 42.85it/s]"
     ]
    },
    {
     "name": "stdout",
     "output_type": "stream",
     "text": [
      "Should stop\n",
      "tensor([0, 0, 0,  ..., 0, 0, 0], device='cuda:0')\n",
      "tensor([0, 0, 0,  ..., 0, 0, 0], device='cuda:0')\n",
      "tensor([1, 0, 1,  ..., 0, 0, 1], device='cuda:0')\n",
      "tensor([0, 0, 0,  ..., 0, 0, 0], device='cuda:0')\n",
      "tensor([0, 0, 1,  ..., 0, 0, 0], device='cuda:0')\n",
      "tensor([0, 0, 0,  ..., 1, 0, 0], device='cuda:0')\n",
      "tensor([0, 0, 1,  ..., 0, 0, 0], device='cuda:0')\n",
      "tensor([0, 1, 0,  ..., 0, 1, 1], device='cuda:0')\n",
      "tensor([1, 0, 0,  ..., 0, 0, 0], device='cuda:0')\n",
      "tensor([0, 0, 0,  ..., 1, 1, 1], device='cuda:0')\n"
     ]
    },
    {
     "name": "stderr",
     "output_type": "stream",
     "text": [
      "10it [00:00, 50.09it/s]                      \n",
      "10it [00:00, 270.44it/s]             \n"
     ]
    },
    {
     "name": "stdout",
     "output_type": "stream",
     "text": [
      "Should stop\n",
      "Should stop\n",
      "Epoch: 092 | Loss: 2.28234 | Tr_c: 0.72581 | Vl_c: 0.73718 | Vl_c_liketrn: 0.72379 | Vl_mrr: 0.84454 |Time: 0.045 min\n"
     ]
    },
    {
     "name": "stderr",
     "output_type": "stream",
     "text": [
      "39it [00:01, 33.63it/s]                        \n",
      "10it [00:00, 52.69it/s]                      \n",
      "  0%|          | 0/8 [00:00<?, ?it/s]"
     ]
    },
    {
     "name": "stdout",
     "output_type": "stream",
     "text": [
      "Should stop\n",
      "tensor([0, 0, 1,  ..., 0, 0, 1], device='cuda:0')\n",
      "tensor([0, 0, 0,  ..., 1, 1, 0], device='cuda:0')\n",
      "tensor([0, 1, 0,  ..., 0, 0, 0], device='cuda:0')\n",
      "tensor([0, 0, 1,  ..., 1, 0, 1], device='cuda:0')\n",
      "tensor([0, 1, 0,  ..., 0, 1, 0], device='cuda:0')\n",
      "tensor([0, 0, 0,  ..., 0, 0, 0], device='cuda:0')\n",
      "tensor([1, 0, 1,  ..., 0, 1, 0], device='cuda:0')\n",
      "tensor([1, 0, 0,  ..., 0, 0, 0], device='cuda:0')\n",
      "tensor([0, 0, 0,  ..., 1, 0, 0], device='cuda:0')\n",
      "tensor([0, 1, 0,  ..., 1, 1, 1], device='cuda:0')\n",
      "Should stop\n"
     ]
    },
    {
     "name": "stderr",
     "output_type": "stream",
     "text": [
      "10it [00:00, 251.64it/s]             \n"
     ]
    },
    {
     "name": "stdout",
     "output_type": "stream",
     "text": [
      "Should stop\n",
      "Epoch: 093 | Loss: 2.28513 | Tr_c: 0.72496 | Vl_c: 0.73741 | Vl_c_liketrn: 0.72419 | Vl_mrr: 0.84466 |Time: 0.046 min\n"
     ]
    },
    {
     "name": "stderr",
     "output_type": "stream",
     "text": [
      "39it [00:01, 33.66it/s]                        \n",
      "10it [00:00, 51.85it/s]                      \n",
      "  0%|          | 0/8 [00:00<?, ?it/s]"
     ]
    },
    {
     "name": "stdout",
     "output_type": "stream",
     "text": [
      "Should stop\n",
      "tensor([1, 0, 0,  ..., 0, 0, 0], device='cuda:0')\n",
      "tensor([0, 0, 0,  ..., 1, 1, 1], device='cuda:0')\n",
      "tensor([0, 1, 0,  ..., 0, 0, 1], device='cuda:0')\n",
      "tensor([0, 0, 0,  ..., 0, 0, 0], device='cuda:0')\n",
      "tensor([0, 0, 0,  ..., 1, 0, 0], device='cuda:0')\n",
      "tensor([0, 0, 0,  ..., 0, 0, 0], device='cuda:0')\n",
      "tensor([0, 0, 0,  ..., 1, 0, 1], device='cuda:0')\n",
      "tensor([0, 0, 1,  ..., 1, 0, 0], device='cuda:0')\n",
      "tensor([0, 0, 0,  ..., 0, 0, 0], device='cuda:0')\n",
      "tensor([0, 1, 1,  ..., 1, 1, 1], device='cuda:0')\n",
      "Should stop\n"
     ]
    },
    {
     "name": "stderr",
     "output_type": "stream",
     "text": [
      "10it [00:00, 280.28it/s]             \n"
     ]
    },
    {
     "name": "stdout",
     "output_type": "stream",
     "text": [
      "Should stop\n",
      "Epoch: 094 | Loss: 2.28304 | Tr_c: 0.72547 | Vl_c: 0.73750 | Vl_c_liketrn: 0.72391 | Vl_mrr: 0.84470 |Time: 0.045 min\n"
     ]
    },
    {
     "name": "stderr",
     "output_type": "stream",
     "text": [
      "39it [00:01, 33.21it/s]                        \n",
      "10it [00:00, 53.62it/s]                      \n",
      "  0%|          | 0/8 [00:00<?, ?it/s]"
     ]
    },
    {
     "name": "stdout",
     "output_type": "stream",
     "text": [
      "Should stop\n",
      "tensor([1, 0, 0,  ..., 0, 1, 0], device='cuda:0')\n",
      "tensor([0, 1, 0,  ..., 0, 1, 1], device='cuda:0')\n",
      "tensor([0, 0, 0,  ..., 1, 0, 1], device='cuda:0')\n",
      "tensor([0, 1, 1,  ..., 0, 0, 0], device='cuda:0')\n",
      "tensor([0, 0, 0,  ..., 0, 0, 0], device='cuda:0')\n",
      "tensor([1, 1, 1,  ..., 0, 0, 1], device='cuda:0')\n",
      "tensor([0, 0, 0,  ..., 1, 1, 0], device='cuda:0')\n",
      "tensor([0, 1, 0,  ..., 0, 0, 0], device='cuda:0')\n",
      "tensor([0, 0, 0,  ..., 1, 0, 0], device='cuda:0')\n",
      "tensor([0, 0, 1,  ..., 1, 1, 1], device='cuda:0')\n",
      "Should stop\n"
     ]
    },
    {
     "name": "stderr",
     "output_type": "stream",
     "text": [
      "10it [00:00, 260.59it/s]             \n"
     ]
    },
    {
     "name": "stdout",
     "output_type": "stream",
     "text": [
      "Should stop\n",
      "Epoch: 095 | Loss: 2.28028 | Tr_c: 0.72561 | Vl_c: 0.73767 | Vl_c_liketrn: 0.72465 | Vl_mrr: 0.84479 |Time: 0.045 min\n"
     ]
    },
    {
     "name": "stderr",
     "output_type": "stream",
     "text": [
      "39it [00:01, 33.59it/s]                        \n",
      " 56%|█████▌    | 5/9 [00:00<00:00, 45.06it/s]"
     ]
    },
    {
     "name": "stdout",
     "output_type": "stream",
     "text": [
      "Should stop\n",
      "tensor([0, 1, 0,  ..., 0, 0, 0], device='cuda:0')\n",
      "tensor([0, 1, 0,  ..., 1, 0, 1], device='cuda:0')\n",
      "tensor([0, 1, 0,  ..., 0, 0, 0], device='cuda:0')\n",
      "tensor([1, 0, 1,  ..., 1, 0, 1], device='cuda:0')\n",
      "tensor([1, 0, 0,  ..., 0, 0, 1], device='cuda:0')\n",
      "tensor([0, 0, 0,  ..., 0, 0, 1], device='cuda:0')\n",
      "tensor([1, 0, 1,  ..., 1, 1, 0], device='cuda:0')\n",
      "tensor([0, 0, 0,  ..., 0, 0, 1], device='cuda:0')\n"
     ]
    },
    {
     "name": "stderr",
     "output_type": "stream",
     "text": [
      "10it [00:00, 43.74it/s]                      \n",
      "10it [00:00, 263.99it/s]             \n"
     ]
    },
    {
     "name": "stdout",
     "output_type": "stream",
     "text": [
      "tensor([1, 0, 0,  ..., 0, 0, 0], device='cuda:0')\n",
      "tensor([0, 1, 1,  ..., 1, 1, 1], device='cuda:0')\n",
      "Should stop\n",
      "Should stop\n",
      "Epoch: 096 | Loss: 2.27756 | Tr_c: 0.72619 | Vl_c: 0.73789 | Vl_c_liketrn: 0.72449 | Vl_mrr: 0.84490 |Time: 0.045 min\n"
     ]
    },
    {
     "name": "stderr",
     "output_type": "stream",
     "text": [
      "39it [00:01, 33.38it/s]                        \n",
      " 56%|█████▌    | 5/9 [00:00<00:00, 44.93it/s]"
     ]
    },
    {
     "name": "stdout",
     "output_type": "stream",
     "text": [
      "Should stop\n",
      "tensor([0, 0, 0,  ..., 1, 0, 1], device='cuda:0')\n",
      "tensor([0, 0, 0,  ..., 0, 0, 0], device='cuda:0')\n",
      "tensor([0, 1, 1,  ..., 0, 0, 0], device='cuda:0')\n",
      "tensor([1, 0, 0,  ..., 1, 0, 1], device='cuda:0')\n",
      "tensor([0, 0, 1,  ..., 1, 1, 0], device='cuda:0')\n",
      "tensor([0, 0, 0,  ..., 0, 0, 0], device='cuda:0')\n",
      "tensor([1, 0, 0,  ..., 1, 0, 0], device='cuda:0')\n",
      "tensor([0, 0, 0,  ..., 0, 1, 0], device='cuda:0')\n"
     ]
    },
    {
     "name": "stderr",
     "output_type": "stream",
     "text": [
      "10it [00:00, 45.74it/s]                      \n",
      "10it [00:00, 258.14it/s]             \n"
     ]
    },
    {
     "name": "stdout",
     "output_type": "stream",
     "text": [
      "tensor([1, 0, 0,  ..., 0, 0, 1], device='cuda:0')\n",
      "tensor([0, 1, 0,  ..., 1, 1, 1], device='cuda:0')\n",
      "Should stop\n",
      "Should stop\n",
      "Epoch: 097 | Loss: 2.28263 | Tr_c: 0.72549 | Vl_c: 0.73800 | Vl_c_liketrn: 0.72453 | Vl_mrr: 0.84495 |Time: 0.044 min\n"
     ]
    },
    {
     "name": "stderr",
     "output_type": "stream",
     "text": [
      "39it [00:01, 33.73it/s]                        \n",
      "10it [00:00, 55.66it/s]                      \n",
      "  0%|          | 0/8 [00:00<?, ?it/s]"
     ]
    },
    {
     "name": "stdout",
     "output_type": "stream",
     "text": [
      "Should stop\n",
      "tensor([0, 0, 0,  ..., 0, 0, 1], device='cuda:0')\n",
      "tensor([0, 0, 0,  ..., 0, 1, 1], device='cuda:0')\n",
      "tensor([1, 0, 0,  ..., 1, 0, 0], device='cuda:0')\n",
      "tensor([1, 1, 0,  ..., 1, 1, 0], device='cuda:0')\n",
      "tensor([0, 0, 0,  ..., 0, 1, 0], device='cuda:0')\n",
      "tensor([0, 0, 0,  ..., 0, 0, 0], device='cuda:0')\n",
      "tensor([0, 0, 1,  ..., 0, 0, 0], device='cuda:0')\n",
      "tensor([0, 0, 1,  ..., 0, 1, 1], device='cuda:0')\n",
      "tensor([1, 0, 0,  ..., 0, 0, 0], device='cuda:0')\n",
      "tensor([0, 1, 0,  ..., 1, 1, 1], device='cuda:0')\n",
      "Should stop\n"
     ]
    },
    {
     "name": "stderr",
     "output_type": "stream",
     "text": [
      "10it [00:00, 286.20it/s]             \n"
     ]
    },
    {
     "name": "stdout",
     "output_type": "stream",
     "text": [
      "Should stop\n",
      "Epoch: 098 | Loss: 2.27821 | Tr_c: 0.72623 | Vl_c: 0.73813 | Vl_c_liketrn: 0.72451 | Vl_mrr: 0.84502 |Time: 0.045 min\n"
     ]
    },
    {
     "name": "stderr",
     "output_type": "stream",
     "text": [
      "39it [00:01, 33.23it/s]                        \n",
      "10it [00:00, 52.56it/s]                      \n",
      "  0%|          | 0/8 [00:00<?, ?it/s]"
     ]
    },
    {
     "name": "stdout",
     "output_type": "stream",
     "text": [
      "Should stop\n",
      "tensor([1, 0, 0,  ..., 0, 0, 0], device='cuda:0')\n",
      "tensor([1, 0, 1,  ..., 0, 0, 0], device='cuda:0')\n",
      "tensor([1, 0, 0,  ..., 1, 1, 0], device='cuda:0')\n",
      "tensor([1, 0, 0,  ..., 0, 0, 1], device='cuda:0')\n",
      "tensor([0, 0, 0,  ..., 1, 1, 0], device='cuda:0')\n",
      "tensor([0, 0, 0,  ..., 0, 1, 0], device='cuda:0')\n",
      "tensor([1, 1, 0,  ..., 1, 0, 0], device='cuda:0')\n",
      "tensor([0, 0, 1,  ..., 0, 0, 0], device='cuda:0')\n",
      "tensor([1, 0, 0,  ..., 0, 0, 1], device='cuda:0')\n",
      "tensor([1, 0, 0,  ..., 1, 1, 1], device='cuda:0')\n",
      "Should stop\n"
     ]
    },
    {
     "name": "stderr",
     "output_type": "stream",
     "text": [
      "10it [00:00, 255.29it/s]             \n"
     ]
    },
    {
     "name": "stdout",
     "output_type": "stream",
     "text": [
      "Should stop\n",
      "Epoch: 099 | Loss: 2.27089 | Tr_c: 0.72768 | Vl_c: 0.73821 | Vl_c_liketrn: 0.72470 | Vl_mrr: 0.84506 |Time: 0.045 min\n"
     ]
    },
    {
     "data": {
      "text/plain": [
       "([0.5526119776261158,\n",
       "  0.654439606727698,\n",
       "  0.6896607799407763,\n",
       "  0.6979760986108047,\n",
       "  0.7001755329278799,\n",
       "  0.7005776915794764,\n",
       "  0.7010972729096046,\n",
       "  0.7015117972325056,\n",
       "  0.7030425637196271,\n",
       "  0.7025355589695466,\n",
       "  0.7027462308223431,\n",
       "  0.7033903018022195,\n",
       "  0.7031836249889472,\n",
       "  0.703859955836565,\n",
       "  0.7044848432907691,\n",
       "  0.7044988809487759,\n",
       "  0.7055174387418307,\n",
       "  0.7043262307460492,\n",
       "  0.7052451861210358,\n",
       "  0.7058870868805127,\n",
       "  0.7058833042780558,\n",
       "  0.7069282669287461,\n",
       "  0.7066683799792559,\n",
       "  0.7077745779966697,\n",
       "  0.7076956752019051,\n",
       "  0.7074608283165174,\n",
       "  0.7073850555297656,\n",
       "  0.7083871578558897,\n",
       "  0.7082125880779364,\n",
       "  0.7092213523693573,\n",
       "  0.7092514435450236,\n",
       "  0.709157292659466,\n",
       "  0.710527621782743,\n",
       "  0.7103115549454322,\n",
       "  0.7108775300857348,\n",
       "  0.7106113831202189,\n",
       "  0.711184425231738,\n",
       "  0.7113637954760821,\n",
       "  0.7107039781717154,\n",
       "  0.7110437857799041,\n",
       "  0.7130830715864133,\n",
       "  0.7125608218021882,\n",
       "  0.7132723896931379,\n",
       "  0.7134093030905112,\n",
       "  0.7135395545225877,\n",
       "  0.7143735962036328,\n",
       "  0.714623593367063,\n",
       "  0.7146157194406558,\n",
       "  0.7147056842461611,\n",
       "  0.7152769580865518,\n",
       "  0.7151855352597359,\n",
       "  0.716113880658761,\n",
       "  0.7162807308710538,\n",
       "  0.7163278338236686,\n",
       "  0.7169129924896436,\n",
       "  0.7169524721610241,\n",
       "  0.7174200537877206,\n",
       "  0.7170108862412281,\n",
       "  0.7181233458029919,\n",
       "  0.7181753455064236,\n",
       "  0.7180418693102323,\n",
       "  0.7186104166202056,\n",
       "  0.7185573593164102,\n",
       "  0.7189901073773702,\n",
       "  0.7187257271546584,\n",
       "  0.7197491832268543,\n",
       "  0.7202261533492651,\n",
       "  0.720456410677005,\n",
       "  0.7201231702780112,\n",
       "  0.7204240545248374,\n",
       "  0.7212678897075164,\n",
       "  0.720803745282002,\n",
       "  0.7204026060226636,\n",
       "  0.7211423439857287,\n",
       "  0.7219844108972794,\n",
       "  0.7223295187338804,\n",
       "  0.7223850519229205,\n",
       "  0.7222738892604144,\n",
       "  0.7218445784006363,\n",
       "  0.7222978732524774,\n",
       "  0.7232266221290979,\n",
       "  0.723584248469426,\n",
       "  0.7233144151858795,\n",
       "  0.7238860925038656,\n",
       "  0.7242218103164282,\n",
       "  0.7236682604520749,\n",
       "  0.7235477062372061,\n",
       "  0.7238945808166113,\n",
       "  0.7244760516362313,\n",
       "  0.7243095086171076,\n",
       "  0.7254978937980456,\n",
       "  0.7254184331649389,\n",
       "  0.7258073611137195,\n",
       "  0.7249642366018051,\n",
       "  0.725465287000705,\n",
       "  0.7256119954280364,\n",
       "  0.7261921029824477,\n",
       "  0.7254937657943139,\n",
       "  0.7262290089558332,\n",
       "  0.727680565455021],\n",
       " [0.6380981,\n",
       "  0.6974853,\n",
       "  0.71132815,\n",
       "  0.71417236,\n",
       "  0.715625,\n",
       "  0.7163086,\n",
       "  0.71660155,\n",
       "  0.7171997,\n",
       "  0.7174927,\n",
       "  0.71795654,\n",
       "  0.71813965,\n",
       "  0.7184082,\n",
       "  0.7187012,\n",
       "  0.71895754,\n",
       "  0.7191162,\n",
       "  0.7193359,\n",
       "  0.71962893,\n",
       "  0.72006834,\n",
       "  0.7205078,\n",
       "  0.72080076,\n",
       "  0.72094727,\n",
       "  0.72106934,\n",
       "  0.7212036,\n",
       "  0.72166747,\n",
       "  0.7220459,\n",
       "  0.7222412,\n",
       "  0.7223877,\n",
       "  0.72266847,\n",
       "  0.7230469,\n",
       "  0.72333986,\n",
       "  0.7235718,\n",
       "  0.72386473,\n",
       "  0.72414553,\n",
       "  0.7243408,\n",
       "  0.72459716,\n",
       "  0.72495115,\n",
       "  0.7252075,\n",
       "  0.7254761,\n",
       "  0.72576904,\n",
       "  0.7260254,\n",
       "  0.7262085,\n",
       "  0.7263672,\n",
       "  0.726477,\n",
       "  0.7267456,\n",
       "  0.72703856,\n",
       "  0.7273315,\n",
       "  0.7276367,\n",
       "  0.72780764,\n",
       "  0.72807616,\n",
       "  0.7282837,\n",
       "  0.72861326,\n",
       "  0.7289429,\n",
       "  0.7290894,\n",
       "  0.7292236,\n",
       "  0.7295288,\n",
       "  0.72979736,\n",
       "  0.7300415,\n",
       "  0.7303955,\n",
       "  0.7306274,\n",
       "  0.73095703,\n",
       "  0.7311157,\n",
       "  0.73125,\n",
       "  0.7314087,\n",
       "  0.73164064,\n",
       "  0.73183596,\n",
       "  0.73221433,\n",
       "  0.7324341,\n",
       "  0.7325684,\n",
       "  0.73287356,\n",
       "  0.73304445,\n",
       "  0.73327637,\n",
       "  0.7334839,\n",
       "  0.733667,\n",
       "  0.7338867,\n",
       "  0.7338867,\n",
       "  0.73416746,\n",
       "  0.7342529,\n",
       "  0.73431396,\n",
       "  0.73444825,\n",
       "  0.73465574,\n",
       "  0.73493654,\n",
       "  0.73513186,\n",
       "  0.73553467,\n",
       "  0.73585206,\n",
       "  0.7359009,\n",
       "  0.7361816,\n",
       "  0.73634034,\n",
       "  0.73647463,\n",
       "  0.73670655,\n",
       "  0.7368042,\n",
       "  0.7369019,\n",
       "  0.7369629,\n",
       "  0.7371826,\n",
       "  0.73741454,\n",
       "  0.7375,\n",
       "  0.7376709,\n",
       "  0.7378906,\n",
       "  0.7380005,\n",
       "  0.73813474,\n",
       "  0.738208],\n",
       " [0.6187086582183838,\n",
       "  0.6816323161125183,\n",
       "  0.6959437489509582,\n",
       "  0.7002027332782745,\n",
       "  0.7019522011280059,\n",
       "  0.7019359529018402,\n",
       "  0.7025774419307709,\n",
       "  0.7030412495136261,\n",
       "  0.7031209707260132,\n",
       "  0.7036515355110169,\n",
       "  0.7034504413604736,\n",
       "  0.7046001315116882,\n",
       "  0.7043172597885132,\n",
       "  0.7052161455154419,\n",
       "  0.7052949965000153,\n",
       "  0.7049745678901672,\n",
       "  0.7054479002952576,\n",
       "  0.7059775352478027,\n",
       "  0.7058411478996277,\n",
       "  0.7068781137466431,\n",
       "  0.7065746247768402,\n",
       "  0.7072941482067108,\n",
       "  0.7073946058750152,\n",
       "  0.7070130228996276,\n",
       "  0.7075379848480224,\n",
       "  0.7079145967960357,\n",
       "  0.7091197729110718,\n",
       "  0.7086790859699249,\n",
       "  0.7091364145278931,\n",
       "  0.7095430433750153,\n",
       "  0.7089285910129547,\n",
       "  0.71020228266716,\n",
       "  0.7100528120994568,\n",
       "  0.7102387249469757,\n",
       "  0.7105401635169983,\n",
       "  0.7106921911239624,\n",
       "  0.7113750338554382,\n",
       "  0.7117008864879608,\n",
       "  0.7112507939338684,\n",
       "  0.7118434488773346,\n",
       "  0.7124342381954193,\n",
       "  0.7128277897834778,\n",
       "  0.7126680433750152,\n",
       "  0.7130493223667145,\n",
       "  0.7132295668125153,\n",
       "  0.7140861690044403,\n",
       "  0.7138728022575378,\n",
       "  0.7139535188674927,\n",
       "  0.7147857069969177,\n",
       "  0.714598685503006,\n",
       "  0.7146248459815979,\n",
       "  0.7154269516468048,\n",
       "  0.7150323510169982,\n",
       "  0.7154606521129608,\n",
       "  0.7162045240402222,\n",
       "  0.7161912620067596,\n",
       "  0.7170337915420533,\n",
       "  0.716418343782425,\n",
       "  0.7171350002288819,\n",
       "  0.7176778376102447,\n",
       "  0.7172616243362426,\n",
       "  0.7175753295421601,\n",
       "  0.7179040431976318,\n",
       "  0.7176738023757935,\n",
       "  0.7186469256877899,\n",
       "  0.7187106430530548,\n",
       "  0.7187828898429871,\n",
       "  0.7190975308418274,\n",
       "  0.7191903948783874,\n",
       "  0.7191010892391205,\n",
       "  0.7196364521980285,\n",
       "  0.7196523308753967,\n",
       "  0.7203549146652222,\n",
       "  0.7211157321929932,\n",
       "  0.7204506456851959,\n",
       "  0.7205050170421601,\n",
       "  0.7211324870586395,\n",
       "  0.7208778917789459,\n",
       "  0.7211812555789947,\n",
       "  0.7213324129581451,\n",
       "  0.7215107858181,\n",
       "  0.7219090044498444,\n",
       "  0.7223794758319855,\n",
       "  0.7231825172901154,\n",
       "  0.7230970084667205,\n",
       "  0.7232969880104065,\n",
       "  0.7234904348850251,\n",
       "  0.7228591084480286,\n",
       "  0.7234959185123444,\n",
       "  0.7238631844520569,\n",
       "  0.7237579345703125,\n",
       "  0.7236602187156678,\n",
       "  0.7237916350364685,\n",
       "  0.7241917192935944,\n",
       "  0.7239070415496827,\n",
       "  0.7246509790420532,\n",
       "  0.7244874358177185,\n",
       "  0.7245305955410004,\n",
       "  0.7245070576667786,\n",
       "  0.7247042953968048],\n",
       " [0.7950012,\n",
       "  0.8246948,\n",
       "  0.8316162,\n",
       "  0.83303833,\n",
       "  0.8337647,\n",
       "  0.83410645,\n",
       "  0.83425295,\n",
       "  0.834552,\n",
       "  0.8346985,\n",
       "  0.8349304,\n",
       "  0.835022,\n",
       "  0.8351501,\n",
       "  0.8353027,\n",
       "  0.8354309,\n",
       "  0.83551025,\n",
       "  0.8356201,\n",
       "  0.8357666,\n",
       "  0.8359863,\n",
       "  0.8362061,\n",
       "  0.8363525,\n",
       "  0.8364197,\n",
       "  0.8364868,\n",
       "  0.83655393,\n",
       "  0.8367859,\n",
       "  0.8369751,\n",
       "  0.83707273,\n",
       "  0.837146,\n",
       "  0.83728635,\n",
       "  0.8374756,\n",
       "  0.83762205,\n",
       "  0.83773804,\n",
       "  0.83788455,\n",
       "  0.8380249,\n",
       "  0.83812255,\n",
       "  0.83825076,\n",
       "  0.8384277,\n",
       "  0.83855593,\n",
       "  0.83869016,\n",
       "  0.83883667,\n",
       "  0.8389648,\n",
       "  0.8390564,\n",
       "  0.83913577,\n",
       "  0.83919066,\n",
       "  0.83932495,\n",
       "  0.83947146,\n",
       "  0.8396179,\n",
       "  0.8397705,\n",
       "  0.83985597,\n",
       "  0.83999026,\n",
       "  0.840094,\n",
       "  0.8402588,\n",
       "  0.8404236,\n",
       "  0.84049684,\n",
       "  0.84056395,\n",
       "  0.84071654,\n",
       "  0.84085083,\n",
       "  0.8409729,\n",
       "  0.8411499,\n",
       "  0.84126586,\n",
       "  0.84143066,\n",
       "  0.8415039,\n",
       "  0.8415772,\n",
       "  0.8416565,\n",
       "  0.84177244,\n",
       "  0.8418701,\n",
       "  0.8420593,\n",
       "  0.84216917,\n",
       "  0.84223634,\n",
       "  0.8423889,\n",
       "  0.84246826,\n",
       "  0.84259033,\n",
       "  0.8426941,\n",
       "  0.84278566,\n",
       "  0.8428955,\n",
       "  0.8428955,\n",
       "  0.8430359,\n",
       "  0.8430786,\n",
       "  0.84310913,\n",
       "  0.84317625,\n",
       "  0.84328,\n",
       "  0.8434204,\n",
       "  0.8435181,\n",
       "  0.8437195,\n",
       "  0.84387815,\n",
       "  0.8439026,\n",
       "  0.84404296,\n",
       "  0.8441223,\n",
       "  0.84418947,\n",
       "  0.8443054,\n",
       "  0.8443543,\n",
       "  0.8444031,\n",
       "  0.8444336,\n",
       "  0.84454346,\n",
       "  0.84465945,\n",
       "  0.8447021,\n",
       "  0.8447876,\n",
       "  0.84489745,\n",
       "  0.8449524,\n",
       "  0.8450195,\n",
       "  0.8450562],\n",
       " [3.79047608986879,\n",
       "  3.2360921456263614,\n",
       "  2.819115033516517,\n",
       "  2.6024946188315368,\n",
       "  2.5061073853419376,\n",
       "  2.4606173588679385,\n",
       "  2.435075979966384,\n",
       "  2.4207867108858547,\n",
       "  2.4028214796995506,\n",
       "  2.4032417505215378,\n",
       "  2.3943571860973654,\n",
       "  2.3928955090351596,\n",
       "  2.386912144147433,\n",
       "  2.3830842054807224,\n",
       "  2.3815147143143873,\n",
       "  2.3773686029972176,\n",
       "  2.3736034540029674,\n",
       "  2.3759227899404674,\n",
       "  2.3719066045223136,\n",
       "  2.3691146740546594,\n",
       "  2.3685070612491708,\n",
       "  2.3660652943146534,\n",
       "  2.3668955656198354,\n",
       "  2.361806123684614,\n",
       "  2.3628957882905617,\n",
       "  2.3614615293649526,\n",
       "  2.362012795912914,\n",
       "  2.357945203781128,\n",
       "  2.3601826765598397,\n",
       "  2.3562061297587857,\n",
       "  2.354726864741399,\n",
       "  2.3544822961856156,\n",
       "  2.3491713389372215,\n",
       "  2.3505749824719553,\n",
       "  2.350201441691472,\n",
       "  2.3476525025490003,\n",
       "  2.344529922191913,\n",
       "  2.346387098997067,\n",
       "  2.3507746244088197,\n",
       "  2.346806098253299,\n",
       "  2.3399092295230965,\n",
       "  2.3433578197772684,\n",
       "  2.3395494986803103,\n",
       "  2.3394753015958347,\n",
       "  2.338523125037169,\n",
       "  2.3355600711626883,\n",
       "  2.3342708074129543,\n",
       "  2.3345794800000315,\n",
       "  2.3330292396056347,\n",
       "  2.330705722173055,\n",
       "  2.3327817672338242,\n",
       "  2.3291524006770206,\n",
       "  2.3299952164674416,\n",
       "  2.3281481021489854,\n",
       "  2.325692959320851,\n",
       "  2.3248634338378906,\n",
       "  2.3219086023477407,\n",
       "  2.324325751035641,\n",
       "  2.3200991520514855,\n",
       "  2.3214076910263453,\n",
       "  2.3226758272219925,\n",
       "  2.3179525901109743,\n",
       "  2.316546537937262,\n",
       "  2.316442507963914,\n",
       "  2.3182405691880446,\n",
       "  2.3140032963875012,\n",
       "  2.3139648192968125,\n",
       "  2.307847334788396,\n",
       "  2.3107681274414062,\n",
       "  2.308757170652732,\n",
       "  2.3032658100128174,\n",
       "  2.305890914721367,\n",
       "  2.3089411442096415,\n",
       "  2.3046854581588354,\n",
       "  2.3009678033682017,\n",
       "  2.301928624128684,\n",
       "  2.2999905133858705,\n",
       "  2.302005180945763,\n",
       "  2.298956809899746,\n",
       "  2.299132927870139,\n",
       "  2.2977473735809326,\n",
       "  2.294359164360242,\n",
       "  2.2943897552979298,\n",
       "  2.2928710961953187,\n",
       "  2.29152181209662,\n",
       "  2.291346018130963,\n",
       "  2.293856522975824,\n",
       "  2.2894812119312777,\n",
       "  2.288281868665646,\n",
       "  2.2892841008993297,\n",
       "  2.284617772469154,\n",
       "  2.2823675045600305,\n",
       "  2.28234147414183,\n",
       "  2.2851316867730556,\n",
       "  2.2830412204448995,\n",
       "  2.2802756321735873,\n",
       "  2.277559891725198,\n",
       "  2.2826335430145264,\n",
       "  2.278213397050515,\n",
       "  2.2708937999529715])"
      ]
     },
     "execution_count": 17,
     "metadata": {},
     "output_type": "execute_result"
    }
   ],
   "source": [
    "simplest_loop(**args)"
   ]
  },
  {
   "cell_type": "code",
   "execution_count": null,
   "metadata": {},
   "outputs": [],
   "source": []
  }
 ],
 "metadata": {
  "kernelspec": {
   "display_name": "Python 3",
   "language": "python",
   "name": "python3"
  },
  "language_info": {
   "codemirror_mode": {
    "name": "ipython",
    "version": 3
   },
   "file_extension": ".py",
   "mimetype": "text/x-python",
   "name": "python",
   "nbconvert_exporter": "python",
   "pygments_lexer": "ipython3",
   "version": "3.6.7"
  }
 },
 "nbformat": 4,
 "nbformat_minor": 2
}
