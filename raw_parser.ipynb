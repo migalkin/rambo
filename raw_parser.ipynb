{
 "cells": [
  {
   "cell_type": "markdown",
   "metadata": {},
   "source": [
    "# Assuming\n",
    "No literals\n"
   ]
  },
  {
   "cell_type": "code",
   "execution_count": 75,
   "metadata": {},
   "outputs": [],
   "source": [
    "from tqdm import tqdm_notebook as tqdm\n",
    "from pprint import pprint\n",
    "import pickle\n",
    "import pandas as pd\n",
    "from utils import *"
   ]
  },
  {
   "cell_type": "code",
   "execution_count": 3,
   "metadata": {},
   "outputs": [],
   "source": [
    "raw_data = []\n",
    "with open(RAW_DATA_DIR / 'fb15k_wd_uri_only.nt', 'r') as f:\n",
    "    for line in f.readlines():\n",
    "        raw_data.append(line)"
   ]
  },
  {
   "cell_type": "code",
   "execution_count": 22,
   "metadata": {},
   "outputs": [],
   "source": [
    "sids = {}\n",
    "for triples in raw_data:\n",
    "    triples = triples.replace('\\n', '').replace(' .', '').split()\n",
    "    for thing in triples:\n",
    "        if 'statement/Q' in thing:\n",
    "            relevant_triples = sids.get(thing, [])\n",
    "            relevant_triples.append(triples)\n",
    "            sids[thing] = relevant_triples"
   ]
  },
  {
   "cell_type": "raw",
   "metadata": {
    "scrolled": true
   },
   "source": [
    "data = []\n",
    "for i, (k,v) in enumerate(sids.items()):\n",
    "    print(k)\n",
    "    print(v)\n",
    "    print(len(v))\n",
    "    print('-=---------')\n",
    "    if len(v)> 2: break"
   ]
  },
  {
   "cell_type": "raw",
   "metadata": {},
   "source": [
    "key = '<http://www.wikidata.org/entity/statement/Q327713-4637784E-973F-4FC7-BF94-F2399EAAC45D>'\n",
    "value = sids[key]\n",
    "value\n",
    "\n",
    "kk = '<http://www.wikidata.org/entity/statement/Q636-3B94171B-81C6-4CBE-8F4D-E39526E3C5B4>'\n",
    "vv = sids[kk]\n"
   ]
  },
  {
   "cell_type": "code",
   "execution_count": 62,
   "metadata": {},
   "outputs": [],
   "source": [
    "def generate_data(sid_key, sid_value):\n",
    "    # Get all the rights\n",
    "    result, qualifiers = [], []\n",
    "    s,p, o = None, None, None\n",
    "    for triple in sid_value:\n",
    "        if triple[0] == sid_key and '/qualifier' in triple[1]:\n",
    "            qualifiers.append(triple)\n",
    "        elif triple[0] == sid_key and '/statement' in triple[1]:\n",
    "            o = triple[2].split('/')[-1].replace('>', '')\n",
    "        elif triple[-1] == sid_key:\n",
    "            s, p = triple[0].split('/')[-1].replace('>', ''), triple[1].split('/')[-1].replace('>', '')\n",
    "            \n",
    "    try:\n",
    "        assert s\n",
    "        assert p\n",
    "    except AssertionError:\n",
    "        raise IOError\n",
    "    try:\n",
    "        assert o\n",
    "    except AssertionError:\n",
    "        return []\n",
    "#         print(sid_key)\n",
    "#         for x in sid_value:\n",
    "#             print(x)\n",
    "#         raise IOError\n",
    "    \n",
    "    if len(qualifiers)> 0:\n",
    "        for qualifier in qualifiers:\n",
    "            qp, qe = qualifier[1].split('/')[-1].replace('>', ''), qualifier[2].split('/')[-1].replace('>', '')\n",
    "            q = Quint(s=s,p=p, o=o, qp=qp, qe=qe)    \n",
    "            result.append(q)\n",
    "    else:\n",
    "        q = Quint(s=s,p=p, o=o, qp=None, qe=None)\n",
    "        result.append(q)\n",
    "    \n",
    "    return result"
   ]
  },
  {
   "cell_type": "code",
   "execution_count": 67,
   "metadata": {
    "scrolled": false
   },
   "outputs": [
    {
     "data": {
      "application/vnd.jupyter.widget-view+json": {
       "model_id": "dd2de77fec734ab1a6756c201d3a0a57",
       "version_major": 2,
       "version_minor": 0
      },
      "text/plain": [
       "HBox(children=(IntProgress(value=0, max=422807), HTML(value='')))"
      ]
     },
     "metadata": {},
     "output_type": "display_data"
    },
    {
     "name": "stdout",
     "output_type": "stream",
     "text": [
      "\n"
     ]
    }
   ],
   "source": [
    "parsed_data = []\n",
    "skipped = 0\n",
    "for sid_key, sid_value in tqdm(sids.items()):\n",
    "    res = generate_data(sid_key, sid_value)\n",
    "    if res == []: \n",
    "        skipped += 1\n",
    "        continue\n",
    "    parsed_data += res\n",
    "    "
   ]
  },
  {
   "cell_type": "code",
   "execution_count": 73,
   "metadata": {},
   "outputs": [],
   "source": [
    "with open(PARSED_DATA_DIR / 'parsed_raw_data.pkl', 'wb+') as f:\n",
    "    pickle.dump(parsed_data, f)"
   ]
  },
  {
   "cell_type": "raw",
   "metadata": {},
   "source": [
    "len([x for x in parsed_data if x[3] != None]), len(parsed_data)"
   ]
  },
  {
   "cell_type": "code",
   "execution_count": 84,
   "metadata": {},
   "outputs": [],
   "source": [
    "df = pd.DataFrame(parsed_data)\n",
    "df.to_csv(PARSED_DATA_DIR / 'parsed_raw_data.csv', index=False)"
   ]
  },
  {
   "cell_type": "code",
   "execution_count": 89,
   "metadata": {},
   "outputs": [],
   "source": [
    "df = pd.read_csv(PARSED_DATA_DIR / 'parsed_raw_data.csv', na_filter=False)"
   ]
  },
  {
   "cell_type": "code",
   "execution_count": 93,
   "metadata": {
    "scrolled": true
   },
   "outputs": [],
   "source": [
    "template1 = \"<< {0!s} {1!s} {2!s} >> {3!s} {4!s} . \\n\"\n",
    "template2 = \"<< {0!s} {1!s} {2!s} >> . \\n\"\n",
    "with open(PARSED_DATA_DIR / \"parsed_raw_data.rs\", \"w\") as f:\n",
    "    for row in parsed_data:\n",
    "        if row[3]!= None:\n",
    "            f.write(template1.format(row[0], row[1], row[2], row[3], row[4]))\n",
    "        else:\n",
    "            f.write(template2.format(row[0], row[1], row[2]))"
   ]
  },
  {
   "cell_type": "code",
   "execution_count": null,
   "metadata": {},
   "outputs": [],
   "source": []
  }
 ],
 "metadata": {
  "kernelspec": {
   "display_name": "Python 3",
   "language": "python",
   "name": "python3"
  },
  "language_info": {
   "codemirror_mode": {
    "name": "ipython",
    "version": 3
   },
   "file_extension": ".py",
   "mimetype": "text/x-python",
   "name": "python",
   "nbconvert_exporter": "python",
   "pygments_lexer": "ipython3",
   "version": "3.6.9"
  },
  "pycharm": {
   "stem_cell": {
    "cell_type": "raw",
    "source": [],
    "metadata": {
     "collapsed": false
    }
   }
  }
 },
 "nbformat": 4,
 "nbformat_minor": 2
}