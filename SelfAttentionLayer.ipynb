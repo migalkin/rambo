{
 "cells": [
  {
   "cell_type": "markdown",
   "metadata": {},
   "source": [
    "A simple self attention layer with masking and support for multi headed."
   ]
  },
  {
   "cell_type": "code",
   "execution_count": 1,
   "metadata": {},
   "outputs": [],
   "source": [
    "# Torch imports\n",
    "import torch\n",
    "from torch import nn\n",
    "import torch.autograd\n",
    "import torch.nn.functional as F\n",
    "\n",
    "import numpy as np\n",
    "from typing import List, Optional, Dict, Tuple\n",
    "\n",
    "# Local imports\n",
    "from utils import *\n"
   ]
  },
  {
   "cell_type": "code",
   "execution_count": 79,
   "metadata": {},
   "outputs": [],
   "source": [
    "bs = 4\n",
    "n = 5\n",
    "ent_emb_dims = 3\n",
    "rel_emb_dims = 4\n",
    "out_features = 7\n",
    "alpha_leaky = 0.2"
   ]
  },
  {
   "cell_type": "code",
   "execution_count": 85,
   "metadata": {},
   "outputs": [],
   "source": [
    "def self_attention_template():\n",
    "    # Setting things up\n",
    "    bs = 4\n",
    "    n = 5\n",
    "    ent_emb_dims = 3\n",
    "    rel_emb_dims = 4\n",
    "    out_features = 7\n",
    "    alpha_leaky = 0.2\n",
    "\n",
    "    matrix = torch.randn(bs,n,2*ent_emb_dims + rel_emb_dims) # concat s,p,o.\n",
    "    print(f\"shape of matrix is bs*n*emb_dim i.e {matrix.shape}\")\n",
    "    \n",
    "    # passing it through layer1\n",
    "    w1 = nn.Linear(2 * ent_emb_dim + rel_emb_dim, out_features)\n",
    "    nn.init.xavier_normal_(w1.weight.data, gain=1.414)\n",
    "\n",
    "    c = w1(matrix)\n",
    "    print(f\"shape of c is {c.shape}\")\n",
    "    \n",
    "    # passing it through layer2\n",
    "    w2 = nn.Linear(out_features,1)\n",
    "    nn.init.xavier_normal_(w2.weight.data, gain=1.414)\n",
    "\n",
    "    b = w2(c)\n",
    "    leaky_relu = nn.LeakyReLU(alpha_leaky)\n",
    "    b = leaky_relu(b).squeeze()\n",
    "    print(f\"shape of b is {b.shape}\")\n",
    "    \n",
    "    # There will be no masking here. So simply a softmax and then multiply and sum across n.\n",
    "    alphas = torch.softmax(b,dim=1)\n",
    "    h = torch.sum((alphas.unsqueeze(-1)*c),dim=1)\n",
    "    \n",
    "    print(f\"shape of final vector by {h.shape}\")"
   ]
  },
  {
   "cell_type": "code",
   "execution_count": 86,
   "metadata": {},
   "outputs": [
    {
     "name": "stdout",
     "output_type": "stream",
     "text": [
      "shape of matrix is bs*n*emb_dim i.e torch.Size([4, 5, 10])\n",
      "shape of c is torch.Size([4, 5, 7])\n",
      "shape of b is torch.Size([4, 5])\n",
      "shape of final vector by torch.Size([4, 7])\n"
     ]
    }
   ],
   "source": [
    "self_attention_template()"
   ]
  },
  {
   "cell_type": "code",
   "execution_count": 116,
   "metadata": {},
   "outputs": [],
   "source": [
    "def self_attention_template_multi_head(num_head, final_layer=False):\n",
    "    # Setting things up\n",
    "    bs = 4\n",
    "    n = 5\n",
    "    ent_emb_dims = 3\n",
    "    rel_emb_dims = 4\n",
    "    out_features = 7\n",
    "    alpha_leaky = 0.2\n",
    "\n",
    "    matrix = torch.randn(bs,n,2*ent_emb_dims + rel_emb_dims) # concat s,p,o.\n",
    "    print(f\"shape of matrix is bs*n*emb_dim i.e {matrix.shape}\")\n",
    "    \n",
    "    # passing it through layer1\n",
    "    w1 = nn.Linear(2 * ent_emb_dim + rel_emb_dim, out_features)\n",
    "    nn.init.xavier_normal_(w1.weight.data, gain=1.414)\n",
    "\n",
    "    c = w1(matrix)\n",
    "    print(f\"shape of c is {c.shape}\")\n",
    "    \n",
    "    # passing it through layer2\n",
    "    w2 = nn.Linear(out_features,num_head)\n",
    "    nn.init.xavier_normal_(w2.weight.data, gain=1.414)\n",
    "\n",
    "    b = w2(c)\n",
    "    leaky_relu = nn.LeakyReLU(alpha_leaky)\n",
    "    b = leaky_relu(b).squeeze()\n",
    "    \n",
    "    print(f\"shape of b is {b.shape}\")\n",
    "    \n",
    "    # There will be no masking here. So simply a softmax and then multiply and sum across n.\n",
    "    alphas = torch.softmax(b,dim=1)\n",
    "    print(f\"shape of alphas is {alphas.shape}\")\n",
    "    \n",
    "    h = torch.bmm(c.transpose(1,2),alphas)\n",
    "    if not final_layer:\n",
    "        h = h.view(bs,-1)\n",
    "        h = F.elu(h)\n",
    "    else:\n",
    "        h = torch.mean(h, dim=-1)\n",
    "        \n",
    "    print(f\"shape of final vector by {h.shape}\")"
   ]
  },
  {
   "cell_type": "code",
   "execution_count": 119,
   "metadata": {},
   "outputs": [
    {
     "name": "stdout",
     "output_type": "stream",
     "text": [
      "shape of matrix is bs*n*emb_dim i.e torch.Size([4, 5, 10])\n",
      "shape of c is torch.Size([4, 5, 7])\n",
      "shape of b is torch.Size([4, 5, 8])\n",
      "shape of alphas is torch.Size([4, 5, 8])\n",
      "shape of final vector by torch.Size([4, 56])\n"
     ]
    }
   ],
   "source": [
    "self_attention_template_multi_head(num_head=8, final_layer=False)"
   ]
  },
  {
   "cell_type": "code",
   "execution_count": null,
   "metadata": {},
   "outputs": [],
   "source": []
  }
 ],
 "metadata": {
  "kernelspec": {
   "display_name": "Python 3",
   "language": "python",
   "name": "python3"
  },
  "language_info": {
   "codemirror_mode": {
    "name": "ipython",
    "version": 3
   },
   "file_extension": ".py",
   "mimetype": "text/x-python",
   "name": "python",
   "nbconvert_exporter": "python",
   "pygments_lexer": "ipython3",
   "version": "3.6.9"
  }
 },
 "nbformat": 4,
 "nbformat_minor": 2
}
