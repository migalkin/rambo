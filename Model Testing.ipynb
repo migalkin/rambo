{
 "cells": [
  {
   "cell_type": "code",
   "execution_count": null,
   "metadata": {},
   "outputs": [],
   "source": [
    "from functools import partial\n",
    "import random\n",
    "import wandb\n",
    "import sys\n",
    "\n",
    "# MyTorch imports\n",
    "from mytorch.utils.goodies import *\n",
    "\n",
    "# Local imports\n",
    "from parse_wd15k import Quint\n",
    "from load import DataManager\n",
    "from utils import *\n",
    "from evaluation import EvaluationBench, acc, mrr, mr, hits_at, evaluate_pointwise\n",
    "from models import TransE\n",
    "from corruption import Corruption\n",
    "from sampler import SimpleSampler\n",
    "from loops import training_loop\n",
    "\n",
    "\"\"\"\n",
    "    CONFIG Things\n",
    "\"\"\"\n",
    "\n",
    "# Clamp the randomness\n",
    "np.random.seed(42)\n",
    "random.seed(42)\n",
    "\n",
    "\"\"\"\n",
    "    Explanation:\n",
    "        *ENT_POS_FILTERED* \n",
    "            a flag which if False, implies that while making negatives, \n",
    "                we should exclude entities that appear ONLY in non-corrupting positions.\n",
    "            Do not turn it off if the experiment is about predicting qualifiers, of course.\n",
    "\n",
    "        *POSITIONS*\n",
    "            the positions on which we should inflect the negatives.\n",
    "\"\"\"\n",
    "DEFAULT_CONFIG = {\n",
    "    'EMBEDDING_DIM': 50,\n",
    "    'NORM_FOR_NORMALIZATION_OF_ENTITIES': 2,\n",
    "    'NORM_FOR_NORMALIZATION_OF_RELATIONS': 2,\n",
    "    'SCORING_FUNCTION_NORM': 1,\n",
    "    'MARGIN_LOSS': 1,\n",
    "    'LEARNING_RATE': 0.001,\n",
    "    'NEGATIVE_SAMPLING_PROBS': [0.3, 0.0, 0.2, 0.5],\n",
    "    'NEGATIVE_SAMPLING_TIMES': 10,\n",
    "    'BATCH_SIZE': 64,\n",
    "    'EPOCHS': 1000,\n",
    "    'STATEMENT_LEN': -1,\n",
    "    'EVAL_EVERY': 10,\n",
    "    'WANDB': False,\n",
    "    'RUN_TESTBENCH_ON_TRAIN': True,\n",
    "    'DATASET': 'wd15k',\n",
    "    'CORRUPTION_POSITIONS': [0, 2],\n",
    "    'DEVICE': 'cpu',\n",
    "    'ENT_POS_FILTERED': True,\n",
    "    'USE_TEST': False,\n",
    "    'MAX_QPAIRS': 43\n",
    "}"
   ]
  },
  {
   "cell_type": "code",
   "execution_count": null,
   "metadata": {},
   "outputs": [],
   "source": [
    "# Custom Sanity Checks\n",
    "if DEFAULT_CONFIG['DATASET'] == 'wd15k':\n",
    "    assert DEFAULT_CONFIG['STATEMENT_LEN'] is not None, \\\n",
    "        \"You use WD15k dataset and don't specify whether to treat them as quints or not. Nicht cool'\"\n",
    "if max(DEFAULT_CONFIG['CORRUPTION_POSITIONS']) > 2:     # If we're corrupting something apart from S and O\n",
    "    assert DEFAULT_CONFIG['ENT_POS_FILTERED'] is False, \\\n",
    "        f\"Since we're corrupting objects at pos. {DEFAULT_CONFIG['CORRUPTION_POSITIONS']}, \" \\\n",
    "        f\"You must allow including entities which appear exclusively in qualifiers, too!\"\n",
    "\n",
    "\"\"\"\n",
    "    Load data based on the args/config\n",
    "\"\"\"\n",
    "data = DataManager.load(config=DEFAULT_CONFIG)()\n",
    "try:\n",
    "    training_triples, valid_triples, test_triples, num_entities, num_relations = data.values()\n",
    "except ValueError:\n",
    "    raise ValueError(f\"Honey I broke the loader for {DEFAULT_CONFIG['DATASET']}\")\n",
    "\n",
    "if DEFAULT_CONFIG['ENT_POS_FILTERED']:\n",
    "    ent_excluded_from_corr = DataManager.gather_missing_entities(data=training_triples + valid_triples + test_triples,\n",
    "                                                                 positions=DEFAULT_CONFIG['CORRUPTION_POSITIONS'],\n",
    "                                                                 n_ents=num_entities)\n",
    "    DEFAULT_CONFIG['NUM_ENTITIES_FILTERED'] = len(ent_excluded_from_corr)\n",
    "else:\n",
    "    ent_excluded_from_corr = []\n",
    "    DEFAULT_CONFIG['NUM_ENTITIES_FILTERED'] = len(ent_excluded_from_corr)\n",
    "\n",
    "print(num_entities-DEFAULT_CONFIG['NUM_ENTITIES_FILTERED'])\n",
    "DEFAULT_CONFIG['NUM_ENTITIES'] = num_entities\n",
    "DEFAULT_CONFIG['NUM_RELATIONS'] = num_relations"
   ]
  },
  {
   "cell_type": "code",
   "execution_count": null,
   "metadata": {},
   "outputs": [],
   "source": [
    "config = DEFAULT_CONFIG.copy()\n",
    "config['DEVICE'] = torch.device(config['DEVICE'])\n"
   ]
  },
  {
   "cell_type": "markdown",
   "metadata": {},
   "source": [
    "# YOUR MODEL COMES HERE"
   ]
  },
  {
   "cell_type": "code",
   "execution_count": null,
   "metadata": {},
   "outputs": [],
   "source": [
    "model = TransE(config)\n",
    "model.to(config['DEVICE'])\n",
    "optimizer = torch.optim.SGD(model.parameters(), lr=config['LEARNING_RATE'])"
   ]
  },
  {
   "cell_type": "code",
   "execution_count": null,
   "metadata": {},
   "outputs": [],
   "source": [
    "data = {'index': np.array(training_triples + test_triples), 'eval': np.array(valid_triples)}\n",
    "_data = {'index': np.array(valid_triples + test_triples), 'eval': np.array(training_triples)}\n",
    "tr_data = {'train': np.array(training_triples), 'valid': data['eval']}\n",
    "\n",
    "eval_metrics = [acc, mrr, mr, partial(hits_at, k=3), partial(hits_at, k=5), partial(hits_at, k=10)]\n",
    "evaluation_valid = EvaluationBench(data, model, bs=8000,\n",
    "                                   metrics=eval_metrics, filtered=True,\n",
    "                                   n_ents=num_entities,\n",
    "                                   excluding_entities=ent_excluded_from_corr,\n",
    "                                   positions=config.get('CORRUPTION_POSITIONS', None))\n",
    "evaluation_train = EvaluationBench(_data, model, bs=8000,\n",
    "                                   metrics=eval_metrics, filtered=True,\n",
    "                                   n_ents=num_entities,\n",
    "                                   excluding_entities=ent_excluded_from_corr,\n",
    "                                   positions=config.get('CORRUPTION_POSITIONS', None), trim=0.01)"
   ]
  },
  {
   "cell_type": "code",
   "execution_count": null,
   "metadata": {},
   "outputs": [],
   "source": [
    "args = {\n",
    "        \"epochs\": config['EPOCHS'],\n",
    "        \"data\": tr_data,\n",
    "        \"opt\": optimizer,\n",
    "        \"train_fn\": model,\n",
    "        \"neg_generator\": Corruption(n=num_entities, excluding=ent_excluded_from_corr,\n",
    "                                    position=list(range(0, config['MAX_QPAIRS'], 2))),\n",
    "        \"device\": config['DEVICE'],\n",
    "        \"data_fn\": partial(SimpleSampler, bs=config[\"BATCH_SIZE\"]),\n",
    "        \"eval_fn_trn\": evaluate_pointwise,\n",
    "        \"val_testbench\": evaluation_valid.run,\n",
    "        \"trn_testbench\": evaluation_train.run,\n",
    "        \"eval_every\": config['EVAL_EVERY'],\n",
    "        \"log_wandb\": config['WANDB'],\n",
    "        \"run_trn_testbench\": config['RUN_TESTBENCH_ON_TRAIN']\n",
    "    }"
   ]
  },
  {
   "cell_type": "code",
   "execution_count": null,
   "metadata": {},
   "outputs": [],
   "source": [
    "traces = training_loop(**args)"
   ]
  }
 ],
 "metadata": {
  "kernelspec": {
   "display_name": "Python 3",
   "language": "python",
   "name": "python3"
  },
  "language_info": {
   "codemirror_mode": {
    "name": "ipython",
    "version": 3
   },
   "file_extension": ".py",
   "mimetype": "text/x-python",
   "name": "python",
   "nbconvert_exporter": "python",
   "pygments_lexer": "ipython3",
   "version": "3.6.9"
  }
 },
 "nbformat": 4,
 "nbformat_minor": 2
}
