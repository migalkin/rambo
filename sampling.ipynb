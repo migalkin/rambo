{
 "cells": [
  {
   "cell_type": "code",
   "execution_count": 114,
   "metadata": {},
   "outputs": [],
   "source": [
    "import pickle\n",
    "from collections import namedtuple\n",
    "from typing import List\n",
    "import numpy as np\n",
    "import random\n",
    "from tqdm import tqdm_notebook as tqdm\n",
    "\n",
    "Quint = namedtuple('Quint', 's p o qp qe')"
   ]
  },
  {
   "cell_type": "code",
   "execution_count": 82,
   "metadata": {},
   "outputs": [
    {
     "name": "stdout",
     "output_type": "stream",
     "text": [
      "174951 659\n"
     ]
    }
   ],
   "source": [
    "# Load data from disk\n",
    "with open('./parsed_raw_data.pkl', 'rb') as f:\n",
    "    raw_data = pickle.load(f)\n",
    "    \n",
    "entities, predicates = [], []\n",
    "\n",
    "for quint in raw_data:\n",
    "    entities += [quint[0], quint[2]]\n",
    "    if quint[4]:\n",
    "        entities.append(quint[4])\n",
    "        \n",
    "    predicates.append(quint[1])\n",
    "    if quint[3]: \n",
    "        predicates.append(quint[3])\n",
    "    \n",
    "entities = list(set(entities))\n",
    "predicates = list(set(predicates))\n",
    "        \n",
    "print(len(entities), len(predicates))"
   ]
  },
  {
   "cell_type": "code",
   "execution_count": 116,
   "metadata": {},
   "outputs": [],
   "source": [
    "def sample_negatives(quint: Quint, probs: List[float]) -> Quint:\n",
    "    \"\"\" probs: [ p(s), p(r), p(o), p(q) ] \"\"\"\n",
    "    assert np.sum(probs)==1.0\n",
    "    assert len(probs) == 4\n",
    "    # print(probs)\n",
    "    l = np.random.choice([\"s\", \"p\", \"o\", \"q\"], 1, p=probs)\n",
    "    if l[0] == \"s\":\n",
    "        while True:\n",
    "            new_s = random.choice(entities)\n",
    "            q = Quint(s=new_s, p=quint[1], o=quint[2], qp=quint[3], qe=quint[4])\n",
    "            if q not in raw_data:\n",
    "                return q\n",
    "    elif l[0] == \"p\":\n",
    "        while True:\n",
    "            new_p = random.choice(predicates)\n",
    "            q = Quint(s=quint[0], p=new_p, o=quint[2], qp=quint[3], qe=quint[4])\n",
    "            if q not in raw_data:\n",
    "                return q\n",
    "    elif l[0] == \"o\":\n",
    "        while True:\n",
    "            new_o = random.choice(entities)\n",
    "            q = Quint(s=quint[0], p=quint[1], o=new_o, qp=quint[3], qe=quint[4])\n",
    "            if q not in raw_data:\n",
    "                return q\n",
    "    elif l[0] == \"q\":\n",
    "        if quint[3]:\n",
    "            if np.random.random() > 0.5:\n",
    "                # sample qp\n",
    "                while True:\n",
    "                    qp = random.choice(predicates)\n",
    "                    q = Quint(s=quint[0], p=quint[1], o=quint[2], qp=qp, qe=quint[4])\n",
    "                    if q not in raw_data:\n",
    "                        return q\n",
    "            else:\n",
    "                while True:\n",
    "                    qe = random.choice(entities)\n",
    "                    q = Quint(s=quint[0], p=quint[1], o=quint[2], qp=quint[3], qe=qe)\n",
    "                    if q not in raw_data:\n",
    "                        return q\n",
    "        else:\n",
    "            while True:\n",
    "                qp = random.choice(predicates)\n",
    "                qe = random.choice(entities)\n",
    "                q = Quint(s=quint[0], p=quint[1], o=quint[2], qp=qp, qe=qe)\n",
    "                if q not in raw_data:\n",
    "                    return q\n",
    "  "
   ]
  },
  {
   "cell_type": "code",
   "execution_count": 118,
   "metadata": {},
   "outputs": [
    {
     "name": "stdout",
     "output_type": "stream",
     "text": [
      "Quint(s='Q636', p='P27', o='Q145', qp='P4185', qe='Q18557436')\n"
     ]
    }
   ],
   "source": [
    "probs = [0.3, 0.0, 0.3, 0.4]\n",
    "q_neg = sample_negatives(raw_data[0], probs)\n",
    "print(q_neg)"
   ]
  },
  {
   "cell_type": "code",
   "execution_count": 108,
   "metadata": {},
   "outputs": [
    {
     "name": "stdout",
     "output_type": "stream",
     "text": [
      "s\n"
     ]
    },
    {
     "data": {
      "text/plain": [
       "{'o': 311, 'q': 390, 's': 299}"
      ]
     },
     "execution_count": 108,
     "metadata": {},
     "output_type": "execute_result"
    }
   ],
   "source": [
    "l = np.random.choice([\"s\", \"p\", \"o\", \"q\"], 1000, p=probs)\n",
    "print(l[0])\n",
    "unique, counts = np.unique(l, return_counts=True)\n",
    "dict(zip(unique, counts))\n",
    "#l.count(\"s\"), l.count(\"p\"), l.count(\"o\"), l.count(\"q\")"
   ]
  },
  {
   "cell_type": "code",
   "execution_count": 119,
   "metadata": {},
   "outputs": [
    {
     "data": {
      "application/vnd.jupyter.widget-view+json": {
       "model_id": "0e18873aa64b4e1b8d5a805b711f75f9",
       "version_major": 2,
       "version_minor": 0
      },
      "text/plain": [
       "HBox(children=(IntProgress(value=0, max=389937), HTML(value='')))"
      ]
     },
     "metadata": {},
     "output_type": "display_data"
    },
    {
     "ename": "KeyboardInterrupt",
     "evalue": "",
     "output_type": "error",
     "traceback": [
      "\u001b[0;31m---------------------------------------------------------------------------\u001b[0m",
      "\u001b[0;31mKeyboardInterrupt\u001b[0m                         Traceback (most recent call last)",
      "\u001b[0;32m<ipython-input-119-f5d7d3ab587a>\u001b[0m in \u001b[0;36m<module>\u001b[0;34m\u001b[0m\n\u001b[1;32m      1\u001b[0m \u001b[0mnegative_samples\u001b[0m \u001b[0;34m=\u001b[0m \u001b[0;34m[\u001b[0m\u001b[0;34m]\u001b[0m\u001b[0;34m\u001b[0m\u001b[0;34m\u001b[0m\u001b[0m\n\u001b[1;32m      2\u001b[0m \u001b[0;32mfor\u001b[0m \u001b[0mq\u001b[0m \u001b[0;32min\u001b[0m \u001b[0mtqdm\u001b[0m\u001b[0;34m(\u001b[0m\u001b[0mraw_data\u001b[0m\u001b[0;34m)\u001b[0m\u001b[0;34m:\u001b[0m\u001b[0;34m\u001b[0m\u001b[0;34m\u001b[0m\u001b[0m\n\u001b[0;32m----> 3\u001b[0;31m     \u001b[0mnegative_samples\u001b[0m\u001b[0;34m.\u001b[0m\u001b[0mappend\u001b[0m\u001b[0;34m(\u001b[0m\u001b[0msample_negatives\u001b[0m\u001b[0;34m(\u001b[0m\u001b[0mq\u001b[0m\u001b[0;34m,\u001b[0m \u001b[0mprobs\u001b[0m\u001b[0;34m)\u001b[0m\u001b[0;34m)\u001b[0m\u001b[0;34m\u001b[0m\u001b[0;34m\u001b[0m\u001b[0m\n\u001b[0m",
      "\u001b[0;32m<ipython-input-116-515fd608843f>\u001b[0m in \u001b[0;36msample_negatives\u001b[0;34m(quint, probs)\u001b[0m\n\u001b[1;32m      9\u001b[0m             \u001b[0mnew_s\u001b[0m \u001b[0;34m=\u001b[0m \u001b[0mrandom\u001b[0m\u001b[0;34m.\u001b[0m\u001b[0mchoice\u001b[0m\u001b[0;34m(\u001b[0m\u001b[0mentities\u001b[0m\u001b[0;34m)\u001b[0m\u001b[0;34m\u001b[0m\u001b[0;34m\u001b[0m\u001b[0m\n\u001b[1;32m     10\u001b[0m             \u001b[0mq\u001b[0m \u001b[0;34m=\u001b[0m \u001b[0mQuint\u001b[0m\u001b[0;34m(\u001b[0m\u001b[0ms\u001b[0m\u001b[0;34m=\u001b[0m\u001b[0mnew_s\u001b[0m\u001b[0;34m,\u001b[0m \u001b[0mp\u001b[0m\u001b[0;34m=\u001b[0m\u001b[0mquint\u001b[0m\u001b[0;34m[\u001b[0m\u001b[0;36m1\u001b[0m\u001b[0;34m]\u001b[0m\u001b[0;34m,\u001b[0m \u001b[0mo\u001b[0m\u001b[0;34m=\u001b[0m\u001b[0mquint\u001b[0m\u001b[0;34m[\u001b[0m\u001b[0;36m2\u001b[0m\u001b[0;34m]\u001b[0m\u001b[0;34m,\u001b[0m \u001b[0mqp\u001b[0m\u001b[0;34m=\u001b[0m\u001b[0mquint\u001b[0m\u001b[0;34m[\u001b[0m\u001b[0;36m3\u001b[0m\u001b[0;34m]\u001b[0m\u001b[0;34m,\u001b[0m \u001b[0mqe\u001b[0m\u001b[0;34m=\u001b[0m\u001b[0mquint\u001b[0m\u001b[0;34m[\u001b[0m\u001b[0;36m4\u001b[0m\u001b[0;34m]\u001b[0m\u001b[0;34m)\u001b[0m\u001b[0;34m\u001b[0m\u001b[0;34m\u001b[0m\u001b[0m\n\u001b[0;32m---> 11\u001b[0;31m             \u001b[0;32mif\u001b[0m \u001b[0mq\u001b[0m \u001b[0;32mnot\u001b[0m \u001b[0;32min\u001b[0m \u001b[0mraw_data\u001b[0m\u001b[0;34m:\u001b[0m\u001b[0;34m\u001b[0m\u001b[0;34m\u001b[0m\u001b[0m\n\u001b[0m\u001b[1;32m     12\u001b[0m                 \u001b[0;32mreturn\u001b[0m \u001b[0mq\u001b[0m\u001b[0;34m\u001b[0m\u001b[0;34m\u001b[0m\u001b[0m\n\u001b[1;32m     13\u001b[0m     \u001b[0;32melif\u001b[0m \u001b[0ml\u001b[0m\u001b[0;34m[\u001b[0m\u001b[0;36m0\u001b[0m\u001b[0;34m]\u001b[0m \u001b[0;34m==\u001b[0m \u001b[0;34m\"p\"\u001b[0m\u001b[0;34m:\u001b[0m\u001b[0;34m\u001b[0m\u001b[0;34m\u001b[0m\u001b[0m\n",
      "\u001b[0;31mKeyboardInterrupt\u001b[0m: "
     ]
    }
   ],
   "source": [
    "negative_samples = []\n",
    "for q in tqdm(raw_data):\n",
    "    negative_samples.append(sample_negatives(q, probs))"
   ]
  },
  {
   "cell_type": "code",
   "execution_count": null,
   "metadata": {},
   "outputs": [],
   "source": []
  }
 ],
 "metadata": {
  "kernelspec": {
   "display_name": "Python 3",
   "language": "python",
   "name": "python3"
  },
  "language_info": {
   "codemirror_mode": {
    "name": "ipython",
    "version": 3
   },
   "file_extension": ".py",
   "mimetype": "text/x-python",
   "name": "python",
   "nbconvert_exporter": "python",
   "pygments_lexer": "ipython3",
   "version": "3.6.7"
  }
 },
 "nbformat": 4,
 "nbformat_minor": 2
}
