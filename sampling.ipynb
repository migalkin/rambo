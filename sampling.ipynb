{
 "cells": [
  {
   "cell_type": "code",
   "execution_count": 2,
   "metadata": {},
   "outputs": [],
   "source": [
    "import pickle\n",
    "from collections import namedtuple\n",
    "from typing import List\n",
    "import numpy as np\n",
    "import random\n",
    "from tqdm import tqdm_notebook as tqdm\n",
    "\n",
    "Quint = namedtuple('Quint', 's p o qp qe')"
   ]
  },
  {
   "cell_type": "code",
   "execution_count": 3,
   "metadata": {},
   "outputs": [
    {
     "name": "stdout",
     "output_type": "stream",
     "text": [
      "174951 659\n"
     ]
    }
   ],
   "source": [
    "# Load data from disk\n",
    "with open('./parsed_raw_data.pkl', 'rb') as f:\n",
    "    raw_data = pickle.load(f)\n",
    "    \n",
    "entities, predicates = [], []\n",
    "\n",
    "for quint in raw_data:\n",
    "    entities += [quint[0], quint[2]]\n",
    "    if quint[4]:\n",
    "        entities.append(quint[4])\n",
    "        \n",
    "    predicates.append(quint[1])\n",
    "    if quint[3]: \n",
    "        predicates.append(quint[3])\n",
    "    \n",
    "entities = list(set(entities))\n",
    "predicates = list(set(predicates))\n",
    "        \n",
    "print(len(entities), len(predicates))"
   ]
  },
  {
   "cell_type": "code",
   "execution_count": 4,
   "metadata": {},
   "outputs": [],
   "source": [
    "def sample_negatives(quint: Quint, probs: List[float]) -> Quint:\n",
    "    \"\"\" probs: [ p(s), p(r), p(o), p(q) ] \"\"\"\n",
    "    assert np.sum(probs)==1.0\n",
    "    assert len(probs) == 4\n",
    "    # print(probs)\n",
    "    l = np.random.choice([\"s\", \"p\", \"o\", \"q\"], 1, p=probs)\n",
    "    if l[0] == \"s\":\n",
    "        return Quint(s=random.choice(entities), p=quint[1], o=quint[2], qp=quint[3], qe=quint[4])\n",
    "#         while True:\n",
    "#             new_s = random.choice(entities)\n",
    "#             q = Quint(s=new_s, p=quint[1], o=quint[2], qp=quint[3], qe=quint[4])\n",
    "#             if q not in raw_data:\n",
    "#                 return q\n",
    "    elif l[0] == \"p\":\n",
    "        return Quint(s=quint[0], p=random.choice(predicates), o=quint[2], qp=quint[3], qe=quint[4])\n",
    "#         while True:\n",
    "#             new_p = random.choice(predicates)\n",
    "#             q = Quint(s=quint[0], p=new_p, o=quint[2], qp=quint[3], qe=quint[4])\n",
    "#             if q not in raw_data:\n",
    "#                 return q\n",
    "    elif l[0] == \"o\":\n",
    "        return Quint(s=quint[0], p=quint[1], o=random.choice(entities), qp=quint[3], qe=quint[4])\n",
    "#         while True:\n",
    "#             new_o = random.choice(entities)\n",
    "#             q = Quint(s=quint[0], p=quint[1], o=new_o, qp=quint[3], qe=quint[4])\n",
    "#             if q not in raw_data:\n",
    "#                 return q\n",
    "    elif l[0] == \"q\":\n",
    "        if quint[3]:\n",
    "            if np.random.random() > 0.5:\n",
    "                # sample qp\n",
    "                return Quint(s=quint[0], p=quint[1], o=quint[2], qp=random.choice(predicates), qe=quint[4])\n",
    "#                 while True:\n",
    "#                     qp = random.choice(predicates)\n",
    "#                     q = Quint(s=quint[0], p=quint[1], o=quint[2], qp=qp, qe=quint[4])\n",
    "#                     if q not in raw_data:\n",
    "#                         return q\n",
    "            else:\n",
    "                return Quint(s=quint[0], p=quint[1], o=quint[2], qp=quint[3], qe=random.choice(entities))\n",
    "#                 while True:\n",
    "#                     qe = random.choice(entities)\n",
    "#                     q = Quint(s=quint[0], p=quint[1], o=quint[2], qp=quint[3], qe=qe)\n",
    "#                     if q not in raw_data:\n",
    "#                         return q\n",
    "        else:\n",
    "            return Quint(s=quint[0], p=quint[1], o=quint[2], qp=random.choice(predicates), qe=random.choice(entities))\n",
    "#             while True:\n",
    "#                 qp = random.choice(predicates)\n",
    "#                 qe = random.choice(entities)\n",
    "#                 q = Quint(s=quint[0], p=quint[1], o=quint[2], qp=qp, qe=qe)\n",
    "#                 if q not in raw_data:\n",
    "#                     return q\n",
    "  "
   ]
  },
  {
   "cell_type": "code",
   "execution_count": 5,
   "metadata": {},
   "outputs": [
    {
     "name": "stdout",
     "output_type": "stream",
     "text": [
      "Quint(s='Q636', p='P27', o='Q145', qp='P483', qe='Q970873')\n"
     ]
    }
   ],
   "source": [
    "probs = [0.3, 0.0, 0.3, 0.4]\n",
    "q_neg = sample_negatives(raw_data[0], probs)\n",
    "print(q_neg)"
   ]
  },
  {
   "cell_type": "code",
   "execution_count": 108,
   "metadata": {},
   "outputs": [
    {
     "name": "stdout",
     "output_type": "stream",
     "text": [
      "s\n"
     ]
    },
    {
     "data": {
      "text/plain": [
       "{'o': 311, 'q': 390, 's': 299}"
      ]
     },
     "execution_count": 108,
     "metadata": {},
     "output_type": "execute_result"
    }
   ],
   "source": [
    "l = np.random.choice([\"s\", \"p\", \"o\", \"q\"], 1000, p=probs)\n",
    "print(l[0])\n",
    "unique, counts = np.unique(l, return_counts=True)\n",
    "dict(zip(unique, counts))\n",
    "#l.count(\"s\"), l.count(\"p\"), l.count(\"o\"), l.count(\"q\")"
   ]
  },
  {
   "cell_type": "code",
   "execution_count": 6,
   "metadata": {},
   "outputs": [
    {
     "data": {
      "application/vnd.jupyter.widget-view+json": {
       "model_id": "38ea241054cf4d6283d932894bf7e7eb",
       "version_major": 2,
       "version_minor": 0
      },
      "text/plain": [
       "HBox(children=(IntProgress(value=0, max=389937), HTML(value='')))"
      ]
     },
     "metadata": {},
     "output_type": "display_data"
    },
    {
     "name": "stdout",
     "output_type": "stream",
     "text": [
      "\n"
     ]
    }
   ],
   "source": [
    "negative_samples = []\n",
    "for q in tqdm(raw_data):\n",
    "    negative_samples.append(sample_negatives(q, probs))"
   ]
  },
  {
   "cell_type": "code",
   "execution_count": null,
   "metadata": {},
   "outputs": [
    {
     "data": {
      "application/vnd.jupyter.widget-view+json": {
       "model_id": "62cdcfe790634d86a72fd164ef8d4537",
       "version_major": 2,
       "version_minor": 0
      },
      "text/plain": [
       "HBox(children=(IntProgress(value=0, max=389937), HTML(value='')))"
      ]
     },
     "metadata": {},
     "output_type": "display_data"
    },
    {
     "name": "stdout",
     "output_type": "stream",
     "text": [
      "Quint(s='Q35869', p='P2293', o='Q18027836', qp='P459', qe='Q1098876')\n",
      "Quint(s='Q5608', p='P21', o='Q6581097', qp=None, qe=None)\n",
      "Quint(s='Q296698', p='P21', o='Q6581097', qp=None, qe=None)\n",
      "Quint(s='Q62547', p='P1411', o='Q131520', qp='P805', qe='Q740425')\n",
      "Quint(s='Q714845', p='P106', o='Q486748', qp=None, qe=None)\n",
      "Quint(s='Q489831', p='P106', o='Q8246794', qp=None, qe=None)\n",
      "Quint(s='Q459384', p='P31', o='Q5', qp=None, qe=None)\n",
      "Quint(s='Q3093', p='P150', o='Q283344', qp=None, qe=None)\n",
      "Quint(s='Q19570', p='P161', o='Q242584', qp=None, qe=None)\n",
      "Quint(s='Q19570', p='P161', o='Q1198897', qp=None, qe=None)\n",
      "Quint(s='Q390120', p='P495', o='Q30', qp=None, qe=None)\n",
      "Quint(s='Q80135', p='P166', o='Q2329480', qp='P1686', qe='Q261140')\n",
      "Quint(s='Q2831', p='P106', o='Q28389', qp=None, qe=None)\n",
      "Quint(s='Q310324', p='P31', o='Q5', qp=None, qe=None)\n",
      "Quint(s='Q122113', p='P462', o='Q22006653', qp=None, qe=None)\n",
      "Quint(s='Q108510', p='P1196', o='Q3739104', qp=None, qe=None)\n",
      "Quint(s='Q525', p='P398', o='Q136427', qp=None, qe=None)\n",
      "Quint(s='Q525', p='P398', o='Q11557', qp=None, qe=None)\n",
      "Quint(s='Q525', p='P398', o='Q139175', qp=None, qe=None)\n",
      "Quint(s='Q206', p='P103', o='Q1860', qp=None, qe=None)\n",
      "Quint(s='Q979778', p='P21', o='Q6581097', qp=None, qe=None)\n",
      "Quint(s='Q229775', p='P1412', o='Q1860', qp=None, qe=None)\n",
      "Quint(s='Q316641', p='P106', o='Q2405480', qp=None, qe=None)\n",
      "Quint(s='Q312845', p='P39', o='Q13217683', qp='P2937', qe='Q170447')\n",
      "Quint(s='Q12174', p='P2293', o='Q18046745', qp='P459', qe='Q1098876')\n"
     ]
    }
   ],
   "source": [
    "count = 0\n",
    "for n in tqdm(negative_samples):\n",
    "    if n in raw_data:\n",
    "        print(n)\n",
    "        count += 1\n",
    "\n",
    "print(f\"{count} / {len(raw_data)} are not unique negatives\")"
   ]
  },
  {
   "cell_type": "code",
   "execution_count": null,
   "metadata": {},
   "outputs": [],
   "source": []
  }
 ],
 "metadata": {
  "kernelspec": {
   "display_name": "Python 3",
   "language": "python",
   "name": "python3"
  },
  "language_info": {
   "codemirror_mode": {
    "name": "ipython",
    "version": 3
   },
   "file_extension": ".py",
   "mimetype": "text/x-python",
   "name": "python",
   "nbconvert_exporter": "python",
   "pygments_lexer": "ipython3",
   "version": "3.6.7"
  }
 },
 "nbformat": 4,
 "nbformat_minor": 2
}
